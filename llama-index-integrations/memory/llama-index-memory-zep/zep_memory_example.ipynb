{
 "cells": [
  {
   "cell_type": "markdown",
   "metadata": {},
   "source": [
    "`Note`: Before running or testing the code in this notebook, ensure that you have set up the `Zep server`. "
   ]
  },
  {
   "cell_type": "markdown",
   "metadata": {},
   "source": [
    "# 🧠 Zep Memory Integration with LlamaIndex Agents\n",
    "\n",
    "This notebook demonstrates how to use [Zep memory](https://docs.getzep.com/) with various agent types from LlamaIndex, including:\n",
    "\n",
    "- `SimpleChatEngine`\n",
    "- `ReActAgent`\n",
    "- `FunctionCallingAgent`\n",
    "- `AgentWorkflow`\n",
    "\n",
    "Both **sync** and **async** memory clients are covered.\n"
   ]
  },
  {
   "cell_type": "markdown",
   "metadata": {},
   "source": [
    "## Install Dependencies"
   ]
  },
  {
   "cell_type": "code",
   "execution_count": null,
   "metadata": {},
   "outputs": [],
   "source": [
    "# %pip install llama-index zep-python openai"
   ]
  },
  {
   "cell_type": "markdown",
   "metadata": {},
   "source": [
    "## Environment Setup"
   ]
  },
  {
   "cell_type": "code",
   "execution_count": null,
   "metadata": {},
   "outputs": [],
   "source": [
    "import os\n",
    "\n",
    "os.environ[\"OPENAI_API_KEY\"] = \"sk-xxxx\""
   ]
  },
  {
   "cell_type": "markdown",
   "metadata": {},
   "source": [
    "## Import Required Packages"
   ]
  },
  {
   "cell_type": "code",
   "execution_count": null,
   "metadata": {},
   "outputs": [],
   "source": [
    "import uuid\n",
    "from zep_python.client import Zep, AsyncZep\n",
    "from llamaindex.memory.zep import ZepMemory\n",
    "from llama_index.llms.openai import OpenAI"
   ]
  },
  {
   "cell_type": "markdown",
   "metadata": {},
   "source": [
    "## Initialize Clients and IDs"
   ]
  },
  {
   "cell_type": "code",
   "execution_count": null,
   "metadata": {},
   "outputs": [],
   "source": [
    "zep_client = Zep(api_key=\"mysupersecretkey\", base_url=\"http://localhost:8000\")\n",
    "azep_client = AsyncZep(api_key=\"mysupersecretkey\", base_url=\"http://localhost:8000\")"
   ]
  },
  {
   "cell_type": "code",
   "execution_count": null,
   "metadata": {},
   "outputs": [],
   "source": [
    "user_id = uuid.uuid4().hex  # A new user identifier\n",
    "new_user = zep_client.user.add(\n",
    "    user_id=user_id,\n",
    ")\n",
    "\n",
    "# create a chat session\n",
    "session_id = uuid.uuid4().hex  # A new session identifier\n",
    "session = zep_client.memory.add_session(\n",
    "    session_id=session_id,\n",
    "    user_id=user_id,\n",
    ")"
   ]
  },
  {
   "cell_type": "markdown",
   "metadata": {},
   "source": [
    "## Initialize Memory (Sync and Async)"
   ]
  },
  {
   "cell_type": "code",
   "execution_count": null,
   "metadata": {},
   "outputs": [
    {
     "name": "stderr",
     "output_type": "stream",
     "text": [
      "/home/younis/Desktop/dev/llama_index/llama-index-integrations/memory/llama-index-memory-zep/llamaindex/memory/zep/base.py:39: RuntimeWarning: coroutine 'AsyncMemoryClient.get' was never awaited\n",
      "  self._sync_from_zep()\n",
      "RuntimeWarning: Enable tracemalloc to get the object allocation traceback\n"
     ]
    }
   ],
   "source": [
    "memory = ZepMemory.from_defaults(\n",
    "    zep_client=zep_client,  # Zep client\n",
    "    session_id=session_id,  # Optional: provide a session ID or one will be generated\n",
    "    user_id=user_id,  # Optional: provide a user ID for user-specific context\n",
    ")\n",
    "\n",
    "amemory = ZepMemory.from_defaults(\n",
    "    zep_client=azep_client,  # AsyncZep client\n",
    "    session_id=session_id,  # Optional: provide a session ID or one will be generated\n",
    "    user_id=user_id,  # Optional: provide a user ID for user-specific context\n",
    ")"
   ]
  },
  {
   "cell_type": "markdown",
   "metadata": {},
   "source": [
    "## LLM Setup"
   ]
  },
  {
   "cell_type": "code",
   "execution_count": null,
   "metadata": {},
   "outputs": [],
   "source": [
    "llm = OpenAI(model=\"gpt-4o-mini\")  # You can swap this with other supported LLMs"
   ]
  },
  {
   "cell_type": "markdown",
   "metadata": {},
   "source": [
    "## SimpleChatEngine Demo"
   ]
  },
  {
   "cell_type": "code",
   "execution_count": null,
   "metadata": {},
   "outputs": [],
   "source": [
    "from llama_index.core.chat_engine.simple import SimpleChatEngine"
   ]
  },
  {
   "cell_type": "code",
   "execution_count": null,
   "metadata": {},
   "outputs": [
    {
     "name": "stdout",
     "output_type": "stream",
     "text": [
      "Hello again, Younis! How can I help you today?\n",
      "Your name is Younis.\n"
     ]
    }
   ],
   "source": [
    "agent = SimpleChatEngine.from_defaults(llm=llm, memory=memory)  # set you memory here\n",
    "\n",
    "# Start the chat\n",
    "response = agent.chat(\"Hi, My name is Younis\")\n",
    "print(response)\n",
    "\n",
    "# Now test memory retention:\n",
    "response = agent.chat(\"What was my name?\")\n",
    "print(response)"
   ]
  },
  {
   "cell_type": "code",
   "execution_count": null,
   "metadata": {},
   "outputs": [
    {
     "name": "stdout",
     "output_type": "stream",
     "text": [
      "Hello, Younis! How can I assist you today?\n",
      "Your name is Younis.\n"
     ]
    }
   ],
   "source": [
    "agent = SimpleChatEngine.from_defaults(llm=llm, memory=amemory)  # set you memory here\n",
    "\n",
    "# Start the chat\n",
    "response = agent.chat(\"Hi, My name is Younis\")\n",
    "print(response)\n",
    "\n",
    "# Now test memory retention:\n",
    "response = agent.chat(\"What was my name?\")\n",
    "print(response)"
   ]
  },
  {
   "cell_type": "markdown",
   "metadata": {},
   "source": [
    "## React Agent  Demo "
   ]
  },
  {
   "cell_type": "code",
   "execution_count": null,
   "metadata": {},
   "outputs": [],
   "source": [
    "from llama_index.core.agent import ReActAgent\n",
    "\n",
    "agent = ReActAgent.from_tools(\n",
    "    tools=[],\n",
    "    llm=llm,\n",
    "    memory=memory,\n",
    "    verbose=True,\n",
    ")"
   ]
  },
  {
   "cell_type": "code",
   "execution_count": null,
   "metadata": {},
   "outputs": [
    {
     "name": "stdout",
     "output_type": "stream",
     "text": [
      "> Running step 9be3ba30-3d10-4617-844b-124ae0e5f17b. Step input: What's the capital of France?\n",
      "\u001b[1;3;38;5;200mThought: I can answer without using any more tools. I'll use the user's language to answer\n",
      "Answer: La capitale de la France est Paris.\n",
      "```\n",
      "\u001b[0mLa capitale de la France est Paris.\n",
      "```\n",
      "> Running step 0efcf470-f5b1-4aca-94c2-91497aa3ce39. Step input: What was my previous question?\n",
      "\u001b[1;3;38;5;200mThought: The current language of the user is: English. I need to answer the question without using any tools.\n",
      "Answer: Your previous question was \"What's the capital of France?\"\n",
      "\u001b[0mYour previous question was \"What's the capital of France?\"\n"
     ]
    }
   ],
   "source": [
    "response = agent.chat(\"What's the capital of France?\")\n",
    "print(response)\n",
    "\n",
    "# Now test memory retention:\n",
    "response = agent.chat(\"What was my previous question?\")\n",
    "print(response)"
   ]
  },
  {
   "cell_type": "code",
   "execution_count": null,
   "metadata": {},
   "outputs": [],
   "source": [
    "from llama_index.core.agent import ReActAgent\n",
    "\n",
    "agent = ReActAgent.from_tools(\n",
    "    tools=[],\n",
    "    llm=llm,\n",
    "    memory=amemory,\n",
    "    verbose=True,\n",
    ")"
   ]
  },
  {
   "cell_type": "code",
   "execution_count": null,
   "metadata": {},
   "outputs": [
    {
     "name": "stdout",
     "output_type": "stream",
     "text": [
      "> Running step a31ec9cc-0d68-4948-b413-1bc0fee98611. Step input: What's the capital of France?\n"
     ]
    },
    {
     "name": "stdout",
     "output_type": "stream",
     "text": [
      "\u001b[1;3;38;5;200mThought: The current language of the user is: English. I can answer without using any more tools.\n",
      "Answer: The capital of France is Paris.\n",
      "\u001b[0mThe capital of France is Paris.\n",
      "> Running step 8be75b08-36bd-4520-b23d-b62b06fec08f. Step input: What was my previous question?\n",
      "\u001b[1;3;38;5;200mThought: (Implicit) I can answer without any more tools!\n",
      "Answer: Your previous question was, \"What's the capital of France?\"\n",
      "\u001b[0mYour previous question was, \"What's the capital of France?\"\n"
     ]
    }
   ],
   "source": [
    "response = agent.chat(\"What's the capital of France?\")\n",
    "print(response)\n",
    "\n",
    "# Now test memory retention:\n",
    "response = agent.chat(\"What was my previous question?\")\n",
    "print(response)"
   ]
  },
  {
   "cell_type": "markdown",
   "metadata": {},
   "source": [
    "## FunctionCallingAgent Demo"
   ]
  },
  {
   "cell_type": "code",
   "execution_count": null,
   "metadata": {},
   "outputs": [],
   "source": [
    "from llama_index.core.agent import FunctionCallingAgent\n",
    "\n",
    "agent = FunctionCallingAgent.from_tools(\n",
    "    [],\n",
    "    llm=llm,\n",
    "    memory=memory,\n",
    "    verbose=True,\n",
    ")"
   ]
  },
  {
   "cell_type": "code",
   "execution_count": null,
   "metadata": {},
   "outputs": [
    {
     "name": "stdout",
     "output_type": "stream",
     "text": [
      "> Running step 08a916cc-f2d1-4f5a-9b7a-87cba46b93dd. Step input: Hi, My name is Younis\n",
      "Added user message to memory: Hi, My name is Younis\n",
      "=== LLM Response ===\n",
      "Hello, Younis! How can I assist you today?\n",
      "Hello, Younis! How can I assist you today?\n",
      "> Running step ee67d336-b260-4ea4-885d-f280b731ea6b. Step input: What was my name?\n",
      "Added user message to memory: What was my name?\n",
      "=== LLM Response ===\n",
      "Your name is Younis.\n",
      "Your name is Younis.\n"
     ]
    }
   ],
   "source": [
    "# Start the chat\n",
    "response = agent.chat(\"Hi, My name is Younis\")\n",
    "print(response)\n",
    "\n",
    "# Now test memory retention:\n",
    "response = agent.chat(\"What was my name?\")\n",
    "print(response)"
   ]
  },
  {
   "cell_type": "code",
   "execution_count": null,
   "metadata": {},
   "outputs": [],
   "source": [
    "from llama_index.core.agent import FunctionCallingAgent\n",
    "\n",
    "agent = FunctionCallingAgent.from_tools(\n",
    "    [],\n",
    "    llm=llm,\n",
    "    memory=amemory,\n",
    "    verbose=True,\n",
    ")"
   ]
  },
  {
   "cell_type": "code",
   "execution_count": null,
   "metadata": {},
   "outputs": [
    {
     "name": "stdout",
     "output_type": "stream",
     "text": [
      "> Running step 6a92d2f6-a596-49d6-a1e8-62533eae3baa. Step input: Hi, My name is Younis\n",
      "Added user message to memory: Hi, My name is Younis\n",
      "=== LLM Response ===\n",
      "Hello again, Younis! How can I help you today?\n",
      "Hello again, Younis! How can I help you today?\n",
      "> Running step 712ec8b5-c820-4364-92d1-0ccaa81da621. Step input: What was my name?\n",
      "Added user message to memory: What was my name?\n",
      "=== LLM Response ===\n",
      "Your name is Younis.\n",
      "Your name is Younis.\n"
     ]
    }
   ],
   "source": [
    "# Start the chat\n",
    "response = agent.chat(\"Hi, My name is Younis\")\n",
    "print(response)\n",
    "\n",
    "# Now test memory retention:\n",
    "response = agent.chat(\"What was my name?\")\n",
    "print(response)"
   ]
  },
  {
   "cell_type": "markdown",
   "metadata": {},
   "source": [
    "##  AgentWorkflow Demo"
   ]
  },
  {
   "cell_type": "code",
   "execution_count": null,
   "metadata": {},
   "outputs": [],
   "source": [
    "from llama_index.embeddings.openai import OpenAIEmbedding\n",
    "from llama_index.core.agent.workflow import AgentWorkflow\n",
    "from llama_index.core.agent.workflow import (\n",
    "    AgentInput,\n",
    "    AgentOutput,\n",
    "    ToolCall,\n",
    "    ToolCallResult,\n",
    "    AgentStream,\n",
    ")\n",
    "from llama_index.core.agent.workflow import FunctionAgent, ReActAgent"
   ]
  },
  {
   "cell_type": "code",
   "execution_count": null,
   "metadata": {},
   "outputs": [],
   "source": [
    "# Create a ResearchAgent with a system prompt that guides it to be systematic\n",
    "research_agent = FunctionAgent(\n",
    "    name=\"ResearchAgent\",\n",
    "    description=\"Responsible for generating well-structured responses based on internal knowledge and context.\",\n",
    "    system_prompt=\"\"\"\n",
    "    You are the ResearchAgent. Your task is to compile and synthesize information based solely on the provided context.\n",
    "    Work in a systematic, transparent manner, explaining your thought process and summarizing the key insights clearly.\n",
    "    \"\"\",\n",
    "    llm=llm,\n",
    "    tools=[],\n",
    "    verbose=True,\n",
    ")\n",
    "\n",
    "# Define the agent workflow with the ResearchAgent as the root agent\n",
    "agent_workflow = AgentWorkflow(\n",
    "    agents=[research_agent],\n",
    "    root_agent=research_agent.name,\n",
    "    initial_state={\"answer_content\": \"\"},\n",
    ")"
   ]
  },
  {
   "cell_type": "code",
   "execution_count": null,
   "metadata": {},
   "outputs": [
    {
     "name": "stdout",
     "output_type": "stream",
     "text": [
      "\n",
      "==================================================\n",
      "🤖 Agent: ResearchAgent\n",
      "==================================================\n",
      "\n",
      "To explain the heuristic function in detail, I will break down the concept into several key components: definition, purpose, types, and examples.\n",
      "\n",
      "### Definition\n",
      "A heuristic function is a method used in algorithms, particularly in search and optimization problems, to estimate the cost or distance from a given state to a goal state. It provides a way to guide the search process by evaluating which paths are more promising based on certain criteria.\n",
      "\n",
      "### Purpose\n",
      "The primary purpose of a heuristic function is to improve the efficiency of search algorithms. By providing an estimate of the cost to reach the goal, the heuristic helps the algorithm prioritize which nodes to explore first. This can significantly reduce the number of nodes that need to be evaluated, leading to faster solutions.\n",
      "\n",
      "### Types of Heuristic Functions\n",
      "1. **Admissible Heuristic**: A heuristic is admissible if it never overestimates the cost to reach the goal. This property ensures that the algorithm using it (like A*) is guaranteed to find the optimal solution.\n",
      "\n",
      "2. **Consistent Heuristic (or Monotonic)**: A heuristic is consistent if, for every node n and every successor n' of n, the estimated cost from n to the goal is less than or equal to the cost of reaching n' plus the estimated cost from n' to the goal. This property ensures that the heuristic is not only admissible but also helps maintain the optimality of the path.\n",
      "\n",
      "3. **Inadmissible Heuristic**: A heuristic that may overestimate the cost to reach the goal. While it can speed up the search process, it does not guarantee an optimal solution.\n",
      "\n",
      "### Examples\n",
      "- **Straight-Line Distance**: In pathfinding problems (like navigating a map), the straight-line distance from the current location to the destination can serve as a heuristic. It provides a lower bound on the actual distance, making it admissible.\n",
      "\n",
      "- **Manhattan Distance**: In grid-based pathfinding (like in a city layout), the Manhattan distance (the sum of the absolute differences of the coordinates) can be used as a heuristic. It is particularly useful in scenarios where movement is restricted to horizontal and vertical directions.\n",
      "\n",
      "- **Domain-Specific Heuristics**: In games like chess, heuristics can be based on the evaluation of board positions, such as material advantage or control of the center, which helps guide the search for the best move.\n",
      "\n",
      "### Conclusion\n",
      "Heuristic functions are crucial in optimizing search algorithms by providing estimates that guide the search process. Understanding the types of heuristics and their properties can help in designing more efficient algorithms for various applications, from artificial intelligence to operations research. By carefully selecting or designing a heuristic, one can significantly enhance the performance of search strategies.\n",
      "💭 Agent thinking: To explain the heuristic function in detail, I will break down the concept into several key components: definition, purpose, types, and examples.\n",
      "\n",
      "### Definition\n",
      "A heuristic function is a method used in algorithms, particularly in search and optimization problems, to estimate the cost or distance from a given state to a goal state. It provides a way to guide the search process by evaluating which paths are more promising based on certain criteria.\n",
      "\n",
      "### Purpose\n",
      "The primary purpose of a heuristic function is to improve the efficiency of search algorithms. By providing an estimate of the cost to reach the goal, the heuristic helps the algorithm prioritize which nodes to explore first. This can significantly reduce the number of nodes that need to be evaluated, leading to faster solutions.\n",
      "\n",
      "### Types of Heuristic Functions\n",
      "1. **Admissible Heuristic**: A heuristic is admissible if it never overestimates the cost to reach the goal. This property ensures that the algorithm using it (like A*) is guaranteed to find the optimal solution.\n",
      "\n",
      "2. **Consistent Heuristic (or Monotonic)**: A heuristic is consistent if, for every node n and every successor n' of n, the estimated cost from n to the goal is less than or equal to the cost of reaching n' plus the estimated cost from n' to the goal. This property ensures that the heuristic is not only admissible but also helps maintain the optimality of the path.\n",
      "\n",
      "3. **Inadmissible Heuristic**: A heuristic that may overestimate the cost to reach the goal. While it can speed up the search process, it does not guarantee an optimal solution.\n",
      "\n",
      "### Examples\n",
      "- **Straight-Line Distance**: In pathfinding problems (like navigating a map), the straight-line distance from the current location to the destination can serve as a heuristic. It provides a lower bound on the actual distance, making it admissible.\n",
      "\n",
      "- **Manhattan Distance**: In grid-based pathfinding (like in a city layout), the Manhattan distance (the sum of the absolute differences of the coordinates) can be used as a heuristic. It is particularly useful in scenarios where movement is restricted to horizontal and vertical directions.\n",
      "\n",
      "- **Domain-Specific Heuristics**: In games like chess, heuristics can be based on the evaluation of board positions, such as material advantage or control of the center, which helps guide the search for the best move.\n",
      "\n",
      "### Conclusion\n",
      "Heuristic functions are crucial in optimizing search algorithms by providing estimates that guide the search process. Understanding the types of heuristics and their properties can help in designing more efficient algorithms for various applications, from artificial intelligence to operations research. By carefully selecting or designing a heuristic, one can significantly enhance the performance of search strategies.\n"
     ]
    }
   ],
   "source": [
    "# await ensure_weaviate_connection(aclient)\n",
    "\n",
    "handler = agent_workflow.run(\n",
    "    user_msg=\"Explain the heuristic function in detail.\", memory=memory\n",
    ")\n",
    "\n",
    "current_agent = None\n",
    "tool_output_buffer = \"\"\n",
    "\n",
    "async for event in handler.stream_events():\n",
    "    # Handle agent changes with clear visual separation\n",
    "    if (\n",
    "        hasattr(event, \"current_agent_name\")\n",
    "        and event.current_agent_name != current_agent\n",
    "    ):\n",
    "        current_agent = event.current_agent_name\n",
    "        print(f\"\\n{'='*50}\")\n",
    "        print(f\"🤖 Agent: {current_agent}\")\n",
    "        print(f\"{'='*50}\\n\")\n",
    "\n",
    "    # Stream all content from AgentStream events in real-time\n",
    "    if isinstance(event, AgentStream):\n",
    "        print(event.delta, end=\"\", flush=True)"
   ]
  },
  {
   "cell_type": "code",
   "execution_count": null,
   "metadata": {},
   "outputs": [
    {
     "name": "stdout",
     "output_type": "stream",
     "text": [
      "\n",
      "==================================================\n",
      "🤖 Agent: ResearchAgent\n",
      "==================================================\n",
      "\n",
      "To explain the heuristic function in detail, I will provide a comprehensive overview, including its definition, purpose, characteristics, types, and applications, particularly in the context of search algorithms.\n",
      "\n",
      "### Definition\n",
      "A heuristic function, often denoted as \\( h(n) \\), is a function that estimates the cost or distance from a given node \\( n \\) to the goal node in a search space. It is used in various algorithms to guide the search process toward the most promising paths.\n",
      "\n",
      "### Purpose\n",
      "The main purpose of a heuristic function is to improve the efficiency of search algorithms by providing an estimate of how far a node is from the goal. This allows the algorithm to prioritize which nodes to explore first, thereby reducing the overall search time and space.\n",
      "\n",
      "### Characteristics of Heuristic Functions\n",
      "1. **Admissibility**: A heuristic is admissible if it never overestimates the actual cost to reach the goal from any node. This property ensures that the search algorithm will find the optimal solution if one exists.\n",
      "   \n",
      "2. **Consistency (or Monotonicity)**: A heuristic is consistent if, for every node \\( n \\) and every successor \\( n' \\) of \\( n \\), the estimated cost from \\( n \\) to the goal is no greater than the cost of reaching \\( n' \\) plus the estimated cost from \\( n' \\) to the goal. This property helps maintain the optimality of the search.\n",
      "\n",
      "3. **Domain-specific**: Heuristics can be tailored to specific problems, leveraging domain knowledge to provide better estimates. This can lead to more efficient searches compared to general heuristics.\n",
      "\n",
      "### Types of Heuristic Functions\n",
      "1. **Domain-independent heuristics**: These are general heuristics that can be applied to a wide range of problems. An example is the Manhattan distance in grid-based pathfinding, which calculates the distance between two points based on a grid layout.\n",
      "\n",
      "2. **Domain-specific heuristics**: These are designed for specific problems. For instance, in a puzzle-solving scenario like the 8-puzzle, a heuristic might count the number of misplaced tiles.\n",
      "\n",
      "### Applications\n",
      "Heuristic functions are widely used in various fields, including:\n",
      "\n",
      "- **Artificial Intelligence**: In AI, heuristics are crucial for search algorithms in problem-solving, such as in game playing (e.g., chess) and planning.\n",
      "  \n",
      "- **Pathfinding Algorithms**: Algorithms like A* use heuristic functions to find the shortest path in navigation systems, video games, and robotics.\n",
      "\n",
      "- **Optimization Problems**: Heuristics are employed in optimization problems where finding an exact solution is computationally expensive, such as in scheduling and resource allocation.\n",
      "\n",
      "### Example: A* Algorithm\n",
      "In the A* search algorithm, the heuristic function is combined with the cost to reach the current node (denoted as \\( g(n) \\)) to form a total estimated cost \\( f(n) = g(n) + h(n) \\). This combination allows A* to efficiently find the shortest path by exploring the most promising nodes first, ensuring both optimality and completeness.\n",
      "\n",
      "### Conclusion\n",
      "In summary, heuristic functions are essential tools in search algorithms that help estimate the cost to reach a goal, guiding the search process efficiently. Their design and implementation can significantly impact the performance of algorithms in various applications, making them a critical area of study in computer science and artificial intelligence.\n",
      "💭 Agent thinking: To explain the heuristic function in detail, I will provide a comprehensive overview, including its definition, purpose, characteristics, types, and applications, particularly in the context of search algorithms.\n",
      "\n",
      "### Definition\n",
      "A heuristic function, often denoted as \\( h(n) \\), is a function that estimates the cost or distance from a given node \\( n \\) to the goal node in a search space. It is used in various algorithms to guide the search process toward the most promising paths.\n",
      "\n",
      "### Purpose\n",
      "The main purpose of a heuristic function is to improve the efficiency of search algorithms by providing an estimate of how far a node is from the goal. This allows the algorithm to prioritize which nodes to explore first, thereby reducing the overall search time and space.\n",
      "\n",
      "### Characteristics of Heuristic Functions\n",
      "1. **Admissibility**: A heuristic is admissible if it never overestimates the actual cost to reach the goal from any node. This property ensures that the search algorithm will find the optimal solution if one exists.\n",
      "   \n",
      "2. **Consistency (or Monotonicity)**: A heuristic is consistent if, for every node \\( n \\) and every successor \\( n' \\) of \\( n \\), the estimated cost from \\( n \\) to the goal is no greater than the cost of reaching \\( n' \\) plus the estimated cost from \\( n' \\) to the goal. This property helps maintain the optimality of the search.\n",
      "\n",
      "3. **Domain-specific**: Heuristics can be tailored to specific problems, leveraging domain knowledge to provide better estimates. This can lead to more efficient searches compared to general heuristics.\n",
      "\n",
      "### Types of Heuristic Functions\n",
      "1. **Domain-independent heuristics**: These are general heuristics that can be applied to a wide range of problems. An example is the Manhattan distance in grid-based pathfinding, which calculates the distance between two points based on a grid layout.\n",
      "\n",
      "2. **Domain-specific heuristics**: These are designed for specific problems. For instance, in a puzzle-solving scenario like the 8-puzzle, a heuristic might count the number of misplaced tiles.\n",
      "\n",
      "### Applications\n",
      "Heuristic functions are widely used in various fields, including:\n",
      "\n",
      "- **Artificial Intelligence**: In AI, heuristics are crucial for search algorithms in problem-solving, such as in game playing (e.g., chess) and planning.\n",
      "  \n",
      "- **Pathfinding Algorithms**: Algorithms like A* use heuristic functions to find the shortest path in navigation systems, video games, and robotics.\n",
      "\n",
      "- **Optimization Problems**: Heuristics are employed in optimization problems where finding an exact solution is computationally expensive, such as in scheduling and resource allocation.\n",
      "\n",
      "### Example: A* Algorithm\n",
      "In the A* search algorithm, the heuristic function is combined with the cost to reach the current node (denoted as \\( g(n) \\)) to form a total estimated cost \\( f(n) = g(n) + h(n) \\). This combination allows A* to efficiently find the shortest path by exploring the most promising nodes first, ensuring both optimality and completeness.\n",
      "\n",
      "### Conclusion\n",
      "In summary, heuristic functions are essential tools in search algorithms that help estimate the cost to reach a goal, guiding the search process efficiently. Their design and implementation can significantly impact the performance of algorithms in various applications, making them a critical area of study in computer science and artificial intelligence.\n"
     ]
    }
   ],
   "source": [
    "# await ensure_weaviate_connection(aclient)\n",
    "\n",
    "handler = agent_workflow.run(\n",
    "    user_msg=\"Explain the heuristic function in detail.\", memory=amemory\n",
    ")\n",
    "\n",
    "current_agent = None\n",
    "tool_output_buffer = \"\"\n",
    "\n",
    "async for event in handler.stream_events():\n",
    "    # Handle agent changes with clear visual separation\n",
    "    if (\n",
    "        hasattr(event, \"current_agent_name\")\n",
    "        and event.current_agent_name != current_agent\n",
    "    ):\n",
    "        current_agent = event.current_agent_name\n",
    "        print(f\"\\n{'='*50}\")\n",
    "        print(f\"🤖 Agent: {current_agent}\")\n",
    "        print(f\"{'='*50}\\n\")\n",
    "\n",
    "    # Stream all content from AgentStream events in real-time\n",
    "    if isinstance(event, AgentStream):\n",
    "        print(event.delta, end=\"\", flush=True)"
   ]
  }
 ],
 "metadata": {
  "kernelspec": {
   "display_name": "llamaindex",
   "language": "python",
   "name": "python3"
  },
  "language_info": {
   "codemirror_mode": {
    "name": "ipython",
    "version": 3
   },
   "file_extension": ".py",
   "mimetype": "text/x-python",
   "name": "python",
   "nbconvert_exporter": "python",
   "pygments_lexer": "ipython3"
  }
 },
 "nbformat": 4,
 "nbformat_minor": 2
}
