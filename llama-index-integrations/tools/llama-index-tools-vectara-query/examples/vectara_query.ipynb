{
 "cells": [
  {
   "cell_type": "markdown",
   "id": "b48281b0-80c1-4ed8-8e09-8c046cbecd18",
   "metadata": {},
   "source": [
    "<a href=\"https://colab.research.google.com/github/run-llama/llama_index/blob/main/llama-index-integrations/tools/llama-index-tools-vectara-query/examples/vectara_query.ipynb\" target=\"_parent\"><img src=\"https://colab.research.google.com/assets/colab-badge.svg\" alt=\"Open In Colab\"/></a>"
   ]
  },
  {
   "cell_type": "markdown",
   "id": "a2762271-0db4-4d50-aa50-036d01926a7d",
   "metadata": {},
   "source": [
    "## Vectara Query Tool"
   ]
  },
  {
   "cell_type": "markdown",
   "id": "4452df2a-976b-4e1c-9f9b-2fa983569948",
   "metadata": {},
   "source": [
    "Please note that this example notebook is only for Vectara Query tool versions >=0.3.0\n",
    "\n",
    "To get started with Vectara, [sign up](https://vectara.com/integrations/llamaindex) (if you haven't already) and follow our [quickstart](https://docs.vectara.com/docs/quickstart) guide to create a corpus and an API key.\n",
    "\n",
    "Once you have done this, add the following variables to your environment:\n",
    "\n",
    "`VECTARA_CORPUS_KEY`: The corpus key for the Vectara corpus that you want your tool to search for information.\n",
    "\n",
    "`VECTARA_API_KEY`: An API key that can perform queries on this corpus.\n",
    "\n",
    "You are now ready to use the Vectara query tool.\n",
    "\n",
    "To initialize the tool, provide your Vectara information and any query parameters that you want to adjust, such as the reranker, summarizer prompt, etc. To see the entire list of parameters, see the [VectaraQueryToolSpec class definition](https://github.com/run-llama/llama_index/blob/05828d6d099e78df51c76b8c98aa3ecbd45162ec/llama-index-integrations/tools/llama-index-tools-vectara-query/llama_index/tools/vectara_query/base.py#L11)."
   ]
  },
  {
   "cell_type": "code",
   "execution_count": null,
   "id": "adbd9f2c-1cc9-4220-a117-7099a248d855",
   "metadata": {},
   "outputs": [],
   "source": [
    "# Import and initialize our tool spec\n",
    "# pip install -U llama-index-tools-vectara-query\n",
    "\n",
    "from llama_index.tools.vectara_query.base import VectaraQueryToolSpec\n",
    "\n",
    "tool_spec = VectaraQueryToolSpec()"
   ]
  },
  {
   "cell_type": "markdown",
   "id": "ac3f03a4-2448-4ef2-8aa8-e6c536875a0e",
   "metadata": {},
   "source": [
    "After initializing the tool spec, we can provide it to our agent. For this notebook, we will use the OpenAI Agent, but our tool can be used with any type of agent. You will need your own OpenAI API key to run this notebook."
   ]
  },
  {
   "cell_type": "code",
   "execution_count": null,
   "id": "4f9fe90d-4a54-416f-a0ed-81c3de614487",
   "metadata": {},
   "outputs": [],
   "source": [
    "# Setup OpenAI Agent\n",
    "import openai\n",
    "\n",
    "openai.api_key = \"sk-your-key\"\n",
    "from llama_index.agent.openai import OpenAIAgent\n",
    "\n",
    "agent = OpenAIAgent.from_tools(\n",
    "    tool_spec.to_tool_list(),\n",
    "    verbose=True,\n",
    ")"
   ]
  },
  {
   "cell_type": "code",
   "execution_count": null,
   "id": "fb2fea58-8084-48b8-84f1-713e2d476b47",
   "metadata": {},
   "outputs": [
    {
     "name": "stdout",
     "output_type": "stream",
     "text": [
      "Added user message to memory: What are the different types of electric vehicles? How do they work?\n",
      "=== Calling Function ===\n",
      "Calling function: semantic_search with args: {\"query\":\"types of electric vehicles and how they work\"}\n",
      "Got output: [{'text': 'Electric Car Overview | DriveClean Skip to main content Electric Car Overview Electric cars come in three main types with differing power systems designed to meet varying driving needs.They are: fuel cell, battery-electric, plug-in hybrid electric cars. Battery-Electric Cars Battery-electric cars are all electric and don’t use gasoline, and instead have a large battery that powers one or more electric motors. Currently, battery-electrics have a driving range of 80 to more than 300 miles, with ranges increasing as new models are introduced.', 'citation_metadata': {'lang': 'eng', 'offset': '0', 'len': '218', 'source': 'website', 'url': 'https://driveclean.ca.gov/electric-car-overview#main-content', 'title': 'Electric Car Overview | DriveClean'}}, {'text': 'Carpool Lane Decals Which cars qualify for the carpool lane sticker? How long are carpool lane decals valid? Electric Cars What are the different types of electric vehicles? Why should I drive electric? Will switching to an electric car save me money?', 'citation_metadata': {'lang': 'eng', 'offset': '269', 'len': '64', 'source': 'website', 'url': 'https://driveclean.ca.gov/faqs', 'title': 'Frequently Asked Questions | DriveClean'}}, {'text': 'NOx is a lung irritant. When combined with hydrocarbons and sunlight, NOx compounds form smog Plug-in electric vehicle or PEV – These cars can be recharged from any external source of electricity and the electricity is stored in a rechargeable battery pack to drive or contribute to driving the wheels. These types of cars include battery-electric vehicles and plug-in hybrid-electric vehicles PHEV – Plug-in hybrid-electric cars are similar to traditional hybrids but are also equipped with a larger, more advanced battery that allows the vehicle to be plugged in and recharged in addition to refueling with gasoline. This larger battery allows the car to drive on battery alone, gasoline alone or a combination of electric and gasoline fuels PM – Particulate matter. Tiny particles of solid matter that lodge in the lungs and form deposits on buildings.', 'citation_metadata': {'lang': 'eng', 'offset': '8376', 'len': '315', 'source': 'website', 'url': 'https://driveclean.ca.gov/glossary', 'title': 'Glossary of Terms | DriveClean'}}, {'text': \"Rated for you by America's best test team. Performance 8.5/10 How does the iX drive? Electric SUVs are redefining how large vehicles are supposed to handle, and the iX is a prime example. The weight of batteries mounted low under the floor really helps provide a hunkered-down feeling. The iX isn't really exciting to drive, but it corners with ease, and the light-effort steering creates the illusion of the iX being lighter than it actually is.\", 'citation_metadata': {'lang': 'eng', 'offset': '8729', 'len': '102', 'source': 'website', 'url': 'https://www.edmunds.com/bmw/ix/2025/', 'title': '2025 BMW iX Prices, Reviews, and Pictures | Edmunds'}}, {'text': \"Ronald Montoya · 05/19/2023 BASICS Do Electric Cars Have Transmissions? Ronald Montoya · 05/05/2023 BASICS Keep Your EV Running Smoothly With This Electric Car Maintenance Guide Jake Sundstrom · 04/28/2023 BASICS Why Electric Cars Don't Use Motor Oil Will Kaufman · 04/19/2023 BASICS Top Electric Car Companies of 2023 Ronald Montoya · 04/14/2023 BASICS Is an Electric Car Worth It? Will Kaufman · 03/24/2023 BASICS Pros and Cons of Electric Vehicles Jake Sundstrom · 03/07/2023 BASICS How Do Electric Cars Work? An In-Depth Guide Will Kaufman · 03/07/2023 EV tax credits, rebates & incentives INCENTIVES & REBATES Electric Vehicle Tax Credits 2024: What You Need to Know Ronald Montoya · 01/02/2024 INCENTIVES & REBATES Find EV tax credits, rebates, and incentives Edmunds · 01/28/2023 Am I Ready for an EV? EV ownership works best if you can charge at home (240V outlet) This typically means a 240V home installation, or other places your car is parked for several hours each day.\", 'citation_metadata': {'lang': 'eng', 'offset': '6253', 'len': '129', 'source': 'website', 'url': 'https://www.edmunds.com/electric-car/articles/', 'title': 'Edmunds EV Hub | Edmunds'}}]\n",
      "========================\n",
      "\n"
     ]
    },
    {
     "data": {
      "text/markdown": [
       "There are three main types of electric vehicles:\n",
       "\n",
       "1. Battery-Electric Cars: These cars are all-electric and do not use gasoline. They are powered by a large battery that drives one or more electric motors. Battery-electric cars have a driving range of 80 to more than 300 miles, with ranges increasing as new models are introduced.\n",
       "\n",
       "2. Plug-in Electric Vehicles (PEV): These cars can be recharged from any external source of electricity, and the electricity is stored in a rechargeable battery pack to drive or contribute to driving the wheels. PEVs include battery-electric vehicles and plug-in hybrid-electric vehicles (PHEV).\n",
       "\n",
       "3. Plug-in Hybrid-Electric Vehicles (PHEV): PHEVs are similar to traditional hybrids but are equipped with a larger, more advanced battery that allows the vehicle to be plugged in and recharged in addition to refueling with gasoline. This larger battery enables the car to drive on battery alone, gasoline alone, or a combination of electric and gasoline fuels.\n",
       "\n",
       "These electric vehicles work by utilizing electric motors powered by batteries to drive the wheels, providing a cleaner and more sustainable mode of transportation."
      ],
      "text/plain": [
       "<IPython.core.display.Markdown object>"
      ]
     },
     "metadata": {},
     "output_type": "display_data"
    }
   ],
   "source": [
    "from IPython.display import Markdown, display\n",
    "\n",
    "response = agent.chat(\n",
    "    \"What are the different types of electric vehicles? How do they work?\"\n",
    ").response\n",
    "display(Markdown(response))"
   ]
  },
  {
   "cell_type": "code",
   "execution_count": null,
   "id": "1a736f3b-5ea6-4191-9781-1c4985086c5f",
   "metadata": {},
   "outputs": [
    {
     "name": "stdout",
     "output_type": "stream",
     "text": [
      "Added user message to memory: What are the pros and cons of Fuel Cell EVs? What are some popular models?\n",
      "=== Calling Function ===\n",
      "Calling function: semantic_search with args: {\"query\":\"pros and cons of Fuel Cell EVs, popular models\"}\n",
      "Got output: [{'text': \"Jonathan got his start testing cars for Road & Track magazine as a newly minted mechanical engineer grad from University of California, Irvine, and has also contributed to Motor Trend and the Associated Press. He likes to say he learned to drive a manual transmission in a rear-wheel-drive mid-engine vehicle but often omits it was his family's 1991 Toyota Previa minivan. Pros Impressive real-world EV range Loads of standard features and in-car tech Comfortable, well-appointed interior Cons Disappointing rear passenger space given the car's size More expensive than some rivals and not as quick or sporty What's new Larger battery and revised regenerative brakes improve range Standard Luxury Line styling with traditional Mercedes hood ornament Part of the first EQS generation introduced for 2022 Overview Perched at the top of the Mercedes-Benz's EV sedan lineup is the 2025 EQS. A sleek aerodynamic design distinguishes the EQS from its stately gas-fueled sibling, the S-Class, but otherwise the idea is similar: Offer the utmost in comfort and luxury from a large sedan. For 2025, Mercedes has added a new Luxury Line appearance package with traditional styling cues such as chrome grille panel slats and a stand-up Mercedes-star hood ornament.\", 'citation_metadata': {'lang': 'eng', 'offset': '2065', 'len': '513', 'source': 'website', 'url': 'https://www.edmunds.com/mercedes-benz/eqs/2025/', 'title': '2025 Mercedes-Benz EQS Prices, Reviews, and Pictures | Edmunds'}}, {'text': 'U.S. Department of Energy – Fuel Cell Vehicles Federal government website providing overview of fuel cell technology and a comparison between available models. California Hydrogen Business Council (CHBC) Advocacy group comprised of over 100 companies and agencies working to advance the commercialization of hydrogen and fuel cell industry. Electric For All Fuel Cell Cars A comprehensive listing of fuel cell electric car models currently available in California, including incentives.', 'citation_metadata': {'lang': 'eng', 'offset': '4261', 'len': '145', 'source': 'website', 'url': 'https://driveclean.ca.gov/hydrogen-fuel-cell', 'title': 'Hydrogen Fuel Cell Electric Cars | DriveClean'}}, {'text': \"Mark has also contributed to Motor Trend, Auto Aficionado, Chevy High Performance and several motorcycle magazines in various roles. Mark is also a juror on the North American Car, Truck and Utility Vehicle of the Year Awards and can be seen regularly on the Edmunds YouTube channel and sometimes representing the company in media interviews. Pros Less costly to run than gas-powered alternatives Smart features for commercial users Onboard power for mobile services Cons 126-mile range limit No one-pedal driving Loud, rumbly interior What's new New features, including a virtual rearview mirror and interior shelving Minor shuffling of features and options Part of the first E-Transit generation introduced for 2022 Overview Vans are the go-to choice for commercial vehicles that provide an enclosed space for parcels, tools and whatever your business needs to move. With the shift away from the old Econolines and Express vans, the newer models from Europe have fulfilled the need for more efficient and maneuverable alternatives. If you've wanted an electric van, however, you'd likely need a specialized contract with one of the few niche manufacturers.\", 'citation_metadata': {'lang': 'eng', 'offset': '2166', 'len': '525', 'source': 'website', 'url': 'https://www.edmunds.com/ford/e-transit-cargo-van/2023/', 'title': '2023 Ford E-Transit Cargo Van Prices, Reviews, and Pictures | Edmunds'}}, {'text': \"Mark has also contributed to Motor Trend, Auto Aficionado, Chevy High Performance and several motorcycle magazines in various roles. Mark is also a juror on the North American Car, Truck and Utility Vehicle of the Year Awards and can be seen regularly on the Edmunds YouTube channel and sometimes representing the company in media interviews. Pros Nimble size and handling make it fun to drive One of the most affordable EVs you can buy Upscale cabin design Cons Not as much range as other EVs Two-door layout and small back seat limit utility Choppy ride on bumpy roads What's new The base Classic trim returns to the lineup Minor feature availability changes Part of the third Hardtop generation introduced for 2014 Overview The 2024 Mini Cooper SE Hardtop 2 Door is the smallest vehicle in Mini's lineup, and it's also one of the most affordable EVs you can get today. It's based on the gas-powered Mini Cooper, which was last redesigned a decade ago, and this year the big news is the return of the entry-level Classic trim. Other changes are very minor since the Mini is due for a full makeover for the 2025 model year.\", 'citation_metadata': {'lang': 'eng', 'offset': '1799', 'len': '528', 'source': 'website', 'url': 'https://www.edmunds.com/mini/hardtop-2-door/2024/electric/', 'title': '2024 MINI Hardtop 2 Door Electric Prices, Reviews, and Pictures | Edmunds'}}, {'text': \"He's driven and photographed hundreds, if not thousands, of vehicles all over the world, so Kurt's library of automotive experiences would certainly make for a good book. When not dreaming about getting his racing license or trying to buy out-of-date film for his cameras, Kurt can usually be found cursing at his 1966 Mustang. Pros Scintillating performance on both road and track Genuinely fun to drive at all speeds Long list of standard features Comfortable ride despite the performance potential Cons Short range for a modern EV An overabundance of drive modes and settings Very heavy for a performance vehicle What's new New higher-performance version of the Ioniq 5 Generates up to 641 horsepower Many other performance upgrades, including brakes, suspension and more Part of the first Ioniq 5 generation introduced for 2022 Overview While a handful of automakers have dabbled in ultra high-performance EVs, most are expensive luxury models that are primarily best at straight-line performance. That's not the case with the all-new 2025 Ioniq 5 N. Hyundai's N performance division has turned its racing and tuning experience on the highly regarded Ioniq 5 electric crossover to create a vehicle that's currently unique in the EV space: It's relatively affordable, practical and genuinely fun to drive. Continue reading Edmunds Expert Rating below Hyundai IONIQ 5 N EV InsightsTrim: IONIQ 5 N Base Range 221 miles EPA Estimated Range EV batteries lose 1-2% of range per year.\", 'citation_metadata': {'lang': 'eng', 'offset': '1705', 'len': '673', 'source': 'website', 'url': 'https://www.edmunds.com/hyundai/ioniq-5-n/2025/', 'title': '2025 Hyundai IONIQ 5 N Prices, Reviews, and Pictures | Edmunds'}}]\n",
      "========================\n",
      "\n"
     ]
    },
    {
     "data": {
      "text/markdown": [
       "### Pros and Cons of Fuel Cell Electric Vehicles (FCEVs):\n",
       "\n",
       "#### Pros:\n",
       "- Impressive real-world EV range\n",
       "- Loads of standard features and in-car tech\n",
       "- Comfortable and well-appointed interior\n",
       "- Less costly to run than gas-powered alternatives\n",
       "- Smart features for commercial users\n",
       "- Onboard power for mobile services\n",
       "\n",
       "#### Cons:\n",
       "- Disappointing rear passenger space given the car's size\n",
       "- More expensive than some rivals and not as quick or sporty\n",
       "- 126-mile range limit\n",
       "- No one-pedal driving\n",
       "- Loud, rumbly interior\n",
       "\n",
       "### Popular Models of Fuel Cell Electric Vehicles:\n",
       "\n",
       "1. **2025 Mercedes-Benz EQS**\n",
       "   - Overview: Perched at the top of Mercedes-Benz's EV sedan lineup, the 2025 EQS offers comfort and luxury in a sleek aerodynamic design.\n",
       "   - [More Info](https://www.edmunds.com/mercedes-benz/eqs/2025/)\n",
       "\n",
       "2. **2023 Ford E-Transit Cargo Van**\n",
       "   - Overview: A commercial vehicle with smart features and onboard power for mobile services.\n",
       "   - [More Info](https://www.edmunds.com/ford/e-transit-cargo-van/2023/)\n",
       "\n",
       "3. **2024 Mini Cooper SE Hardtop 2 Door**\n",
       "   - Overview: An affordable and nimble EV with an upscale cabin design.\n",
       "   - [More Info](https://www.edmunds.com/mini/hardtop-2-door/2024/electric/)\n",
       "\n",
       "4. **2025 Hyundai IONIQ 5 N**\n",
       "   - Overview: The IONIQ 5 N offers scintillating performance on both road and track, making it genuinely fun to drive at all speeds.\n",
       "   - [More Info](https://www.edmunds.com/hyundai/ioniq-5-n/2025/)\n",
       "\n",
       "These models showcase the advancements and variety in the fuel cell electric vehicle market, catering to different needs and preferences of consumers."
      ],
      "text/plain": [
       "<IPython.core.display.Markdown object>"
      ]
     },
     "metadata": {},
     "output_type": "display_data"
    }
   ],
   "source": [
    "response = agent.chat(\n",
    "    \"What are the pros and cons of Fuel Cell EVs? What are some popular models?\"\n",
    ").response\n",
    "display(Markdown(response))"
   ]
  }
 ],
 "metadata": {
  "kernelspec": {
   "display_name": "Python 3 (ipykernel)",
   "language": "python",
   "name": "python3"
  },
  "language_info": {
   "codemirror_mode": {
    "name": "ipython",
    "version": 3
   },
   "file_extension": ".py",
   "mimetype": "text/x-python",
   "name": "python",
   "nbconvert_exporter": "python",
   "pygments_lexer": "ipython3"
  }
 },
 "nbformat": 4,
 "nbformat_minor": 5
}
