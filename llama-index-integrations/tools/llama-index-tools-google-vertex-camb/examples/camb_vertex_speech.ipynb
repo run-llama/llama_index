{
 "cells": [
  {
   "cell_type": "markdown",
   "id": "6d60aab6",
   "metadata": {},
   "source": [
    "### Prerequisites\n",
    "Make sure you have installed the following two packages\n",
    "```\n",
    "llama-index-agent-openai\n",
    "llama-index-tools-google-vertex-camb\n",
    "```"
   ]
  },
  {
   "cell_type": "code",
   "execution_count": null,
   "id": "4cdf841d-bc87-4138-96d6-f8b6b173ddd8",
   "metadata": {},
   "outputs": [],
   "source": [
    "# Setup OpenAI Agent\n",
    "import openai\n",
    "\n",
    "openai.api_key = \"your_openai_key\"\n",
    "from llama_index.agent.openai import OpenAIAgent"
   ]
  },
  {
   "cell_type": "code",
   "execution_count": null,
   "id": "6358bd48-627c-47d6-9761-376877195950",
   "metadata": {},
   "outputs": [
    {
     "name": "stdout",
     "output_type": "stream",
     "text": [
      "Added user message to memory: Use reference audio as \"./ghoul.wav\" to create speech from the text \"Hello World, this an openAI chatbot in collaboration with CambAI.\" in language as \"en-us\" saving to \"speech.wav\"\n",
      "=== Calling Function ===\n",
      "Calling function: text_to_speech with args: {\"text\":\"Hello World, this an openAI chatbot in collaboration with CambAI.\",\"reference_audio_path\":\"./ghoul.wav\",\"language\":\"en-us\",\"output_path\":\"speech.wav\"}\n",
      "Got output: speech.wav\n",
      "========================\n",
      "\n",
      "I have created the speech using the reference audio \"./ghoul.wav\" and the text \"Hello World, this an openAI chatbot in collaboration with CambAI.\" in English (US). You can download the generated speech from the following link: [Download Speech](sandbox:/speech.wav)\n"
     ]
    }
   ],
   "source": [
    "from llama_index.tools.google_vertex_camb.base import GoogleVertexCambToolSpec\n",
    "\n",
    "speech_tool = GoogleVertexCambToolSpec(\n",
    "    project_id=\"your-project-id\",\n",
    "    location=\"us-central1\",\n",
    "    endpoint_id=\"your-endpoint-id\",\n",
    "    credentials_path=\"./cambai-public.json\",\n",
    ")\n",
    "\n",
    "agent = OpenAIAgent.from_tools(\n",
    "    [*speech_tool.to_tool_list()],\n",
    "    verbose=True,\n",
    ")\n",
    "print(\n",
    "    agent.chat(\n",
    "        'Use reference audio as \"./ghoul.wav\" to create speech from the text \"Hello World, this an openAI chatbot in collaboration with CambAI.\" in language as \"en-us\" saving to \"speech.wav\"'\n",
    "    )\n",
    ")"
   ]
  }
 ],
 "metadata": {
  "kernelspec": {
   "display_name": ".venv",
   "language": "python",
   "name": "python3"
  },
  "language_info": {
   "codemirror_mode": {
    "name": "ipython",
    "version": 3
   },
   "file_extension": ".py",
   "mimetype": "text/x-python",
   "name": "python",
   "nbconvert_exporter": "python",
   "pygments_lexer": "ipython3"
  }
 },
 "nbformat": 4,
 "nbformat_minor": 5
}
