{
 "cells": [
  {
   "cell_type": "code",
   "execution_count": null,
   "id": "23f6e36c-25a2-4da4-972a-9995a63f7654",
   "metadata": {},
   "outputs": [],
   "source": [
    "import os\n",
    "\n",
    "os.environ[\"OPENAI_API_KEY\"] = \"sk-your-key\""
   ]
  },
  {
   "cell_type": "code",
   "execution_count": null,
   "id": "4fcc9444-079d-4f35-916c-9ba1e3f12eae",
   "metadata": {},
   "outputs": [],
   "source": [
    "# Import and initialize our tool spec\n",
    "from llama_index.tools.wolfram_alpha.base import WolframAlphaToolSpec\n",
    "\n",
    "wolfram_spec = WolframAlphaToolSpec(app_id=\"your-key\")\n",
    "tools = wolfram_spec.to_tool_list()\n",
    "\n",
    "# Create the Agent with our tools\n",
    "from llama_index.core.agent.workflow import FunctionAgent\n",
    "from llama_index.llms.openai import OpenAI\n",
    "\n",
    "agent = FunctionAgent(\n",
    "    tools=wolfram_spec.to_tool_list(),\n",
    "    llm=OpenAI(model=\"gpt-4.1\"),\n",
    ")"
   ]
  },
  {
   "cell_type": "code",
   "execution_count": null,
   "id": "40d3b0d7-aa2a-4729-a09c-43169d6ec107",
   "metadata": {},
   "outputs": [],
   "source": [
    "print(await agent.run(\"what is 100000 * 12312 * 123 + 123\"))"
   ]
  },
  {
   "cell_type": "code",
   "execution_count": null,
   "id": "5db8b3b4-dfcf-4e33-b0f7-8eef6cd26506",
   "metadata": {},
   "outputs": [],
   "source": [
    "print(await agent.run(\"how many calories are in 100g of milk chocolate\"))"
   ]
  }
 ],
 "metadata": {
  "kernelspec": {
   "display_name": "Python 3 (ipykernel)",
   "language": "python",
   "name": "python3"
  },
  "language_info": {
   "codemirror_mode": {
    "name": "ipython",
    "version": 3
   },
   "file_extension": ".py",
   "mimetype": "text/x-python",
   "name": "python",
   "nbconvert_exporter": "python",
   "pygments_lexer": "ipython3"
  }
 },
 "nbformat": 4,
 "nbformat_minor": 5
}
