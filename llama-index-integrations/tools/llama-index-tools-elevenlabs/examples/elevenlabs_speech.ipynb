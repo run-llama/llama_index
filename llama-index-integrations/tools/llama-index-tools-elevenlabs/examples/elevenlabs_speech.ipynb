{
 "cells": [
  {
   "cell_type": "markdown",
   "id": "6d60aab6",
   "metadata": {},
   "source": [
    "### Prerequisites\n",
    "Make sure you have installed the following two packages\n",
    "```\n",
    "llama-index-agent-openai\n",
    "llama-index-tools-elevenlabs\n",
    "```"
   ]
  },
  {
   "cell_type": "code",
   "execution_count": null,
   "id": "4cdf841d-bc87-4138-96d6-f8b6b173ddd8",
   "metadata": {},
   "outputs": [],
   "source": [
    "# Setup OpenAI Agent\n",
    "import openai\n",
    "\n",
    "openai.api_key = \"your-key\"\n",
    "from llama_index.agent.openai import OpenAIAgent"
   ]
  },
  {
   "cell_type": "code",
   "execution_count": null,
   "id": "6358bd48-627c-47d6-9761-376877195950",
   "metadata": {},
   "outputs": [
    {
     "name": "stdout",
     "output_type": "stream",
     "text": [
      "Added user message to memory: Create speech from the following text \"Hello world!\" and output the file to \"speech.wav\"\n",
      "=== Calling Function ===\n",
      "Calling function: text_to_speech with args: {\"text\":\"Hello world!\",\"output_path\":\"speech.wav\"}\n",
      "Got output: speech.wav\n",
      "========================\n",
      "\n",
      "I have created the speech from the text \"Hello world!\" and saved it to a file named \"speech.wav\". You can download the file from the following link: [Download speech.wav](sandbox:/content/speech.wav)\n"
     ]
    }
   ],
   "source": [
    "from llama_index.tools.elevenlabs import ElevenLabsToolSpec\n",
    "\n",
    "speech_tool = ElevenLabsToolSpec(api_key=\"your-key\")\n",
    "\n",
    "agent = OpenAIAgent.from_tools(\n",
    "    [*speech_tool.to_tool_list()],\n",
    "    verbose=True,\n",
    ")\n",
    "print(\n",
    "    agent.chat(\n",
    "        'Get the list of available voices, select ONLY the first voice, and use it to create speech from the text \"Hello world!\" saving to \"speech.wav\"'\n",
    "    )\n",
    ")"
   ]
  }
 ],
 "metadata": {
  "kernelspec": {
   "display_name": "llama-index-UJ2SQPf2-py3.13",
   "language": "python",
   "name": "python3"
  },
  "language_info": {
   "codemirror_mode": {
    "name": "ipython",
    "version": 3
   },
   "file_extension": ".py",
   "mimetype": "text/x-python",
   "name": "python",
   "nbconvert_exporter": "python",
   "pygments_lexer": "ipython3"
  }
 },
 "nbformat": 4,
 "nbformat_minor": 5
}
