{
 "cells": [
  {
   "cell_type": "code",
   "execution_count": null,
   "id": "e706a4d9",
   "metadata": {},
   "outputs": [],
   "source": [
    "import os\n",
    "os.environ[\"OPENAI_API_KEY\"] = \"sk-proj-1234567890\""
   ]
  },
  {
   "cell_type": "code",
   "execution_count": null,
   "id": "9a0ed198-6f5e-45dc-8a32-9273640dd563",
   "metadata": {},
   "outputs": [],
   "source": [
    "from llama_index.core.agent.workflow import FunctionAgent\n",
    "from llama_index.llms.openai import OpenAI"
   ]
  },
  {
   "cell_type": "code",
   "execution_count": null,
   "id": "0db1b7de-9392-44ec-b46b-9fa6994a37d1",
   "metadata": {},
   "outputs": [],
   "source": [
    "from llama_index.tools.arxiv.base import ArxivToolSpec\n",
    "\n",
    "arxiv_tool = ArxivToolSpec()\n",
    "\n",
    "agent = FunctionAgent(\n",
    "    tools=arxiv_tool.to_tool_list(),\n",
    "    llm=OpenAI(model=\"gpt-4.1\")\n",
    ")\n",
    "\n",
    "print(await agent.run(\"Whats going on with the superconductor lk-99\"))"
   ]
  }
 ],
 "metadata": {
  "kernelspec": {
   "display_name": "Python 3 (ipykernel)",
   "language": "python",
   "name": "python3"
  },
  "language_info": {
   "codemirror_mode": {
    "name": "ipython",
    "version": 3
   },
   "file_extension": ".py",
   "mimetype": "text/x-python",
   "name": "python",
   "nbconvert_exporter": "python",
   "pygments_lexer": "ipython3"
  }
 },
 "nbformat": 4,
 "nbformat_minor": 5
}
