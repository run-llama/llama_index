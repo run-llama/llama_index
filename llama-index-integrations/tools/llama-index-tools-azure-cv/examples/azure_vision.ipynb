{
 "cells": [
  {
   "cell_type": "code",
   "execution_count": null,
   "id": "0bfbe389",
   "metadata": {},
   "outputs": [],
   "source": [
    "import os\n",
    "os.environ[\"OPENAI_API_KEY\"] = \"sk-proj-1234567890\""
   ]
  },
  {
   "cell_type": "code",
   "execution_count": null,
   "id": "34e66a0e-e41d-48e0-8a1f-b82b5ea18ad1",
   "metadata": {},
   "outputs": [],
   "source": [
    "from llama_index.core.agent.workflow import FunctionAgent\n",
    "from llama_index.llms.openai import OpenAI"
   ]
  },
  {
   "cell_type": "code",
   "execution_count": null,
   "id": "eb11c1a6-1540-4538-8d1a-bb8b265fdb64",
   "metadata": {},
   "outputs": [],
   "source": [
    "from llama_index.tools.azure_cv.base import AzureCVToolSpec\n",
    "\n",
    "cv_tool = AzureCVToolSpec(api_key=\"your-key\", resource=\"your-resource\")\n",
    "\n",
    "agent = FunctionAgent(\n",
    "    tools=cv_tool.to_tool_list(),\n",
    "    llm=OpenAI(model=\"gpt-4.1\")\n",
    ")\n",
    "\n",
    "print(\n",
    "    await agent.run(\n",
    "        \"caption this image and tell me what tags are in it\"\n",
    "        \" https://portal.vision.cognitive.azure.com/dist/assets/ImageCaptioningSample1-bbe41ac5.png\"\n",
    "    )\n",
    ")"
   ]
  }
 ],
 "metadata": {
  "kernelspec": {
   "display_name": "Python 3 (ipykernel)",
   "language": "python",
   "name": "python3"
  },
  "language_info": {
   "codemirror_mode": {
    "name": "ipython",
    "version": 3
   },
   "file_extension": ".py",
   "mimetype": "text/x-python",
   "name": "python",
   "nbconvert_exporter": "python",
   "pygments_lexer": "ipython3"
  }
 },
 "nbformat": 4,
 "nbformat_minor": 5
}
