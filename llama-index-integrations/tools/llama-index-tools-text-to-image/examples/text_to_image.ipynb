{
 "cells": [
  {
   "cell_type": "code",
   "execution_count": null,
   "id": "2cca91c9-119d-4fe3-82b0-4a03e81fcb14",
   "metadata": {},
   "outputs": [],
   "source": [
    "import os\n",
    "\n",
    "os.environ[\"OPENAI_API_KEY\"] = \"sk-...\"\n",
    "\n",
    "from llama_index.core.agent.workflow import FunctionAgent\n",
    "from llama_index.llms.openai import OpenAI"
   ]
  },
  {
   "cell_type": "code",
   "execution_count": null,
   "id": "628351bd-4055-49d6-9595-b77db168cb65",
   "metadata": {},
   "outputs": [],
   "source": [
    "# Import and initialize our tool spec\n",
    "from llama_index.tools.text_to_image.base import TextToImageToolSpec\n",
    "\n",
    "text_to_image_spec = TextToImageToolSpec()\n",
    "tools = text_to_image_spec.to_tool_list()\n",
    "\n",
    "# Create the Agent with our tools\n",
    "agent = FunctionAgent(\n",
    "    tools=tools,\n",
    "    llm=OpenAI(model=\"gpt-4.1\"),\n",
    ")\n",
    "\n",
    "from llama_index.core.workflow import Context\n",
    "\n",
    "ctx = Context(agent)"
   ]
  },
  {
   "cell_type": "code",
   "execution_count": null,
   "id": "0bbe2630-a0d6-484e-a75c-16bffded67dd",
   "metadata": {},
   "outputs": [],
   "source": [
    "print(await agent.run(\"show 2 images of a beautiful beach with a palm tree at sunset\", ctx=ctx))"
   ]
  },
  {
   "cell_type": "code",
   "execution_count": null,
   "id": "9199a288-861d-42db-9760-71fdda8506bc",
   "metadata": {},
   "outputs": [],
   "source": [
    "print(await agent.run(\"make the second image higher quality\", ctx=ctx))"
   ]
  }
 ],
 "metadata": {
  "kernelspec": {
   "display_name": "Python 3 (ipykernel)",
   "language": "python",
   "name": "python3"
  },
  "language_info": {
   "codemirror_mode": {
    "name": "ipython",
    "version": 3
   },
   "file_extension": ".py",
   "mimetype": "text/x-python",
   "name": "python",
   "nbconvert_exporter": "python",
   "pygments_lexer": "ipython3"
  }
 },
 "nbformat": 4,
 "nbformat_minor": 5
}
