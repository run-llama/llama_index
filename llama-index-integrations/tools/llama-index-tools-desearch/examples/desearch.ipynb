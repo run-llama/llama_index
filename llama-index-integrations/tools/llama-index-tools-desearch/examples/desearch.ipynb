{
 "cells": [
  {
   "cell_type": "markdown",
   "metadata": {},
   "source": [
    "# Desearch ToolSpace\n",
    "\n",
    "<a href=\"https://colab.research.google.com/github/run-llama/llama_index/blob/main/llama-index-integrations/tools/llama-index-tools-exa/examples/desearch.ipynb\" target=\"_parent\"><img src=\"https://colab.research.google.com/assets/colab-badge.svg\" alt=\"Open In Colab\"/></a>\n",
    "\n",
    "This tutorial walks through using the LLM tools provided by the [Desearch API](https://desearch.ai) to allow LLMs to use semantic queries to search for and retrieve rich web content from the internet.\n",
    "\n",
    "To get started, you will need an [Desearch API key](https://console.desearch.ai/api-keys)\n",
    "\n",
    "We will import the tools and pass them our keys here:"
   ]
  },
  {
   "cell_type": "code",
   "execution_count": null,
   "metadata": {},
   "outputs": [],
   "source": [
    "# # Install the relevant LlamaIndex packages, incl. core and Desearch tool\n",
    "!pip install llama-index llama-index-core llama-index-tools-desearch"
   ]
  },
  {
   "cell_type": "code",
   "execution_count": null,
   "metadata": {},
   "outputs": [],
   "source": [
    "from llama_index_desearch.tools import DesearchToolSpec\n",
    "import os\n",
    "\n",
    "# Instantiate\n",
    "desearch_tool = DesearchToolSpec(\n",
    "    api_key=os.environ[\"DESEARCH_API_KEY\"],\n",
    ")\n",
    "\n",
    "# Get the list of tools to see what Desearch offers\n",
    "exa_tool_list = desearch_tool.to_tool_list()\n",
    "for tool in exa_tool_list:\n",
    "    print(tool.metadata.name)"
   ]
  },
  {
   "cell_type": "markdown",
   "metadata": {},
   "source": [
    "ai_search_tool\n",
    "\n",
    "twitter_search_tool\n",
    "\n",
    "web_search_tool"
   ]
  },
  {
   "cell_type": "markdown",
   "metadata": {},
   "source": [
    "## Testing the Desearch tools\n",
    "\n",
    "We've imported our OpenAI agent, set up the API keys, and initialized our tool, checking the methods that it has available. Let's test out the tool before setting up our Agent.\n",
    "\n",
    "All of the Desearch search tools make use of the `AutoPrompt` option where Desearch will pass the query through an LLM to refine it in line with Desearch query best-practice."
   ]
  },
  {
   "cell_type": "markdown",
   "metadata": {},
   "source": [
    "The Desearch API allows you to perform AI-powered web searches, gathering relevant information from multiple sources, including web pages, research papers, and social media discussions."
   ]
  },
  {
   "cell_type": "code",
   "execution_count": null,
   "metadata": {},
   "outputs": [],
   "source": [
    "desearch_tool.ai_search_tool(\n",
    "    prompt=\"Bittensor\", \n",
    "    tool=[\"web\"], \n",
    "    model=\"NOVA\", \n",
    "    date_filter=\"PAST_24_HOURS\"\n",
    ")"
   ]
  },
  {
   "cell_type": "markdown",
   "metadata": {},
   "source": [
    "The X Search API enables users to retrieve relevant links and tweets based on specified search queries without utilizing AI-driven models. It analyzes links from X posts that align with the provided search criteria."
   ]
  },
  {
   "cell_type": "code",
   "execution_count": null,
   "metadata": {},
   "outputs": [],
   "source": [
    "desearch_tool.twitter_search_tool(\n",
    "    query=\"bittensor\", \n",
    "    sort=\"Top\", \n",
    "    count=20, \n",
    ")"
   ]
  },
  {
   "cell_type": "markdown",
   "metadata": {},
   "source": [
    "This API allows users to search for any information over the web. This replicates a typical search engine experience, where users can search for any information they need."
   ]
  },
  {
   "cell_type": "code",
   "execution_count": null,
   "metadata": {},
   "outputs": [],
   "source": [
    "desearch_tool.web_search_tool(\n",
    "    query=\"bittensor\", \n",
    "    num=10, \n",
    "    start=0, \n",
    ")"
   ]
  },
  {
   "cell_type": "markdown",
   "metadata": {},
   "source": [
    "## Creating the Agent\n",
    "\n",
    "We now are ready to create an Agent that can use Exa's services to their full potential. We will use our wrapped read and load tools, as well as the `get_date` utility for the following agent and test it out below:"
   ]
  },
  {
   "cell_type": "code",
   "execution_count": null,
   "metadata": {},
   "outputs": [],
   "source": [
    "# Just pass the wrapped tools and the get_date utility\n",
    "agent = OpenAIAgent.from_tools(\n",
    "    [*wrapped_retrieve.to_tool_list(), date_tool],\n",
    "    verbose=True,\n",
    ")"
   ]
  },
  {
   "cell_type": "code",
   "execution_count": null,
   "metadata": {},
   "outputs": [],
   "source": [
    "print(\n",
    "    agent.chat(\n",
    "        \"Can you summarize everything published in the last month regarding news on superconductors\"\n",
    "    )\n",
    ")"
   ]
  }
 ],
 "metadata": {
  "language_info": {
   "name": "python"
  }
 },
 "nbformat": 4,
 "nbformat_minor": 2
}
