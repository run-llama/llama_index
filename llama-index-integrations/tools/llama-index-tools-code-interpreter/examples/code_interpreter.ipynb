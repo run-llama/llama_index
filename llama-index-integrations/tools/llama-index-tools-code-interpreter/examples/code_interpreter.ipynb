{
 "cells": [
  {
   "cell_type": "code",
   "execution_count": null,
   "id": "81491dcf",
   "metadata": {},
   "outputs": [],
   "source": [
    "%pip install llama-index-agent-openai\n",
    "%pip install llama-index-llms-openai\n",
    "%pip install llama-index-tools-code-interpreter"
   ]
  },
  {
   "cell_type": "code",
   "execution_count": null,
   "id": "808c3a29",
   "metadata": {},
   "outputs": [],
   "source": [
    "!pip install llama-index"
   ]
  },
  {
   "cell_type": "code",
   "execution_count": null,
   "id": "5bd51289-b88e-4ed2-b652-3ad9949e62f6",
   "metadata": {},
   "outputs": [],
   "source": [
    "import os\n",
    "\n",
    "os.environ[\"OPENAI_API_KEY\"] = \"sk-...\"\n",
    "\n",
    "from llama_index.core.agent.workflow import FunctionAgent\n",
    "from llama_index.llms.openai import OpenAI"
   ]
  },
  {
   "cell_type": "code",
   "execution_count": null,
   "id": "7744f90f-ea51-42da-b8fb-f57e5e8ed410",
   "metadata": {},
   "outputs": [],
   "source": [
    "# Import and initialize our tool spec\n",
    "from llama_index.tools.code_interpreter.base import CodeInterpreterToolSpec\n",
    "\n",
    "code_spec = CodeInterpreterToolSpec()\n",
    "\n",
    "tools = code_spec.to_tool_list()\n",
    "\n",
    "# Create the Agent with our tools\n",
    "agent = FunctionAgent(\n",
    "    tools=tools,\n",
    "    llm=OpenAI(model=\"gpt-4.1\"),\n",
    ")\n",
    "\n",
    "# Context to store chat history\n",
    "from llama_index.core.workflow import Context\n",
    "ctx = Context(agent)"
   ]
  },
  {
   "cell_type": "code",
   "execution_count": null,
   "id": "c048da6f-1a04-444a-8028-ab0d80b7a232",
   "metadata": {},
   "outputs": [],
   "source": [
    "# Prime the Agent to use the tool\n",
    "print(\n",
    "    await agent.run(\n",
    "        \"Can you help me write some python code to pass to the code_interpreter tool\",\n",
    "        ctx=ctx\n",
    "    )\n",
    ")"
   ]
  },
  {
   "cell_type": "code",
   "execution_count": null,
   "id": "ea736eb8-1a40-43d1-ac40-332f2b74689a",
   "metadata": {},
   "outputs": [],
   "source": [
    "print(\n",
    "    await agent.run(\n",
    "        \"\"\"There is a world_happiness_2016.csv file in the `data` directory (relative path).\n",
    "                 Can you write and execute code to tell me columns does it have?\"\"\",\n",
    "        ctx=ctx,\n",
    "    )\n",
    ")"
   ]
  },
  {
   "cell_type": "code",
   "execution_count": null,
   "id": "b7aad761-51ff-4948-94c8-011eed201b78",
   "metadata": {},
   "outputs": [],
   "source": [
    "print(await agent.run(\"What are the top 10 happiest countries\", ctx=ctx))"
   ]
  },
  {
   "cell_type": "code",
   "execution_count": null,
   "id": "4ba99822-42d1-4599-b5d1-6e03362b87eb",
   "metadata": {},
   "outputs": [],
   "source": [
    "print(await agent.run(\"Can you make a graph of the top 10 happiest countries\", ctx=ctx))"
   ]
  },
  {
   "cell_type": "code",
   "execution_count": null,
   "id": "cfe26afe-f86d-4ec3-8197-63f8446df43a",
   "metadata": {},
   "outputs": [],
   "source": [
    "print(await agent.run(\"Can you make a graph of the top 10 happiest countries\", ctx=ctx))"
   ]
  },
  {
   "cell_type": "code",
   "execution_count": null,
   "id": "a6d48d83-4556-456d-ba7e-34406124c58b",
   "metadata": {},
   "outputs": [],
   "source": [
    "print(await agent.run(\"can you also plot the 10 lowest\", ctx=ctx))"
   ]
  },
  {
   "cell_type": "code",
   "execution_count": null,
   "id": "91ad753b-6c41-4c85-b59d-ff9b57507cc5",
   "metadata": {},
   "outputs": [],
   "source": [
    "print(await agent.run(\"can you do it in one plot\", ctx=ctx))"
   ]
  }
 ],
 "metadata": {
  "kernelspec": {
   "display_name": "llama_hub",
   "language": "python",
   "name": "llama_hub"
  },
  "language_info": {
   "codemirror_mode": {
    "name": "ipython",
    "version": 3
   },
   "file_extension": ".py",
   "mimetype": "text/x-python",
   "name": "python",
   "nbconvert_exporter": "python",
   "pygments_lexer": "ipython3"
  }
 },
 "nbformat": 4,
 "nbformat_minor": 5
}
