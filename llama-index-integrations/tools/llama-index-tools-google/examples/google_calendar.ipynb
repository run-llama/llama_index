{
 "cells": [
  {
   "cell_type": "code",
   "execution_count": null,
   "id": "6adf0011-2428-4ab2-b7ae-5e2fa4947de8",
   "metadata": {},
   "outputs": [],
   "source": [
    "# Setup OpenAI Agent\n",
    "import os \n",
    "\n",
    "os.environ[\"OPENAI_API_KEY\"] = \"sk-your-key\"\n",
    "\n",
    "from llama_index.core.agent.workflow import FunctionAgent\n",
    "from llama_index.llms.openai import OpenAI"
   ]
  },
  {
   "cell_type": "code",
   "execution_count": null,
   "id": "64277e2d-bfa0-483b-94ea-ef41e567e0cf",
   "metadata": {},
   "outputs": [],
   "source": [
    "# Import and initialize our tool spec\n",
    "from llama_index.tools.google_calendar.base import GoogleCalendarToolSpec\n",
    "\n",
    "tool_spec = GoogleCalendarToolSpec()"
   ]
  },
  {
   "cell_type": "code",
   "execution_count": null,
   "id": "a94c9c1f-bbf3-4ed0-a52f-a481ab8cbc01",
   "metadata": {},
   "outputs": [],
   "source": [
    "# Create the Agent with our tools\n",
    "agent = FunctionAgent(\n",
    "    tools=tool_spec.to_tool_list(), \n",
    "    llm=OpenAI(model=\"gpt-4.1\"),\n",
    ")\n",
    "\n",
    "# Context to store chat history\n",
    "from llama_index.core.workflow import Context\n",
    "ctx = Context(agent)"
   ]
  },
  {
   "cell_type": "code",
   "execution_count": null,
   "id": "d6615520-b4aa-4195-ab68-1446e021f6f0",
   "metadata": {},
   "outputs": [],
   "source": [
    "await agent.run(\"what is the first thing on my calendar today\", ctx=ctx)"
   ]
  },
  {
   "cell_type": "code",
   "execution_count": null,
   "id": "5992fd3e-060b-456d-b1b5-fccea95c5323",
   "metadata": {},
   "outputs": [],
   "source": [
    "await agent.run(\n",
    "    \"Please create an event for june 15th, 2023 at 5pm for 1 hour and invite\"\n",
    "    \" adam@example.com to discuss tax laws\",\n",
    "    ctx=ctx,\n",
    ")"
   ]
  }
 ],
 "metadata": {
  "kernelspec": {
   "display_name": "Python 3 (ipykernel)",
   "language": "python",
   "name": "python3"
  },
  "language_info": {
   "codemirror_mode": {
    "name": "ipython",
    "version": 3
   },
   "file_extension": ".py",
   "mimetype": "text/x-python",
   "name": "python",
   "nbconvert_exporter": "python",
   "pygments_lexer": "ipython3"
  }
 },
 "nbformat": 4,
 "nbformat_minor": 5
}
