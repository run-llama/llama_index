{
 "cells": [
  {
   "cell_type": "code",
   "execution_count": null,
   "id": "d96a87ee-465b-452e-89e4-8edf7742a9cf",
   "metadata": {},
   "outputs": [],
   "source": [
    "# Setup OpenAI Agent\n",
    "import os\n",
    "\n",
    "os.environ[\"OPENAI_API_KEY\"] = \"sk-your-key\"\n",
    "\n",
    "from llama_index.core.agent.workflow import FunctionAgent\n",
    "from llama_index.llms.openai import OpenAI"
   ]
  },
  {
   "cell_type": "code",
   "execution_count": null,
   "id": "0a8b5383-e780-45fa-9c18-9fd47954f43d",
   "metadata": {},
   "outputs": [],
   "source": [
    "# Import and initialize our tool spec\n",
    "from llama_index.tools.tool_spec.load_and_search.base import LoadAndSearchToolSpec\n",
    "from llama_index.tools.google_search.base import GoogleSearchToolSpec\n",
    "\n",
    "google_spec = GoogleSearchToolSpec(key=\"your-key\", engine=\"your-engine\")\n",
    "\n",
    "# Wrap the google search tool as it returns large payloads\n",
    "tools = LoadAndSearchToolSpec.from_defaults(\n",
    "    google_spec.to_tool_list()[0],\n",
    ").to_tool_list()"
   ]
  },
  {
   "cell_type": "code",
   "execution_count": null,
   "id": "c430b2cd-32be-4ca6-b907-f420c1f6c78c",
   "metadata": {},
   "outputs": [],
   "source": [
    "# Create the Agent with our tools\n",
    "agent = FunctionAgent(\n",
    "    tools=tools,\n",
    "    llm=OpenAI(model=\"gpt-4.1\"),\n",
    ")\n",
    "\n",
    "# Context to store chat history\n",
    "from llama_index.core.workflow import Context\n",
    "\n",
    "ctx = Context(agent)"
   ]
  },
  {
   "cell_type": "code",
   "execution_count": null,
   "id": "97378143-3ec9-4942-9e1b-15fbb8b4561d",
   "metadata": {},
   "outputs": [],
   "source": [
    "await agent.run(\"who is barack obama\", ctx=ctx)"
   ]
  },
  {
   "cell_type": "code",
   "execution_count": null,
   "id": "ee34c3fc-2d06-4d77-b489-9870d880b6ea",
   "metadata": {},
   "outputs": [],
   "source": [
    "await agent.run(\"when is the last time barrack obama visited michigan\", ctx=ctx)"
   ]
  },
  {
   "cell_type": "code",
   "execution_count": null,
   "id": "34b4a6c7-ab04-4505-bd6c-d1966cf85ee2",
   "metadata": {},
   "outputs": [],
   "source": [
    "await agent.run(\"when else did he visit michigan\", ctx=ctx)"
   ]
  },
  {
   "cell_type": "code",
   "execution_count": null,
   "id": "bfa4c600-b3dc-4847-b36e-5da1ba00763b",
   "metadata": {},
   "outputs": [],
   "source": [
    "await agent.run(\"what is his favourite sport\", ctx=ctx)"
   ]
  }
 ],
 "metadata": {
  "kernelspec": {
   "display_name": "Python 3 (ipykernel)",
   "language": "python",
   "name": "python3"
  },
  "language_info": {
   "codemirror_mode": {
    "name": "ipython",
    "version": 3
   },
   "file_extension": ".py",
   "mimetype": "text/x-python",
   "name": "python",
   "nbconvert_exporter": "python",
   "pygments_lexer": "ipython3"
  }
 },
 "nbformat": 4,
 "nbformat_minor": 5
}
