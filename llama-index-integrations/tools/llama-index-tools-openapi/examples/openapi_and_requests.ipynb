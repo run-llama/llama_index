{
 "cells": [
  {
   "cell_type": "code",
   "execution_count": null,
   "id": "1c0eb4ec-f2d1-4a56-9060-2f2cbc88b032",
   "metadata": {},
   "outputs": [],
   "source": [
    "# Setup OpenAI Agent\n",
    "import os\n",
    "\n",
    "os.environ[\"OPENAI_API_KEY\"] = \"sk-your-api-key\"\n",
    "\n",
    "from llama_index.core.agent.workflow import FunctionAgent\n",
    "from llama_index.llms.openai import OpenAI"
   ]
  },
  {
   "cell_type": "code",
   "execution_count": null,
   "id": "22894467-fe82-4d72-8055-f8b79f1dfb3b",
   "metadata": {},
   "outputs": [],
   "source": [
    "# Load the OpenAPI spec for OpenAI\n",
    "import requests\n",
    "import yaml\n",
    "\n",
    "f = requests.get(\n",
    "    \"https://raw.githubusercontent.com/APIs-guru/openapi-directory/main/APIs/openai.com/1.2.0/openapi.yaml\"\n",
    ").text\n",
    "open_api_spec = yaml.safe_load(f)"
   ]
  },
  {
   "cell_type": "code",
   "execution_count": null,
   "id": "33d92b77-5975-4d18-a1e8-15aa028a55f5",
   "metadata": {},
   "outputs": [],
   "source": [
    "from llama_index.tools.openapi.base import OpenAPIToolSpec\n",
    "from llama_index.tools.requests.base import RequestsToolSpec\n",
    "from llama_index.tools.tool_spec.load_and_search.base import LoadAndSearchToolSpec\n",
    "\n",
    "open_spec = OpenAPIToolSpec(open_api_spec)\n",
    "# OR\n",
    "open_spec = OpenAPIToolSpec(\n",
    "    url=\"https://raw.githubusercontent.com/APIs-guru/openapi-directory/main/APIs/openai.com/1.2.0/openapi.yaml\"\n",
    ")\n",
    "\n",
    "requests_spec = RequestsToolSpec(\n",
    "    {\n",
    "        \"api.openai.com\": {\n",
    "            \"Authorization\": \"Bearer sk-your-key\",\n",
    "            \"Content-Type\": \"application/json\",\n",
    "        }\n",
    "    }\n",
    ")\n",
    "\n",
    "# OpenAPI spec is too large for content, wrap the tool to separate loading and searching\n",
    "wrapped_tools = LoadAndSearchToolSpec.from_defaults(\n",
    "    open_spec.to_tool_list()[0],\n",
    ").to_tool_list()"
   ]
  },
  {
   "cell_type": "code",
   "execution_count": null,
   "id": "009b4690-c8d2-4139-a21c-7ad29e08cc69",
   "metadata": {},
   "outputs": [],
   "source": [
    "agent = FunctionAgent(\n",
    "    tools=[*wrapped_tools, *requests_spec.to_tool_list()], \n",
    "    llm=OpenAI(model=\"gpt-4.1\"),\n",
    ")"
   ]
  },
  {
   "cell_type": "code",
   "execution_count": null,
   "id": "d523593f-651c-4d16-ac14-2d08da1e3a76",
   "metadata": {},
   "outputs": [],
   "source": [
    "print(\n",
    "    await agent.run(\"what is the base url for the server\")\n",
    ")"
   ]
  },
  {
   "cell_type": "code",
   "execution_count": null,
   "id": "29c91dff-d9ce-40f4-9e05-31c16da5a9b1",
   "metadata": {},
   "outputs": [],
   "source": [
    "print(\n",
    "    await agent.run(\"what is the completions api\")\n",
    ")"
   ]
  },
  {
   "cell_type": "code",
   "execution_count": null,
   "id": "78edddac-0f6b-4f1e-b0ff-d4cfcc9e1886",
   "metadata": {},
   "outputs": [],
   "source": [
    "print(\n",
    "    await agent.run(\"ask the completions api for a joke\")\n",
    ")"
   ]
  }
 ],
 "metadata": {
  "kernelspec": {
   "display_name": "Python 3 (ipykernel)",
   "language": "python",
   "name": "python3"
  },
  "language_info": {
   "codemirror_mode": {
    "name": "ipython",
    "version": 3
   },
   "file_extension": ".py",
   "mimetype": "text/x-python",
   "name": "python",
   "nbconvert_exporter": "python",
   "pygments_lexer": "ipython3"
  }
 },
 "nbformat": 4,
 "nbformat_minor": 5
}
