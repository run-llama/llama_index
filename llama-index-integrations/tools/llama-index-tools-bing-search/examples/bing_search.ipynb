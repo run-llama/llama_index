{
 "cells": [
  {
   "cell_type": "code",
   "execution_count": null,
   "id": "474e35a3",
   "metadata": {},
   "outputs": [],
   "source": [
    "import os\n",
    "os.environ[\"OPENAI_API_KEY\"] = \"sk-proj-1234567890\""
   ]
  },
  {
   "cell_type": "code",
   "execution_count": null,
   "id": "a2408d6e-8e07-47e5-a7e3-daf3022a44de",
   "metadata": {},
   "outputs": [],
   "source": [
    "from llama_index.core.agent.workflow import FunctionAgent\n",
    "from llama_index.llms.openai import OpenAI"
   ]
  },
  {
   "cell_type": "code",
   "execution_count": null,
   "id": "3e91e13e-d7da-47d1-8122-5e11bb1b5a5a",
   "metadata": {},
   "outputs": [],
   "source": [
    "from llama_index.tools.bing_search.base import BingSearchToolSpec\n",
    "\n",
    "bing_tool = BingSearchToolSpec(api_key=\"your-key\")\n",
    "agent = FunctionAgent(\n",
    "    tools=bing_tool.to_tool_list(),\n",
    "    llm=OpenAI(model=\"gpt-4.1\"),\n",
    ")\n",
    "\n",
    "print(await agent.run(\"whats the latest news about superconductors\"))"
   ]
  }
 ],
 "metadata": {
  "kernelspec": {
   "display_name": "Python 3 (ipykernel)",
   "language": "python",
   "name": "python3"
  },
  "language_info": {
   "codemirror_mode": {
    "name": "ipython",
    "version": 3
   },
   "file_extension": ".py",
   "mimetype": "text/x-python",
   "name": "python",
   "nbconvert_exporter": "python",
   "pygments_lexer": "ipython3"
  }
 },
 "nbformat": 4,
 "nbformat_minor": 5
}
