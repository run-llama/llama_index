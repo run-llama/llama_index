{
 "cells": [
  {
   "cell_type": "markdown",
   "metadata": {},
   "source": [
    "# Airweave Tool Integration Example\n",
    "\n",
    "This notebook demonstrates how to use the Airweave tool integration with LlamaIndex.\n",
    "\n",
    "Airweave is an open-source platform that makes any app searchable by syncing data from various sources.\n"
   ]
  }
 ],
 "metadata": {
  "language_info": {
   "name": "python"
  }
 },
 "nbformat": 4,
 "nbformat_minor": 2
}
