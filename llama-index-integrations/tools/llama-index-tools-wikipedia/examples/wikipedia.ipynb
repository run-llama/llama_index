{
 "cells": [
  {
   "cell_type": "code",
   "execution_count": null,
   "id": "7ecae9a4-2927-47a2-ba0a-723ebb6dda96",
   "metadata": {},
   "outputs": [],
   "source": [
    "# Setup OpenAI Agent\n",
    "import os\n",
    "\n",
    "os.environ[\"OPENAI_API_KEY\"] = \"sk-your-key\""
   ]
  },
  {
   "cell_type": "code",
   "execution_count": null,
   "id": "a6f564f5-5c92-4ca7-8925-54989870deab",
   "metadata": {},
   "outputs": [],
   "source": [
    "# Import and initialize our tool spec\n",
    "from llama_index.tools.wikipedia.base import WikipediaToolSpec\n",
    "from llama_index.tools.tool_spec.load_and_search.base import LoadAndSearchToolSpec\n",
    "\n",
    "wiki_spec = WikipediaToolSpec()\n",
    "# Get the search wikipedia tool\n",
    "tool = wiki_spec.to_tool_list()[1]"
   ]
  },
  {
   "cell_type": "code",
   "execution_count": null,
   "id": "9137752b-bd7f-48bc-a401-f2f440ad2f49",
   "metadata": {},
   "outputs": [],
   "source": [
    "# Create the Agent with our tools\n",
    "from llama_index.core.agent.workflow import FunctionAgent\n",
    "from llama_index.llms.openai import OpenAI\n",
    "\n",
    "agent = FunctionAgent(\n",
    "    tools=LoadAndSearchToolSpec.from_defaults(tool).to_tool_list(),\n",
    "    llm=OpenAI(model=\"gpt-4.1\"),\n",
    ")\n",
    "\n",
    "# Create a context for the agent\n",
    "from llama_index.core.workflow import Context\n",
    "\n",
    "ctx = Context(agent)"
   ]
  },
  {
   "cell_type": "code",
   "execution_count": null,
   "id": "a8f7351a-9b53-4f80-9276-69b4a2aa6008",
   "metadata": {},
   "outputs": [],
   "source": [
    "print(await agent.run(\"what is the capital of poland\", ctx=ctx))"
   ]
  },
  {
   "cell_type": "code",
   "execution_count": null,
   "id": "888a8712-6712-472b-aca1-4b08acceb754",
   "metadata": {},
   "outputs": [],
   "source": [
    "print(await agent.run(\"how long has poland existed\", ctx=ctx))"
   ]
  },
  {
   "cell_type": "code",
   "execution_count": null,
   "id": "37155aa5-15d6-4335-9e6e-3a275556a463",
   "metadata": {},
   "outputs": [],
   "source": [
    "print(await agent.run(\"using information already loaded, how big is poland?\", ctx=ctx))"
   ]
  }
 ],
 "metadata": {
  "kernelspec": {
   "display_name": "Python 3 (ipykernel)",
   "language": "python",
   "name": "python3"
  },
  "language_info": {
   "codemirror_mode": {
    "name": "ipython",
    "version": 3
   },
   "file_extension": ".py",
   "mimetype": "text/x-python",
   "name": "python",
   "nbconvert_exporter": "python",
   "pygments_lexer": "ipython3"
  }
 },
 "nbformat": 4,
 "nbformat_minor": 5
}
