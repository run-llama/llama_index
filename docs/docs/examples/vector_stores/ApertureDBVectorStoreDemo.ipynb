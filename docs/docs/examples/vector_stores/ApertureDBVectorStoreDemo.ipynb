{
 "cells": [
  {
   "cell_type": "markdown",
   "id": "f8a38f4f",
   "metadata": {},
   "source": [
    "# ApertureDB as a Vector Store with LlamaIndex.\n",
    "\n",
    "**Note: This example assumes access to an ApertureDB instance, and available APERTUREDB_KEY. Sign up for a [free account](https://cloud.aperturedata.io/), or consider a [local installation](https://docs.aperturedata.io/Setup/server/Local).**\n",
    "\n",
    "This notebook has examples for using ApertureDB as a vector store, and use it to semantic search, within the LlamaIndex framework."
   ]
  },
  {
   "cell_type": "markdown",
   "id": "ef5ee3f6",
   "metadata": {},
   "source": [
    "### Install dependencies with pip\n"
   ]
  },
  {
   "cell_type": "code",
   "execution_count": null,
   "id": "31383d73",
   "metadata": {},
   "outputs": [],
   "source": [
    "%pip install llama-index llama-index-llms-openai llama-index-embeddings-openai llama-index-vector-stores-ApertureDB"
   ]
  },
  {
   "cell_type": "markdown",
   "id": "c9491c50",
   "metadata": {},
   "source": [
    "### Download the data"
   ]
  },
  {
   "cell_type": "code",
   "execution_count": null,
   "id": "a1d58685",
   "metadata": {},
   "outputs": [],
   "source": [
    "!mkdir -p 'data/paul_graham/'\n",
    "!wget 'https://raw.githubusercontent.com/run-llama/llama_index/main/docs/docs/examples/data/paul_graham/paul_graham_essay.txt' -O 'data/paul_graham/paul_graham_essay.txt'"
   ]
  },
  {
   "cell_type": "markdown",
   "id": "d4e9d2ca",
   "metadata": {},
   "source": [
    "### Import the dependencies"
   ]
  },
  {
   "cell_type": "code",
   "execution_count": null,
   "id": "a8af6dd9",
   "metadata": {},
   "outputs": [],
   "source": [
    "from llama_index.core import VectorStoreIndex, SimpleDirectoryReader\n",
    "from llama_index.core import StorageContext\n",
    "\n",
    "from llama_index.core.vector_stores import MetadataFilters\n",
    "from llama_index.core.graph_stores import SimpleGraphStore\n",
    "from llama_index.vector_stores.ApertureDB import ApertureDBVectorStore\n",
    "from llama_index.core import Document\n",
    "\n",
    "import logging\n",
    "\n",
    "logging.basicConfig(level=logging.ERROR)"
   ]
  },
  {
   "cell_type": "markdown",
   "id": "2d40188a",
   "metadata": {},
   "source": [
    "### Create ApertureDBVectorStore"
   ]
  },
  {
   "cell_type": "code",
   "execution_count": null,
   "id": "f49ae0af",
   "metadata": {},
   "outputs": [],
   "source": [
    "adb_vector_store = ApertureDBVectorStore(dimensions=1536)"
   ]
  },
  {
   "cell_type": "markdown",
   "id": "1664d740",
   "metadata": {},
   "source": [
    "### Add the data to the Vector Store.\n",
    "This needs to be done only once, and the generated embeddings and the metadata can be repeatedly queried."
   ]
  },
  {
   "cell_type": "code",
   "execution_count": null,
   "id": "07b5bbfa",
   "metadata": {},
   "outputs": [],
   "source": [
    "storage_context = StorageContext.from_defaults(\n",
    "    vector_store=adb_vector_store, graph_store=SimpleGraphStore()\n",
    ")\n",
    "\n",
    "documents: Document = SimpleDirectoryReader(\"./data/paul_graham/\").load_data()\n",
    "index: VectorStoreIndex = VectorStoreIndex.from_documents(\n",
    "    documents, storage_context=storage_context\n",
    ")"
   ]
  },
  {
   "cell_type": "markdown",
   "id": "7dcd9514",
   "metadata": {},
   "source": [
    "### Query the Vector Store with a pure Semantic search."
   ]
  },
  {
   "cell_type": "code",
   "execution_count": null,
   "id": "514dd11f",
   "metadata": {},
   "outputs": [
    {
     "name": "stdout",
     "output_type": "stream",
     "text": [
      "qs='What did the author do growing up?'\n",
      "response.response='The author worked on writing and programming before college.'\n",
      "============================================================\n",
      "qs='What did the author do after his time at Viaweb?'\n",
      "response.response='After his time at Viaweb, the author started working on a new project related to web applications. He had the idea to build a web app for making web apps and decided to move to Cambridge to start this new venture. Initially planning to start a company called Aspra, he eventually shifted focus and decided to work on a subset of the project that could be done as an open source project. This led him to work on a new dialect of Lisp called Arc, which he and his colleague began working on in a house he bought in Cambridge.'\n",
      "============================================================\n"
     ]
    }
   ],
   "source": [
    "index = VectorStoreIndex.from_vector_store(vector_store=adb_vector_store)\n",
    "\n",
    "query_engine = index.as_query_engine()\n",
    "\n",
    "\n",
    "def run_queries(query_engine):\n",
    "    query_str = [\n",
    "        \"What did the author do growing up?\",\n",
    "        \"What did the author do after his time at Viaweb?\",\n",
    "    ]\n",
    "    for qs in query_str:\n",
    "        response = query_engine.query(qs)\n",
    "        print(f\"{qs=}\")\n",
    "        print(f\"{response.response=}\")\n",
    "        print(\"===\" * 20)\n",
    "\n",
    "\n",
    "run_queries(query_engine)"
   ]
  },
  {
   "cell_type": "markdown",
   "id": "8b025ed6",
   "metadata": {},
   "source": [
    "## Search with filtering\n",
    "\n",
    "There may be cases and there may be a need to specify a filter based on the metadata, as it would lead to more accurate context for the LLM. LlamaIndex lets you specify these as conditions to apply in addition to the Natural Language based query.\n"
   ]
  },
  {
   "cell_type": "markdown",
   "id": "58bc6190",
   "metadata": {},
   "source": [
    "### Add documents with custom metadata\n",
    "\n",
    "Here, we insert documents with some important metadata, that would be used while querying."
   ]
  },
  {
   "cell_type": "code",
   "execution_count": null,
   "id": "b9aab5b5",
   "metadata": {},
   "outputs": [],
   "source": [
    "# Create another instance of the vector store with a different descriptor set\n",
    "adb_filterable_vector_store = ApertureDBVectorStore(\n",
    "    dimensions=1536, descriptor_set=\"filterbale_embeddings\"\n",
    ")\n",
    "\n",
    "# Create a new storage context with the filterable vector store\n",
    "storage_context = StorageContext.from_defaults(\n",
    "    vector_store=adb_filterable_vector_store, graph_store=SimpleGraphStore()\n",
    ")\n",
    "\n",
    "# We crereate a new index.\n",
    "documents = [\n",
    "    Document(\n",
    "        text=\"The band Van Halen was formed in 1973. The band was named after the Van Halen brothers, Eddie Van Halen and Alex Van Halen. They also had\"\n",
    "        \" a third member, David Lee Roth, who was the lead singer and Michael Anthony on the bass The band was known for their energetic performances and innovative guitar work.\",\n",
    "        metadata={\"members_start_year\": 1974, \"members_end_year\": 1985},\n",
    "    ),\n",
    "    Document(\n",
    "        text=\"Roth left the band in 1985 to pursue a solo career. He was replaced by Sammy Hagar, who had previously been the lead singer of the band Montrose. Hagar's\"\n",
    "        \" first album with Van Halen, 5150, was released in 1986 and was a commercial success. The band continued to release successful albums throughout the late 1980s and early 1990s.\",\n",
    "        metadata={\"members_start_year\": 1985, \"members_end_year\": 1996},\n",
    "    ),\n",
    "    Document(\n",
    "        text=\"Former extreme vocalist Gary Cherone replaced Hagar in 1996. The band released the album Van Halen III in 1998, which was not as successful as their previous albums. Cherone left the band in 1999.\",\n",
    "        metadata={\"members_start_year\": 1996, \"members_end_year\": 1999},\n",
    "    ),\n",
    "]\n",
    "\n",
    "index = VectorStoreIndex.from_documents(\n",
    "    documents, storage_context=storage_context\n",
    ")"
   ]
  },
  {
   "cell_type": "markdown",
   "id": "3de4c9ef",
   "metadata": {},
   "source": [
    "### Query engine with filter.\n",
    "\n",
    "Based on the previously applied metadata, the queries here run some extra filtering, which gets translated into corresponding DB queries in the Vector Store."
   ]
  },
  {
   "cell_type": "code",
   "execution_count": null,
   "id": "180a3cf1",
   "metadata": {},
   "outputs": [
    {
     "name": "stdout",
     "output_type": "stream",
     "text": [
      "constraints: {'all': {'lm_members_start_year': ['<', 1984]}}\n",
      "response.response='Eddie Van Halen, Alex Van Halen, David Lee Roth, Michael Anthony', len(response.source_nodes)=1\n",
      "i=0, source_node=NodeWithScore(node=TextNode(id_='c8db04ed-c671-457b-a46f-8669f2965566', embedding=None, metadata={'members_start_year': 1974, 'members_end_year': 1985}, excluded_embed_metadata_keys=[], excluded_llm_metadata_keys=[], relationships={<NodeRelationship.SOURCE: '1'>: RelatedNodeInfo(node_id='7f7c2ff7-81a3-4c56-9727-99e6dd651316', node_type='4', metadata={'members_start_year': 1974, 'members_end_year': 1985}, hash='42edbe1c3bfd0ab6a62b36433a35842d77a4d9c3529e71554903b90b9af752cf')}, metadata_template='{key}: {value}', metadata_separator='\\n', text='The band Van Halen was formed in 1973. The band was named after the Van Halen brothers, Eddie Van Halen and Alex Van Halen. They also had a third member, David Lee Roth, who was the lead singer and Michael Anthony on the bass The band was known for their energetic performances and innovative guitar work.', mimetype='text/plain', start_char_idx=0, end_char_idx=305, metadata_seperator='\\n', text_template='{metadata_str}\\n\\n{content}'), score=0.8595238924026489)\n",
      "constraints: {'all': {'lm_members_start_year': ['<', 1995]}}\n",
      "response.response='Eddie Van Halen, Alex Van Halen, David Lee Roth, Michael Anthony, Sammy Hagar', len(response.source_nodes)=2\n",
      "i=0, source_node=NodeWithScore(node=TextNode(id_='c8db04ed-c671-457b-a46f-8669f2965566', embedding=None, metadata={'members_start_year': 1974, 'members_end_year': 1985}, excluded_embed_metadata_keys=[], excluded_llm_metadata_keys=[], relationships={<NodeRelationship.SOURCE: '1'>: RelatedNodeInfo(node_id='7f7c2ff7-81a3-4c56-9727-99e6dd651316', node_type='4', metadata={'members_start_year': 1974, 'members_end_year': 1985}, hash='42edbe1c3bfd0ab6a62b36433a35842d77a4d9c3529e71554903b90b9af752cf')}, metadata_template='{key}: {value}', metadata_separator='\\n', text='The band Van Halen was formed in 1973. The band was named after the Van Halen brothers, Eddie Van Halen and Alex Van Halen. They also had a third member, David Lee Roth, who was the lead singer and Michael Anthony on the bass The band was known for their energetic performances and innovative guitar work.', mimetype='text/plain', start_char_idx=0, end_char_idx=305, metadata_seperator='\\n', text_template='{metadata_str}\\n\\n{content}'), score=0.8595238924026489)\n",
      "i=1, source_node=NodeWithScore(node=TextNode(id_='ba5f62a9-ca24-40a0-9df9-4cdf2face112', embedding=None, metadata={'members_start_year': 1985, 'members_end_year': 1996}, excluded_embed_metadata_keys=[], excluded_llm_metadata_keys=[], relationships={<NodeRelationship.SOURCE: '1'>: RelatedNodeInfo(node_id='e90ae355-d5cf-42c5-b806-ba16cca36533', node_type='4', metadata={'members_start_year': 1985, 'members_end_year': 1996}, hash='4227ea586ff12f5456020d263c53bc3aee3723b692a338437261338af3033a39')}, metadata_template='{key}: {value}', metadata_separator='\\n', text=\"Roth left the band in 1985 to pursue a solo career. He was replaced by Sammy Hagar, who had previously been the lead singer of the band Montrose. Hagar's first album with Van Halen, 5150, was released in 1986 and was a commercial success. The band continued to release successful albums throughout the late 1980s and early 1990s.\", mimetype='text/plain', start_char_idx=0, end_char_idx=329, metadata_seperator='\\n', text_template='{metadata_str}\\n\\n{content}'), score=0.8247531056404114)\n",
      "constraints: {'all': {'lm_members_start_year': ['<', 1998]}}\n",
      "response.response='Eddie Van Halen, Alex Van Halen, David Lee Roth, Michael Anthony, Sammy Hagar, Gary Cherone', len(response.source_nodes)=3\n",
      "i=0, source_node=NodeWithScore(node=TextNode(id_='c8db04ed-c671-457b-a46f-8669f2965566', embedding=None, metadata={'members_start_year': 1974, 'members_end_year': 1985}, excluded_embed_metadata_keys=[], excluded_llm_metadata_keys=[], relationships={<NodeRelationship.SOURCE: '1'>: RelatedNodeInfo(node_id='7f7c2ff7-81a3-4c56-9727-99e6dd651316', node_type='4', metadata={'members_start_year': 1974, 'members_end_year': 1985}, hash='42edbe1c3bfd0ab6a62b36433a35842d77a4d9c3529e71554903b90b9af752cf')}, metadata_template='{key}: {value}', metadata_separator='\\n', text='The band Van Halen was formed in 1973. The band was named after the Van Halen brothers, Eddie Van Halen and Alex Van Halen. They also had a third member, David Lee Roth, who was the lead singer and Michael Anthony on the bass The band was known for their energetic performances and innovative guitar work.', mimetype='text/plain', start_char_idx=0, end_char_idx=305, metadata_seperator='\\n', text_template='{metadata_str}\\n\\n{content}'), score=0.8595238924026489)\n",
      "i=1, source_node=NodeWithScore(node=TextNode(id_='ba5f62a9-ca24-40a0-9df9-4cdf2face112', embedding=None, metadata={'members_start_year': 1985, 'members_end_year': 1996}, excluded_embed_metadata_keys=[], excluded_llm_metadata_keys=[], relationships={<NodeRelationship.SOURCE: '1'>: RelatedNodeInfo(node_id='e90ae355-d5cf-42c5-b806-ba16cca36533', node_type='4', metadata={'members_start_year': 1985, 'members_end_year': 1996}, hash='4227ea586ff12f5456020d263c53bc3aee3723b692a338437261338af3033a39')}, metadata_template='{key}: {value}', metadata_separator='\\n', text=\"Roth left the band in 1985 to pursue a solo career. He was replaced by Sammy Hagar, who had previously been the lead singer of the band Montrose. Hagar's first album with Van Halen, 5150, was released in 1986 and was a commercial success. The band continued to release successful albums throughout the late 1980s and early 1990s.\", mimetype='text/plain', start_char_idx=0, end_char_idx=329, metadata_seperator='\\n', text_template='{metadata_str}\\n\\n{content}'), score=0.8247531056404114)\n",
      "i=2, source_node=NodeWithScore(node=TextNode(id_='7afb9c0f-d85e-44cb-b04d-0e75f89dac39', embedding=None, metadata={'members_start_year': 1996, 'members_end_year': 1999}, excluded_embed_metadata_keys=[], excluded_llm_metadata_keys=[], relationships={<NodeRelationship.SOURCE: '1'>: RelatedNodeInfo(node_id='b3382177-c9f7-4599-ba39-34ee662ff5ce', node_type='4', metadata={'members_start_year': 1996, 'members_end_year': 1999}, hash='94f9cf0ca6e2e7afc72c664d81a5acfe57f11142be1ad68c22371649ab9a2e45')}, metadata_template='{key}: {value}', metadata_separator='\\n', text='Former extreme vocalist Gary Cherone replaced Hagar in 1996. The band released the album Van Halen III in 1998, which was not as successful as their previous albums. Cherone left the band in 1999.', mimetype='text/plain', start_char_idx=0, end_char_idx=196, metadata_seperator='\\n', text_template='{metadata_str}\\n\\n{content}'), score=0.8231234550476074)\n"
     ]
    }
   ],
   "source": [
    "from llama_index.core.vector_stores.types import (\n",
    "    MetadataFilter,\n",
    "    FilterOperator,\n",
    "    FilterCondition,\n",
    ")\n",
    "\n",
    "adb_filterable_vector_store = ApertureDBVectorStore(\n",
    "    dimensions=1536, descriptor_set=\"filterbale_embeddings\"\n",
    ")\n",
    "\n",
    "index = VectorStoreIndex.from_vector_store(\n",
    "    vector_store=adb_filterable_vector_store\n",
    ")\n",
    "\n",
    "year_ranges = [(1974, 1985), (1985, 1996), (1996, 1999)]\n",
    "for start_year, end_year in year_ranges:\n",
    "    filters = MetadataFilters(\n",
    "        filters=[\n",
    "            MetadataFilter(\n",
    "                key=\"members_start_year\",\n",
    "                value=end_year - 1,\n",
    "                operator=FilterOperator.LT,\n",
    "            )\n",
    "        ],\n",
    "        condition=FilterCondition.AND,\n",
    "    )\n",
    "\n",
    "    query_engine = index.as_query_engine(filters=filters, similarity_top_k=3)\n",
    "    response = query_engine.query(\n",
    "        \"Who have been the members of Van Halen? Just list their names.\"\n",
    "    )\n",
    "\n",
    "    print(f\"{response.response=}, {len(response.source_nodes)=}\")\n",
    "    for i, source_node in enumerate(response.source_nodes):\n",
    "        print(f\"{i=}, {source_node=}\")"
   ]
  }
 ],
 "metadata": {
  "kernelspec": {
   "display_name": "llama_index",
   "language": "python",
   "name": "python3"
  },
  "language_info": {
   "codemirror_mode": {
    "name": "ipython",
    "version": 3
   },
   "file_extension": ".py",
   "mimetype": "text/x-python",
   "name": "python",
   "nbconvert_exporter": "python",
   "pygments_lexer": "ipython3"
  }
 },
 "nbformat": 4,
 "nbformat_minor": 5
}
