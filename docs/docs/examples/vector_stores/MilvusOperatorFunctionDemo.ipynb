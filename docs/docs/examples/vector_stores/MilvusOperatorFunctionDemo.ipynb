{
 "cells": [
  {
   "cell_type": "markdown",
   "metadata": {},
   "source": [
    "## Milvus Vector Store with Metadata Filtering\n",
    "\n",
    "The goal of this guide is to walk through the basics of how to utilize the LlamaIndex FilterOperatorFunctions to leverage the power of Milvus's advanced query cabability against hosted vector databases. For context on how these work, see Milvus's documentation:\n",
    "1. [Basic operators](https://docs.zilliz.com/docs/get-and-scalar-query#basic-operators)\n",
    "2. [JSON filtering](https://docs.zilliz.com/docs/use-json-fields)\n",
    "3. [Array filtering](https://docs.zilliz.com/docs/use-array-fields)\n",
    "\n",
    "This guide assumes a few things:\n",
    "1. You have a provisioned Milvus collection loaded into and hosted on a vector database\n",
    "2. You are running this example locally and have access to environment variables"
   ]
  },
  {
   "cell_type": "markdown",
   "metadata": {},
   "source": [
    "### Install Milvus and LlamaIndex dependencies"
   ]
  },
  {
   "cell_type": "code",
   "execution_count": null,
   "metadata": {},
   "outputs": [],
   "source": [
    "%pip install llama-index-vector-stores-milvus"
   ]
  },
  {
   "cell_type": "code",
   "execution_count": null,
   "metadata": {},
   "outputs": [],
   "source": [
    "! pip install llama-index"
   ]
  },
  {
   "cell_type": "markdown",
   "metadata": {},
   "source": [
    "### Build reused code\n",
    "- constants\n",
    "- function to demonstrate outputs"
   ]
  },
  {
   "cell_type": "code",
   "execution_count": null,
   "metadata": {},
   "outputs": [],
   "source": [
    "from llama_index.core.schema import QueryBundle\n",
    "\n",
    "top_k = 5\n",
    "key = \"product_codes\"\n",
    "\n",
    "\n",
    "def retrieve_and_print_results(retriever):\n",
    "    query_result = retriever.retrieve(\n",
    "        QueryBundle(\n",
    "            query_str=\"Explain non-refoulement.\", embedding=[0.0] * 3072\n",
    "        )\n",
    "    )\n",
    "    for node in query_result:\n",
    "        print(\n",
    "            f\"node id_: {node.id_}\\nmetadata: \\n\\tchapter id: {node.metadata['chapter_id']}\\n\\t{key}: {node.metadata[key]}\\n\"\n",
    "        )"
   ]
  },
  {
   "cell_type": "markdown",
   "metadata": {},
   "source": [
    "### Load .env variables and build the VectorStore/Index\n",
    "\n",
    "Provide the path to the variables if necessary (i.e. if running in a forked local repository)\n",
    "- If you'd rather provide the uri, token and collection info manually, do that in the next step and ignore the load_dotenv"
   ]
  },
  {
   "cell_type": "code",
   "execution_count": null,
   "metadata": {},
   "outputs": [],
   "source": [
    "from dotenv import load_dotenv\n",
    "\n",
    "load_dotenv(\"/path/to/your/.env\")"
   ]
  },
  {
   "cell_type": "code",
   "execution_count": null,
   "metadata": {},
   "outputs": [],
   "source": [
    "import os\n",
    "from llama_index.vector_stores.milvus import MilvusVectorStore\n",
    "from llama_index.core import VectorStoreIndex\n",
    "\n",
    "vector_store = MilvusVectorStore(\n",
    "    overwrite=False,\n",
    "    uri=os.getenv(\"MILVUS_URI\", \"xxx\"),\n",
    "    token=os.getenv(\"MILVUS_TOKEN\", \"yyy\"),\n",
    "    collection_name=os.getenv(\"MILVUS_COLLECTION\", \"zzz\"),\n",
    ")\n",
    "\n",
    "index = VectorStoreIndex.from_vector_store(vector_store=vector_store)"
   ]
  },
  {
   "cell_type": "markdown",
   "metadata": {},
   "source": [
    "### Run Queries\n",
    "\n",
    "#### Using a FilterOperatorFunction\n",
    "Assume that there is a metadata field called \"product_codes\" that contains an array of strings detailing certain product information. To filter the vector results down to only those tagged with \"code4\", use the `ARRAY_CONTAINS` function\n",
    "\n",
    "Build the `ScalarMetadataFilter` and `ScalarMetadataFilters` objects"
   ]
  },
  {
   "cell_type": "code",
   "execution_count": null,
   "metadata": {},
   "outputs": [],
   "source": [
    "from llama_index.vector_stores.milvus.utils import (\n",
    "    ScalarMetadataFilters,\n",
    "    ScalarMetadataFilter,\n",
    "    FilterOperatorFunction,\n",
    ")\n",
    "\n",
    "array_contains_scalar_filter = ScalarMetadataFilter(\n",
    "    key=key, value=\"code4\", operator=FilterOperatorFunction.ARRAY_CONTAINS\n",
    ")\n",
    "\n",
    "scalar_filters = ScalarMetadataFilters(filters=[array_contains_scalar_filter])\n",
    "\n",
    "retriever = index.as_retriever(\n",
    "    vector_store_kwargs={\"milvus_scalar_filters\": scalar_filters.to_dict()},\n",
    "    similarity_top_k=top_k,\n",
    ")\n",
    "\n",
    "retrieve_and_print_results(retriever)"
   ]
  },
  {
   "cell_type": "markdown",
   "metadata": {},
   "source": [
    "#### Execute the query and print the relevant information\n",
    "\n",
    "\n",
    "`ARRAY_CONTAINS(product_codes, \"code4\")`"
   ]
  },
  {
   "cell_type": "markdown",
   "metadata": {},
   "source": [
    "Example output:\n",
    "- Only contains nodes with metadata that matches the ARRAY_CONTAINS restriction\n",
    "\n",
    "```\n",
    "node id_: c_142236555_s_291254779-291254817\n",
    "metadata: \n",
    "\tchapter id: 142236555\n",
    "\tproduct_codes: ['code2', 'code9', 'code5', 'code4', 'code6']\n",
    "\n",
    "node id_: c_440696406_s_440696822-440696847\n",
    "metadata: \n",
    "\tchapter id: 440696406\n",
    "\tproduct_codes: ['code3', 'code2', 'code1', 'code4', 'code9', 'code5']\n",
    "\n",
    "node id_: c_440700190_s_440700206-440700218 \n",
    "metadata: \n",
    "\tchapter id: 440700190\n",
    "\tproduct_codes: ['code9', 'code7', 'code4', 'code2', 'code6']\n",
    "\n",
    "node id_: c_440763876_s_440763935-440763942\n",
    "metadata: \n",
    "\tchapter id: 440763876\n",
    "\tproduct_codes: ['code4', 'code8', 'code10']\n",
    "\n",
    "node id_: c_440885466_s_440885620-440885631\n",
    "metadata: \n",
    "\tchapter id: 440885466\n",
    "\tproduct_codes: ['code9', 'code5', 'code2', 'code4', 'code1']\n",
    "```"
   ]
  },
  {
   "cell_type": "markdown",
   "metadata": {},
   "source": [
    "#### Run a query using the FilterOperator.NIN enum to exclude some previous results\n",
    "\n",
    "\n",
    "`chapter_id not in [440885466, 440763876]`"
   ]
  },
  {
   "cell_type": "code",
   "execution_count": null,
   "metadata": {},
   "outputs": [],
   "source": [
    "from llama_index.core.vector_stores import (\n",
    "    MetadataFilters,\n",
    "    MetadataFilter,\n",
    "    FilterOperator,\n",
    ")\n",
    "\n",
    "not_in_metadata_filter = MetadataFilter(\n",
    "    key=\"chapter_id\", value=[440885466, 440763876], operator=FilterOperator.NIN\n",
    ")\n",
    "\n",
    "metadata_filters = MetadataFilters(filters=[not_in_metadata_filter])\n",
    "\n",
    "retriever = index.as_retriever(\n",
    "    filters=metadata_filters, similarity_top_k=top_k\n",
    ")\n",
    "\n",
    "retrieve_and_print_results(retriever)"
   ]
  },
  {
   "cell_type": "markdown",
   "metadata": {},
   "source": [
    "Example output:\n",
    "- Doesn't contain chapter ids 440885466 or 440763876\n",
    "- Contains results with product codes we would've excluded in the first query\n",
    "\n",
    "```\n",
    "node id_: c_440769025_s_440769040-440769053\n",
    "metadata: \n",
    "\tchapter id: 440769025\n",
    "\tproduct_codes: ['code3']\n",
    "\n",
    "node id_: c_441155692_s_441155856-441155752\n",
    "metadata: \n",
    "\tchapter id: 441155692\n",
    "\tproduct_codes: ['code9', 'code1']\n",
    "\n",
    "node id_: c_142236555_s_291254779-291254817\n",
    "metadata: \n",
    "\tchapter id: 142236555\n",
    "\tproduct_codes: ['code2', 'code9', 'code5', 'code4', 'code6']\n",
    "\n",
    "node id_: c_441156096_s_441156098-441156102\n",
    "metadata: \n",
    "\tchapter id: 441156096\n",
    "\tproduct_codes: ['code3', 'code8', 'code5']\n",
    "\n",
    "node id_: c_444354779_s_444354787-444354792\n",
    "metadata: \n",
    "\tchapter id: 444354779\n",
    "\tproduct_codes: ['code3', 'code5', 'code10', 'code1']\n",
    "```\n",
    "\n"
   ]
  },
  {
   "cell_type": "markdown",
   "metadata": {},
   "source": [
    "#### Combine the two query conditions into a single query call\n",
    "\n",
    "`ARRAY_CONTAINS(product_codes, \"code4\") and chapter_id not in [440885466, 440763876]`"
   ]
  },
  {
   "cell_type": "code",
   "execution_count": null,
   "metadata": {},
   "outputs": [],
   "source": [
    "retriever = index.as_retriever(\n",
    "    filters=metadata_filters,\n",
    "    vector_store_kwargs={\"milvus_scalar_filters\": scalar_filters.to_dict()},\n",
    "    similarity_top_k=top_k,\n",
    ")\n",
    "\n",
    "retrieve_and_print_results(retriever)"
   ]
  },
  {
   "cell_type": "markdown",
   "metadata": {},
   "source": [
    "Example output:\n",
    "- Doesn't contain chapter ids 440885466 or 440763876\n",
    "- Only contains results that match the ARRAY_CONTAINS restriction\n",
    "\n",
    "```\n",
    "node id_: c_142236555_s_291254779-291254817\n",
    "metadata: \n",
    "\tchapter id: 142236555\n",
    "\tproduct_codes['code2', 'code9', 'code5', 'code4', 'code6']\n",
    "\n",
    "node id_: c_361386932_s_361386982-361387025\n",
    "metadata: \n",
    "\tchapter id: 361386932\n",
    "\tproduct_codes['code4']\n",
    "\n",
    "node id_: c_361386932_s_361387000-361387179\n",
    "metadata: \n",
    "\tchapter id: 361386932\n",
    "\tproduct_codes['code4']\n",
    "\n",
    "node id_: c_361386932_s_361387026-361387053\n",
    "metadata: \n",
    "\tchapter id: 361386932\n",
    "\tproduct_codes['code4']\n",
    "\n",
    "node id_: c_361384286_s_361384359-361384367\n",
    "metadata: \n",
    "\tchapter id: 361384286\n",
    "\tproduct_codes['code4', 'code2', 'code9']"
   ]
  }
 ],
 "metadata": {
  "kernelspec": {
   "display_name": "Python 3 (ipykernel)",
   "language": "python",
   "name": "python3"
  },
  "language_info": {
   "codemirror_mode": {
    "name": "ipython",
    "version": 3
   },
   "file_extension": ".py",
   "mimetype": "text/x-python",
   "name": "python",
   "nbconvert_exporter": "python",
   "pygments_lexer": "ipython3"
  }
 },
 "nbformat": 4,
 "nbformat_minor": 2
}
