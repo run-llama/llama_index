{
 "cells": [
  {
   "cell_type": "markdown",
   "id": "7f7c3284",
   "metadata": {},
   "source": [
    "<a href=\"https://colab.research.google.com/github/run-llama/llama_index/blob/main/docs/docs/examples/llm/vercel-ai-gateway.ipynb\" target=\"_parent\"><img src=\"https://colab.research.google.com/assets/colab-badge.svg\" alt=\"Open In Colab\"/></a>"
   ]
  },
  {
   "cell_type": "markdown",
   "id": "3a07f0af-6f8b-4a4e-a984-5f0f161dd0c3",
   "metadata": {},
   "source": [
    "# Vercel AI Gateway"
   ]
  },
  {
   "cell_type": "markdown",
   "id": "dc0d66a7",
   "metadata": {},
   "source": [
    "The AI Gateway is a proxy service from Vercel that routes model requests to various AI providers. It offers a unified API to multiple providers and gives you the ability to set budgets, monitor usage, load-balance requests, and manage fallbacks. You can find out more from their [docs](https://vercel.com/docs/ai-gateway)\n",
    "\n",
    "If you're opening this Notebook on colab, you will probably need to install LlamaIndex 🦙."
   ]
  },
  {
   "cell_type": "code",
   "execution_count": null,
   "id": "9ddc8c84",
   "metadata": {},
   "outputs": [
    {
     "name": "stdout",
     "output_type": "stream",
     "text": [
      "Defaulting to user installation because normal site-packages is not writeable\n",
      "Requirement already satisfied: llama-index-llms-vercel-ai-gateway in /Users/joshlipman/Library/Python/3.9/lib/python/site-packages (0.3.2)\n",
      "Requirement already satisfied: llama-index-core<0.13,>=0.12.0 in /Users/joshlipman/Library/Python/3.9/lib/python/site-packages (from llama-index-llms-vercel-ai-gateway) (0.12.52.post1)\n",
      "Requirement already satisfied: llama-index-llms-openai-like<0.5,>=0.4.0 in /Users/joshlipman/Library/Python/3.9/lib/python/site-packages (from llama-index-llms-vercel-ai-gateway) (0.4.0)\n",
      "Requirement already satisfied: aiohttp<4,>=3.8.6 in /Users/joshlipman/Library/Python/3.9/lib/python/site-packages (from llama-index-core<0.13,>=0.12.0->llama-index-llms-vercel-ai-gateway) (3.12.14)\n",
      "Requirement already satisfied: aiosqlite in /Users/joshlipman/Library/Python/3.9/lib/python/site-packages (from llama-index-core<0.13,>=0.12.0->llama-index-llms-vercel-ai-gateway) (0.21.0)\n",
      "Requirement already satisfied: banks<3,>=2.2.0 in /Users/joshlipman/Library/Python/3.9/lib/python/site-packages (from llama-index-core<0.13,>=0.12.0->llama-index-llms-vercel-ai-gateway) (2.2.0)\n",
      "Requirement already satisfied: dataclasses-json in /Users/joshlipman/Library/Python/3.9/lib/python/site-packages (from llama-index-core<0.13,>=0.12.0->llama-index-llms-vercel-ai-gateway) (0.6.7)\n",
      "Requirement already satisfied: deprecated>=1.2.9.3 in /Users/joshlipman/Library/Python/3.9/lib/python/site-packages (from llama-index-core<0.13,>=0.12.0->llama-index-llms-vercel-ai-gateway) (1.2.18)\n",
      "Requirement already satisfied: dirtyjson<2,>=1.0.8 in /Users/joshlipman/Library/Python/3.9/lib/python/site-packages (from llama-index-core<0.13,>=0.12.0->llama-index-llms-vercel-ai-gateway) (1.0.8)\n",
      "Requirement already satisfied: eval-type-backport<0.3,>=0.2.0 in /Users/joshlipman/Library/Python/3.9/lib/python/site-packages (from llama-index-core<0.13,>=0.12.0->llama-index-llms-vercel-ai-gateway) (0.2.2)\n",
      "Requirement already satisfied: filetype<2,>=1.2.0 in /Users/joshlipman/Library/Python/3.9/lib/python/site-packages (from llama-index-core<0.13,>=0.12.0->llama-index-llms-vercel-ai-gateway) (1.2.0)\n",
      "Requirement already satisfied: fsspec>=2023.5.0 in /Users/joshlipman/Library/Python/3.9/lib/python/site-packages (from llama-index-core<0.13,>=0.12.0->llama-index-llms-vercel-ai-gateway) (2025.7.0)\n",
      "Requirement already satisfied: httpx in /Users/joshlipman/Library/Python/3.9/lib/python/site-packages (from llama-index-core<0.13,>=0.12.0->llama-index-llms-vercel-ai-gateway) (0.28.1)\n",
      "Requirement already satisfied: llama-index-workflows<2,>=1.0.1 in /Users/joshlipman/Library/Python/3.9/lib/python/site-packages (from llama-index-core<0.13,>=0.12.0->llama-index-llms-vercel-ai-gateway) (1.2.0)\n",
      "Requirement already satisfied: nest-asyncio<2,>=1.5.8 in /Users/joshlipman/Library/Python/3.9/lib/python/site-packages (from llama-index-core<0.13,>=0.12.0->llama-index-llms-vercel-ai-gateway) (1.6.0)\n",
      "Requirement already satisfied: networkx>=3.0 in /Users/joshlipman/Library/Python/3.9/lib/python/site-packages (from llama-index-core<0.13,>=0.12.0->llama-index-llms-vercel-ai-gateway) (3.2.1)\n",
      "Requirement already satisfied: nltk>3.8.1 in /Users/joshlipman/Library/Python/3.9/lib/python/site-packages (from llama-index-core<0.13,>=0.12.0->llama-index-llms-vercel-ai-gateway) (3.9.1)\n",
      "Requirement already satisfied: numpy in /Users/joshlipman/Library/Python/3.9/lib/python/site-packages (from llama-index-core<0.13,>=0.12.0->llama-index-llms-vercel-ai-gateway) (2.0.2)\n",
      "Requirement already satisfied: pillow>=9.0.0 in /Users/joshlipman/Library/Python/3.9/lib/python/site-packages (from llama-index-core<0.13,>=0.12.0->llama-index-llms-vercel-ai-gateway) (11.3.0)\n",
      "Requirement already satisfied: platformdirs in /Users/joshlipman/Library/Python/3.9/lib/python/site-packages (from llama-index-core<0.13,>=0.12.0->llama-index-llms-vercel-ai-gateway) (4.3.8)\n",
      "Requirement already satisfied: pydantic>=2.8.0 in /Users/joshlipman/Library/Python/3.9/lib/python/site-packages (from llama-index-core<0.13,>=0.12.0->llama-index-llms-vercel-ai-gateway) (2.11.7)\n",
      "Requirement already satisfied: pyyaml>=6.0.1 in /Users/joshlipman/Library/Python/3.9/lib/python/site-packages (from llama-index-core<0.13,>=0.12.0->llama-index-llms-vercel-ai-gateway) (6.0.2)\n",
      "Requirement already satisfied: requests>=2.31.0 in /Users/joshlipman/Library/Python/3.9/lib/python/site-packages (from llama-index-core<0.13,>=0.12.0->llama-index-llms-vercel-ai-gateway) (2.32.4)\n",
      "Requirement already satisfied: setuptools>=80.9.0 in /Users/joshlipman/Library/Python/3.9/lib/python/site-packages (from llama-index-core<0.13,>=0.12.0->llama-index-llms-vercel-ai-gateway) (80.9.0)\n",
      "Requirement already satisfied: sqlalchemy>=1.4.49 in /Users/joshlipman/Library/Python/3.9/lib/python/site-packages (from sqlalchemy[asyncio]>=1.4.49->llama-index-core<0.13,>=0.12.0->llama-index-llms-vercel-ai-gateway) (2.0.41)\n",
      "Requirement already satisfied: tenacity!=8.4.0,<10.0.0,>=8.2.0 in /Users/joshlipman/Library/Python/3.9/lib/python/site-packages (from llama-index-core<0.13,>=0.12.0->llama-index-llms-vercel-ai-gateway) (8.5.0)\n",
      "Requirement already satisfied: tiktoken>=0.7.0 in /Users/joshlipman/Library/Python/3.9/lib/python/site-packages (from llama-index-core<0.13,>=0.12.0->llama-index-llms-vercel-ai-gateway) (0.9.0)\n",
      "Requirement already satisfied: tqdm<5,>=4.66.1 in /Users/joshlipman/Library/Python/3.9/lib/python/site-packages (from llama-index-core<0.13,>=0.12.0->llama-index-llms-vercel-ai-gateway) (4.67.1)\n",
      "Requirement already satisfied: typing-extensions>=4.5.0 in /Users/joshlipman/Library/Python/3.9/lib/python/site-packages (from llama-index-core<0.13,>=0.12.0->llama-index-llms-vercel-ai-gateway) (4.14.1)\n",
      "Requirement already satisfied: typing-inspect>=0.8.0 in /Users/joshlipman/Library/Python/3.9/lib/python/site-packages (from llama-index-core<0.13,>=0.12.0->llama-index-llms-vercel-ai-gateway) (0.9.0)\n",
      "Requirement already satisfied: wrapt in /Users/joshlipman/Library/Python/3.9/lib/python/site-packages (from llama-index-core<0.13,>=0.12.0->llama-index-llms-vercel-ai-gateway) (1.17.2)\n",
      "Requirement already satisfied: aiohappyeyeballs>=2.5.0 in /Users/joshlipman/Library/Python/3.9/lib/python/site-packages (from aiohttp<4,>=3.8.6->llama-index-core<0.13,>=0.12.0->llama-index-llms-vercel-ai-gateway) (2.6.1)\n",
      "Requirement already satisfied: aiosignal>=1.4.0 in /Users/joshlipman/Library/Python/3.9/lib/python/site-packages (from aiohttp<4,>=3.8.6->llama-index-core<0.13,>=0.12.0->llama-index-llms-vercel-ai-gateway) (1.4.0)\n",
      "Requirement already satisfied: async-timeout<6.0,>=4.0 in /Users/joshlipman/Library/Python/3.9/lib/python/site-packages (from aiohttp<4,>=3.8.6->llama-index-core<0.13,>=0.12.0->llama-index-llms-vercel-ai-gateway) (5.0.1)\n",
      "Requirement already satisfied: attrs>=17.3.0 in /Users/joshlipman/Library/Python/3.9/lib/python/site-packages (from aiohttp<4,>=3.8.6->llama-index-core<0.13,>=0.12.0->llama-index-llms-vercel-ai-gateway) (25.3.0)\n",
      "Requirement already satisfied: frozenlist>=1.1.1 in /Users/joshlipman/Library/Python/3.9/lib/python/site-packages (from aiohttp<4,>=3.8.6->llama-index-core<0.13,>=0.12.0->llama-index-llms-vercel-ai-gateway) (1.7.0)\n",
      "Requirement already satisfied: multidict<7.0,>=4.5 in /Users/joshlipman/Library/Python/3.9/lib/python/site-packages (from aiohttp<4,>=3.8.6->llama-index-core<0.13,>=0.12.0->llama-index-llms-vercel-ai-gateway) (6.6.3)\n",
      "Requirement already satisfied: propcache>=0.2.0 in /Users/joshlipman/Library/Python/3.9/lib/python/site-packages (from aiohttp<4,>=3.8.6->llama-index-core<0.13,>=0.12.0->llama-index-llms-vercel-ai-gateway) (0.3.2)\n",
      "Requirement already satisfied: yarl<2.0,>=1.17.0 in /Users/joshlipman/Library/Python/3.9/lib/python/site-packages (from aiohttp<4,>=3.8.6->llama-index-core<0.13,>=0.12.0->llama-index-llms-vercel-ai-gateway) (1.20.1)\n",
      "Requirement already satisfied: griffe in /Users/joshlipman/Library/Python/3.9/lib/python/site-packages (from banks<3,>=2.2.0->llama-index-core<0.13,>=0.12.0->llama-index-llms-vercel-ai-gateway) (1.7.3)\n",
      "Requirement already satisfied: jinja2 in /Users/joshlipman/Library/Python/3.9/lib/python/site-packages (from banks<3,>=2.2.0->llama-index-core<0.13,>=0.12.0->llama-index-llms-vercel-ai-gateway) (3.1.6)\n",
      "Requirement already satisfied: llama-index-llms-openai<0.5,>=0.4.0 in /Users/joshlipman/Library/Python/3.9/lib/python/site-packages (from llama-index-llms-openai-like<0.5,>=0.4.0->llama-index-llms-vercel-ai-gateway) (0.4.7)\n",
      "Requirement already satisfied: transformers<5,>=4.37.0 in /Users/joshlipman/Library/Python/3.9/lib/python/site-packages (from llama-index-llms-openai-like<0.5,>=0.4.0->llama-index-llms-vercel-ai-gateway) (4.54.0)\n",
      "Requirement already satisfied: openai<2,>=1.81.0 in /Users/joshlipman/Library/Python/3.9/lib/python/site-packages (from llama-index-llms-openai<0.5,>=0.4.0->llama-index-llms-openai-like<0.5,>=0.4.0->llama-index-llms-vercel-ai-gateway) (1.95.1)\n",
      "Requirement already satisfied: llama-index-instrumentation>=0.1.0 in /Users/joshlipman/Library/Python/3.9/lib/python/site-packages (from llama-index-workflows<2,>=1.0.1->llama-index-core<0.13,>=0.12.0->llama-index-llms-vercel-ai-gateway) (0.3.0)\n",
      "Requirement already satisfied: anyio<5,>=3.5.0 in /Users/joshlipman/Library/Python/3.9/lib/python/site-packages (from openai<2,>=1.81.0->llama-index-llms-openai<0.5,>=0.4.0->llama-index-llms-openai-like<0.5,>=0.4.0->llama-index-llms-vercel-ai-gateway) (4.9.0)\n",
      "Requirement already satisfied: distro<2,>=1.7.0 in /Users/joshlipman/Library/Python/3.9/lib/python/site-packages (from openai<2,>=1.81.0->llama-index-llms-openai<0.5,>=0.4.0->llama-index-llms-openai-like<0.5,>=0.4.0->llama-index-llms-vercel-ai-gateway) (1.9.0)\n",
      "Requirement already satisfied: jiter<1,>=0.4.0 in /Users/joshlipman/Library/Python/3.9/lib/python/site-packages (from openai<2,>=1.81.0->llama-index-llms-openai<0.5,>=0.4.0->llama-index-llms-openai-like<0.5,>=0.4.0->llama-index-llms-vercel-ai-gateway) (0.10.0)\n",
      "Requirement already satisfied: sniffio in /Users/joshlipman/Library/Python/3.9/lib/python/site-packages (from openai<2,>=1.81.0->llama-index-llms-openai<0.5,>=0.4.0->llama-index-llms-openai-like<0.5,>=0.4.0->llama-index-llms-vercel-ai-gateway) (1.3.1)\n",
      "Requirement already satisfied: exceptiongroup>=1.0.2 in /Users/joshlipman/Library/Python/3.9/lib/python/site-packages (from anyio<5,>=3.5.0->openai<2,>=1.81.0->llama-index-llms-openai<0.5,>=0.4.0->llama-index-llms-openai-like<0.5,>=0.4.0->llama-index-llms-vercel-ai-gateway) (1.3.0)\n",
      "Requirement already satisfied: idna>=2.8 in /Users/joshlipman/Library/Python/3.9/lib/python/site-packages (from anyio<5,>=3.5.0->openai<2,>=1.81.0->llama-index-llms-openai<0.5,>=0.4.0->llama-index-llms-openai-like<0.5,>=0.4.0->llama-index-llms-vercel-ai-gateway) (3.10)\n",
      "Requirement already satisfied: certifi in /Users/joshlipman/Library/Python/3.9/lib/python/site-packages (from httpx->llama-index-core<0.13,>=0.12.0->llama-index-llms-vercel-ai-gateway) (2025.7.14)\n",
      "Requirement already satisfied: httpcore==1.* in /Users/joshlipman/Library/Python/3.9/lib/python/site-packages (from httpx->llama-index-core<0.13,>=0.12.0->llama-index-llms-vercel-ai-gateway) (1.0.9)\n",
      "Requirement already satisfied: h11>=0.16 in /Users/joshlipman/Library/Python/3.9/lib/python/site-packages (from httpcore==1.*->httpx->llama-index-core<0.13,>=0.12.0->llama-index-llms-vercel-ai-gateway) (0.16.0)\n",
      "Requirement already satisfied: annotated-types>=0.6.0 in /Users/joshlipman/Library/Python/3.9/lib/python/site-packages (from pydantic>=2.8.0->llama-index-core<0.13,>=0.12.0->llama-index-llms-vercel-ai-gateway) (0.7.0)\n",
      "Requirement already satisfied: pydantic-core==2.33.2 in /Users/joshlipman/Library/Python/3.9/lib/python/site-packages (from pydantic>=2.8.0->llama-index-core<0.13,>=0.12.0->llama-index-llms-vercel-ai-gateway) (2.33.2)\n",
      "Requirement already satisfied: typing-inspection>=0.4.0 in /Users/joshlipman/Library/Python/3.9/lib/python/site-packages (from pydantic>=2.8.0->llama-index-core<0.13,>=0.12.0->llama-index-llms-vercel-ai-gateway) (0.4.1)\n",
      "Requirement already satisfied: filelock in /Users/joshlipman/Library/Python/3.9/lib/python/site-packages (from transformers<5,>=4.37.0->llama-index-llms-openai-like<0.5,>=0.4.0->llama-index-llms-vercel-ai-gateway) (3.18.0)\n",
      "Requirement already satisfied: huggingface-hub<1.0,>=0.34.0 in /Users/joshlipman/Library/Python/3.9/lib/python/site-packages (from transformers<5,>=4.37.0->llama-index-llms-openai-like<0.5,>=0.4.0->llama-index-llms-vercel-ai-gateway) (0.34.1)\n",
      "Requirement already satisfied: packaging>=20.0 in /Users/joshlipman/Library/Python/3.9/lib/python/site-packages (from transformers<5,>=4.37.0->llama-index-llms-openai-like<0.5,>=0.4.0->llama-index-llms-vercel-ai-gateway) (24.2)\n",
      "Requirement already satisfied: regex!=2019.12.17 in /Users/joshlipman/Library/Python/3.9/lib/python/site-packages (from transformers<5,>=4.37.0->llama-index-llms-openai-like<0.5,>=0.4.0->llama-index-llms-vercel-ai-gateway) (2024.11.6)\n",
      "Requirement already satisfied: tokenizers<0.22,>=0.21 in /Users/joshlipman/Library/Python/3.9/lib/python/site-packages (from transformers<5,>=4.37.0->llama-index-llms-openai-like<0.5,>=0.4.0->llama-index-llms-vercel-ai-gateway) (0.21.2)\n",
      "Requirement already satisfied: safetensors>=0.4.3 in /Users/joshlipman/Library/Python/3.9/lib/python/site-packages (from transformers<5,>=4.37.0->llama-index-llms-openai-like<0.5,>=0.4.0->llama-index-llms-vercel-ai-gateway) (0.5.3)\n",
      "Requirement already satisfied: hf-xet<2.0.0,>=1.1.3 in /Users/joshlipman/Library/Python/3.9/lib/python/site-packages (from huggingface-hub<1.0,>=0.34.0->transformers<5,>=4.37.0->llama-index-llms-openai-like<0.5,>=0.4.0->llama-index-llms-vercel-ai-gateway) (1.1.5)\n",
      "Requirement already satisfied: click in /Users/joshlipman/Library/Python/3.9/lib/python/site-packages (from nltk>3.8.1->llama-index-core<0.13,>=0.12.0->llama-index-llms-vercel-ai-gateway) (8.1.8)\n",
      "Requirement already satisfied: joblib in /Users/joshlipman/Library/Python/3.9/lib/python/site-packages (from nltk>3.8.1->llama-index-core<0.13,>=0.12.0->llama-index-llms-vercel-ai-gateway) (1.5.1)\n",
      "Requirement already satisfied: charset_normalizer<4,>=2 in /Users/joshlipman/Library/Python/3.9/lib/python/site-packages (from requests>=2.31.0->llama-index-core<0.13,>=0.12.0->llama-index-llms-vercel-ai-gateway) (3.4.2)\n",
      "Requirement already satisfied: urllib3<3,>=1.21.1 in /Users/joshlipman/Library/Python/3.9/lib/python/site-packages (from requests>=2.31.0->llama-index-core<0.13,>=0.12.0->llama-index-llms-vercel-ai-gateway) (1.26.20)\n",
      "Requirement already satisfied: greenlet>=1 in /Users/joshlipman/Library/Python/3.9/lib/python/site-packages (from sqlalchemy[asyncio]>=1.4.49->llama-index-core<0.13,>=0.12.0->llama-index-llms-vercel-ai-gateway) (3.2.3)\n",
      "Requirement already satisfied: mypy-extensions>=0.3.0 in /Users/joshlipman/Library/Python/3.9/lib/python/site-packages (from typing-inspect>=0.8.0->llama-index-core<0.13,>=0.12.0->llama-index-llms-vercel-ai-gateway) (1.1.0)\n",
      "Requirement already satisfied: marshmallow<4.0.0,>=3.18.0 in /Users/joshlipman/Library/Python/3.9/lib/python/site-packages (from dataclasses-json->llama-index-core<0.13,>=0.12.0->llama-index-llms-vercel-ai-gateway) (3.26.1)\n",
      "Requirement already satisfied: colorama>=0.4 in /Users/joshlipman/Library/Python/3.9/lib/python/site-packages (from griffe->banks<3,>=2.2.0->llama-index-core<0.13,>=0.12.0->llama-index-llms-vercel-ai-gateway) (0.4.6)\n",
      "Requirement already satisfied: MarkupSafe>=2.0 in /Users/joshlipman/Library/Python/3.9/lib/python/site-packages (from jinja2->banks<3,>=2.2.0->llama-index-core<0.13,>=0.12.0->llama-index-llms-vercel-ai-gateway) (3.0.2)\n",
      "Note: you may need to restart the kernel to use updated packages.\n"
     ]
    }
   ],
   "source": [
    "%pip install llama-index-llms-vercel-ai-gateway"
   ]
  },
  {
   "cell_type": "code",
   "execution_count": null,
   "id": "425f649c",
   "metadata": {},
   "outputs": [
    {
     "name": "stdout",
     "output_type": "stream",
     "text": [
      "Defaulting to user installation because normal site-packages is not writeable\n",
      "Requirement already satisfied: llama-index in /Users/joshlipman/Library/Python/3.9/lib/python/site-packages (0.12.52)\n",
      "Requirement already satisfied: llama-index-agent-openai<0.5,>=0.4.0 in /Users/joshlipman/Library/Python/3.9/lib/python/site-packages (from llama-index) (0.4.12)\n",
      "Requirement already satisfied: llama-index-cli<0.5,>=0.4.2 in /Users/joshlipman/Library/Python/3.9/lib/python/site-packages (from llama-index) (0.4.4)\n",
      "Requirement already satisfied: llama-index-core<0.13,>=0.12.52.post1 in /Users/joshlipman/Library/Python/3.9/lib/python/site-packages (from llama-index) (0.12.52.post1)\n",
      "Requirement already satisfied: llama-index-embeddings-openai<0.4,>=0.3.0 in /Users/joshlipman/Library/Python/3.9/lib/python/site-packages (from llama-index) (0.3.1)\n",
      "Requirement already satisfied: llama-index-indices-managed-llama-cloud>=0.4.0 in /Users/joshlipman/Library/Python/3.9/lib/python/site-packages (from llama-index) (0.7.10)\n",
      "Requirement already satisfied: llama-index-llms-openai<0.5,>=0.4.0 in /Users/joshlipman/Library/Python/3.9/lib/python/site-packages (from llama-index) (0.4.7)\n",
      "Requirement already satisfied: llama-index-multi-modal-llms-openai<0.6,>=0.5.0 in /Users/joshlipman/Library/Python/3.9/lib/python/site-packages (from llama-index) (0.5.3)\n",
      "Requirement already satisfied: llama-index-program-openai<0.4,>=0.3.0 in /Users/joshlipman/Library/Python/3.9/lib/python/site-packages (from llama-index) (0.3.2)\n",
      "Requirement already satisfied: llama-index-question-gen-openai<0.4,>=0.3.0 in /Users/joshlipman/Library/Python/3.9/lib/python/site-packages (from llama-index) (0.3.1)\n",
      "Requirement already satisfied: llama-index-readers-file<0.5,>=0.4.0 in /Users/joshlipman/Library/Python/3.9/lib/python/site-packages (from llama-index) (0.4.11)\n",
      "Requirement already satisfied: llama-index-readers-llama-parse>=0.4.0 in /Users/joshlipman/Library/Python/3.9/lib/python/site-packages (from llama-index) (0.4.0)\n",
      "Requirement already satisfied: nltk>3.8.1 in /Users/joshlipman/Library/Python/3.9/lib/python/site-packages (from llama-index) (3.9.1)\n",
      "Requirement already satisfied: openai>=1.14.0 in /Users/joshlipman/Library/Python/3.9/lib/python/site-packages (from llama-index-agent-openai<0.5,>=0.4.0->llama-index) (1.95.1)\n",
      "Requirement already satisfied: aiohttp<4,>=3.8.6 in /Users/joshlipman/Library/Python/3.9/lib/python/site-packages (from llama-index-core<0.13,>=0.12.52.post1->llama-index) (3.12.14)\n",
      "Requirement already satisfied: aiosqlite in /Users/joshlipman/Library/Python/3.9/lib/python/site-packages (from llama-index-core<0.13,>=0.12.52.post1->llama-index) (0.21.0)\n",
      "Requirement already satisfied: banks<3,>=2.2.0 in /Users/joshlipman/Library/Python/3.9/lib/python/site-packages (from llama-index-core<0.13,>=0.12.52.post1->llama-index) (2.2.0)\n",
      "Requirement already satisfied: dataclasses-json in /Users/joshlipman/Library/Python/3.9/lib/python/site-packages (from llama-index-core<0.13,>=0.12.52.post1->llama-index) (0.6.7)\n",
      "Requirement already satisfied: deprecated>=1.2.9.3 in /Users/joshlipman/Library/Python/3.9/lib/python/site-packages (from llama-index-core<0.13,>=0.12.52.post1->llama-index) (1.2.18)\n",
      "Requirement already satisfied: dirtyjson<2,>=1.0.8 in /Users/joshlipman/Library/Python/3.9/lib/python/site-packages (from llama-index-core<0.13,>=0.12.52.post1->llama-index) (1.0.8)\n",
      "Requirement already satisfied: eval-type-backport<0.3,>=0.2.0 in /Users/joshlipman/Library/Python/3.9/lib/python/site-packages (from llama-index-core<0.13,>=0.12.52.post1->llama-index) (0.2.2)\n",
      "Requirement already satisfied: filetype<2,>=1.2.0 in /Users/joshlipman/Library/Python/3.9/lib/python/site-packages (from llama-index-core<0.13,>=0.12.52.post1->llama-index) (1.2.0)\n",
      "Requirement already satisfied: fsspec>=2023.5.0 in /Users/joshlipman/Library/Python/3.9/lib/python/site-packages (from llama-index-core<0.13,>=0.12.52.post1->llama-index) (2025.7.0)\n",
      "Requirement already satisfied: httpx in /Users/joshlipman/Library/Python/3.9/lib/python/site-packages (from llama-index-core<0.13,>=0.12.52.post1->llama-index) (0.28.1)\n",
      "Requirement already satisfied: llama-index-workflows<2,>=1.0.1 in /Users/joshlipman/Library/Python/3.9/lib/python/site-packages (from llama-index-core<0.13,>=0.12.52.post1->llama-index) (1.2.0)\n",
      "Requirement already satisfied: nest-asyncio<2,>=1.5.8 in /Users/joshlipman/Library/Python/3.9/lib/python/site-packages (from llama-index-core<0.13,>=0.12.52.post1->llama-index) (1.6.0)\n",
      "Requirement already satisfied: networkx>=3.0 in /Users/joshlipman/Library/Python/3.9/lib/python/site-packages (from llama-index-core<0.13,>=0.12.52.post1->llama-index) (3.2.1)\n",
      "Requirement already satisfied: numpy in /Users/joshlipman/Library/Python/3.9/lib/python/site-packages (from llama-index-core<0.13,>=0.12.52.post1->llama-index) (2.0.2)\n",
      "Requirement already satisfied: pillow>=9.0.0 in /Users/joshlipman/Library/Python/3.9/lib/python/site-packages (from llama-index-core<0.13,>=0.12.52.post1->llama-index) (11.3.0)\n",
      "Requirement already satisfied: platformdirs in /Users/joshlipman/Library/Python/3.9/lib/python/site-packages (from llama-index-core<0.13,>=0.12.52.post1->llama-index) (4.3.8)\n",
      "Requirement already satisfied: pydantic>=2.8.0 in /Users/joshlipman/Library/Python/3.9/lib/python/site-packages (from llama-index-core<0.13,>=0.12.52.post1->llama-index) (2.11.7)\n",
      "Requirement already satisfied: pyyaml>=6.0.1 in /Users/joshlipman/Library/Python/3.9/lib/python/site-packages (from llama-index-core<0.13,>=0.12.52.post1->llama-index) (6.0.2)\n",
      "Requirement already satisfied: requests>=2.31.0 in /Users/joshlipman/Library/Python/3.9/lib/python/site-packages (from llama-index-core<0.13,>=0.12.52.post1->llama-index) (2.32.4)\n",
      "Requirement already satisfied: setuptools>=80.9.0 in /Users/joshlipman/Library/Python/3.9/lib/python/site-packages (from llama-index-core<0.13,>=0.12.52.post1->llama-index) (80.9.0)\n",
      "Requirement already satisfied: sqlalchemy>=1.4.49 in /Users/joshlipman/Library/Python/3.9/lib/python/site-packages (from sqlalchemy[asyncio]>=1.4.49->llama-index-core<0.13,>=0.12.52.post1->llama-index) (2.0.41)\n",
      "Requirement already satisfied: tenacity!=8.4.0,<10.0.0,>=8.2.0 in /Users/joshlipman/Library/Python/3.9/lib/python/site-packages (from llama-index-core<0.13,>=0.12.52.post1->llama-index) (8.5.0)\n",
      "Requirement already satisfied: tiktoken>=0.7.0 in /Users/joshlipman/Library/Python/3.9/lib/python/site-packages (from llama-index-core<0.13,>=0.12.52.post1->llama-index) (0.9.0)\n",
      "Requirement already satisfied: tqdm<5,>=4.66.1 in /Users/joshlipman/Library/Python/3.9/lib/python/site-packages (from llama-index-core<0.13,>=0.12.52.post1->llama-index) (4.67.1)\n",
      "Requirement already satisfied: typing-extensions>=4.5.0 in /Users/joshlipman/Library/Python/3.9/lib/python/site-packages (from llama-index-core<0.13,>=0.12.52.post1->llama-index) (4.14.1)\n",
      "Requirement already satisfied: typing-inspect>=0.8.0 in /Users/joshlipman/Library/Python/3.9/lib/python/site-packages (from llama-index-core<0.13,>=0.12.52.post1->llama-index) (0.9.0)\n",
      "Requirement already satisfied: wrapt in /Users/joshlipman/Library/Python/3.9/lib/python/site-packages (from llama-index-core<0.13,>=0.12.52.post1->llama-index) (1.17.2)\n",
      "Requirement already satisfied: aiohappyeyeballs>=2.5.0 in /Users/joshlipman/Library/Python/3.9/lib/python/site-packages (from aiohttp<4,>=3.8.6->llama-index-core<0.13,>=0.12.52.post1->llama-index) (2.6.1)\n",
      "Requirement already satisfied: aiosignal>=1.4.0 in /Users/joshlipman/Library/Python/3.9/lib/python/site-packages (from aiohttp<4,>=3.8.6->llama-index-core<0.13,>=0.12.52.post1->llama-index) (1.4.0)\n",
      "Requirement already satisfied: async-timeout<6.0,>=4.0 in /Users/joshlipman/Library/Python/3.9/lib/python/site-packages (from aiohttp<4,>=3.8.6->llama-index-core<0.13,>=0.12.52.post1->llama-index) (5.0.1)\n",
      "Requirement already satisfied: attrs>=17.3.0 in /Users/joshlipman/Library/Python/3.9/lib/python/site-packages (from aiohttp<4,>=3.8.6->llama-index-core<0.13,>=0.12.52.post1->llama-index) (25.3.0)\n",
      "Requirement already satisfied: frozenlist>=1.1.1 in /Users/joshlipman/Library/Python/3.9/lib/python/site-packages (from aiohttp<4,>=3.8.6->llama-index-core<0.13,>=0.12.52.post1->llama-index) (1.7.0)\n",
      "Requirement already satisfied: multidict<7.0,>=4.5 in /Users/joshlipman/Library/Python/3.9/lib/python/site-packages (from aiohttp<4,>=3.8.6->llama-index-core<0.13,>=0.12.52.post1->llama-index) (6.6.3)\n",
      "Requirement already satisfied: propcache>=0.2.0 in /Users/joshlipman/Library/Python/3.9/lib/python/site-packages (from aiohttp<4,>=3.8.6->llama-index-core<0.13,>=0.12.52.post1->llama-index) (0.3.2)\n",
      "Requirement already satisfied: yarl<2.0,>=1.17.0 in /Users/joshlipman/Library/Python/3.9/lib/python/site-packages (from aiohttp<4,>=3.8.6->llama-index-core<0.13,>=0.12.52.post1->llama-index) (1.20.1)\n",
      "Requirement already satisfied: griffe in /Users/joshlipman/Library/Python/3.9/lib/python/site-packages (from banks<3,>=2.2.0->llama-index-core<0.13,>=0.12.52.post1->llama-index) (1.7.3)\n",
      "Requirement already satisfied: jinja2 in /Users/joshlipman/Library/Python/3.9/lib/python/site-packages (from banks<3,>=2.2.0->llama-index-core<0.13,>=0.12.52.post1->llama-index) (3.1.6)\n",
      "Requirement already satisfied: beautifulsoup4<5,>=4.12.3 in /Users/joshlipman/Library/Python/3.9/lib/python/site-packages (from llama-index-readers-file<0.5,>=0.4.0->llama-index) (4.13.4)\n",
      "Requirement already satisfied: defusedxml>=0.7.1 in /Users/joshlipman/Library/Python/3.9/lib/python/site-packages (from llama-index-readers-file<0.5,>=0.4.0->llama-index) (0.7.1)\n",
      "Requirement already satisfied: pandas<2.3.0 in /Users/joshlipman/Library/Python/3.9/lib/python/site-packages (from llama-index-readers-file<0.5,>=0.4.0->llama-index) (2.2.3)\n",
      "Requirement already satisfied: pypdf<6,>=5.1.0 in /Users/joshlipman/Library/Python/3.9/lib/python/site-packages (from llama-index-readers-file<0.5,>=0.4.0->llama-index) (5.8.0)\n",
      "Requirement already satisfied: striprtf<0.0.27,>=0.0.26 in /Users/joshlipman/Library/Python/3.9/lib/python/site-packages (from llama-index-readers-file<0.5,>=0.4.0->llama-index) (0.0.26)\n",
      "Requirement already satisfied: soupsieve>1.2 in /Users/joshlipman/Library/Python/3.9/lib/python/site-packages (from beautifulsoup4<5,>=4.12.3->llama-index-readers-file<0.5,>=0.4.0->llama-index) (2.7)\n",
      "Requirement already satisfied: llama-index-instrumentation>=0.1.0 in /Users/joshlipman/Library/Python/3.9/lib/python/site-packages (from llama-index-workflows<2,>=1.0.1->llama-index-core<0.13,>=0.12.52.post1->llama-index) (0.3.0)\n",
      "Requirement already satisfied: anyio<5,>=3.5.0 in /Users/joshlipman/Library/Python/3.9/lib/python/site-packages (from openai>=1.14.0->llama-index-agent-openai<0.5,>=0.4.0->llama-index) (4.9.0)\n",
      "Requirement already satisfied: distro<2,>=1.7.0 in /Users/joshlipman/Library/Python/3.9/lib/python/site-packages (from openai>=1.14.0->llama-index-agent-openai<0.5,>=0.4.0->llama-index) (1.9.0)\n",
      "Requirement already satisfied: jiter<1,>=0.4.0 in /Users/joshlipman/Library/Python/3.9/lib/python/site-packages (from openai>=1.14.0->llama-index-agent-openai<0.5,>=0.4.0->llama-index) (0.10.0)\n",
      "Requirement already satisfied: sniffio in /Users/joshlipman/Library/Python/3.9/lib/python/site-packages (from openai>=1.14.0->llama-index-agent-openai<0.5,>=0.4.0->llama-index) (1.3.1)\n",
      "Requirement already satisfied: exceptiongroup>=1.0.2 in /Users/joshlipman/Library/Python/3.9/lib/python/site-packages (from anyio<5,>=3.5.0->openai>=1.14.0->llama-index-agent-openai<0.5,>=0.4.0->llama-index) (1.3.0)\n",
      "Requirement already satisfied: idna>=2.8 in /Users/joshlipman/Library/Python/3.9/lib/python/site-packages (from anyio<5,>=3.5.0->openai>=1.14.0->llama-index-agent-openai<0.5,>=0.4.0->llama-index) (3.10)\n",
      "Requirement already satisfied: certifi in /Users/joshlipman/Library/Python/3.9/lib/python/site-packages (from httpx->llama-index-core<0.13,>=0.12.52.post1->llama-index) (2025.7.14)\n",
      "Requirement already satisfied: httpcore==1.* in /Users/joshlipman/Library/Python/3.9/lib/python/site-packages (from httpx->llama-index-core<0.13,>=0.12.52.post1->llama-index) (1.0.9)\n",
      "Requirement already satisfied: h11>=0.16 in /Users/joshlipman/Library/Python/3.9/lib/python/site-packages (from httpcore==1.*->httpx->llama-index-core<0.13,>=0.12.52.post1->llama-index) (0.16.0)\n",
      "Requirement already satisfied: python-dateutil>=2.8.2 in /Users/joshlipman/Library/Python/3.9/lib/python/site-packages (from pandas<2.3.0->llama-index-readers-file<0.5,>=0.4.0->llama-index) (2.9.0.post0)\n",
      "Requirement already satisfied: pytz>=2020.1 in /Users/joshlipman/Library/Python/3.9/lib/python/site-packages (from pandas<2.3.0->llama-index-readers-file<0.5,>=0.4.0->llama-index) (2025.2)\n",
      "Requirement already satisfied: tzdata>=2022.7 in /Users/joshlipman/Library/Python/3.9/lib/python/site-packages (from pandas<2.3.0->llama-index-readers-file<0.5,>=0.4.0->llama-index) (2025.2)\n",
      "Requirement already satisfied: annotated-types>=0.6.0 in /Users/joshlipman/Library/Python/3.9/lib/python/site-packages (from pydantic>=2.8.0->llama-index-core<0.13,>=0.12.52.post1->llama-index) (0.7.0)\n",
      "Requirement already satisfied: pydantic-core==2.33.2 in /Users/joshlipman/Library/Python/3.9/lib/python/site-packages (from pydantic>=2.8.0->llama-index-core<0.13,>=0.12.52.post1->llama-index) (2.33.2)\n",
      "Requirement already satisfied: typing-inspection>=0.4.0 in /Users/joshlipman/Library/Python/3.9/lib/python/site-packages (from pydantic>=2.8.0->llama-index-core<0.13,>=0.12.52.post1->llama-index) (0.4.1)\n",
      "Requirement already satisfied: llama-cloud==0.1.32 in /Users/joshlipman/Library/Python/3.9/lib/python/site-packages (from llama-index-indices-managed-llama-cloud>=0.4.0->llama-index) (0.1.32)\n",
      "Requirement already satisfied: llama-parse>=0.5.0 in /Users/joshlipman/Library/Python/3.9/lib/python/site-packages (from llama-index-readers-llama-parse>=0.4.0->llama-index) (0.6.43)\n",
      "Requirement already satisfied: llama-cloud-services>=0.6.43 in /Users/joshlipman/Library/Python/3.9/lib/python/site-packages (from llama-parse>=0.5.0->llama-index-readers-llama-parse>=0.4.0->llama-index) (0.6.43)\n",
      "Requirement already satisfied: click<9.0.0,>=8.1.7 in /Users/joshlipman/Library/Python/3.9/lib/python/site-packages (from llama-cloud-services>=0.6.43->llama-parse>=0.5.0->llama-index-readers-llama-parse>=0.4.0->llama-index) (8.1.8)\n",
      "Requirement already satisfied: python-dotenv<2.0.0,>=1.0.1 in /Users/joshlipman/Library/Python/3.9/lib/python/site-packages (from llama-cloud-services>=0.6.43->llama-parse>=0.5.0->llama-index-readers-llama-parse>=0.4.0->llama-index) (1.1.1)\n",
      "Requirement already satisfied: joblib in /Users/joshlipman/Library/Python/3.9/lib/python/site-packages (from nltk>3.8.1->llama-index) (1.5.1)\n",
      "Requirement already satisfied: regex>=2021.8.3 in /Users/joshlipman/Library/Python/3.9/lib/python/site-packages (from nltk>3.8.1->llama-index) (2024.11.6)\n",
      "Requirement already satisfied: six>=1.5 in /Library/Developer/CommandLineTools/Library/Frameworks/Python3.framework/Versions/3.9/lib/python3.9/site-packages (from python-dateutil>=2.8.2->pandas<2.3.0->llama-index-readers-file<0.5,>=0.4.0->llama-index) (1.15.0)\n",
      "Requirement already satisfied: charset_normalizer<4,>=2 in /Users/joshlipman/Library/Python/3.9/lib/python/site-packages (from requests>=2.31.0->llama-index-core<0.13,>=0.12.52.post1->llama-index) (3.4.2)\n",
      "Requirement already satisfied: urllib3<3,>=1.21.1 in /Users/joshlipman/Library/Python/3.9/lib/python/site-packages (from requests>=2.31.0->llama-index-core<0.13,>=0.12.52.post1->llama-index) (1.26.20)\n",
      "Requirement already satisfied: greenlet>=1 in /Users/joshlipman/Library/Python/3.9/lib/python/site-packages (from sqlalchemy[asyncio]>=1.4.49->llama-index-core<0.13,>=0.12.52.post1->llama-index) (3.2.3)\n",
      "Requirement already satisfied: mypy-extensions>=0.3.0 in /Users/joshlipman/Library/Python/3.9/lib/python/site-packages (from typing-inspect>=0.8.0->llama-index-core<0.13,>=0.12.52.post1->llama-index) (1.1.0)\n",
      "Requirement already satisfied: marshmallow<4.0.0,>=3.18.0 in /Users/joshlipman/Library/Python/3.9/lib/python/site-packages (from dataclasses-json->llama-index-core<0.13,>=0.12.52.post1->llama-index) (3.26.1)\n",
      "Requirement already satisfied: packaging>=17.0 in /Users/joshlipman/Library/Python/3.9/lib/python/site-packages (from marshmallow<4.0.0,>=3.18.0->dataclasses-json->llama-index-core<0.13,>=0.12.52.post1->llama-index) (24.2)\n",
      "Requirement already satisfied: colorama>=0.4 in /Users/joshlipman/Library/Python/3.9/lib/python/site-packages (from griffe->banks<3,>=2.2.0->llama-index-core<0.13,>=0.12.52.post1->llama-index) (0.4.6)\n",
      "Requirement already satisfied: MarkupSafe>=2.0 in /Users/joshlipman/Library/Python/3.9/lib/python/site-packages (from jinja2->banks<3,>=2.2.0->llama-index-core<0.13,>=0.12.52.post1->llama-index) (3.0.2)\n"
     ]
    }
   ],
   "source": [
    "!pip install llama-index"
   ]
  },
  {
   "cell_type": "code",
   "execution_count": null,
   "id": "02bfb427-2607-4322-bdaa-f012a87a0112",
   "metadata": {},
   "outputs": [
    {
     "name": "stderr",
     "output_type": "stream",
     "text": [
      "/Users/joshlipman/Library/Python/3.9/lib/python/site-packages/tqdm/auto.py:21: TqdmWarning: IProgress not found. Please update jupyter and ipywidgets. See https://ipywidgets.readthedocs.io/en/stable/user_install.html\n",
      "  from .autonotebook import tqdm as notebook_tqdm\n",
      "None of PyTorch, TensorFlow >= 2.0, or Flax have been found. Models won't be available and only tokenizers, configuration and file/data utilities can be used.\n"
     ]
    },
    {
     "name": "stdout",
     "output_type": "stream",
     "text": [
      "anthropic/claude-4-sonnet\n"
     ]
    }
   ],
   "source": [
    "from llama_index.llms.vercel_ai_gateway import VercelAIGateway\n",
    "from llama_index.core.llms import ChatMessage\n",
    "\n",
    "llm = VercelAIGateway(\n",
    "    model=\"anthropic/claude-4-sonnet\",\n",
    "    max_tokens=64000,\n",
    "    context_window=200000,\n",
    "    api_key=\"your-api-key\",\n",
    ")\n",
    "\n",
    "print(llm.model)"
   ]
  },
  {
   "cell_type": "markdown",
   "id": "3907f07b-a33a-46db-b799-fec83843ff60",
   "metadata": {},
   "source": [
    "## Call `chat` with ChatMessage List\n",
    "You need to either set env var `VERCEL_AI_GATEWAY_API_KEY` or `VERCEL_OIDC_TOKEN` or set api_key in the class constructor"
   ]
  },
  {
   "cell_type": "code",
   "execution_count": null,
   "id": "b0bec6d7-d5cc-4c23-aa95-a915e65220cc",
   "metadata": {},
   "outputs": [],
   "source": [
    "# import os\n",
    "# os.environ['VERCEL_AI_GATEWAY_API_KEY'] = '<your-api-key>'\n",
    "\n",
    "llm = VercelAIGateway(\n",
    "    api_key=\"pBiuCWfswZCDxt8D50DSoBfU\",\n",
    "    max_tokens=64000,\n",
    "    context_window=200000,\n",
    "    model=\"anthropic/claude-4-sonnet\",\n",
    ")"
   ]
  },
  {
   "cell_type": "code",
   "execution_count": null,
   "id": "1135fe2a-b4ff-4352-a825-bdc3aca17b60",
   "metadata": {},
   "outputs": [],
   "source": [
    "message = ChatMessage(role=\"user\", content=\"Tell me a joke\")\n",
    "resp = llm.chat([message])\n",
    "print(resp)"
   ]
  },
  {
   "cell_type": "markdown",
   "id": "0515c6b2-e691-4f89-baa2-4964abee9cc5",
   "metadata": {},
   "source": [
    "### Streaming"
   ]
  },
  {
   "cell_type": "code",
   "execution_count": null,
   "id": "099f51ad-d585-4bf4-b0e1-95ed7ecf3f85",
   "metadata": {},
   "outputs": [],
   "source": [
    "message = ChatMessage(role=\"user\", content=\"Tell me a story in 250 words\")\n",
    "resp = llm.stream_chat([message])\n",
    "for r in resp:\n",
    "    print(r.delta, end=\"\")"
   ]
  },
  {
   "cell_type": "markdown",
   "id": "ac92c80f-5b82-4143-a6f9-549d6f5dfa70",
   "metadata": {},
   "source": [
    "## Call `complete` with Prompt"
   ]
  },
  {
   "cell_type": "code",
   "execution_count": null,
   "id": "1290c9b1-3c37-4db0-aa94-dda1c90d4f8b",
   "metadata": {},
   "outputs": [],
   "source": [
    "resp = llm.complete(\"Tell me a joke\")\n",
    "print(resp)"
   ]
  },
  {
   "cell_type": "code",
   "execution_count": null,
   "id": "be1a7fe6-51b7-4e80-b60d-fbe3335610c7",
   "metadata": {},
   "outputs": [],
   "source": [
    "resp = llm.stream_complete(\"Tell me a story in 250 words\")\n",
    "for r in resp:\n",
    "    print(r.delta, end=\"\")"
   ]
  },
  {
   "cell_type": "markdown",
   "id": "dc3a2018-89f1-4795-9b68-c06b8f104a69",
   "metadata": {},
   "source": [
    "## Model Configuration"
   ]
  },
  {
   "cell_type": "code",
   "execution_count": null,
   "id": "88c2680d-5e21-4eba-a685-a30d64554b14",
   "metadata": {},
   "outputs": [
    {
     "ename": "NameError",
     "evalue": "name 'true' is not defined",
     "output_type": "error",
     "traceback": [
      "\u001b[0;31m---------------------------------------------------------------------------\u001b[0m",
      "\u001b[0;31mNameError\u001b[0m                                 Traceback (most recent call last)",
      "Cell \u001b[0;32mIn[9], line 5\u001b[0m\n\u001b[1;32m      1\u001b[0m \u001b[38;5;66;03m# This example uses Anthropic's Claude 4 Sonnet (models are specified as `provider/model`):\u001b[39;00m\n\u001b[1;32m      2\u001b[0m llm \u001b[38;5;241m=\u001b[39m VercelAIGateway(\n\u001b[1;32m      3\u001b[0m     model\u001b[38;5;241m=\u001b[39m\u001b[38;5;124m\"\u001b[39m\u001b[38;5;124manthropic/claude-4-sonnet\u001b[39m\u001b[38;5;124m\"\u001b[39m, \n\u001b[1;32m      4\u001b[0m     api_key\u001b[38;5;241m=\u001b[39m\u001b[38;5;124m\"\u001b[39m\u001b[38;5;124mpBiuCWfswZCDxt8D50DSoBfU\u001b[39m\u001b[38;5;124m\"\u001b[39m,\n\u001b[0;32m----> 5\u001b[0m     stream\u001b[38;5;241m=\u001b[39m\u001b[43mtrue\u001b[49m\n\u001b[1;32m      6\u001b[0m )\n",
      "\u001b[0;31mNameError\u001b[0m: name 'true' is not defined"
     ]
    }
   ],
   "source": [
    "# This example uses Anthropic's Claude 4 Sonnet (models are specified as `provider/model`):\n",
    "llm = VercelAIGateway(\n",
    "    model=\"anthropic/claude-4-sonnet\",\n",
    "    api_key=\"pBiuCWfswZCDxt8D50DSoBfU\",\n",
    ")"
   ]
  },
  {
   "cell_type": "code",
   "execution_count": null,
   "id": "24ebd16b-1740-4f31-800d-9c9c8fcc0d96",
   "metadata": {},
   "outputs": [
    {
     "name": "stdout",
     "output_type": "stream",
     "text": [
      "# The Rustacean Dragon\n",
      "\n",
      "Ember had always been different from other dragons. While her kin hoarded gold and terrorized villages, she collected old computers and dreamed in syntax highlighting. Her cave wasn't filled with treasure chests, but with servers humming quietly in the darkness, their LED lights twinkling like digital stars.\n",
      "\n",
      "The other dragons thought she was mad. \"What use is this... 'programming'?\" her mother would snort, flames singeing the air. \"We are meant to be feared, not to stare at glowing rectangles!\"\n",
      "\n",
      "But Ember had discovered something more precious than gold: the Rust programming language. Its promises of memory safety without garbage collection, its zero-cost abstractions, its fearless concurrency—these concepts sang to her dragon soul like an ancient ballad.\n",
      "\n",
      "One autumn morning, a desperate knock echoed through her cave. A young human programmer named Alex stood at the entrance, laptop clutched to their chest.\n",
      "\n",
      "\"Please,\" Alex gasped, \"I heard rumors of a dragon who codes. Our startup's payment system has a critical memory leak, and we launch tomorrow. We've tried everything—C++, Go, even rewrote parts in\n"
     ]
    }
   ],
   "source": [
    "resp = llm.stream_complete(\"Write a story about a dragon who can code in Rust\")\n",
    "for chunk in resp:\n",
    "    print(chunk.delta, end=\"\", flush=True)"
   ]
  }
 ],
 "metadata": {
  "kernelspec": {
   "display_name": "Python 3",
   "language": "python",
   "name": "python3"
  },
  "language_info": {
   "codemirror_mode": {
    "name": "ipython",
    "version": 3
   },
   "file_extension": ".py",
   "mimetype": "text/x-python",
   "name": "python",
   "nbconvert_exporter": "python",
   "pygments_lexer": "ipython3"
  }
 },
 "nbformat": 4,
 "nbformat_minor": 5
}
