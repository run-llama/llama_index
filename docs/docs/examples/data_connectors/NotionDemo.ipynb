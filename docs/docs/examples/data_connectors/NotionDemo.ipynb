{
 "cells": [
  {
   "cell_type": "markdown",
   "id": "c5ed0f4c",
   "metadata": {},
   "source": [
    "<a href=\"https://colab.research.google.com/github/run-llama/llama_index/blob/main/docs/docs/examples/data_connectors/NotionDemo.ipynb\" target=\"_parent\"><img src=\"https://colab.research.google.com/assets/colab-badge.svg\" alt=\"Open In Colab\"/></a>"
   ]
  },
  {
   "cell_type": "markdown",
   "id": "effeb5a7-8544-4ee4-8c11-bad0d8165394",
   "metadata": {},
   "source": [
    "# Notion Reader\n",
    "Demonstrates our Notion data connector"
   ]
  },
  {
   "cell_type": "code",
   "execution_count": null,
   "id": "12a114a9",
   "metadata": {},
   "outputs": [],
   "source": [
    "%pip install llama-index-readers-notion"
   ]
  },
  {
   "cell_type": "code",
   "execution_count": null,
   "id": "995afc19",
   "metadata": {},
   "outputs": [],
   "source": [
    "import logging\n",
    "import sys\n",
    "\n",
    "logging.basicConfig(stream=sys.stdout, level=logging.INFO)\n",
    "logging.getLogger().addHandler(logging.StreamHandler(stream=sys.stdout))"
   ]
  },
  {
   "cell_type": "markdown",
   "id": "c98912d5",
   "metadata": {},
   "source": [
    "If you're opening this Notebook on colab, you will probably need to install LlamaIndex 🦙."
   ]
  },
  {
   "cell_type": "code",
   "execution_count": null,
   "id": "4d8df83d",
   "metadata": {},
   "outputs": [],
   "source": [
    "!pip install llama-index"
   ]
  },
  {
   "cell_type": "code",
   "execution_count": null,
   "id": "6ea1f66d-10ed-4417-bdcb-f8a894836ea5",
   "metadata": {},
   "outputs": [],
   "source": [
    "from llama_index.core import SummaryIndex\n",
    "from llama_index.readers.notion import NotionPageReader\n",
    "from IPython.display import Markdown, display\n",
    "import os"
   ]
  },
  {
   "cell_type": "code",
   "execution_count": null,
   "id": "da90589a-fb44-4ec6-9706-753dba4fa968",
   "metadata": {},
   "outputs": [],
   "source": [
    "integration_token = os.getenv(\"NOTION_INTEGRATION_TOKEN\")\n",
    "page_ids = [\"<page_id>\"]\n",
    "documents = NotionPageReader(integration_token=integration_token).load_data(\n",
    "    page_ids=page_ids\n",
    ")"
   ]
  },
  {
   "cell_type": "code",
   "execution_count": null,
   "id": "341295df-2029-4728-ab3d-2ee178a7e6f1",
   "metadata": {},
   "outputs": [],
   "source": [
    "index = SummaryIndex.from_documents(documents)"
   ]
  },
  {
   "cell_type": "code",
   "execution_count": null,
   "id": "01c26b9d-49ec-4a6e-9c61-5c06bb86bbb2",
   "metadata": {},
   "outputs": [],
   "source": [
    "# set Logging to DEBUG for more detailed outputs\n",
    "query_engine = index.as_query_engine()\n",
    "response = query_engine.query(\"<query_text>\")"
   ]
  },
  {
   "cell_type": "code",
   "execution_count": null,
   "id": "f160c678-2fb5-4d6d-b2bc-87abb61cfdec",
   "metadata": {},
   "outputs": [],
   "source": [
    "display(Markdown(f\"<b>{response}</b>\"))"
   ]
  },
  {
   "cell_type": "markdown",
   "id": "8e8e1b13",
   "metadata": {},
   "source": [
    "You can also pass the id of a database to index all the pages in that database:"
   ]
  },
  {
   "cell_type": "code",
   "execution_count": null,
   "id": "087431a2-b04c-441c-820f-6d6d3cdf831c",
   "metadata": {},
   "outputs": [],
   "source": [
    "database_ids = [\"<database-id>\"]\n",
    "\n",
    "# https://developers.notion.com/docs/working-with-databases for how to find your database id\n",
    "\n",
    "documents = NotionPageReader(integration_token=integration_token).load_data(\n",
    "    database_ids=database_ids\n",
    ")\n",
    "\n",
    "print(documents)"
   ]
  },
  {
   "cell_type": "code",
   "execution_count": null,
   "id": "6464025d-0c5a-4e2d-8a90-91c29ece9884",
   "metadata": {},
   "outputs": [],
   "source": [
    "# set Logging to DEBUG for more detailed outputs\n",
    "index = SummaryIndex.from_documents(documents)\n",
    "query_engine = index.as_query_engine()\n",
    "response = query_engine.query(\"<query_text>\")\n",
    "display(Markdown(f\"<b>{response}</b>\"))"
   ]
  },
  {
   "cell_type": "markdown",
   "id": "78c1467169c294d4",
   "metadata": {},
   "source": [
    "To list all databases in your Notion workspace:"
   ]
  },
  {
   "cell_type": "code",
   "execution_count": null,
   "id": "fc8d014623659b85",
   "metadata": {},
   "outputs": [],
   "source": [
    "reader = NotionPageReader(integration_token=integration_token)\n",
    "databases = reader.list_databases()\n",
    "print(databases)"
   ]
  }
 ],
 "metadata": {
  "kernelspec": {
   "display_name": "Python 3 (ipykernel)",
   "language": "python",
   "name": "python3"
  },
  "language_info": {
   "codemirror_mode": {
    "name": "ipython",
    "version": 3
   },
   "file_extension": ".py",
   "mimetype": "text/x-python",
   "name": "python",
   "nbconvert_exporter": "python",
   "pygments_lexer": "ipython3"
  },
  "vscode": {
   "interpreter": {
    "hash": "c32397a35d2e76e766f80c3872b208f0c0029e8a6a9b8e2a8fe7b1641cfa009b"
   }
  }
 },
 "nbformat": 4,
 "nbformat_minor": 5
}
