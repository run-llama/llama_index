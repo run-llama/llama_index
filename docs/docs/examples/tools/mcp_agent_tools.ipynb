{
 "cells": [
  {
   "cell_type": "markdown",
   "metadata": {},
   "source": [
    "# Use LlamaIndex agent tools as MCP tools\n",
    "\n",
    "We have dozens of agent tools in [LlamaHub](https://llamahub.ai/?tab=tools) and they can all be instantly used as MCP tools! This notebook shows how exactly that's done, using the [Notion Tool](https://llamahub.ai/l/tools/llama-index-tools-notion?from=tools) as an example."
   ]
  },
  {
   "cell_type": "markdown",
   "metadata": {},
   "source": [
    "First we install our tool, and our MCP server:"
   ]
  },
  {
   "cell_type": "code",
   "execution_count": null,
   "metadata": {},
   "outputs": [
    {
     "name": "stdout",
     "output_type": "stream",
     "text": [
      "Requirement already satisfied: llama-index-tools-notion in /Users/seldo/projects/llamaindex/llama_index/docs/.venv/lib/python3.13/site-packages (0.3.1)\n",
      "Requirement already satisfied: mcp in /Users/seldo/projects/llamaindex/llama_index/docs/.venv/lib/python3.13/site-packages (1.9.4)\n",
      "Requirement already satisfied: fastmcp in /Users/seldo/projects/llamaindex/llama_index/docs/.venv/lib/python3.13/site-packages (2.9.2)\n",
      "Requirement already satisfied: llama-index-core<0.13.0,>=0.12.0 in /Users/seldo/projects/llamaindex/llama_index/docs/.venv/lib/python3.13/site-packages (from llama-index-tools-notion) (0.12.44)\n",
      "Requirement already satisfied: llama-index-readers-notion<0.4.0,>=0.3.0 in /Users/seldo/projects/llamaindex/llama_index/docs/.venv/lib/python3.13/site-packages (from llama-index-tools-notion) (0.3.0)\n",
      "Requirement already satisfied: aiohttp<4,>=3.8.6 in /Users/seldo/projects/llamaindex/llama_index/docs/.venv/lib/python3.13/site-packages (from llama-index-core<0.13.0,>=0.12.0->llama-index-tools-notion) (3.12.13)\n",
      "Requirement already satisfied: aiosqlite in /Users/seldo/projects/llamaindex/llama_index/docs/.venv/lib/python3.13/site-packages (from llama-index-core<0.13.0,>=0.12.0->llama-index-tools-notion) (0.21.0)\n",
      "Requirement already satisfied: banks<3,>=2.0.0 in /Users/seldo/projects/llamaindex/llama_index/docs/.venv/lib/python3.13/site-packages (from llama-index-core<0.13.0,>=0.12.0->llama-index-tools-notion) (2.1.3)\n",
      "Requirement already satisfied: dataclasses-json in /Users/seldo/projects/llamaindex/llama_index/docs/.venv/lib/python3.13/site-packages (from llama-index-core<0.13.0,>=0.12.0->llama-index-tools-notion) (0.6.7)\n",
      "Requirement already satisfied: deprecated>=1.2.9.3 in /Users/seldo/projects/llamaindex/llama_index/docs/.venv/lib/python3.13/site-packages (from llama-index-core<0.13.0,>=0.12.0->llama-index-tools-notion) (1.2.18)\n",
      "Requirement already satisfied: dirtyjson<2,>=1.0.8 in /Users/seldo/projects/llamaindex/llama_index/docs/.venv/lib/python3.13/site-packages (from llama-index-core<0.13.0,>=0.12.0->llama-index-tools-notion) (1.0.8)\n",
      "Requirement already satisfied: filetype<2,>=1.2.0 in /Users/seldo/projects/llamaindex/llama_index/docs/.venv/lib/python3.13/site-packages (from llama-index-core<0.13.0,>=0.12.0->llama-index-tools-notion) (1.2.0)\n",
      "Requirement already satisfied: fsspec>=2023.5.0 in /Users/seldo/projects/llamaindex/llama_index/docs/.venv/lib/python3.13/site-packages (from llama-index-core<0.13.0,>=0.12.0->llama-index-tools-notion) (2025.5.1)\n",
      "Requirement already satisfied: httpx in /Users/seldo/projects/llamaindex/llama_index/docs/.venv/lib/python3.13/site-packages (from llama-index-core<0.13.0,>=0.12.0->llama-index-tools-notion) (0.28.1)\n",
      "Requirement already satisfied: llama-index-workflows<2,>=1.0.1 in /Users/seldo/projects/llamaindex/llama_index/docs/.venv/lib/python3.13/site-packages (from llama-index-core<0.13.0,>=0.12.0->llama-index-tools-notion) (1.0.1)\n",
      "Requirement already satisfied: nest-asyncio<2,>=1.5.8 in /Users/seldo/projects/llamaindex/llama_index/docs/.venv/lib/python3.13/site-packages (from llama-index-core<0.13.0,>=0.12.0->llama-index-tools-notion) (1.6.0)\n",
      "Requirement already satisfied: networkx>=3.0 in /Users/seldo/projects/llamaindex/llama_index/docs/.venv/lib/python3.13/site-packages (from llama-index-core<0.13.0,>=0.12.0->llama-index-tools-notion) (3.5)\n",
      "Requirement already satisfied: nltk>3.8.1 in /Users/seldo/projects/llamaindex/llama_index/docs/.venv/lib/python3.13/site-packages (from llama-index-core<0.13.0,>=0.12.0->llama-index-tools-notion) (3.9.1)\n",
      "Requirement already satisfied: numpy in /Users/seldo/projects/llamaindex/llama_index/docs/.venv/lib/python3.13/site-packages (from llama-index-core<0.13.0,>=0.12.0->llama-index-tools-notion) (2.3.1)\n",
      "Requirement already satisfied: pillow>=9.0.0 in /Users/seldo/projects/llamaindex/llama_index/docs/.venv/lib/python3.13/site-packages (from llama-index-core<0.13.0,>=0.12.0->llama-index-tools-notion) (11.2.1)\n",
      "Requirement already satisfied: pydantic>=2.8.0 in /Users/seldo/projects/llamaindex/llama_index/docs/.venv/lib/python3.13/site-packages (from llama-index-core<0.13.0,>=0.12.0->llama-index-tools-notion) (2.11.7)\n",
      "Requirement already satisfied: pyyaml>=6.0.1 in /Users/seldo/projects/llamaindex/llama_index/docs/.venv/lib/python3.13/site-packages (from llama-index-core<0.13.0,>=0.12.0->llama-index-tools-notion) (6.0.2)\n",
      "Requirement already satisfied: requests>=2.31.0 in /Users/seldo/projects/llamaindex/llama_index/docs/.venv/lib/python3.13/site-packages (from llama-index-core<0.13.0,>=0.12.0->llama-index-tools-notion) (2.32.4)\n",
      "Requirement already satisfied: setuptools>=80.9.0 in /Users/seldo/projects/llamaindex/llama_index/docs/.venv/lib/python3.13/site-packages (from llama-index-core<0.13.0,>=0.12.0->llama-index-tools-notion) (80.9.0)\n",
      "Requirement already satisfied: sqlalchemy>=1.4.49 in /Users/seldo/projects/llamaindex/llama_index/docs/.venv/lib/python3.13/site-packages (from sqlalchemy[asyncio]>=1.4.49->llama-index-core<0.13.0,>=0.12.0->llama-index-tools-notion) (2.0.41)\n",
      "Requirement already satisfied: tenacity!=8.4.0,<10.0.0,>=8.2.0 in /Users/seldo/projects/llamaindex/llama_index/docs/.venv/lib/python3.13/site-packages (from llama-index-core<0.13.0,>=0.12.0->llama-index-tools-notion) (9.1.2)\n",
      "Requirement already satisfied: tiktoken>=0.7.0 in /Users/seldo/projects/llamaindex/llama_index/docs/.venv/lib/python3.13/site-packages (from llama-index-core<0.13.0,>=0.12.0->llama-index-tools-notion) (0.9.0)\n",
      "Requirement already satisfied: tqdm<5,>=4.66.1 in /Users/seldo/projects/llamaindex/llama_index/docs/.venv/lib/python3.13/site-packages (from llama-index-core<0.13.0,>=0.12.0->llama-index-tools-notion) (4.67.1)\n",
      "Requirement already satisfied: typing-extensions>=4.5.0 in /Users/seldo/projects/llamaindex/llama_index/docs/.venv/lib/python3.13/site-packages (from llama-index-core<0.13.0,>=0.12.0->llama-index-tools-notion) (4.14.0)\n",
      "Requirement already satisfied: typing-inspect>=0.8.0 in /Users/seldo/projects/llamaindex/llama_index/docs/.venv/lib/python3.13/site-packages (from llama-index-core<0.13.0,>=0.12.0->llama-index-tools-notion) (0.9.0)\n",
      "Requirement already satisfied: wrapt in /Users/seldo/projects/llamaindex/llama_index/docs/.venv/lib/python3.13/site-packages (from llama-index-core<0.13.0,>=0.12.0->llama-index-tools-notion) (1.17.2)\n",
      "Requirement already satisfied: aiohappyeyeballs>=2.5.0 in /Users/seldo/projects/llamaindex/llama_index/docs/.venv/lib/python3.13/site-packages (from aiohttp<4,>=3.8.6->llama-index-core<0.13.0,>=0.12.0->llama-index-tools-notion) (2.6.1)\n",
      "Requirement already satisfied: aiosignal>=1.1.2 in /Users/seldo/projects/llamaindex/llama_index/docs/.venv/lib/python3.13/site-packages (from aiohttp<4,>=3.8.6->llama-index-core<0.13.0,>=0.12.0->llama-index-tools-notion) (1.3.2)\n",
      "Requirement already satisfied: attrs>=17.3.0 in /Users/seldo/projects/llamaindex/llama_index/docs/.venv/lib/python3.13/site-packages (from aiohttp<4,>=3.8.6->llama-index-core<0.13.0,>=0.12.0->llama-index-tools-notion) (25.3.0)\n",
      "Requirement already satisfied: frozenlist>=1.1.1 in /Users/seldo/projects/llamaindex/llama_index/docs/.venv/lib/python3.13/site-packages (from aiohttp<4,>=3.8.6->llama-index-core<0.13.0,>=0.12.0->llama-index-tools-notion) (1.7.0)\n",
      "Requirement already satisfied: multidict<7.0,>=4.5 in /Users/seldo/projects/llamaindex/llama_index/docs/.venv/lib/python3.13/site-packages (from aiohttp<4,>=3.8.6->llama-index-core<0.13.0,>=0.12.0->llama-index-tools-notion) (6.6.0)\n",
      "Requirement already satisfied: propcache>=0.2.0 in /Users/seldo/projects/llamaindex/llama_index/docs/.venv/lib/python3.13/site-packages (from aiohttp<4,>=3.8.6->llama-index-core<0.13.0,>=0.12.0->llama-index-tools-notion) (0.3.2)\n",
      "Requirement already satisfied: yarl<2.0,>=1.17.0 in /Users/seldo/projects/llamaindex/llama_index/docs/.venv/lib/python3.13/site-packages (from aiohttp<4,>=3.8.6->llama-index-core<0.13.0,>=0.12.0->llama-index-tools-notion) (1.20.1)\n",
      "Requirement already satisfied: griffe in /Users/seldo/projects/llamaindex/llama_index/docs/.venv/lib/python3.13/site-packages (from banks<3,>=2.0.0->llama-index-core<0.13.0,>=0.12.0->llama-index-tools-notion) (1.7.3)\n",
      "Requirement already satisfied: jinja2 in /Users/seldo/projects/llamaindex/llama_index/docs/.venv/lib/python3.13/site-packages (from banks<3,>=2.0.0->llama-index-core<0.13.0,>=0.12.0->llama-index-tools-notion) (3.1.6)\n",
      "Requirement already satisfied: platformdirs in /Users/seldo/projects/llamaindex/llama_index/docs/.venv/lib/python3.13/site-packages (from banks<3,>=2.0.0->llama-index-core<0.13.0,>=0.12.0->llama-index-tools-notion) (4.3.8)\n",
      "Requirement already satisfied: llama-index-instrumentation>=0.1.0 in /Users/seldo/projects/llamaindex/llama_index/docs/.venv/lib/python3.13/site-packages (from llama-index-workflows<2,>=1.0.1->llama-index-core<0.13.0,>=0.12.0->llama-index-tools-notion) (0.2.0)\n",
      "Requirement already satisfied: idna>=2.0 in /Users/seldo/projects/llamaindex/llama_index/docs/.venv/lib/python3.13/site-packages (from yarl<2.0,>=1.17.0->aiohttp<4,>=3.8.6->llama-index-core<0.13.0,>=0.12.0->llama-index-tools-notion) (3.10)\n",
      "Requirement already satisfied: anyio>=4.5 in /Users/seldo/projects/llamaindex/llama_index/docs/.venv/lib/python3.13/site-packages (from mcp) (4.9.0)\n",
      "Requirement already satisfied: httpx-sse>=0.4 in /Users/seldo/projects/llamaindex/llama_index/docs/.venv/lib/python3.13/site-packages (from mcp) (0.4.1)\n",
      "Requirement already satisfied: pydantic-settings>=2.5.2 in /Users/seldo/projects/llamaindex/llama_index/docs/.venv/lib/python3.13/site-packages (from mcp) (2.10.1)\n",
      "Requirement already satisfied: python-multipart>=0.0.9 in /Users/seldo/projects/llamaindex/llama_index/docs/.venv/lib/python3.13/site-packages (from mcp) (0.0.20)\n",
      "Requirement already satisfied: sse-starlette>=1.6.1 in /Users/seldo/projects/llamaindex/llama_index/docs/.venv/lib/python3.13/site-packages (from mcp) (2.3.6)\n",
      "Requirement already satisfied: starlette>=0.27 in /Users/seldo/projects/llamaindex/llama_index/docs/.venv/lib/python3.13/site-packages (from mcp) (0.47.1)\n",
      "Requirement already satisfied: uvicorn>=0.23.1 in /Users/seldo/projects/llamaindex/llama_index/docs/.venv/lib/python3.13/site-packages (from mcp) (0.34.3)\n",
      "Requirement already satisfied: annotated-types>=0.6.0 in /Users/seldo/projects/llamaindex/llama_index/docs/.venv/lib/python3.13/site-packages (from pydantic>=2.8.0->llama-index-core<0.13.0,>=0.12.0->llama-index-tools-notion) (0.7.0)\n",
      "Requirement already satisfied: pydantic-core==2.33.2 in /Users/seldo/projects/llamaindex/llama_index/docs/.venv/lib/python3.13/site-packages (from pydantic>=2.8.0->llama-index-core<0.13.0,>=0.12.0->llama-index-tools-notion) (2.33.2)\n",
      "Requirement already satisfied: typing-inspection>=0.4.0 in /Users/seldo/projects/llamaindex/llama_index/docs/.venv/lib/python3.13/site-packages (from pydantic>=2.8.0->llama-index-core<0.13.0,>=0.12.0->llama-index-tools-notion) (0.4.1)\n",
      "Requirement already satisfied: authlib>=1.5.2 in /Users/seldo/projects/llamaindex/llama_index/docs/.venv/lib/python3.13/site-packages (from fastmcp) (1.6.0)\n",
      "Requirement already satisfied: exceptiongroup>=1.2.2 in /Users/seldo/projects/llamaindex/llama_index/docs/.venv/lib/python3.13/site-packages (from fastmcp) (1.3.0)\n",
      "Requirement already satisfied: openapi-pydantic>=0.5.1 in /Users/seldo/projects/llamaindex/llama_index/docs/.venv/lib/python3.13/site-packages (from fastmcp) (0.5.1)\n",
      "Requirement already satisfied: python-dotenv>=1.1.0 in /Users/seldo/projects/llamaindex/llama_index/docs/.venv/lib/python3.13/site-packages (from fastmcp) (1.1.1)\n",
      "Requirement already satisfied: rich>=13.9.4 in /Users/seldo/projects/llamaindex/llama_index/docs/.venv/lib/python3.13/site-packages (from fastmcp) (14.0.0)\n",
      "Requirement already satisfied: typer>=0.15.2 in /Users/seldo/projects/llamaindex/llama_index/docs/.venv/lib/python3.13/site-packages (from fastmcp) (0.16.0)\n",
      "Requirement already satisfied: sniffio>=1.1 in /Users/seldo/projects/llamaindex/llama_index/docs/.venv/lib/python3.13/site-packages (from anyio>=4.5->mcp) (1.3.1)\n",
      "Requirement already satisfied: cryptography in /Users/seldo/projects/llamaindex/llama_index/docs/.venv/lib/python3.13/site-packages (from authlib>=1.5.2->fastmcp) (45.0.4)\n",
      "Requirement already satisfied: certifi in /Users/seldo/projects/llamaindex/llama_index/docs/.venv/lib/python3.13/site-packages (from httpx->llama-index-core<0.13.0,>=0.12.0->llama-index-tools-notion) (2025.6.15)\n",
      "Requirement already satisfied: httpcore==1.* in /Users/seldo/projects/llamaindex/llama_index/docs/.venv/lib/python3.13/site-packages (from httpx->llama-index-core<0.13.0,>=0.12.0->llama-index-tools-notion) (1.0.9)\n",
      "Requirement already satisfied: h11>=0.16 in /Users/seldo/projects/llamaindex/llama_index/docs/.venv/lib/python3.13/site-packages (from httpcore==1.*->httpx->llama-index-core<0.13.0,>=0.12.0->llama-index-tools-notion) (0.16.0)\n",
      "Requirement already satisfied: click in /Users/seldo/projects/llamaindex/llama_index/docs/.venv/lib/python3.13/site-packages (from nltk>3.8.1->llama-index-core<0.13.0,>=0.12.0->llama-index-tools-notion) (8.2.1)\n",
      "Requirement already satisfied: joblib in /Users/seldo/projects/llamaindex/llama_index/docs/.venv/lib/python3.13/site-packages (from nltk>3.8.1->llama-index-core<0.13.0,>=0.12.0->llama-index-tools-notion) (1.5.1)\n",
      "Requirement already satisfied: regex>=2021.8.3 in /Users/seldo/projects/llamaindex/llama_index/docs/.venv/lib/python3.13/site-packages (from nltk>3.8.1->llama-index-core<0.13.0,>=0.12.0->llama-index-tools-notion) (2024.11.6)\n",
      "Requirement already satisfied: charset_normalizer<4,>=2 in /Users/seldo/projects/llamaindex/llama_index/docs/.venv/lib/python3.13/site-packages (from requests>=2.31.0->llama-index-core<0.13.0,>=0.12.0->llama-index-tools-notion) (3.4.2)\n",
      "Requirement already satisfied: urllib3<3,>=1.21.1 in /Users/seldo/projects/llamaindex/llama_index/docs/.venv/lib/python3.13/site-packages (from requests>=2.31.0->llama-index-core<0.13.0,>=0.12.0->llama-index-tools-notion) (2.5.0)\n",
      "Requirement already satisfied: markdown-it-py>=2.2.0 in /Users/seldo/projects/llamaindex/llama_index/docs/.venv/lib/python3.13/site-packages (from rich>=13.9.4->fastmcp) (3.0.0)\n",
      "Requirement already satisfied: pygments<3.0.0,>=2.13.0 in /Users/seldo/projects/llamaindex/llama_index/docs/.venv/lib/python3.13/site-packages (from rich>=13.9.4->fastmcp) (2.19.2)\n",
      "Requirement already satisfied: mdurl~=0.1 in /Users/seldo/projects/llamaindex/llama_index/docs/.venv/lib/python3.13/site-packages (from markdown-it-py>=2.2.0->rich>=13.9.4->fastmcp) (0.1.2)\n",
      "Requirement already satisfied: greenlet>=1 in /Users/seldo/projects/llamaindex/llama_index/docs/.venv/lib/python3.13/site-packages (from sqlalchemy[asyncio]>=1.4.49->llama-index-core<0.13.0,>=0.12.0->llama-index-tools-notion) (3.2.3)\n",
      "Requirement already satisfied: shellingham>=1.3.0 in /Users/seldo/projects/llamaindex/llama_index/docs/.venv/lib/python3.13/site-packages (from typer>=0.15.2->fastmcp) (1.5.4)\n",
      "Requirement already satisfied: mypy-extensions>=0.3.0 in /Users/seldo/projects/llamaindex/llama_index/docs/.venv/lib/python3.13/site-packages (from typing-inspect>=0.8.0->llama-index-core<0.13.0,>=0.12.0->llama-index-tools-notion) (1.1.0)\n",
      "Requirement already satisfied: cffi>=1.14 in /Users/seldo/projects/llamaindex/llama_index/docs/.venv/lib/python3.13/site-packages (from cryptography->authlib>=1.5.2->fastmcp) (1.17.1)\n",
      "Requirement already satisfied: pycparser in /Users/seldo/projects/llamaindex/llama_index/docs/.venv/lib/python3.13/site-packages (from cffi>=1.14->cryptography->authlib>=1.5.2->fastmcp) (2.22)\n",
      "Requirement already satisfied: marshmallow<4.0.0,>=3.18.0 in /Users/seldo/projects/llamaindex/llama_index/docs/.venv/lib/python3.13/site-packages (from dataclasses-json->llama-index-core<0.13.0,>=0.12.0->llama-index-tools-notion) (3.26.1)\n",
      "Requirement already satisfied: packaging>=17.0 in /Users/seldo/projects/llamaindex/llama_index/docs/.venv/lib/python3.13/site-packages (from marshmallow<4.0.0,>=3.18.0->dataclasses-json->llama-index-core<0.13.0,>=0.12.0->llama-index-tools-notion) (25.0)\n",
      "Requirement already satisfied: colorama>=0.4 in /Users/seldo/projects/llamaindex/llama_index/docs/.venv/lib/python3.13/site-packages (from griffe->banks<3,>=2.0.0->llama-index-core<0.13.0,>=0.12.0->llama-index-tools-notion) (0.4.6)\n",
      "Requirement already satisfied: MarkupSafe>=2.0 in /Users/seldo/projects/llamaindex/llama_index/docs/.venv/lib/python3.13/site-packages (from jinja2->banks<3,>=2.0.0->llama-index-core<0.13.0,>=0.12.0->llama-index-tools-notion) (3.0.2)\n"
     ]
    }
   ],
   "source": [
    "!pip install llama-index-tools-notion mcp fastmcp"
   ]
  },
  {
   "cell_type": "markdown",
   "metadata": {},
   "source": [
    "Bring in our dependencies:"
   ]
  },
  {
   "cell_type": "code",
   "execution_count": null,
   "metadata": {},
   "outputs": [
    {
     "name": "stdout",
     "output_type": "stream",
     "text": [
      "MCP fastMCP server dependencies imported successfully!\n"
     ]
    }
   ],
   "source": [
    "# Import dependencies for Model Context Protocol (MCP) fastMCP server\n",
    "import asyncio\n",
    "from typing import Any, Dict, List, Optional\n",
    "\n",
    "# MCP and fastMCP related imports\n",
    "from mcp import ClientSession, StdioServerParameters\n",
    "from mcp.client.stdio import stdio_client\n",
    "from fastmcp import FastMCP\n",
    "\n",
    "print(\"MCP fastMCP server dependencies imported successfully!\")"
   ]
  },
  {
   "cell_type": "markdown",
   "metadata": {},
   "source": [
    "Instantiate our tools using an API key:"
   ]
  },
  {
   "cell_type": "code",
   "execution_count": null,
   "metadata": {},
   "outputs": [],
   "source": [
    "# Import and configure LlamaIndex Notion Tool Spec\n",
    "from llama_index.tools.notion import NotionToolSpec\n",
    "\n",
    "notion_token = \"xxxx\"\n",
    "tool_spec = NotionToolSpec(integration_token=notion_token)"
   ]
  },
  {
   "cell_type": "markdown",
   "metadata": {},
   "source": [
    "Let's see what tools are available:"
   ]
  },
  {
   "cell_type": "code",
   "execution_count": null,
   "metadata": {},
   "outputs": [
    {
     "name": "stdout",
     "output_type": "stream",
     "text": [
      "Tool 1: load_data\n",
      "Tool 2: search_data\n"
     ]
    }
   ],
   "source": [
    "tools = tool_spec.to_tool_list()\n",
    "\n",
    "for i, tool in enumerate(tools):\n",
    "    print(f\"Tool {i+1}: {tool.metadata.name}\")"
   ]
  },
  {
   "cell_type": "markdown",
   "metadata": {},
   "source": [
    "Now we create and configure the fastMCP server, and register each tool:"
   ]
  },
  {
   "cell_type": "code",
   "execution_count": null,
   "metadata": {},
   "outputs": [
    {
     "name": "stdout",
     "output_type": "stream",
     "text": [
      "MCP Server configured with tools\n"
     ]
    }
   ],
   "source": [
    "mcp_server = FastMCP(\"MCP Agent Tools Server\")\n",
    "\n",
    "# Register the tools from the Notion ToolSpec\n",
    "for tool in tools:\n",
    "    mcp_server.tool(\n",
    "        name=tool.metadata.name, description=tool.metadata.description\n",
    "    )(tool.real_fn)"
   ]
  },
  {
   "cell_type": "markdown",
   "metadata": {},
   "source": [
    "Now we can run our MCP server complete with our tools!"
   ]
  },
  {
   "cell_type": "code",
   "execution_count": null,
   "metadata": {},
   "outputs": [
    {
     "data": {
      "text/html": [
       "<pre style=\"white-space:pre;overflow-x:auto;line-height:normal;font-family:Menlo,'DejaVu Sans Mono',consolas,'Courier New',monospace\"><span style=\"color: #7fbfbf; text-decoration-color: #7fbfbf\">[06/27/25 16:27:47] </span><span style=\"color: #000080; text-decoration-color: #000080\">INFO    </span> Starting MCP server <span style=\"color: #008000; text-decoration-color: #008000\">'MCP Agent Tools Server'</span> with transport             <a href=\"file:///Users/seldo/projects/llamaindex/llama_index/docs/.venv/lib/python3.13/site-packages/fastmcp/server/server.py\" target=\"_blank\"><span style=\"color: #7f7f7f; text-decoration-color: #7f7f7f\">server.py</span></a><span style=\"color: #7f7f7f; text-decoration-color: #7f7f7f\">:</span><a href=\"file:///Users/seldo/projects/llamaindex/llama_index/docs/.venv/lib/python3.13/site-packages/fastmcp/server/server.py#1358\" target=\"_blank\"><span style=\"color: #7f7f7f; text-decoration-color: #7f7f7f\">1358</span></a>\n",
       "<span style=\"color: #7fbfbf; text-decoration-color: #7fbfbf\">                    </span>         <span style=\"color: #008000; text-decoration-color: #008000\">'streamable-http'</span> on <span style=\"color: #0000ff; text-decoration-color: #0000ff; text-decoration: underline\">http://127.0.0.1:8000/mcp/</span>                         <span style=\"color: #7f7f7f; text-decoration-color: #7f7f7f\">              </span>\n",
       "</pre>\n"
      ],
      "text/plain": [
       "\u001b[2;36m[06/27/25 16:27:47]\u001b[0m\u001b[2;36m \u001b[0m\u001b[34mINFO    \u001b[0m Starting MCP server \u001b[32m'MCP Agent Tools Server'\u001b[0m with transport             \u001b]8;id=182776;file:///Users/seldo/projects/llamaindex/llama_index/docs/.venv/lib/python3.13/site-packages/fastmcp/server/server.py\u001b\\\u001b[2mserver.py\u001b[0m\u001b]8;;\u001b\\\u001b[2m:\u001b[0m\u001b]8;id=402767;file:///Users/seldo/projects/llamaindex/llama_index/docs/.venv/lib/python3.13/site-packages/fastmcp/server/server.py#1358\u001b\\\u001b[2m1358\u001b[0m\u001b]8;;\u001b\\\n",
       "\u001b[2;36m                    \u001b[0m         \u001b[32m'streamable-http'\u001b[0m on \u001b[4;94mhttp://127.0.0.1:8000/mcp/\u001b[0m                         \u001b[2m              \u001b[0m\n"
      ]
     },
     "metadata": {},
     "output_type": "display_data"
    },
    {
     "name": "stderr",
     "output_type": "stream",
     "text": [
      "INFO:     Started server process [24668]\n",
      "INFO:     Waiting for application startup.\n",
      "INFO:     Application startup complete.\n",
      "INFO:     Uvicorn running on http://127.0.0.1:8000 (Press CTRL+C to quit)\n"
     ]
    },
    {
     "name": "stdout",
     "output_type": "stream",
     "text": [
      "INFO:     127.0.0.1:54201 - \"POST /mcp/ HTTP/1.1\" 200 OK\n",
      "INFO:     127.0.0.1:54201 - \"POST /mcp/ HTTP/1.1\" 202 Accepted\n",
      "INFO:     127.0.0.1:54203 - \"GET /mcp/ HTTP/1.1\" 200 OK\n",
      "INFO:     127.0.0.1:54209 - \"POST /mcp/ HTTP/1.1\" 200 OK\n"
     ]
    },
    {
     "name": "stderr",
     "output_type": "stream",
     "text": [
      "INFO:     Shutting down\n",
      "ERROR:    ASGI callable returned without completing response.\n",
      "ERROR:    Cancel 0 running task(s), timeout graceful shutdown exceeded\n",
      "INFO:     Waiting for application shutdown.\n",
      "INFO:     Application shutdown complete.\n",
      "INFO:     Finished server process [24668]\n"
     ]
    }
   ],
   "source": [
    "await mcp_server.run_async(transport=\"streamable-http\")"
   ]
  }
 ],
 "metadata": {
  "kernelspec": {
   "display_name": ".venv",
   "language": "python",
   "name": "python3"
  },
  "language_info": {
   "codemirror_mode": {
    "name": "ipython",
    "version": 3
   },
   "file_extension": ".py",
   "mimetype": "text/x-python",
   "name": "python",
   "nbconvert_exporter": "python",
   "pygments_lexer": "ipython3"
  }
 },
 "nbformat": 4,
 "nbformat_minor": 2
}
