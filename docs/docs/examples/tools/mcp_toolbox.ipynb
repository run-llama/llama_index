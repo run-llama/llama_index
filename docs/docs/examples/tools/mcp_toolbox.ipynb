{
 "cells": [
  {
   "cell_type": "markdown",
   "id": "0b8087bd",
   "metadata": {},
   "source": [
    "# Using MCP Toolbox with LlamaIndex\n",
    "\n",
    "Integrate your databases with LlamaIndex agents using MCP Toolbox."
   ]
  },
  {
   "cell_type": "markdown",
   "id": "a835390f",
   "metadata": {},
   "source": [
    "## Overview\n",
    "\n",
    "[MCP Toolbox for Databases](https://github.com/googleapis/genai-toolbox) is an open source MCP server for databases. It was designed with enterprise-grade and production-quality in mind. It enables you to develop tools easier, faster, and more securely by handling the complexities such as connection pooling, authentication, and more.\n",
    "\n",
    "Toolbox Tools can be seemlessly integrated with LlamaIndex applications. For more information on [getting started](https://googleapis.github.io/genai-toolbox/getting-started/local_quickstart/) or [configuring](https://googleapis.github.io/genai-toolbox/getting-started/configure/) MCP Toolbox, see the [documentation](https://googleapis.github.io/genai-toolbox/getting-started/introduction/).\n",
    "\n",
    "![architecture](https://raw.githubusercontent.com/googleapis/genai-toolbox/refs/heads/main/docs/en/getting-started/introduction/architecture.png)"
   ]
  },
  {
   "cell_type": "markdown",
   "id": "4feb3728",
   "metadata": {},
   "source": [
    "## Configure and deploy\n",
    "\n",
    "Toolbox is an open source server that you deploy and manage yourself. For more\n",
    "instructions on deploying and configuring, see the official Toolbox\n",
    "documentation:\n",
    "\n",
    "* [Installing the Server](https://googleapis.github.io/genai-toolbox/getting-started/introduction/#installing-the-server)\n",
    "* [Configuring Toolbox](https://googleapis.github.io/genai-toolbox/getting-started/configure/)"
   ]
  },
  {
   "cell_type": "markdown",
   "id": "38e6ade5",
   "metadata": {},
   "source": [
    "### Install client SDK\n",
    "\n",
    "Install the LlamaIndex compatible MCP Toolbox SDK package before getting started:"
   ]
  },
  {
   "cell_type": "code",
   "execution_count": null,
   "id": "305d03e7",
   "metadata": {},
   "outputs": [],
   "source": [
    "pip install toolbox-llamaindex"
   ]
  },
  {
   "cell_type": "markdown",
   "id": "966b587b",
   "metadata": {},
   "source": [
    "### Loading Toolbox Tools\n",
    "\n",
    "Once your Toolbox server is configured and up and running, you can load tools from your server:"
   ]
  },
  {
   "cell_type": "code",
   "execution_count": null,
   "id": "28c47c62",
   "metadata": {},
   "outputs": [],
   "source": [
    "import asyncio\n",
    "import os\n",
    "from llama_index.core.agent.workflow import AgentWorkflow\n",
    "from llama_index.core.workflow import Context\n",
    "from llama_index.llms.google_genai import GoogleGenAI\n",
    "from toolbox_llamaindex import ToolboxClient\n",
    "\n",
    "\n",
    "async def run_application():\n",
    "    llm = GoogleGenAI(\n",
    "        model=\"gemini-2.0-flash-001\",\n",
    "        vertexai_config={\"project\": \"project-id\", \"location\": \"us-central1\"},\n",
    "    )\n",
    "    # llm = GoogleGenAI(\n",
    "    #     api_key=os.getenv(\"GOOGLE_API_KEY\"),\n",
    "    #     model=\"gemini-2.0-flash-001\",\n",
    "    # )\n",
    "\n",
    "    # Load the tools from the Toolbox server\n",
    "    async with ToolboxClient(\"http://127.0.0.1:5000\") as client:\n",
    "        tools = await client.aload_toolset()\n",
    "\n",
    "        agent = AgentWorkflow.from_tools_or_functions(\n",
    "            tools,\n",
    "            llm=llm,\n",
    "        )\n",
    "        ctx = Context(agent)\n",
    "        query = \"Ask some question\"\n",
    "        response = agent.run(user_msg=query, ctx=ctx)\n",
    "        print(f\"---- {query} ----\")\n",
    "        print(str(response))\n",
    "\n",
    "\n",
    "asyncio.run(run_application())"
   ]
  },
  {
   "cell_type": "markdown",
   "id": "ffcfb58e",
   "metadata": {},
   "source": [
    "### Advanced Toolbox Features\n",
    "\n",
    "Toolbox has a variety of features to make developing Gen AI tools for databases.\n",
    "For more information, read more about the following features:\n",
    "\n",
    "* [Authenticated Parameters](https://googleapis.github.io/genai-toolbox/resources/tools/#authenticated-parameters): bind tool inputs to values from OIDC tokens automatically, making it easy to run sensitive queries without potentially leaking data\n",
    "* [Authorized Invocations](https://googleapis.github.io/genai-toolbox/resources/tools/#authorized-invocations): restrict access to use a tool based on the users Auth token\n",
    "* [OpenTelemetry](https://googleapis.github.io/genai-toolbox/how-to/export_telemetry/): get metrics and tracing from Toolbox with OpenTelemetry"
   ]
  }
 ],
 "metadata": {
  "kernelspec": {
   "display_name": "senseAIenv",
   "language": "python",
   "name": "python3"
  },
  "language_info": {
   "name": "python"
  }
 },
 "nbformat": 4,
 "nbformat_minor": 5
}
