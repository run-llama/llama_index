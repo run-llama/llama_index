{
 "cells": [
  {
   "cell_type": "markdown",
   "metadata": {},
   "source": [
    "<a href=\"https://colab.research.google.com/github/run-llama/llama_index/blob/main/docs/docs/examples/query_engine/JSONalyze_query_engine.ipynb\" target=\"_parent\"><img src=\"https://colab.research.google.com/assets/colab-badge.svg\" alt=\"Open In Colab\"/></a>\n",
    "\n",
    "# JSONalyze Query Engine"
   ]
  },
  {
   "cell_type": "markdown",
   "metadata": {},
   "source": [
    "JSONalyze, or JSON Analyze Query Engine is designed to be wired typically after a calling(by agent, etc) of APIs, where we have the returned value as bulk instances of rows, and the next step is to perform statistical analysis on the data.\n",
    "\n",
    "With JSONalyze, under the hood, in-memory SQLite table is created with the JSON List loaded, the query engine is able to perform SQL queries on the data, and return the Query Result as answer to the analytical questions.\n",
    "\n",
    "This is a very simple example of how to use JSONalyze Query Engine.\n",
    "\n",
    "First let's install llama-index."
   ]
  },
  {
   "cell_type": "code",
   "execution_count": null,
   "metadata": {},
   "outputs": [],
   "source": [
    "%pip install llama-index-llms-openai"
   ]
  },
  {
   "cell_type": "code",
   "execution_count": null,
   "metadata": {},
   "outputs": [],
   "source": [
    "%pip install llama-index"
   ]
  },
  {
   "cell_type": "code",
   "execution_count": null,
   "metadata": {},
   "outputs": [],
   "source": [
    "# JSONalyze Query Engine rely on sqlite-utils\n",
    "%pip install sqlite-utils"
   ]
  },
  {
   "cell_type": "code",
   "execution_count": null,
   "metadata": {},
   "outputs": [],
   "source": [
    "import logging\n",
    "import sys\n",
    "\n",
    "logging.basicConfig(stream=sys.stdout, level=logging.INFO)\n",
    "logging.getLogger().addHandler(logging.StreamHandler(stream=sys.stdout))"
   ]
  },
  {
   "cell_type": "code",
   "execution_count": null,
   "metadata": {},
   "outputs": [],
   "source": [
    "import os\n",
    "import openai\n",
    "\n",
    "os.environ[\"OPENAI_API_KEY\"] = \"YOUR_KEY_HERE\"\n",
    "openai.api_key = os.environ[\"OPENAI_API_KEY\"]"
   ]
  },
  {
   "cell_type": "code",
   "execution_count": null,
   "metadata": {},
   "outputs": [],
   "source": [
    "from IPython.display import Markdown, display"
   ]
  },
  {
   "cell_type": "markdown",
   "metadata": {},
   "source": [
    "Let's assume we have a list of JSON(already loaded as List of Dicts) as follows:"
   ]
  },
  {
   "cell_type": "code",
   "execution_count": null,
   "metadata": {},
   "outputs": [],
   "source": [
    "json_list = [\n",
    "    {\n",
    "        \"name\": \"John Doe\",\n",
    "        \"age\": 25,\n",
    "        \"major\": \"Computer Science\",\n",
    "        \"email\": \"john.doe@example.com\",\n",
    "        \"address\": \"123 Main St\",\n",
    "        \"city\": \"New York\",\n",
    "        \"state\": \"NY\",\n",
    "        \"country\": \"USA\",\n",
    "        \"phone\": \"+1 123-456-7890\",\n",
    "        \"occupation\": \"Software Engineer\",\n",
    "    },\n",
    "    {\n",
    "        \"name\": \"Jane Smith\",\n",
    "        \"age\": 30,\n",
    "        \"major\": \"Business Administration\",\n",
    "        \"email\": \"jane.smith@example.com\",\n",
    "        \"address\": \"456 Elm St\",\n",
    "        \"city\": \"San Francisco\",\n",
    "        \"state\": \"CA\",\n",
    "        \"country\": \"USA\",\n",
    "        \"phone\": \"+1 234-567-8901\",\n",
    "        \"occupation\": \"Marketing Manager\",\n",
    "    },\n",
    "    {\n",
    "        \"name\": \"Michael Johnson\",\n",
    "        \"age\": 35,\n",
    "        \"major\": \"Finance\",\n",
    "        \"email\": \"michael.johnson@example.com\",\n",
    "        \"address\": \"789 Oak Ave\",\n",
    "        \"city\": \"Chicago\",\n",
    "        \"state\": \"IL\",\n",
    "        \"country\": \"USA\",\n",
    "        \"phone\": \"+1 345-678-9012\",\n",
    "        \"occupation\": \"Financial Analyst\",\n",
    "    },\n",
    "    {\n",
    "        \"name\": \"Emily Davis\",\n",
    "        \"age\": 28,\n",
    "        \"major\": \"Psychology\",\n",
    "        \"email\": \"emily.davis@example.com\",\n",
    "        \"address\": \"234 Pine St\",\n",
    "        \"city\": \"Los Angeles\",\n",
    "        \"state\": \"CA\",\n",
    "        \"country\": \"USA\",\n",
    "        \"phone\": \"+1 456-789-0123\",\n",
    "        \"occupation\": \"Psychologist\",\n",
    "    },\n",
    "    {\n",
    "        \"name\": \"Alex Johnson\",\n",
    "        \"age\": 27,\n",
    "        \"major\": \"Engineering\",\n",
    "        \"email\": \"alex.johnson@example.com\",\n",
    "        \"address\": \"567 Cedar Ln\",\n",
    "        \"city\": \"Seattle\",\n",
    "        \"state\": \"WA\",\n",
    "        \"country\": \"USA\",\n",
    "        \"phone\": \"+1 567-890-1234\",\n",
    "        \"occupation\": \"Civil Engineer\",\n",
    "    },\n",
    "    {\n",
    "        \"name\": \"Jessica Williams\",\n",
    "        \"age\": 32,\n",
    "        \"major\": \"Biology\",\n",
    "        \"email\": \"jessica.williams@example.com\",\n",
    "        \"address\": \"890 Walnut Ave\",\n",
    "        \"city\": \"Boston\",\n",
    "        \"state\": \"MA\",\n",
    "        \"country\": \"USA\",\n",
    "        \"phone\": \"+1 678-901-2345\",\n",
    "        \"occupation\": \"Biologist\",\n",
    "    },\n",
    "    {\n",
    "        \"name\": \"Matthew Brown\",\n",
    "        \"age\": 26,\n",
    "        \"major\": \"English Literature\",\n",
    "        \"email\": \"matthew.brown@example.com\",\n",
    "        \"address\": \"123 Peach St\",\n",
    "        \"city\": \"Atlanta\",\n",
    "        \"state\": \"GA\",\n",
    "        \"country\": \"USA\",\n",
    "        \"phone\": \"+1 789-012-3456\",\n",
    "        \"occupation\": \"Writer\",\n",
    "    },\n",
    "    {\n",
    "        \"name\": \"Olivia Wilson\",\n",
    "        \"age\": 29,\n",
    "        \"major\": \"Art\",\n",
    "        \"email\": \"olivia.wilson@example.com\",\n",
    "        \"address\": \"456 Plum Ave\",\n",
    "        \"city\": \"Miami\",\n",
    "        \"state\": \"FL\",\n",
    "        \"country\": \"USA\",\n",
    "        \"phone\": \"+1 890-123-4567\",\n",
    "        \"occupation\": \"Artist\",\n",
    "    },\n",
    "    {\n",
    "        \"name\": \"Daniel Thompson\",\n",
    "        \"age\": 31,\n",
    "        \"major\": \"Physics\",\n",
    "        \"email\": \"daniel.thompson@example.com\",\n",
    "        \"address\": \"789 Apple St\",\n",
    "        \"city\": \"Denver\",\n",
    "        \"state\": \"CO\",\n",
    "        \"country\": \"USA\",\n",
    "        \"phone\": \"+1 901-234-5678\",\n",
    "        \"occupation\": \"Physicist\",\n",
    "    },\n",
    "    {\n",
    "        \"name\": \"Sophia Clark\",\n",
    "        \"age\": 27,\n",
    "        \"major\": \"Sociology\",\n",
    "        \"email\": \"sophia.clark@example.com\",\n",
    "        \"address\": \"234 Orange Ln\",\n",
    "        \"city\": \"Austin\",\n",
    "        \"state\": \"TX\",\n",
    "        \"country\": \"USA\",\n",
    "        \"phone\": \"+1 012-345-6789\",\n",
    "        \"occupation\": \"Social Worker\",\n",
    "    },\n",
    "    {\n",
    "        \"name\": \"Christopher Lee\",\n",
    "        \"age\": 33,\n",
    "        \"major\": \"Chemistry\",\n",
    "        \"email\": \"christopher.lee@example.com\",\n",
    "        \"address\": \"567 Mango St\",\n",
    "        \"city\": \"San Diego\",\n",
    "        \"state\": \"CA\",\n",
    "        \"country\": \"USA\",\n",
    "        \"phone\": \"+1 123-456-7890\",\n",
    "        \"occupation\": \"Chemist\",\n",
    "    },\n",
    "    {\n",
    "        \"name\": \"Ava Green\",\n",
    "        \"age\": 28,\n",
    "        \"major\": \"History\",\n",
    "        \"email\": \"ava.green@example.com\",\n",
    "        \"address\": \"890 Cherry Ave\",\n",
    "        \"city\": \"Philadelphia\",\n",
    "        \"state\": \"PA\",\n",
    "        \"country\": \"USA\",\n",
    "        \"phone\": \"+1 234-567-8901\",\n",
    "        \"occupation\": \"Historian\",\n",
    "    },\n",
    "    {\n",
    "        \"name\": \"Ethan Anderson\",\n",
    "        \"age\": 30,\n",
    "        \"major\": \"Business\",\n",
    "        \"email\": \"ethan.anderson@example.com\",\n",
    "        \"address\": \"123 Lemon Ln\",\n",
    "        \"city\": \"Houston\",\n",
    "        \"state\": \"TX\",\n",
    "        \"country\": \"USA\",\n",
    "        \"phone\": \"+1 345-678-9012\",\n",
    "        \"occupation\": \"Entrepreneur\",\n",
    "    },\n",
    "    {\n",
    "        \"name\": \"Isabella Carter\",\n",
    "        \"age\": 28,\n",
    "        \"major\": \"Mathematics\",\n",
    "        \"email\": \"isabella.carter@example.com\",\n",
    "        \"address\": \"456 Grape St\",\n",
    "        \"city\": \"Phoenix\",\n",
    "        \"state\": \"AZ\",\n",
    "        \"country\": \"USA\",\n",
    "        \"phone\": \"+1 456-789-0123\",\n",
    "        \"occupation\": \"Mathematician\",\n",
    "    },\n",
    "    {\n",
    "        \"name\": \"Andrew Walker\",\n",
    "        \"age\": 32,\n",
    "        \"major\": \"Economics\",\n",
    "        \"email\": \"andrew.walker@example.com\",\n",
    "        \"address\": \"789 Berry Ave\",\n",
    "        \"city\": \"Portland\",\n",
    "        \"state\": \"OR\",\n",
    "        \"country\": \"USA\",\n",
    "        \"phone\": \"+1 567-890-1234\",\n",
    "        \"occupation\": \"Economist\",\n",
    "    },\n",
    "    {\n",
    "        \"name\": \"Mia Evans\",\n",
    "        \"age\": 29,\n",
    "        \"major\": \"Political Science\",\n",
    "        \"email\": \"mia.evans@example.com\",\n",
    "        \"address\": \"234 Lime St\",\n",
    "        \"city\": \"Washington\",\n",
    "        \"state\": \"DC\",\n",
    "        \"country\": \"USA\",\n",
    "        \"phone\": \"+1 678-901-2345\",\n",
    "        \"occupation\": \"Political Analyst\",\n",
    "    },\n",
    "]"
   ]
  },
  {
   "cell_type": "markdown",
   "metadata": {},
   "source": [
    "Then, we can create a JSONalyze Query Engine instance, with the JSON List as input."
   ]
  },
  {
   "cell_type": "code",
   "execution_count": null,
   "metadata": {},
   "outputs": [
    {
     "name": "stdout",
     "output_type": "stream",
     "text": [
      "INFO:numexpr.utils:NumExpr defaulting to 8 threads.\n",
      "NumExpr defaulting to 8 threads.\n"
     ]
    }
   ],
   "source": [
    "from llama_index.llms.openai import OpenAI\n",
    "from llama_index.core.query_engine import JSONalyzeQueryEngine\n",
    "\n",
    "llm = OpenAI(model=\"gpt-3.5-turbo\")\n",
    "\n",
    "json_stats_query_engine = JSONalyzeQueryEngine(\n",
    "    list_of_dict=json_list,\n",
    "    llm=llm,\n",
    "    verbose=True,\n",
    ")"
   ]
  },
  {
   "cell_type": "markdown",
   "metadata": {},
   "source": [
    "To demonstrate the Query Engine, let's first create a list of stastical questions, and then we can use the Query Engine to answer the questions."
   ]
  },
  {
   "cell_type": "code",
   "execution_count": null,
   "metadata": {},
   "outputs": [],
   "source": [
    "questions = [\n",
    "    \"What is the average age of the individuals in the dataset?\",\n",
    "    \"What is the maximum age among the individuals?\",\n",
    "    \"What is the minimum age among the individuals?\",\n",
    "    \"How many individuals have a major in Psychology?\",\n",
    "    \"What is the most common major among the individuals?\",\n",
    "    \"What is the percentage of individuals residing in California (CA)?\",\n",
    "    \"How many individuals have an occupation related to science or engineering?\",\n",
    "    \"What is the average length of the email addresses in the dataset?\",\n",
    "    \"How many individuals have a phone number starting with '+1 234'?\",\n",
    "    \"What is the distribution of ages among the individuals?\",\n",
    "]"
   ]
  },
  {
   "cell_type": "markdown",
   "metadata": {},
   "source": [
    "Say we want to know the average of the age of the people in the list, we can use the following query:"
   ]
  },
  {
   "cell_type": "code",
   "execution_count": null,
   "metadata": {},
   "outputs": [
    {
     "name": "stdout",
     "output_type": "stream",
     "text": [
      "\u001b[1;3;32mQuery: What is the average age of the individuals in the dataset?\n",
      "\u001b[0mINFO:httpx:HTTP Request: POST https://api.openai.com/v1/chat/completions \"HTTP/1.1 200 OK\"\n",
      "HTTP Request: POST https://api.openai.com/v1/chat/completions \"HTTP/1.1 200 OK\"\n",
      "\u001b[1;3;34mSQL Query: SELECT AVG(age) FROM items\n",
      "\u001b[0m\u001b[1;3;36mTable Schema: {'name': <class 'str'>, 'age': <class 'int'>, 'major': <class 'str'>, 'email': <class 'str'>, 'address': <class 'str'>, 'city': <class 'str'>, 'state': <class 'str'>, 'country': <class 'str'>, 'phone': <class 'str'>, 'occupation': <class 'str'>}\n",
      "\u001b[0m\u001b[1;3;33mSQL Response: [{'AVG(age)': 29.375}]\n",
      "\u001b[0mINFO:httpx:HTTP Request: POST https://api.openai.com/v1/chat/completions \"HTTP/1.1 200 OK\"\n",
      "HTTP Request: POST https://api.openai.com/v1/chat/completions \"HTTP/1.1 200 OK\"\n",
      "\u001b[1;3;35mResponse: The average age of the individuals in the dataset is 29.375.\u001b[0m"
     ]
    },
    {
     "data": {
      "text/markdown": [
       "> Question: What is the average age of the individuals in the dataset?"
      ],
      "text/plain": [
       "<IPython.core.display.Markdown object>"
      ]
     },
     "metadata": {},
     "output_type": "display_data"
    },
    {
     "data": {
      "text/markdown": [
       "Answer: The average age of the individuals in the dataset is 29.375."
      ],
      "text/plain": [
       "<IPython.core.display.Markdown object>"
      ]
     },
     "metadata": {},
     "output_type": "display_data"
    }
   ],
   "source": [
    "display(\n",
    "    Markdown(\"> Question: {}\".format(questions[0])),\n",
    "    Markdown(\"Answer: {}\".format(json_stats_query_engine.query(questions[0]))),\n",
    ")"
   ]
  },
  {
   "cell_type": "markdown",
   "metadata": {},
   "source": [
    "We can also use the Query Engine to answer other questions:"
   ]
  },
  {
   "cell_type": "code",
   "execution_count": null,
   "metadata": {},
   "outputs": [
    {
     "name": "stdout",
     "output_type": "stream",
     "text": [
      "\u001b[1;3;32mQuery: What is the most common major among the individuals?\n",
      "\u001b[0mINFO:httpx:HTTP Request: POST https://api.openai.com/v1/chat/completions \"HTTP/1.1 200 OK\"\n",
      "HTTP Request: POST https://api.openai.com/v1/chat/completions \"HTTP/1.1 200 OK\"\n",
      "\u001b[1;3;34mSQL Query: SELECT major, COUNT(*) as count\n",
      "FROM items\n",
      "GROUP BY major\n",
      "ORDER BY count DESC\n",
      "LIMIT 1;\n",
      "\u001b[0m\u001b[1;3;36mTable Schema: {'name': <class 'str'>, 'age': <class 'int'>, 'major': <class 'str'>, 'email': <class 'str'>, 'address': <class 'str'>, 'city': <class 'str'>, 'state': <class 'str'>, 'country': <class 'str'>, 'phone': <class 'str'>, 'occupation': <class 'str'>}\n",
      "\u001b[0m\u001b[1;3;33mSQL Response: [{'major': 'Sociology', 'count': 1}]\n",
      "\u001b[0mINFO:httpx:HTTP Request: POST https://api.openai.com/v1/chat/completions \"HTTP/1.1 200 OK\"\n",
      "HTTP Request: POST https://api.openai.com/v1/chat/completions \"HTTP/1.1 200 OK\"\n",
      "\u001b[1;3;35mResponse: The most common major among the individuals is Sociology.\u001b[0m"
     ]
    },
    {
     "data": {
      "text/markdown": [
       "> Question: What is the most common major among the individuals?"
      ],
      "text/plain": [
       "<IPython.core.display.Markdown object>"
      ]
     },
     "metadata": {},
     "output_type": "display_data"
    },
    {
     "data": {
      "text/markdown": [
       "Answer: The most common major among the individuals is Sociology."
      ],
      "text/plain": [
       "<IPython.core.display.Markdown object>"
      ]
     },
     "metadata": {},
     "output_type": "display_data"
    }
   ],
   "source": [
    "display(\n",
    "    Markdown(\"> Question: {}\".format(questions[4])),\n",
    "    Markdown(\"Answer: {}\".format(json_stats_query_engine.query(questions[4]))),\n",
    ")"
   ]
  },
  {
   "cell_type": "code",
   "execution_count": null,
   "metadata": {},
   "outputs": [
    {
     "name": "stdout",
     "output_type": "stream",
     "text": [
      "\u001b[1;3;32mQuery: What is the average length of the email addresses in the dataset?\n",
      "\u001b[0mINFO:httpx:HTTP Request: POST https://api.openai.com/v1/chat/completions \"HTTP/1.1 200 OK\"\n",
      "HTTP Request: POST https://api.openai.com/v1/chat/completions \"HTTP/1.1 200 OK\"\n",
      "\u001b[1;3;34mSQL Query: SELECT AVG(LENGTH(email)) FROM items\n",
      "\u001b[0m\u001b[1;3;36mTable Schema: {'name': <class 'str'>, 'age': <class 'int'>, 'major': <class 'str'>, 'email': <class 'str'>, 'address': <class 'str'>, 'city': <class 'str'>, 'state': <class 'str'>, 'country': <class 'str'>, 'phone': <class 'str'>, 'occupation': <class 'str'>}\n",
      "\u001b[0m\u001b[1;3;33mSQL Response: [{'AVG(LENGTH(email))': 24.5}]\n",
      "\u001b[0mINFO:httpx:HTTP Request: POST https://api.openai.com/v1/chat/completions \"HTTP/1.1 200 OK\"\n",
      "HTTP Request: POST https://api.openai.com/v1/chat/completions \"HTTP/1.1 200 OK\"\n",
      "\u001b[1;3;35mResponse: The average length of the email addresses in the dataset is 24.5 characters.\u001b[0m"
     ]
    },
    {
     "data": {
      "text/markdown": [
       "> Question: What is the average length of the email addresses in the dataset?"
      ],
      "text/plain": [
       "<IPython.core.display.Markdown object>"
      ]
     },
     "metadata": {},
     "output_type": "display_data"
    },
    {
     "data": {
      "text/markdown": [
       "Answer: The average length of the email addresses in the dataset is 24.5 characters."
      ],
      "text/plain": [
       "<IPython.core.display.Markdown object>"
      ]
     },
     "metadata": {},
     "output_type": "display_data"
    }
   ],
   "source": [
    "display(\n",
    "    Markdown(\"> Question: {}\".format(questions[7])),\n",
    "    Markdown(\"Answer: {}\".format(json_stats_query_engine.query(questions[7]))),\n",
    ")"
   ]
  },
  {
   "cell_type": "code",
   "execution_count": null,
   "metadata": {},
   "outputs": [
    {
     "name": "stdout",
     "output_type": "stream",
     "text": [
      "\u001b[1;3;32mQuery: What is the percentage of individuals residing in California (CA)?\n",
      "\u001b[0mINFO:httpx:HTTP Request: POST https://api.openai.com/v1/chat/completions \"HTTP/1.1 200 OK\"\n",
      "HTTP Request: POST https://api.openai.com/v1/chat/completions \"HTTP/1.1 200 OK\"\n",
      "\u001b[1;3;34mSQL Query: SELECT (COUNT(*) * 100.0 / (SELECT COUNT(*) FROM items)) AS percentage\n",
      "FROM items\n",
      "WHERE state = 'CA'\n",
      "\u001b[0m\u001b[1;3;36mTable Schema: {'name': <class 'str'>, 'age': <class 'int'>, 'major': <class 'str'>, 'email': <class 'str'>, 'address': <class 'str'>, 'city': <class 'str'>, 'state': <class 'str'>, 'country': <class 'str'>, 'phone': <class 'str'>, 'occupation': <class 'str'>}\n",
      "\u001b[0m\u001b[1;3;33mSQL Response: [{'percentage': 18.75}]\n",
      "\u001b[0mINFO:httpx:HTTP Request: POST https://api.openai.com/v1/chat/completions \"HTTP/1.1 200 OK\"\n",
      "HTTP Request: POST https://api.openai.com/v1/chat/completions \"HTTP/1.1 200 OK\"\n",
      "\u001b[1;3;35mResponse: The percentage of individuals residing in California (CA) is 18.75%.\u001b[0m"
     ]
    },
    {
     "data": {
      "text/markdown": [
       "> Question: What is the percentage of individuals residing in California (CA)?"
      ],
      "text/plain": [
       "<IPython.core.display.Markdown object>"
      ]
     },
     "metadata": {},
     "output_type": "display_data"
    },
    {
     "data": {
      "text/markdown": [
       "Answer: The percentage of individuals residing in California (CA) is 18.75%."
      ],
      "text/plain": [
       "<IPython.core.display.Markdown object>"
      ]
     },
     "metadata": {},
     "output_type": "display_data"
    }
   ],
   "source": [
    "display(\n",
    "    Markdown(\"> Question: {}\".format(questions[5])),\n",
    "    Markdown(\"Answer: {}\".format(json_stats_query_engine.query(questions[5]))),\n",
    ")"
   ]
  },
  {
   "cell_type": "code",
   "execution_count": null,
   "metadata": {},
   "outputs": [
    {
     "name": "stdout",
     "output_type": "stream",
     "text": [
      "\u001b[1;3;32mQuery: What is the distribution of ages among the individuals?\n",
      "\u001b[0mINFO:httpx:HTTP Request: POST https://api.openai.com/v1/chat/completions \"HTTP/1.1 200 OK\"\n",
      "HTTP Request: POST https://api.openai.com/v1/chat/completions \"HTTP/1.1 200 OK\"\n",
      "\u001b[1;3;34mSQL Query: SELECT age, COUNT(*) as count\n",
      "FROM items\n",
      "GROUP BY age\n",
      "\u001b[0m\u001b[1;3;36mTable Schema: {'name': <class 'str'>, 'age': <class 'int'>, 'major': <class 'str'>, 'email': <class 'str'>, 'address': <class 'str'>, 'city': <class 'str'>, 'state': <class 'str'>, 'country': <class 'str'>, 'phone': <class 'str'>, 'occupation': <class 'str'>}\n",
      "\u001b[0m\u001b[1;3;33mSQL Response: [{'age': 25, 'count': 1}, {'age': 26, 'count': 1}, {'age': 27, 'count': 2}, {'age': 28, 'count': 3}, {'age': 29, 'count': 2}, {'age': 30, 'count': 2}, {'age': 31, 'count': 1}, {'age': 32, 'count': 2}, {'age': 33, 'count': 1}, {'age': 35, 'count': 1}]\n",
      "\u001b[0mINFO:httpx:HTTP Request: POST https://api.openai.com/v1/chat/completions \"HTTP/1.1 200 OK\"\n",
      "HTTP Request: POST https://api.openai.com/v1/chat/completions \"HTTP/1.1 200 OK\"\n",
      "\u001b[1;3;35mResponse: The distribution of ages among the individuals is as follows:\n",
      "- 1 individual is 25 years old\n",
      "- 1 individual is 26 years old\n",
      "- 2 individuals are 27 years old\n",
      "- 3 individuals are 28 years old\n",
      "- 2 individuals are 29 years old\n",
      "- 2 individuals are 30 years old\n",
      "- 1 individual is 31 years old\n",
      "- 2 individuals are 32 years old\n",
      "- 1 individual is 33 years old\n",
      "- 1 individual is 35 years old\u001b[0m"
     ]
    },
    {
     "data": {
      "text/markdown": [
       "> Question: What is the distribution of ages among the individuals?"
      ],
      "text/plain": [
       "<IPython.core.display.Markdown object>"
      ]
     },
     "metadata": {},
     "output_type": "display_data"
    },
    {
     "data": {
      "text/markdown": [
       "Answer: The distribution of ages among the individuals is as follows:\n",
       "- 1 individual is 25 years old\n",
       "- 1 individual is 26 years old\n",
       "- 2 individuals are 27 years old\n",
       "- 3 individuals are 28 years old\n",
       "- 2 individuals are 29 years old\n",
       "- 2 individuals are 30 years old\n",
       "- 1 individual is 31 years old\n",
       "- 2 individuals are 32 years old\n",
       "- 1 individual is 33 years old\n",
       "- 1 individual is 35 years old"
      ],
      "text/plain": [
       "<IPython.core.display.Markdown object>"
      ]
     },
     "metadata": {},
     "output_type": "display_data"
    }
   ],
   "source": [
    "display(\n",
    "    Markdown(\"> Question: {}\".format(questions[9])),\n",
    "    Markdown(\"Answer: {}\".format(json_stats_query_engine.query(questions[9]))),\n",
    ")"
   ]
  },
  {
   "cell_type": "code",
   "execution_count": null,
   "metadata": {},
   "outputs": [],
   "source": [
    "# e2e test async\n",
    "\n",
    "json_stats_aquery_engine = JSONalyzeQueryEngine(\n",
    "    list_of_dict=json_list,\n",
    "    llm=llm,\n",
    "    verbose=True,\n",
    "    use_async=True,\n",
    ")"
   ]
  },
  {
   "cell_type": "code",
   "execution_count": null,
   "metadata": {},
   "outputs": [
    {
     "name": "stdout",
     "output_type": "stream",
     "text": [
      "\u001b[1;3;32mQuery: What is the average length of the email addresses in the dataset?\n",
      "\u001b[0mINFO:httpx:HTTP Request: POST https://api.openai.com/v1/chat/completions \"HTTP/1.1 200 OK\"\n",
      "HTTP Request: POST https://api.openai.com/v1/chat/completions \"HTTP/1.1 200 OK\"\n",
      "\u001b[1;3;34mSQL Query: SELECT AVG(LENGTH(email)) FROM items\n",
      "\u001b[0m\u001b[1;3;36mTable Schema: {'name': <class 'str'>, 'age': <class 'int'>, 'major': <class 'str'>, 'email': <class 'str'>, 'address': <class 'str'>, 'city': <class 'str'>, 'state': <class 'str'>, 'country': <class 'str'>, 'phone': <class 'str'>, 'occupation': <class 'str'>}\n",
      "\u001b[0m\u001b[1;3;33mSQL Response: [{'AVG(LENGTH(email))': 24.5}]\n",
      "\u001b[0mINFO:httpx:HTTP Request: POST https://api.openai.com/v1/chat/completions \"HTTP/1.1 200 OK\"\n",
      "HTTP Request: POST https://api.openai.com/v1/chat/completions \"HTTP/1.1 200 OK\"\n",
      "\u001b[1;3;35mResponse: The average length of the email addresses in the dataset is 24.5 characters.\u001b[0m"
     ]
    },
    {
     "data": {
      "text/markdown": [
       "> Question: What is the average length of the email addresses in the dataset?"
      ],
      "text/plain": [
       "<IPython.core.display.Markdown object>"
      ]
     },
     "metadata": {},
     "output_type": "display_data"
    },
    {
     "data": {
      "text/markdown": [
       "Answer: The average length of the email addresses in the dataset is 24.5 characters."
      ],
      "text/plain": [
       "<IPython.core.display.Markdown object>"
      ]
     },
     "metadata": {},
     "output_type": "display_data"
    }
   ],
   "source": [
    "display(\n",
    "    Markdown(\"> Question: {}\".format(questions[7])),\n",
    "    Markdown(\"Answer: {}\".format(json_stats_query_engine.query(questions[7]))),\n",
    ")"
   ]
  }
 ],
 "metadata": {
  "kernelspec": {
   "display_name": ".venv",
   "language": "python",
   "name": "python3"
  },
  "language_info": {
   "codemirror_mode": {
    "name": "ipython",
    "version": 3
   },
   "file_extension": ".py",
   "mimetype": "text/x-python",
   "name": "python",
   "nbconvert_exporter": "python",
   "pygments_lexer": "ipython3"
  }
 },
 "nbformat": 4,
 "nbformat_minor": 2
}
