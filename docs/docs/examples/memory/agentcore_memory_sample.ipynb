{
 "cells": [
  {
   "cell_type": "markdown",
   "id": "b1872b11",
   "metadata": {},
   "source": [
    "# Memory in Bedrock AgentCore"
   ]
  },
  {
   "cell_type": "markdown",
   "id": "53072ad9",
   "metadata": {},
   "source": [
    "Bedrock AgentCore Memory is a managed AWS service that allows you to create and manage memory resources that store conversation contexts for agents."
   ]
  },
  {
   "cell_type": "markdown",
   "id": "e0fc53ef",
   "metadata": {},
   "source": [
    "To get started, you will need to install LlamaIndex and the AgentCore Memory integration"
   ]
  },
  {
   "cell_type": "code",
   "execution_count": null,
   "id": "36f4fd2a",
   "metadata": {},
   "outputs": [],
   "source": [
    "%pip install llama-index llama-index-memory-bedrock-agentcore"
   ]
  },
  {
   "cell_type": "markdown",
   "id": "18cf5e60",
   "metadata": {},
   "source": [
    "Additionally, you can install the following requirements to follow along with the provided example. The yahoo finance tool is used in the example & the bedrock converse integration is used as the LLM for the FunctionAgent"
   ]
  },
  {
   "cell_type": "code",
   "execution_count": null,
   "id": "149b4dd8-5cd9-461e-b9cc-cc878034ea83",
   "metadata": {},
   "outputs": [],
   "source": [
    "%pip install llama-index-tools-yahoo-finance llama-index-llms-bedrock-converse"
   ]
  },
  {
   "cell_type": "markdown",
   "id": "0df5a87e",
   "metadata": {},
   "source": [
    "Initialize the AgentCore Memory context & AgentCore memory classes"
   ]
  },
  {
   "cell_type": "code",
   "execution_count": null,
   "id": "9f6fcfcd",
   "metadata": {},
   "outputs": [],
   "source": [
    "from llama_index.memory.bedrock_agentcore import (\n",
    "    AgentCoreMemory,\n",
    "    AgentCoreMemoryContext,\n",
    ")\n",
    "\n",
    "context = AgentCoreMemoryContext(\n",
    "    actor_id=\"<REQUIRED>\",\n",
    "    memory_id=\"<REQUIRED>\",\n",
    "    session_id=\"<REQUIRED>\",\n",
    "    memory_strategy_id=\"<OPTIONAL>\",\n",
    "    namespace=\"<OPTIONAL>\",\n",
    ")\n",
    "agentcore_memory = AgentCoreMemory(context=context)"
   ]
  },
  {
   "cell_type": "markdown",
   "id": "7366bdc7",
   "metadata": {},
   "source": [
    "Initialize the FunctionAgent or ReActAgent with any tool and LLM."
   ]
  },
  {
   "cell_type": "code",
   "execution_count": null,
   "id": "a25d58ac",
   "metadata": {},
   "outputs": [],
   "source": [
    "from llama_index.llms.bedrock_converse import BedrockConverse\n",
    "from llama_index.core.agent.workflow import FunctionAgent\n",
    "from llama_index.tools.yahoo_finance import YahooFinanceToolSpec\n",
    "\n",
    "llm = BedrockConverse(model=\"us.anthropic.claude-sonnet-4-20250514-v1:0\")\n",
    "\n",
    "finance_tool_spec = YahooFinanceToolSpec()\n",
    "agent = FunctionAgent(\n",
    "    tools=finance_tool_spec.to_tool_list(),\n",
    "    llm=llm,\n",
    ")"
   ]
  },
  {
   "cell_type": "markdown",
   "id": "760c9700",
   "metadata": {},
   "source": [
    "Invoke the agent's tool to store this in memory."
   ]
  },
  {
   "cell_type": "code",
   "execution_count": null,
   "id": "10fc5e27-acbe-4c05-98a2-f5d4e0777552",
   "metadata": {},
   "outputs": [],
   "source": [
    "response = await agent.run(\n",
    "    \"What is the stock price for Amazon?\", memory=agentcore_memory\n",
    ")\n",
    "\n",
    "print(str(response))"
   ]
  },
  {
   "cell_type": "markdown",
   "id": "e8a50746",
   "metadata": {},
   "source": [
    "Query the agent to consult its memory source for the response."
   ]
  },
  {
   "cell_type": "code",
   "execution_count": null,
   "id": "0c08b2d8",
   "metadata": {},
   "outputs": [],
   "source": [
    "response = await agent.run(\n",
    "    \"What stock prices have I asked for?\", memory=agentcore_memory\n",
    ")\n",
    "\n",
    "print(str(response))"
   ]
  }
 ],
 "metadata": {
  "kernelspec": {
   "display_name": "Python 3 (ipykernel)",
   "language": "python",
   "name": "python3"
  },
  "language_info": {
   "codemirror_mode": {
    "name": "ipython",
    "version": 3
   },
   "file_extension": ".py",
   "mimetype": "text/x-python",
   "name": "python",
   "nbconvert_exporter": "python",
   "pygments_lexer": "ipython3"
  }
 },
 "nbformat": 4,
 "nbformat_minor": 5
}
