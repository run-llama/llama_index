{
 "cells": [
  {
   "attachments": {},
   "cell_type": "markdown",
   "id": "c85d657f",
   "metadata": {},
   "source": [
    "<a href=\"https://colab.research.google.com/github/run-llama/llama_index/blob/main/docs/examples/output_parsing/openai_sub_question.ipynb\" target=\"_parent\"><img src=\"https://colab.research.google.com/assets/colab-badge.svg\" alt=\"Open In Colab\"/></a>"
   ]
  },
  {
   "cell_type": "markdown",
   "id": "c58e17b3-ec09-4e07-8e2e-d19a8e24dd40",
   "metadata": {},
   "source": [
    "# OpenAI function calling for Sub-Question Query Engine"
   ]
  },
  {
   "cell_type": "markdown",
   "id": "d5637f97-60c3-40bb-840f-fc4e217940a7",
   "metadata": {},
   "source": [
    "In this notebook, we showcase how to use OpenAI function calling to improve the robustness of our sub-question query engine.  "
   ]
  },
  {
   "cell_type": "markdown",
   "id": "bd3d24c8-5b2b-4acf-a9de-53134453c186",
   "metadata": {},
   "source": [
    "The sub-question query engine is designed to accept swappable question generators that implement the `BaseQuestionGenerator` interface.  \n",
    "To leverage the power of openai function calling API, we implemented a new `OpenAIQuestionGenerator` (powered by our `OpenAIPydanticProgram`)"
   ]
  },
  {
   "cell_type": "markdown",
   "id": "afa2db97-2a46-4629-a201-d4eb99480f3d",
   "metadata": {},
   "source": [
    "## OpenAI Question Generator"
   ]
  },
  {
   "cell_type": "markdown",
   "id": "3977e961-fb19-495f-89c5-6a283596b459",
   "metadata": {},
   "source": [
    "Unlike the default `LLMQuestionGenerator` that supports generic LLMs via the completion API, `OpenAIQuestionGenerator` only works with the latest OpenAI models that supports the function calling API. \n",
    "\n",
    "The benefit is that these models are fine-tuned to output JSON objects, so we can worry less about output parsing issues."
   ]
  },
  {
   "attachments": {},
   "cell_type": "markdown",
   "id": "61838d6c",
   "metadata": {},
   "source": [
    "If you're opening this Notebook on colab, you will probably need to install LlamaIndex 🦙."
   ]
  },
  {
   "cell_type": "code",
   "execution_count": null,
   "id": "35ef2b15",
   "metadata": {},
   "outputs": [],
   "source": [
    "%pip install llama-index-question-gen-openai"
   ]
  },
  {
   "cell_type": "code",
   "execution_count": null,
   "id": "9fb61358",
   "metadata": {},
   "outputs": [],
   "source": [
    "!pip install llama-index"
   ]
  },
  {
   "cell_type": "code",
   "execution_count": null,
   "id": "85b9e1d3-2f60-4730-8186-7c3c30b6dae5",
   "metadata": {},
   "outputs": [],
   "source": [
    "from llama_index.question_gen.openai import OpenAIQuestionGenerator"
   ]
  },
  {
   "cell_type": "code",
   "execution_count": null,
   "id": "0df7f8ad-c026-4bfc-9a12-52efcb24f9d5",
   "metadata": {},
   "outputs": [],
   "source": [
    "question_gen = OpenAIQuestionGenerator.from_defaults()"
   ]
  },
  {
   "cell_type": "markdown",
   "id": "04039c8c-72df-495d-915c-09d04321bb96",
   "metadata": {},
   "source": [
    "Let's test it out!"
   ]
  },
  {
   "cell_type": "code",
   "execution_count": null,
   "id": "1e40ac6c-6b66-4cf3-9dd6-de02416b7dd5",
   "metadata": {},
   "outputs": [],
   "source": [
    "from llama_index.core.tools import ToolMetadata\n",
    "from llama_index.core import QueryBundle"
   ]
  },
  {
   "cell_type": "code",
   "execution_count": null,
   "id": "77106a07-bccf-471d-8d85-c6438772cf35",
   "metadata": {},
   "outputs": [],
   "source": [
    "tools = [\n",
    "    ToolMetadata(\n",
    "        name=\"march_22\",\n",
    "        description=(\n",
    "            \"Provides information about Uber quarterly financials ending March\"\n",
    "            \" 2022\"\n",
    "        ),\n",
    "    ),\n",
    "    ToolMetadata(\n",
    "        name=\"june_22\",\n",
    "        description=(\n",
    "            \"Provides information about Uber quarterly financials ending June\"\n",
    "            \" 2022\"\n",
    "        ),\n",
    "    ),\n",
    "    ToolMetadata(\n",
    "        name=\"sept_22\",\n",
    "        description=(\n",
    "            \"Provides information about Uber quarterly financials ending\"\n",
    "            \" September 2022\"\n",
    "        ),\n",
    "    ),\n",
    "    ToolMetadata(\n",
    "        name=\"sept_21\",\n",
    "        description=(\n",
    "            \"Provides information about Uber quarterly financials ending\"\n",
    "            \" September 2022\"\n",
    "        ),\n",
    "    ),\n",
    "    ToolMetadata(\n",
    "        name=\"june_21\",\n",
    "        description=(\n",
    "            \"Provides information about Uber quarterly financials ending June\"\n",
    "            \" 2022\"\n",
    "        ),\n",
    "    ),\n",
    "    ToolMetadata(\n",
    "        name=\"march_21\",\n",
    "        description=(\n",
    "            \"Provides information about Uber quarterly financials ending March\"\n",
    "            \" 2022\"\n",
    "        ),\n",
    "    ),\n",
    "]"
   ]
  },
  {
   "cell_type": "code",
   "execution_count": null,
   "id": "82ed271a-bd0d-4b6a-b9e3-987d75f6a4ad",
   "metadata": {},
   "outputs": [],
   "source": [
    "sub_questions = question_gen.generate(\n",
    "    tools=tools,\n",
    "    query=QueryBundle(\n",
    "        \"Compare the fastest growing sectors for Uber in the first two\"\n",
    "        \" quarters of 2022\"\n",
    "    ),\n",
    ")"
   ]
  },
  {
   "cell_type": "code",
   "execution_count": null,
   "id": "2740e60e-c4e6-412a-b46f-70a1f3fe1231",
   "metadata": {},
   "outputs": [
    {
     "data": {
      "text/plain": [
       "[SubQuestion(sub_question='What were the fastest growing sectors for Uber in March 2022?', tool_name='march_22'),\n",
       " SubQuestion(sub_question='What were the fastest growing sectors for Uber in June 2022?', tool_name='june_22')]"
      ]
     },
     "execution_count": null,
     "metadata": {},
     "output_type": "execute_result"
    }
   ],
   "source": [
    "sub_questions"
   ]
  }
 ],
 "metadata": {
  "kernelspec": {
   "display_name": "Python 3 (ipykernel)",
   "language": "python",
   "name": "python3"
  },
  "language_info": {
   "codemirror_mode": {
    "name": "ipython",
    "version": 3
   },
   "file_extension": ".py",
   "mimetype": "text/x-python",
   "name": "python",
   "nbconvert_exporter": "python",
   "pygments_lexer": "ipython3"
  }
 },
 "nbformat": 4,
 "nbformat_minor": 5
}
