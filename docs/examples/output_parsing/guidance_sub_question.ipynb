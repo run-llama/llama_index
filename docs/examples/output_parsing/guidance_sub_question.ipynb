{
 "cells": [
  {
   "attachments": {},
   "cell_type": "markdown",
   "id": "c31570a6",
   "metadata": {},
   "source": [
    "<a href=\"https://colab.research.google.com/github/run-llama/llama_index/blob/main/docs/examples/output_parsing/guidance_sub_question.ipynb\" target=\"_parent\"><img src=\"https://colab.research.google.com/assets/colab-badge.svg\" alt=\"Open In Colab\"/></a>"
   ]
  },
  {
   "attachments": {},
   "cell_type": "markdown",
   "id": "c58e17b3-ec09-4e07-8e2e-d19a8e24dd40",
   "metadata": {},
   "source": [
    "# Guidance for Sub-Question Query Engine"
   ]
  },
  {
   "attachments": {},
   "cell_type": "markdown",
   "id": "d5637f97-60c3-40bb-840f-fc4e217940a7",
   "metadata": {},
   "source": [
    "In this notebook, we showcase how to use [**guidance**](https://github.com/microsoft/guidance) to improve the robustness of our sub-question query engine.  "
   ]
  },
  {
   "attachments": {},
   "cell_type": "markdown",
   "id": "bd3d24c8-5b2b-4acf-a9de-53134453c186",
   "metadata": {},
   "source": [
    "The sub-question query engine is designed to accept swappable question generators that implement the `BaseQuestionGenerator` interface.  \n",
    "To leverage the power of [**guidance**](https://github.com/microsoft/guidance), we implemented a new `GuidanceQuestionGenerator` (powered by our `GuidancePydanticProgram`)"
   ]
  },
  {
   "attachments": {},
   "cell_type": "markdown",
   "id": "afa2db97-2a46-4629-a201-d4eb99480f3d",
   "metadata": {},
   "source": [
    "## Guidance Question Generator"
   ]
  },
  {
   "attachments": {},
   "cell_type": "markdown",
   "id": "3977e961-fb19-495f-89c5-6a283596b459",
   "metadata": {},
   "source": [
    "Unlike the default `LLMQuestionGenerator`, guidance guarantees that we will get the desired structured output, and eliminate output parsing errors."
   ]
  },
  {
   "attachments": {},
   "cell_type": "markdown",
   "id": "f17c7a15",
   "metadata": {},
   "source": [
    "If you're opening this Notebook on colab, you will probably need to install LlamaIndex 🦙."
   ]
  },
  {
   "cell_type": "code",
   "execution_count": null,
   "id": "4ddcbcd9",
   "metadata": {},
   "outputs": [],
   "source": [
    "%pip install llama-index-question-gen-guidance"
   ]
  },
  {
   "cell_type": "code",
   "execution_count": null,
   "id": "0ae0afed",
   "metadata": {},
   "outputs": [],
   "source": [
    "!pip install llama-index"
   ]
  },
  {
   "cell_type": "code",
   "execution_count": null,
   "id": "85b9e1d3-2f60-4730-8186-7c3c30b6dae5",
   "metadata": {},
   "outputs": [],
   "source": [
    "from llama_index.question_gen.guidance import GuidanceQuestionGenerator\n",
    "from guidance.llms import OpenAI as GuidanceOpenAI"
   ]
  },
  {
   "cell_type": "code",
   "execution_count": null,
   "id": "0df7f8ad-c026-4bfc-9a12-52efcb24f9d5",
   "metadata": {},
   "outputs": [],
   "source": [
    "question_gen = GuidanceQuestionGenerator.from_defaults(\n",
    "    guidance_llm=GuidanceOpenAI(\"text-davinci-003\"), verbose=False\n",
    ")"
   ]
  },
  {
   "attachments": {},
   "cell_type": "markdown",
   "id": "04039c8c-72df-495d-915c-09d04321bb96",
   "metadata": {},
   "source": [
    "Let's test it out!"
   ]
  },
  {
   "cell_type": "code",
   "execution_count": null,
   "id": "1e40ac6c-6b66-4cf3-9dd6-de02416b7dd5",
   "metadata": {},
   "outputs": [],
   "source": [
    "from llama_index.core.tools import ToolMetadata\n",
    "from llama_index.core import QueryBundle"
   ]
  },
  {
   "cell_type": "code",
   "execution_count": null,
   "id": "77106a07-bccf-471d-8d85-c6438772cf35",
   "metadata": {},
   "outputs": [],
   "source": [
    "tools = [\n",
    "    ToolMetadata(\n",
    "        name=\"lyft_10k\",\n",
    "        description=\"Provides information about Lyft financials for year 2021\",\n",
    "    ),\n",
    "    ToolMetadata(\n",
    "        name=\"uber_10k\",\n",
    "        description=\"Provides information about Uber financials for year 2021\",\n",
    "    ),\n",
    "]"
   ]
  },
  {
   "cell_type": "code",
   "execution_count": null,
   "id": "82ed271a-bd0d-4b6a-b9e3-987d75f6a4ad",
   "metadata": {},
   "outputs": [],
   "source": [
    "sub_questions = question_gen.generate(\n",
    "    tools=tools,\n",
    "    query=QueryBundle(\"Compare and contrast Uber and Lyft financial in 2021\"),\n",
    ")"
   ]
  },
  {
   "cell_type": "code",
   "execution_count": null,
   "id": "2740e60e-c4e6-412a-b46f-70a1f3fe1231",
   "metadata": {},
   "outputs": [
    {
     "data": {
      "text/plain": [
       "[SubQuestion(sub_question='What is the revenue of Uber', tool_name='uber_10k'),\n",
       " SubQuestion(sub_question='What is the EBITDA of Uber', tool_name='uber_10k'),\n",
       " SubQuestion(sub_question='What is the net income of Uber', tool_name='uber_10k'),\n",
       " SubQuestion(sub_question='What is the revenue of Lyft', tool_name='lyft_10k'),\n",
       " SubQuestion(sub_question='What is the EBITDA of Lyft', tool_name='lyft_10k'),\n",
       " SubQuestion(sub_question='What is the net income of Lyft', tool_name='lyft_10k')]"
      ]
     },
     "execution_count": null,
     "metadata": {},
     "output_type": "execute_result"
    }
   ],
   "source": [
    "sub_questions"
   ]
  },
  {
   "attachments": {},
   "cell_type": "markdown",
   "id": "69c65ed8-e095-4ad9-9e7b-c18c58b45723",
   "metadata": {},
   "source": [
    "## Using Guidance Question Generator with Sub-Question Query Engine"
   ]
  },
  {
   "attachments": {},
   "cell_type": "markdown",
   "id": "d59ca5bb-604f-402b-ac53-fc093141cc52",
   "metadata": {},
   "source": [
    "### Prepare data and base query engines"
   ]
  },
  {
   "cell_type": "code",
   "execution_count": null,
   "id": "7d808a51-f50f-4596-a1f1-2644d2d1e438",
   "metadata": {},
   "outputs": [],
   "source": [
    "from llama_index.core import SimpleDirectoryReader, VectorStoreIndex\n",
    "from llama_index.core.response.pprint_utils import pprint_response\n",
    "\n",
    "from llama_index.core.tools import QueryEngineTool, ToolMetadata\n",
    "from llama_index.core.query_engine import SubQuestionQueryEngine"
   ]
  },
  {
   "attachments": {},
   "cell_type": "markdown",
   "id": "f5614e9b",
   "metadata": {},
   "source": [
    "Download Data"
   ]
  },
  {
   "cell_type": "code",
   "execution_count": null,
   "id": "c07937eb",
   "metadata": {},
   "outputs": [],
   "source": [
    "!mkdir -p 'data/10k/'\n",
    "!wget 'https://raw.githubusercontent.com/run-llama/llama_index/main/docs/examples/data/10k/uber_2021.pdf' -O 'data/10k/uber_2021.pdf'\n",
    "!wget 'https://raw.githubusercontent.com/run-llama/llama_index/main/docs/examples/data/10k/lyft_2021.pdf' -O 'data/10k/lyft_2021.pdf'"
   ]
  },
  {
   "cell_type": "code",
   "execution_count": null,
   "id": "c094d93c-c052-4a7e-8285-29c5470d7dac",
   "metadata": {},
   "outputs": [],
   "source": [
    "lyft_docs = SimpleDirectoryReader(\n",
    "    input_files=[\"./data/10k/lyft_2021.pdf\"]\n",
    ").load_data()\n",
    "uber_docs = SimpleDirectoryReader(\n",
    "    input_files=[\"./data/10k/uber_2021.pdf\"]\n",
    ").load_data()"
   ]
  },
  {
   "cell_type": "code",
   "execution_count": null,
   "id": "dc42a030-6f04-453e-86ee-3be89da2fedd",
   "metadata": {},
   "outputs": [],
   "source": [
    "lyft_index = VectorStoreIndex.from_documents(lyft_docs)\n",
    "uber_index = VectorStoreIndex.from_documents(uber_docs)"
   ]
  },
  {
   "cell_type": "code",
   "execution_count": null,
   "id": "db53f37a-3050-4f58-99c9-5e8862ee3326",
   "metadata": {},
   "outputs": [],
   "source": [
    "lyft_engine = lyft_index.as_query_engine(similarity_top_k=3)\n",
    "uber_engine = uber_index.as_query_engine(similarity_top_k=3)"
   ]
  },
  {
   "attachments": {},
   "cell_type": "markdown",
   "id": "15e5f0da-3d3e-41fb-816f-893f7b71587e",
   "metadata": {},
   "source": [
    "### Construct sub-question query engine and run some queries!"
   ]
  },
  {
   "cell_type": "code",
   "execution_count": null,
   "id": "1e2fc41c-a712-4637-bf97-214b9cf097c9",
   "metadata": {},
   "outputs": [],
   "source": [
    "query_engine_tools = [\n",
    "    QueryEngineTool(\n",
    "        query_engine=lyft_engine,\n",
    "        metadata=ToolMetadata(\n",
    "            name=\"lyft_10k\",\n",
    "            description=(\n",
    "                \"Provides information about Lyft financials for year 2021\"\n",
    "            ),\n",
    "        ),\n",
    "    ),\n",
    "    QueryEngineTool(\n",
    "        query_engine=uber_engine,\n",
    "        metadata=ToolMetadata(\n",
    "            name=\"uber_10k\",\n",
    "            description=(\n",
    "                \"Provides information about Uber financials for year 2021\"\n",
    "            ),\n",
    "        ),\n",
    "    ),\n",
    "]\n",
    "\n",
    "s_engine = SubQuestionQueryEngine.from_defaults(\n",
    "    question_gen=question_gen,  # use guidance based question_gen defined above\n",
    "    query_engine_tools=query_engine_tools,\n",
    ")"
   ]
  },
  {
   "cell_type": "code",
   "execution_count": null,
   "id": "22cd64bd-d342-4dad-b640-5ab5342483e1",
   "metadata": {},
   "outputs": [
    {
     "name": "stdout",
     "output_type": "stream",
     "text": [
      "Generated 4 sub questions.\n",
      "\u001b[36;1m\u001b[1;3m[uber_10k] Q: What customer segments grew the fastest for Uber\n",
      "\u001b[0m\u001b[36;1m\u001b[1;3m[uber_10k] A: in 2021?\n",
      "\n",
      "The customer segments that grew the fastest for Uber in 2021 were its Mobility Drivers, Couriers, Riders, and Eaters. These segments experienced growth due to the continued stay-at-home order demand related to COVID-19, as well as Uber's membership programs, such as Uber One, Uber Pass, Eats Pass, and Rides Pass. Additionally, Uber's marketplace-centric advertising helped to connect merchants and brands with its platform network, further driving growth.\n",
      "\u001b[0m\u001b[33;1m\u001b[1;3m[uber_10k] Q: What geographies grew the fastest for Uber\n",
      "\u001b[0m\u001b[33;1m\u001b[1;3m[uber_10k] A: \n",
      "Based on the context information, it appears that Uber experienced the most growth in large metropolitan areas, such as Chicago, Miami, New York City, Sao Paulo, and London. Additionally, Uber experienced growth in suburban and rural areas, as well as in countries such as Argentina, Germany, Italy, Japan, South Korea, and Spain.\n",
      "\u001b[0m\u001b[38;5;200m\u001b[1;3m[lyft_10k] Q: What customer segments grew the fastest for Lyft\n",
      "\u001b[0m\u001b[38;5;200m\u001b[1;3m[lyft_10k] A: \n",
      "The customer segments that grew the fastest for Lyft were ridesharing, light vehicles, and public transit. Ridesharing grew as Lyft was able to predict demand and proactively incentivize drivers to be available for rides in the right place at the right time. Light vehicles grew as users were looking for options that were more active, usually lower-priced, and often more efficient for short trips during heavy traffic. Public transit grew as Lyft integrated third-party public transit data into the Lyft App to offer users a robust view of transportation options around them.\n",
      "\u001b[0m\u001b[32;1m\u001b[1;3m[lyft_10k] Q: What geographies grew the fastest for Lyft\n",
      "\u001b[0m\u001b[32;1m\u001b[1;3m[lyft_10k] A: \n",
      "It is not possible to answer this question with the given context information.\n",
      "\u001b[0m"
     ]
    }
   ],
   "source": [
    "response = s_engine.query(\n",
    "    \"Compare and contrast the customer segments and geographies that grew the\"\n",
    "    \" fastest\"\n",
    ")"
   ]
  },
  {
   "cell_type": "code",
   "execution_count": null,
   "id": "dc96216d-930e-429a-86bf-bf1907ee9fd3",
   "metadata": {},
   "outputs": [
    {
     "name": "stdout",
     "output_type": "stream",
     "text": [
      "\n",
      "The customer segments that grew the fastest for Uber in 2021 were its Mobility Drivers, Couriers, Riders, and Eaters. These segments experienced growth due to the continued stay-at-home order demand related to COVID-19, as well as Uber's membership programs, such as Uber One, Uber Pass, Eats Pass, and Rides Pass. Additionally, Uber's marketplace-centric advertising helped to connect merchants and brands with its platform network, further driving growth. Uber experienced the most growth in large metropolitan areas, such as Chicago, Miami, New York City, Sao Paulo, and London. Additionally, Uber experienced growth in suburban and rural areas, as well as in countries such as Argentina, Germany, Italy, Japan, South Korea, and Spain.\n",
      "\n",
      "The customer segments that grew the fastest for Lyft were ridesharing, light vehicles, and public transit. Ridesharing grew as Lyft was able to predict demand and proactively incentivize drivers to be available for rides in the right place at the right time. Light vehicles grew as users were looking for options that were more active, usually lower-priced, and often more efficient for short trips during heavy traffic. Public transit grew as Lyft integrated third-party public transit data into the Lyft App to offer users a robust view of transportation options around them. It is not possible to answer the question of which geographies grew the fastest for Lyft with the given context information.\n",
      "\n",
      "In summary, Uber and Lyft both experienced growth in customer segments related to their respective services, such as Mobility Drivers, Couriers, Riders, and Eaters for Uber, and ridesharing, light vehicles, and public transit for Lyft. Uber experienced the most growth in large metropolitan areas, as well as in suburban and rural areas, and in countries such as Argentina, Germany, Italy, Japan, South Korea, and Spain. It is not possible to answer the question of which geographies grew the fastest for Lyft with the given context information.\n"
     ]
    }
   ],
   "source": [
    "print(response)"
   ]
  }
 ],
 "metadata": {
  "kernelspec": {
   "display_name": "Python 3 (ipykernel)",
   "language": "python",
   "name": "python3"
  },
  "language_info": {
   "codemirror_mode": {
    "name": "ipython",
    "version": 3
   },
   "file_extension": ".py",
   "mimetype": "text/x-python",
   "name": "python",
   "nbconvert_exporter": "python",
   "pygments_lexer": "ipython3"
  }
 },
 "nbformat": 4,
 "nbformat_minor": 5
}
