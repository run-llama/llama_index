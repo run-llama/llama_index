{
 "cells": [
  {
   "attachments": {},
   "cell_type": "markdown",
   "id": "bbd91cb2",
   "metadata": {},
   "source": [
    "<a href=\"https://colab.research.google.com/github/run-llama/llama_index/blob/main/docs/examples/vector_stores/existing_data/pinecone_existing_data.ipynb\" target=\"_parent\"><img src=\"https://colab.research.google.com/assets/colab-badge.svg\" alt=\"Open In Colab\"/></a>"
   ]
  },
  {
   "attachments": {},
   "cell_type": "markdown",
   "id": "cc4c32e4-a21f-475f-83f6-65ff89290461",
   "metadata": {},
   "source": [
    "# Guide: Using Vector Store Index with Existing Pinecone Vector Store"
   ]
  },
  {
   "attachments": {},
   "cell_type": "markdown",
   "id": "1c8cc469",
   "metadata": {},
   "source": [
    "If you're opening this Notebook on colab, you will probably need to install LlamaIndex 🦙."
   ]
  },
  {
   "cell_type": "code",
   "execution_count": null,
   "id": "7ed84e8e",
   "metadata": {},
   "outputs": [],
   "source": [
    "%pip install llama-index-embeddings-openai\n",
    "%pip install llama-index-vector-stores-pinecone"
   ]
  },
  {
   "cell_type": "code",
   "execution_count": null,
   "id": "23117696",
   "metadata": {},
   "outputs": [],
   "source": [
    "!pip install llama-index"
   ]
  },
  {
   "cell_type": "code",
   "execution_count": null,
   "id": "d32dfbab-e908-4703-a610-e0f1dd251f81",
   "metadata": {},
   "outputs": [],
   "source": [
    "import os\n",
    "import pinecone"
   ]
  },
  {
   "cell_type": "code",
   "execution_count": null,
   "id": "9329ab7d-bdbe-45be-aeeb-5d9adb4320b3",
   "metadata": {},
   "outputs": [],
   "source": [
    "api_key = os.environ[\"PINECONE_API_KEY\"]\n",
    "pinecone.init(api_key=api_key, environment=\"eu-west1-gcp\")"
   ]
  },
  {
   "attachments": {},
   "cell_type": "markdown",
   "id": "19963148-2eab-4442-8c66-a38b5e09d5d5",
   "metadata": {},
   "source": [
    "## Prepare Sample \"Existing\" Pinecone Vector Store"
   ]
  },
  {
   "attachments": {},
   "cell_type": "markdown",
   "id": "8db94579-5659-44e2-95a6-aee46d34140d",
   "metadata": {},
   "source": [
    "### Create index"
   ]
  },
  {
   "cell_type": "code",
   "execution_count": null,
   "id": "1160409a-ad97-42df-80fb-a436b5f84987",
   "metadata": {},
   "outputs": [
    {
     "name": "stdout",
     "output_type": "stream",
     "text": [
      "['quickstart-index']\n"
     ]
    }
   ],
   "source": [
    "indexes = pinecone.list_indexes()\n",
    "print(indexes)"
   ]
  },
  {
   "cell_type": "code",
   "execution_count": null,
   "id": "14e6c195-2ac2-4f9a-8be3-0bb0dfa8351b",
   "metadata": {},
   "outputs": [],
   "source": [
    "if \"quickstart-index\" not in indexes:\n",
    "    # dimensions are for text-embedding-ada-002\n",
    "    pinecone.create_index(\n",
    "        \"quickstart-index\", dimension=1536, metric=\"euclidean\", pod_type=\"p1\"\n",
    "    )"
   ]
  },
  {
   "cell_type": "code",
   "execution_count": null,
   "id": "ee271a0c-0356-4e93-8915-69a3fbe8b00f",
   "metadata": {},
   "outputs": [],
   "source": [
    "pinecone_index = pinecone.Index(\"quickstart-index\")"
   ]
  },
  {
   "cell_type": "code",
   "execution_count": null,
   "id": "e0f71027-b1d9-40f2-a9a9-9f5c9008375a",
   "metadata": {},
   "outputs": [
    {
     "data": {
      "text/plain": [
       "{}"
      ]
     },
     "execution_count": null,
     "metadata": {},
     "output_type": "execute_result"
    }
   ],
   "source": [
    "pinecone_index.delete(deleteAll=\"true\")"
   ]
  },
  {
   "attachments": {},
   "cell_type": "markdown",
   "id": "a816b14e-7839-4fb6-8844-dba07daaf07a",
   "metadata": {},
   "source": [
    "### Define sample data\n",
    "We create 4 sample books "
   ]
  },
  {
   "cell_type": "code",
   "execution_count": null,
   "id": "6d7c9840-2255-4fbd-b2e2-f5af6a30c5f9",
   "metadata": {},
   "outputs": [],
   "source": [
    "books = [\n",
    "    {\n",
    "        \"title\": \"To Kill a Mockingbird\",\n",
    "        \"author\": \"Harper Lee\",\n",
    "        \"content\": (\n",
    "            \"To Kill a Mockingbird is a novel by Harper Lee published in\"\n",
    "            \" 1960...\"\n",
    "        ),\n",
    "        \"year\": 1960,\n",
    "    },\n",
    "    {\n",
    "        \"title\": \"1984\",\n",
    "        \"author\": \"George Orwell\",\n",
    "        \"content\": (\n",
    "            \"1984 is a dystopian novel by George Orwell published in 1949...\"\n",
    "        ),\n",
    "        \"year\": 1949,\n",
    "    },\n",
    "    {\n",
    "        \"title\": \"The Great Gatsby\",\n",
    "        \"author\": \"F. Scott Fitzgerald\",\n",
    "        \"content\": (\n",
    "            \"The Great Gatsby is a novel by F. Scott Fitzgerald published in\"\n",
    "            \" 1925...\"\n",
    "        ),\n",
    "        \"year\": 1925,\n",
    "    },\n",
    "    {\n",
    "        \"title\": \"Pride and Prejudice\",\n",
    "        \"author\": \"Jane Austen\",\n",
    "        \"content\": (\n",
    "            \"Pride and Prejudice is a novel by Jane Austen published in\"\n",
    "            \" 1813...\"\n",
    "        ),\n",
    "        \"year\": 1813,\n",
    "    },\n",
    "]"
   ]
  },
  {
   "attachments": {},
   "cell_type": "markdown",
   "id": "2d96f974-39cb-4388-a315-e73b7ccf01db",
   "metadata": {},
   "source": [
    "### Add data\n",
    "We add the sample books to our Weaviate \"Book\" class (with embedding of content field"
   ]
  },
  {
   "cell_type": "code",
   "execution_count": null,
   "id": "1c6aa5bf-466f-4a08-913f-18b65f2e75dd",
   "metadata": {},
   "outputs": [],
   "source": [
    "import uuid\n",
    "from llama_index.embeddings.openai import OpenAIEmbedding\n",
    "\n",
    "embed_model = OpenAIEmbedding()"
   ]
  },
  {
   "cell_type": "code",
   "execution_count": null,
   "id": "51baeaa1-9bba-4421-b978-8fa0bfafe4f3",
   "metadata": {},
   "outputs": [
    {
     "data": {
      "text/plain": [
       "{'upserted_count': 4}"
      ]
     },
     "execution_count": null,
     "metadata": {},
     "output_type": "execute_result"
    }
   ],
   "source": [
    "entries = []\n",
    "for book in books:\n",
    "    vector = embed_model.get_text_embedding(book[\"content\"])\n",
    "    entries.append(\n",
    "        {\"id\": str(uuid.uuid4()), \"values\": vector, \"metadata\": book}\n",
    "    )\n",
    "pinecone_index.upsert(entries)"
   ]
  },
  {
   "attachments": {},
   "cell_type": "markdown",
   "id": "f7d26d83-dc3d-4b07-9faa-da3246ee46eb",
   "metadata": {},
   "source": [
    "## Query Against \"Existing\" Pinecone Vector Store "
   ]
  },
  {
   "cell_type": "code",
   "execution_count": null,
   "id": "bae39494-5c9f-43e7-8b26-f1afbd62c60a",
   "metadata": {},
   "outputs": [],
   "source": [
    "from llama_index.vector_stores.pinecone import PineconeVectorStore\n",
    "from llama_index.core import VectorStoreIndex\n",
    "from llama_index.core.response.pprint_utils import pprint_source_node"
   ]
  },
  {
   "attachments": {},
   "cell_type": "markdown",
   "id": "8647c689-5964-446f-9e5e-1da620483cef",
   "metadata": {},
   "source": [
    "You must properly select a class property as the \"text\" field."
   ]
  },
  {
   "cell_type": "code",
   "execution_count": null,
   "id": "59093426-0fda-46d0-84b5-8b84d6a81fe8",
   "metadata": {},
   "outputs": [],
   "source": [
    "vector_store = PineconeVectorStore(\n",
    "    pinecone_index=pinecone_index, text_key=\"content\"\n",
    ")"
   ]
  },
  {
   "cell_type": "code",
   "execution_count": null,
   "id": "d8f06305-726b-45b8-bca7-e30e6d84524a",
   "metadata": {},
   "outputs": [],
   "source": [
    "retriever = VectorStoreIndex.from_vector_store(vector_store).as_retriever(\n",
    "    similarity_top_k=1\n",
    ")"
   ]
  },
  {
   "cell_type": "code",
   "execution_count": null,
   "id": "9cf3b766-b8bb-4537-815e-1c62821a173b",
   "metadata": {},
   "outputs": [],
   "source": [
    "nodes = retriever.retrieve(\"What is that book about a bird again?\")"
   ]
  },
  {
   "attachments": {},
   "cell_type": "markdown",
   "id": "e23ec43a-6472-4ac0-9183-fb3d109d401d",
   "metadata": {},
   "source": [
    "Let's inspect the retrieved node. We can see that the book data is loaded as LlamaIndex `Node` objects, with the \"content\" field as the main text."
   ]
  },
  {
   "cell_type": "code",
   "execution_count": null,
   "id": "f8ef9d87-b205-43a7-9fbf-c22e89e704e0",
   "metadata": {},
   "outputs": [
    {
     "name": "stdout",
     "output_type": "stream",
     "text": [
      "Document ID: 07e47f1d-cb90-431b-89c7-35462afcda28\n",
      "Similarity: 0.797243237\n",
      "Text: author: Harper Lee title: To Kill a Mockingbird year: 1960.0  To\n",
      "Kill a Mockingbird is a novel by Harper Lee published in 1960......\n"
     ]
    }
   ],
   "source": [
    "pprint_source_node(nodes[0])"
   ]
  },
  {
   "attachments": {},
   "cell_type": "markdown",
   "id": "97c6a8f0-3cde-4414-85fd-497ab6fe4248",
   "metadata": {},
   "source": [
    "The remaining fields should be loaded as metadata (in `metadata`)"
   ]
  },
  {
   "cell_type": "code",
   "execution_count": null,
   "id": "6ecff7e3-a82c-4bac-a8b3-5d00035cbeab",
   "metadata": {},
   "outputs": [
    {
     "data": {
      "text/plain": [
       "{'author': 'Harper Lee', 'title': 'To Kill a Mockingbird', 'year': 1960.0}"
      ]
     },
     "execution_count": null,
     "metadata": {},
     "output_type": "execute_result"
    }
   ],
   "source": [
    "nodes[0].node.metadata"
   ]
  }
 ],
 "metadata": {
  "kernelspec": {
   "display_name": "Python 3 (ipykernel)",
   "language": "python",
   "name": "python3"
  },
  "language_info": {
   "codemirror_mode": {
    "name": "ipython",
    "version": 3
   },
   "file_extension": ".py",
   "mimetype": "text/x-python",
   "name": "python",
   "nbconvert_exporter": "python",
   "pygments_lexer": "ipython3"
  }
 },
 "nbformat": 4,
 "nbformat_minor": 5
}
