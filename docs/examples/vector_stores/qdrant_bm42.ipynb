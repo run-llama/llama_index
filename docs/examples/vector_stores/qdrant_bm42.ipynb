{
 "cells": [
  {
   "cell_type": "markdown",
   "metadata": {},
   "source": [
    "# Hybrid Search with Qdrant BM42\n",
    "\n",
    "Qdrant recently released a new lightweight approach to sparse embeddings, [BM42](https://qdrant.tech/articles/bm42/).\n",
    "\n",
    "In this notebook, we walk through how to use BM42 with llama-index, for effecient hybrid search."
   ]
  },
  {
   "cell_type": "markdown",
   "metadata": {},
   "source": [
    "## Setup\n",
    "\n",
    "First, we need a few packages\n",
    "- `llama-index`\n",
    "- `llama-index-vector-stores-qdrant`\n",
    "- `fastembed` or `fastembed-gpu`\n",
    "\n",
    "`llama-index` will automatically run fastembed models on GPU if the provided libraries are installed. Check out their [full installation guide](https://qdrant.github.io/fastembed/examples/FastEmbed_GPU/)."
   ]
  },
  {
   "cell_type": "code",
   "execution_count": null,
   "metadata": {},
   "outputs": [],
   "source": [
    "%pip install llama-index llama-index-vector-stores-qdrant fastembed"
   ]
  },
  {
   "cell_type": "markdown",
   "metadata": {},
   "source": [
    "## (Optional) Test the fastembed package\n",
    "\n",
    "To confirm the installation worked (and also to confirm GPU usage, if used), we can run the following code.\n",
    "\n",
    "This will first download (and cache) the model locally, and then embed it."
   ]
  },
  {
   "cell_type": "code",
   "execution_count": null,
   "metadata": {},
   "outputs": [
    {
     "data": {
      "application/vnd.jupyter.widget-view+json": {
       "model_id": "238632fe2708433c9cbc8fffd4ccbc05",
       "version_major": 2,
       "version_minor": 0
      },
      "text/plain": [
       "Fetching 6 files:   0%|          | 0/6 [00:00<?, ?it/s]"
      ]
     },
     "metadata": {},
     "output_type": "display_data"
    },
    {
     "name": "stdout",
     "output_type": "stream",
     "text": [
      "[613153351, 74040069] [0.3703993395381275, 0.3338314745830077]\n"
     ]
    }
   ],
   "source": [
    "from fastembed import SparseTextEmbedding\n",
    "\n",
    "model = SparseTextEmbedding(\n",
    "    model_name=\"Qdrant/bm42-all-minilm-l6-v2-attentions\",\n",
    "    # if using fastembed-gpu with cuda+onnx installed\n",
    "    # providers=[\"CudaExecutionProvider\"],\n",
    ")\n",
    "\n",
    "embeddings = model.embed([\"hello world\", \"goodbye world\"])\n",
    "\n",
    "indices, values = zip(\n",
    "    *[\n",
    "        (embedding.indices.tolist(), embedding.values.tolist())\n",
    "        for embedding in embeddings\n",
    "    ]\n",
    ")\n",
    "\n",
    "print(indices[0], values[0])"
   ]
  },
  {
   "cell_type": "markdown",
   "metadata": {},
   "source": [
    "## Construct our Hybrid Index\n",
    "\n",
    "In llama-index, we can construct a hybrid index in just a few lines of code.\n",
    "\n",
    "If you've tried hybrid in the past with splade, you will notice that this is much faster!"
   ]
  },
  {
   "cell_type": "markdown",
   "metadata": {},
   "source": [
    "### Loading Data\n",
    "\n",
    "Here, we use `llama-parse` to read in the Llama2 paper! Using the JSON result mode, we can get detailed data about each page, including layout and images. For now, we will use the page numbers and text.\n",
    "\n",
    "You can get a free api key for `llama-parse` by visiting [https://cloud.llamaindex.ai](https://cloud.llamaindex.ai)"
   ]
  },
  {
   "cell_type": "code",
   "execution_count": null,
   "metadata": {},
   "outputs": [],
   "source": [
    "!mkdir -p 'data/'\n",
    "!wget --user-agent \"Mozilla\" \"https://arxiv.org/pdf/2307.09288.pdf\" -O \"data/llama2.pdf\""
   ]
  },
  {
   "cell_type": "code",
   "execution_count": null,
   "metadata": {},
   "outputs": [],
   "source": [
    "import nest_asyncio\n",
    "\n",
    "nest_asyncio.apply()"
   ]
  },
  {
   "cell_type": "code",
   "execution_count": null,
   "metadata": {},
   "outputs": [
    {
     "name": "stdout",
     "output_type": "stream",
     "text": [
      "Started parsing the file under job_id cac11eca-4058-4a89-a94a-5603dea3d851\n"
     ]
    }
   ],
   "source": [
    "from llama_parse import LlamaParse\n",
    "from llama_index.core import Document\n",
    "\n",
    "parser = LlamaParse(result_type=\"text\", api_key=\"llx-...\")\n",
    "\n",
    "# get per-page results, along with detailed layout info and metadata\n",
    "json_data = parser.get_json_result(\"data/llama2.pdf\")\n",
    "\n",
    "documents = []\n",
    "for document_json in json_data:\n",
    "    for page in document_json[\"pages\"]:\n",
    "        documents.append(\n",
    "            Document(text=page[\"text\"], metadata={\"page_number\": page[\"page\"]})\n",
    "        )"
   ]
  },
  {
   "cell_type": "markdown",
   "metadata": {},
   "source": [
    "### Construct the Index /w Qdrant\n",
    "\n",
    "With our nodes, we can construct our index with Qdrant and BM42!\n",
    "\n",
    "In this case, Qdrant is being hosted in a docker container.\n",
    "\n",
    "You can pull the latest:\n",
    "\n",
    "```\n",
    "docker pull qdrant/qdrant\n",
    "```\n",
    "\n",
    "And then to launch:\n",
    "\n",
    "```\n",
    "docker run -p 6333:6333 -p 6334:6334 \\\n",
    "    -v $(pwd)/qdrant_storage:/qdrant/storage:z \\\n",
    "    qdrant/qdrant\n",
    "```"
   ]
  },
  {
   "cell_type": "code",
   "execution_count": null,
   "metadata": {},
   "outputs": [
    {
     "name": "stderr",
     "output_type": "stream",
     "text": [
      "Both client and aclient are provided. If using `:memory:` mode, the data between clients is not synced.\n"
     ]
    }
   ],
   "source": [
    "import qdrant_client\n",
    "from llama_index.vector_stores.qdrant import QdrantVectorStore\n",
    "\n",
    "client = qdrant_client.QdrantClient(\"http://localhost:6333\")\n",
    "aclient = qdrant_client.AsyncQdrantClient(\"http://localhost:6333\")\n",
    "\n",
    "# delete collection if it exists\n",
    "if client.collection_exists(\"llama2_bm42\"):\n",
    "    client.delete_collection(\"llama2_bm42\")\n",
    "\n",
    "vector_store = QdrantVectorStore(\n",
    "    collection_name=\"llama2_bm42\",\n",
    "    client=client,\n",
    "    aclient=aclient,\n",
    "    fastembed_sparse_model=\"Qdrant/bm42-all-minilm-l6-v2-attentions\",\n",
    ")"
   ]
  },
  {
   "cell_type": "code",
   "execution_count": null,
   "metadata": {},
   "outputs": [],
   "source": [
    "from llama_index.core import VectorStoreIndex, StorageContext\n",
    "from llama_index.embeddings.openai import OpenAIEmbedding\n",
    "\n",
    "storage_context = StorageContext.from_defaults(vector_store=vector_store)\n",
    "index = VectorStoreIndex.from_documents(\n",
    "    documents,\n",
    "    # our dense embedding model\n",
    "    embed_model=OpenAIEmbedding(\n",
    "        model_name=\"text-embedding-3-small\", api_key=\"sk-proj-...\"\n",
    "    ),\n",
    "    storage_context=storage_context,\n",
    ")"
   ]
  },
  {
   "cell_type": "markdown",
   "metadata": {},
   "source": [
    "As we can see, both the dense and sparse embeddings were generated super quickly!\n",
    "\n",
    "Even though the sparse model is running locally on CPU, its very small and fast."
   ]
  },
  {
   "cell_type": "markdown",
   "metadata": {},
   "source": [
    "## Test out the Index\n",
    "\n",
    "Using the powers of sparse embeddings, we can query for some very specific facts, and get the correct data."
   ]
  },
  {
   "cell_type": "code",
   "execution_count": null,
   "metadata": {},
   "outputs": [],
   "source": [
    "from llama_index.llms.openai import OpenAI\n",
    "\n",
    "chat_engine = index.as_chat_engine(\n",
    "    chat_mode=\"condense_plus_context\",\n",
    "    llm=OpenAI(model=\"gpt-4o\", api_key=\"sk-proj-...\"),\n",
    ")"
   ]
  },
  {
   "cell_type": "code",
   "execution_count": null,
   "metadata": {},
   "outputs": [
    {
     "name": "stdout",
     "output_type": "stream",
     "text": [
      "The training hardware for Llama 2 included Meta’s Research Super Cluster (RSC) and internal production clusters. Both clusters utilized NVIDIA A100 GPUs. There were two key differences between these clusters:\n",
      "\n",
      "1. **Interconnect Type**:\n",
      "   - RSC used NVIDIA Quantum InfiniBand.\n",
      "   - The internal production cluster used a RoCE (RDMA over Converged Ethernet) solution based on commodity Ethernet switches.\n",
      "\n",
      "2. **Per-GPU Power Consumption Cap**:\n",
      "   - RSC had a power consumption cap of 400W per GPU.\n",
      "   - The internal production cluster had a power consumption cap of 350W per GPU.\n",
      "\n",
      "This setup allowed for a comparison of the suitability of these different types of interconnects for large-scale training.\n"
     ]
    }
   ],
   "source": [
    "response = chat_engine.chat(\"What training hardware was used for Llama2?\")\n",
    "print(str(response))"
   ]
  },
  {
   "cell_type": "code",
   "execution_count": null,
   "metadata": {},
   "outputs": [
    {
     "name": "stdout",
     "output_type": "stream",
     "text": [
      "The main idea of Llama 2 is to provide an updated and improved version of the original Llama model, designed to be more efficient, scalable, and safe for various applications, including research and commercial use. Here are the key aspects of Llama 2:\n",
      "\n",
      "1. **Enhanced Pretraining**: Llama 2 is trained on a new mix of publicly available data, with a 40% increase in the size of the pretraining corpus compared to Llama 1. This aims to improve the model's performance and knowledge base.\n",
      "\n",
      "2. **Improved Architecture**: The model incorporates several architectural enhancements, such as increased context length and grouped-query attention (GQA), to improve inference scalability and overall performance.\n",
      "\n",
      "3. **Safety and Responsiveness**: Llama 2-Chat, a fine-tuned version of Llama 2, is optimized for dialogue use cases. It undergoes supervised fine-tuning and iterative refinement using Reinforcement Learning with Human Feedback (RLHF) to ensure safer and more helpful interactions.\n",
      "\n",
      "4. **Open Release**: Meta is releasing Llama 2 models with 7B, 13B, and 70B parameters to the general public for research and commercial use, promoting transparency and collaboration in the AI community.\n",
      "\n",
      "5. **Responsible Use**: The release includes guidelines and code examples to facilitate the safe deployment of Llama 2 and Llama 2-Chat, emphasizing the importance of safety testing and tuning tailored to specific applications.\n",
      "\n",
      "Overall, Llama 2 aims to be a more robust, scalable, and safer large language model that can be widely used and further developed by the AI community.\n"
     ]
    }
   ],
   "source": [
    "response = chat_engine.chat(\"What is the main idea of Llama2?\")\n",
    "print(str(response))"
   ]
  },
  {
   "cell_type": "code",
   "execution_count": null,
   "metadata": {},
   "outputs": [
    {
     "name": "stdout",
     "output_type": "stream",
     "text": [
      "Llama 2 was evaluated and compared against several other models, both open-source and closed-source, across a variety of benchmarks. Here are the key comparisons:\n",
      "\n",
      "### Open-Source Models:\n",
      "1. **Llama 1**: Llama 2 models were compared to their predecessors, Llama 1 models. For example, Llama 2 70B showed improvements of approximately 5 points on MMLU and 8 points on BBH compared to Llama 1 65B.\n",
      "2. **MPT Models**: Llama 2 7B and 30B models outperformed MPT models of corresponding sizes in all categories except code benchmarks.\n",
      "3. **Falcon Models**: Llama 2 7B and 34B models outperformed Falcon 7B and 40B models across all benchmark categories.\n",
      "\n",
      "### Closed-Source Models:\n",
      "1. **GPT-3.5**: Llama 2 70B was compared to GPT-3.5, showing close performance on MMLU and GSM8K but a significant gap on coding benchmarks.\n",
      "2. **PaLM (540B)**: Llama 2 70B performed on par or better than PaLM (540B) on almost all benchmarks.\n",
      "3. **GPT-4 and PaLM-2-L**: There remains a large performance gap between Llama 2 70B and these more advanced models.\n",
      "\n",
      "### Benchmarks:\n",
      "Llama 2 was evaluated on a variety of benchmarks, including:\n",
      "1. **MMLU (Massive Multitask Language Understanding)**: Evaluated in a 5-shot setting.\n",
      "2. **BBH (Big Bench Hard)**: Evaluated in a 3-shot setting.\n",
      "3. **AGI Eval**: Evaluated in 3-5 shot settings, focusing on English tasks.\n",
      "4. **GSM8K**: For math problem-solving.\n",
      "5. **Human-Eval and MBPP**: For code generation.\n",
      "6. **NaturalQuestions and TriviaQA**: For world knowledge.\n",
      "7. **SQUAD and QUAC**: For reading comprehension.\n",
      "8. **BoolQ, PIQA, SIQA, Hella-Swag, ARC-e, ARC-c, NQ, TQA**: Various other benchmarks for different aspects of language understanding and reasoning.\n",
      "\n",
      "These evaluations demonstrate that Llama 2 models generally outperform their predecessors and other open-source models, while also being competitive with some of the leading closed-source models.\n"
     ]
    }
   ],
   "source": [
    "response = chat_engine.chat(\"What was Llama2 evaluated and compared against?\")\n",
    "print(str(response))"
   ]
  },
  {
   "cell_type": "markdown",
   "metadata": {},
   "source": [
    "## Loading from existing store\n",
    "\n",
    "With your vector index created, we can easily connect back to it!"
   ]
  },
  {
   "cell_type": "code",
   "execution_count": null,
   "metadata": {},
   "outputs": [],
   "source": [
    "import qdrant_client\n",
    "from llama_index.core import VectorStoreIndex\n",
    "from llama_index.embeddings.openai import OpenAIEmbedding\n",
    "from llama_index.vector_stores.qdrant import QdrantVectorStore\n",
    "\n",
    "client = qdrant_client.QdrantClient(\"http://localhost:6333\")\n",
    "aclient = qdrant_client.AsyncQdrantClient(\"http://localhost:6333\")\n",
    "\n",
    "# delete collection if it exists\n",
    "if client.collection_exists(\"llama2_bm42\"):\n",
    "    client.delete_collection(\"llama2_bm42\")\n",
    "\n",
    "vector_store = QdrantVectorStore(\n",
    "    collection_name=\"llama2_bm42\",\n",
    "    client=client,\n",
    "    aclient=aclient,\n",
    "    fastembed_sparse_model=\"Qdrant/bm42-all-minilm-l6-v2-attentions\",\n",
    ")\n",
    "\n",
    "loaded_index = VectorStoreIndex.from_vector_store(\n",
    "    vector_store,\n",
    "    embed_model=OpenAIEmbedding(\n",
    "        model=\"text-embedding-3-small\", api_key=\"sk-proj-...\"\n",
    "    ),\n",
    ")"
   ]
  }
 ],
 "metadata": {
  "kernelspec": {
   "display_name": "llama-index-caVs7DDe-py3.11",
   "language": "python",
   "name": "python3"
  },
  "language_info": {
   "codemirror_mode": {
    "name": "ipython",
    "version": 3
   },
   "file_extension": ".py",
   "mimetype": "text/x-python",
   "name": "python",
   "nbconvert_exporter": "python",
   "pygments_lexer": "ipython3"
  }
 },
 "nbformat": 4,
 "nbformat_minor": 2
}
