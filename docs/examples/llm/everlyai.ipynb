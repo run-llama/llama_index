{
 "cells": [
  {
   "attachments": {},
   "cell_type": "markdown",
   "id": "80dcf965",
   "metadata": {},
   "source": [
    "<a href=\"https://colab.research.google.com/github/run-llama/llama_index/blob/main/docs/examples/llm/everlyai.ipynb\" target=\"_parent\"><img src=\"https://colab.research.google.com/assets/colab-badge.svg\" alt=\"Open In Colab\"/></a>"
   ]
  },
  {
   "cell_type": "markdown",
   "id": "3a07f0af-6f8b-4a4e-a984-5f0f161dd0c3",
   "metadata": {},
   "source": [
    "# EverlyAI"
   ]
  },
  {
   "attachments": {},
   "cell_type": "markdown",
   "id": "5efe75b5",
   "metadata": {},
   "source": [
    "If you're opening this Notebook on colab, you will probably need to install LlamaIndex 🦙."
   ]
  },
  {
   "cell_type": "code",
   "execution_count": null,
   "id": "78f6e956",
   "metadata": {},
   "outputs": [],
   "source": [
    "%pip install llama-index-llms-everlyai"
   ]
  },
  {
   "cell_type": "code",
   "execution_count": null,
   "id": "28d84611",
   "metadata": {},
   "outputs": [],
   "source": [
    "!pip install llama-index"
   ]
  },
  {
   "cell_type": "code",
   "execution_count": null,
   "id": "02bfb427-2607-4322-bdaa-f012a87a0112",
   "metadata": {},
   "outputs": [],
   "source": [
    "from llama_index.llms.everlyai import EverlyAI\n",
    "from llama_index.core.llms import ChatMessage"
   ]
  },
  {
   "cell_type": "markdown",
   "id": "3907f07b-a33a-46db-b799-fec83843ff60",
   "metadata": {},
   "source": [
    "## Call `chat` with ChatMessage List\n",
    "You need to either set env var `EVERLYAI_API_KEY` or set api_key in the class constructor"
   ]
  },
  {
   "cell_type": "code",
   "execution_count": null,
   "id": "b0bec6d7-d5cc-4c23-aa95-a915e65220cc",
   "metadata": {},
   "outputs": [],
   "source": [
    "# import os\n",
    "# os.environ['EVERLYAI_API_KEY'] = '<your-api-key>'\n",
    "\n",
    "llm = EverlyAI(api_key=\"your-api-key\")"
   ]
  },
  {
   "cell_type": "code",
   "execution_count": null,
   "id": "1135fe2a-b4ff-4352-a825-bdc3aca17b60",
   "metadata": {},
   "outputs": [
    {
     "name": "stdout",
     "output_type": "stream",
     "text": [
      "assistant:  Sure! Here's a classic one:\n",
      "\n",
      "Why don't scientists trust atoms?\n",
      "\n",
      "Because they make up everything!\n",
      "\n",
      "I hope that brought a smile to your face!\n"
     ]
    }
   ],
   "source": [
    "message = ChatMessage(role=\"user\", content=\"Tell me a joke\")\n",
    "resp = llm.chat([message])\n",
    "print(resp)"
   ]
  },
  {
   "cell_type": "markdown",
   "id": "0515c6b2-e691-4f89-baa2-4964abee9cc5",
   "metadata": {},
   "source": [
    "### Streaming"
   ]
  },
  {
   "cell_type": "code",
   "execution_count": null,
   "id": "099f51ad-d585-4bf4-b0e1-95ed7ecf3f85",
   "metadata": {},
   "outputs": [
    {
     "name": "stdout",
     "output_type": "stream",
     "text": [
      " Sure, here is a story in 250 words:\n",
      "\n",
      "As the sun set over the horizon, a young girl named Lily sat on the beach, watching the waves roll in. She had always loved the ocean, and today was no different. The water was a deep blue, almost purple, and the waves were gentle and soothing. Lily closed her eyes and let the sound of the waves wash over her, feeling the stress of her daily life melt away.\n",
      "Suddenly, a seagull landed nearby, chirping and flapping its wings. Lily opened her eyes and saw the bird was holding something in its beak. Curious, she leaned forward and saw that the bird was carrying a small, shimmering shell. The bird dropped the shell at Lily's feet, and she picked it up, feeling its smooth surface and admiring its beauty.\n",
      "As she held the shell, Lily felt a strange sensation wash over her. She felt connected to the ocean and the bird, and she knew that this moment was special. She looked out at the water and saw a school of fish swimming in the distance, their scales shimmering in the sun"
     ]
    }
   ],
   "source": [
    "message = ChatMessage(role=\"user\", content=\"Tell me a story in 250 words\")\n",
    "resp = llm.stream_chat([message])\n",
    "for r in resp:\n",
    "    print(r.delta, end=\"\")"
   ]
  },
  {
   "cell_type": "markdown",
   "id": "ac92c80f-5b82-4143-a6f9-549d6f5dfa70",
   "metadata": {},
   "source": [
    "## Call `complete` with Prompt"
   ]
  },
  {
   "cell_type": "code",
   "execution_count": null,
   "id": "1290c9b1-3c37-4db0-aa94-dda1c90d4f8b",
   "metadata": {},
   "outputs": [
    {
     "name": "stdout",
     "output_type": "stream",
     "text": [
      " Sure, here's a classic one:\n",
      "\n",
      "Why don't scientists trust atoms?\n",
      "\n",
      "Because they make up everything!\n",
      "\n",
      "I hope that brought a smile to your face!\n"
     ]
    }
   ],
   "source": [
    "resp = llm.complete(\"Tell me a joke\")\n",
    "print(resp)"
   ]
  },
  {
   "cell_type": "code",
   "execution_count": null,
   "id": "be1a7fe6-51b7-4e80-b60d-fbe3335610c7",
   "metadata": {},
   "outputs": [
    {
     "name": "stdout",
     "output_type": "stream",
     "text": [
      " Sure, here is a story in 250 words:\n",
      "\n",
      "As the sun set over the horizon, a young girl named Maria sat on the beach, watching the waves roll in. She had always loved the ocean, and today was no different. The water was a deep blue, almost purple, and the waves were gentle and soothing.\n",
      "Maria closed her eyes and let the sound of the waves wash over her. She could feel the sand beneath her feet, warm and soft. She felt at peace, like she was a part of something bigger than herself.\n",
      "Suddenly, a seagull landed nearby, chirping and flapping its wings. Maria opened her eyes and saw the bird, and she felt a smile spread across her face. She loved the sound of the seagulls, and the way they seemed to know exactly when to appear.\n",
      "As the sun dipped lower in the sky, Maria stood up and walked closer to the water. She felt the cool water wash over her feet, and she let out a contented sigh. This was her happy place, where she could escape the stresses of everyday life and just be.\n",
      "Maria stayed there for a while"
     ]
    }
   ],
   "source": [
    "resp = llm.stream_complete(\"Tell me a story in 250 words\")\n",
    "for r in resp:\n",
    "    print(r.delta, end=\"\")"
   ]
  }
 ],
 "metadata": {
  "kernelspec": {
   "display_name": "Python 3 (ipykernel)",
   "language": "python",
   "name": "python3"
  },
  "language_info": {
   "codemirror_mode": {
    "name": "ipython",
    "version": 3
   },
   "file_extension": ".py",
   "mimetype": "text/x-python",
   "name": "python",
   "nbconvert_exporter": "python",
   "pygments_lexer": "ipython3"
  }
 },
 "nbformat": 4,
 "nbformat_minor": 5
}
