{
 "cells": [
  {
   "cell_type": "markdown",
   "id": "db70cf16-8f67-4fff-bccd-cb3f04b7ce31",
   "metadata": {},
   "source": [
    "# OpenAI JSON Mode vs. Function Calling for Data Extraction "
   ]
  },
  {
   "cell_type": "markdown",
   "id": "9ab29eae-d6ed-473c-9c69-be21f9d55f84",
   "metadata": {},
   "source": [
    "OpenAI just released [JSON Mode](https://platform.openai.com/docs/guides/text-generation/json-mode): This new config constrain the LLM to only generate strings that parse into valid JSON (but no guarantee on validation against any schema).\n",
    "\n",
    "Before this, the best way to extract structured data from text is via [function calling](https://platform.openai.com/docs/guides/function-calling).  \n",
    "\n",
    "In this notebook, we explore the tradeoff between the latest [JSON Mode](https://platform.openai.com/docs/guides/text-generation/json-mode) and function calling feature for structured output & extraction.\n",
    "\n",
    "*Update*: OpenAI has clarified that JSON mode is always enabled for function calling, it's opt-in for regular messages (https://community.openai.com/t/json-mode-vs-function-calling/476994/4)"
   ]
  },
  {
   "cell_type": "markdown",
   "id": "f743c090-b1a5-443f-a569-f5d61e3e6e36",
   "metadata": {},
   "source": [
    "### Generate synthetic data"
   ]
  },
  {
   "cell_type": "markdown",
   "id": "88cede28-458f-4f56-8f08-5c0ec8a77c64",
   "metadata": {},
   "source": [
    "We'll start by generating some synthetic data for our data extraction task. Let's ask our LLM for a hypothetical sales transcript."
   ]
  },
  {
   "cell_type": "code",
   "execution_count": null,
   "id": "ca0f6d9c",
   "metadata": {},
   "outputs": [],
   "source": [
    "%pip install llama-index-llms-openai\n",
    "%pip install llama-index-program-openai"
   ]
  },
  {
   "cell_type": "code",
   "execution_count": null,
   "id": "f0b5b533-6a37-4b9f-bc9e-3e979a7aa01d",
   "metadata": {},
   "outputs": [],
   "source": [
    "from llama_index.llms.openai import OpenAI\n",
    "\n",
    "llm = OpenAI(model=\"gpt-3.5-turbo-1106\")\n",
    "response = llm.complete(\n",
    "    \"Generate a sales call transcript, use real names, talk about a product, discuss some action items\"\n",
    ")"
   ]
  },
  {
   "cell_type": "code",
   "execution_count": null,
   "id": "c51a9117-2040-4cfa-9bad-40e24d0f8609",
   "metadata": {},
   "outputs": [
    {
     "name": "stdout",
     "output_type": "stream",
     "text": [
      "[Phone rings]\n",
      "\n",
      "John: Hello, this is John.\n",
      "\n",
      "Sarah: Hi John, this is Sarah from XYZ Company. I'm calling to discuss our new product, the XYZ Widget, and see if it might be a good fit for your business.\n",
      "\n",
      "John: Hi Sarah, thanks for reaching out. I'm definitely interested in learning more about the XYZ Widget. Can you give me a quick overview of what it does?\n",
      "\n",
      "Sarah: Of course! The XYZ Widget is a cutting-edge tool that helps businesses streamline their workflow and improve productivity. It's designed to automate repetitive tasks and provide real-time data analytics to help you make informed decisions.\n",
      "\n",
      "John: That sounds really interesting. I can see how that could benefit our team. Do you have any case studies or success stories from other companies who have used the XYZ Widget?\n",
      "\n",
      "Sarah: Absolutely, we have several case studies that I can share with you. I'll send those over along with some additional information about the product. I'd also love to schedule a demo for you and your team to see the XYZ Widget in action.\n",
      "\n",
      "John: That would be great. I'll make sure to review the case studies and then we can set up a time for the demo. In the meantime, are there any specific action items or next steps we should take?\n",
      "\n",
      "Sarah: Yes, I'll send over the information and then follow up with you to schedule the demo. In the meantime, feel free to reach out if you have any questions or need further information.\n",
      "\n",
      "John: Sounds good, I appreciate your help Sarah. I'm looking forward to learning more about the XYZ Widget and seeing how it can benefit our business.\n",
      "\n",
      "Sarah: Thank you, John. I'll be in touch soon. Have a great day!\n",
      "\n",
      "John: You too, bye.\n"
     ]
    }
   ],
   "source": [
    "transcript = response.text\n",
    "print(transcript)"
   ]
  },
  {
   "cell_type": "markdown",
   "id": "f3c0699b-bb3a-466a-93b4-c7ff541a80c2",
   "metadata": {},
   "source": [
    "### Setup our desired schema"
   ]
  },
  {
   "cell_type": "markdown",
   "id": "4905dd6a-001f-415d-bc42-cd1c34c6ba0d",
   "metadata": {},
   "source": [
    "Let's specify our desired output \"shape\", as a Pydantic Model."
   ]
  },
  {
   "cell_type": "code",
   "execution_count": null,
   "id": "d1bb4bff-deee-48ca-85f8-71c3a8909f74",
   "metadata": {},
   "outputs": [],
   "source": [
    "from pydantic import BaseModel, Field\n",
    "from typing import List\n",
    "\n",
    "\n",
    "class CallSummary(BaseModel):\n",
    "    \"\"\"Data model for a call summary.\"\"\"\n",
    "\n",
    "    summary: str = Field(\n",
    "        description=\"High-level summary of the call transcript. Should not exceed 3 sentences.\"\n",
    "    )\n",
    "    products: List[str] = Field(\n",
    "        description=\"List of products discussed in the call\"\n",
    "    )\n",
    "    rep_name: str = Field(description=\"Name of the sales rep\")\n",
    "    prospect_name: str = Field(description=\"Name of the prospect\")\n",
    "    action_items: List[str] = Field(description=\"List of action items\")"
   ]
  },
  {
   "cell_type": "markdown",
   "id": "bf0a901c-17ee-4a51-acd8-97803d1d13c8",
   "metadata": {},
   "source": [
    "### Data extraction with function calling"
   ]
  },
  {
   "cell_type": "markdown",
   "id": "8788717e-fe3b-4720-8a44-640371870883",
   "metadata": {},
   "source": [
    "We can use the `OpenAIPydanticProgram` module in LlamaIndex to make things super easy, simply define a prompt template, and pass in the LLM and pydantic model we've definied."
   ]
  },
  {
   "cell_type": "code",
   "execution_count": null,
   "id": "25aff3f2-a94d-4d42-93a3-2499f4f73742",
   "metadata": {},
   "outputs": [],
   "source": [
    "from llama_index.program.openai import OpenAIPydanticProgram\n",
    "from llama_index.core import ChatPromptTemplate\n",
    "from llama_index.core.llms import ChatMessage"
   ]
  },
  {
   "cell_type": "code",
   "execution_count": null,
   "id": "8a8d4976-8946-4988-9c08-dab0567b9b5b",
   "metadata": {},
   "outputs": [],
   "source": [
    "prompt = ChatPromptTemplate(\n",
    "    message_templates=[\n",
    "        ChatMessage(\n",
    "            role=\"system\",\n",
    "            content=(\n",
    "                \"You are an expert assitant for summarizing and extracting insights from sales call transcripts.\"\n",
    "            ),\n",
    "        ),\n",
    "        ChatMessage(\n",
    "            role=\"user\",\n",
    "            content=(\n",
    "                \"Here is the transcript: \\n\"\n",
    "                \"------\\n\"\n",
    "                \"{transcript}\\n\"\n",
    "                \"------\"\n",
    "            ),\n",
    "        ),\n",
    "    ]\n",
    ")\n",
    "program = OpenAIPydanticProgram.from_defaults(\n",
    "    output_cls=CallSummary,\n",
    "    llm=llm,\n",
    "    prompt=prompt,\n",
    "    verbose=True,\n",
    ")"
   ]
  },
  {
   "cell_type": "code",
   "execution_count": null,
   "id": "f0bb69ea-aa20-45ad-944d-f7bdd6069d47",
   "metadata": {},
   "outputs": [
    {
     "name": "stdout",
     "output_type": "stream",
     "text": [
      "Function call: CallSummary with args: {\"summary\":\"Sarah from XYZ Company called to discuss the new product, the XYZ Widget, which John expressed interest in. Sarah offered to share case studies and schedule a demo. They agreed to review the case studies and set up a time for the demo. The next steps include Sarah sending over information and following up to schedule the demo.\",\"products\":[\"XYZ Widget\"],\"rep_name\":\"Sarah\",\"prospect_name\":\"John\",\"action_items\":[\"Review case studies\",\"Schedule demo\"]}\n"
     ]
    }
   ],
   "source": [
    "output = program(transcript=transcript)"
   ]
  },
  {
   "cell_type": "markdown",
   "id": "86da586b-fc26-42a4-9bf4-02fc7b3c477d",
   "metadata": {},
   "source": [
    "We now have the desired structured data, as a Pydantic Model. \n",
    "Quick inspection shows that the results are as we expected. "
   ]
  },
  {
   "cell_type": "code",
   "execution_count": null,
   "id": "81b83482-c306-4368-b29c-b0cc40b9fc90",
   "metadata": {},
   "outputs": [
    {
     "data": {
      "text/plain": [
       "{'summary': 'Sarah from XYZ Company called to discuss the new product, the XYZ Widget, which John expressed interest in. Sarah offered to share case studies and schedule a demo. They agreed to review the case studies and set up a time for the demo. The next steps include Sarah sending over information and following up to schedule the demo.',\n",
       " 'products': ['XYZ Widget'],\n",
       " 'rep_name': 'Sarah',\n",
       " 'prospect_name': 'John',\n",
       " 'action_items': ['Review case studies', 'Schedule demo']}"
      ]
     },
     "execution_count": null,
     "metadata": {},
     "output_type": "execute_result"
    }
   ],
   "source": [
    "output.dict()"
   ]
  },
  {
   "cell_type": "markdown",
   "id": "dba09855-1e99-4922-8c85-0ccdabd6badf",
   "metadata": {},
   "source": [
    "### Data extraction with JSON mode"
   ]
  },
  {
   "cell_type": "markdown",
   "id": "b1397230-9a75-455a-a05f-c5cab536f1c4",
   "metadata": {},
   "source": [
    "Let's try to do the same with JSON mode, instead of function calling"
   ]
  },
  {
   "cell_type": "code",
   "execution_count": null,
   "id": "a2068387-11f1-4a9a-a105-b3619e6b9452",
   "metadata": {},
   "outputs": [],
   "source": [
    "prompt = ChatPromptTemplate(\n",
    "    message_templates=[\n",
    "        ChatMessage(\n",
    "            role=\"system\",\n",
    "            content=(\n",
    "                \"You are an expert assitant for summarizing and extracting insights from sales call transcripts.\\n\"\n",
    "                \"Generate a valid JSON following the given schema below:\\n\"\n",
    "                \"{json_schema}\"\n",
    "            ),\n",
    "        ),\n",
    "        ChatMessage(\n",
    "            role=\"user\",\n",
    "            content=(\n",
    "                \"Here is the transcript: \\n\"\n",
    "                \"------\\n\"\n",
    "                \"{transcript}\\n\"\n",
    "                \"------\"\n",
    "            ),\n",
    "        ),\n",
    "    ]\n",
    ")"
   ]
  },
  {
   "cell_type": "code",
   "execution_count": null,
   "id": "989008a4-e3f9-447b-830a-07b7d0ce5c8c",
   "metadata": {},
   "outputs": [],
   "source": [
    "messages = prompt.format_messages(\n",
    "    json_schema=CallSummary.schema_json(), transcript=transcript\n",
    ")"
   ]
  },
  {
   "cell_type": "code",
   "execution_count": null,
   "id": "8d828292-1db9-47b2-9653-5095f1cb0363",
   "metadata": {},
   "outputs": [],
   "source": [
    "output = llm.chat(\n",
    "    messages, response_format={\"type\": \"json_object\"}\n",
    ").message.content"
   ]
  },
  {
   "cell_type": "markdown",
   "id": "6ebfa0aa-4c04-4a72-a219-278211f0fc7b",
   "metadata": {},
   "source": [
    "We get a vaid JSON, but it's only regurgitating the schema we specified, and not actually doing the extraction. "
   ]
  },
  {
   "cell_type": "code",
   "execution_count": null,
   "id": "95cc078a-517e-4c84-8d6c-acb52e246c78",
   "metadata": {},
   "outputs": [
    {
     "name": "stdout",
     "output_type": "stream",
     "text": [
      "{\n",
      "  \"title\": \"CallSummary\",\n",
      "  \"description\": \"Data model for a call summary.\",\n",
      "  \"type\": \"object\",\n",
      "  \"properties\": {\n",
      "    \"summary\": {\n",
      "      \"title\": \"Summary\",\n",
      "      \"description\": \"High-level summary of the call transcript. Should not exceed 3 sentences.\",\n",
      "      \"type\": \"string\"\n",
      "    },\n",
      "    \"products\": {\n",
      "      \"title\": \"Products\",\n",
      "      \"description\": \"List of products discussed in the call\",\n",
      "      \"type\": \"array\",\n",
      "      \"items\": {\n",
      "        \"type\": \"string\"\n",
      "      }\n",
      "    },\n",
      "    \"rep_name\": {\n",
      "      \"title\": \"Rep Name\",\n",
      "      \"description\": \"Name of the sales rep\",\n",
      "      \"type\": \"string\"\n",
      "    },\n",
      "    \"prospect_name\": {\n",
      "      \"title\": \"Prospect Name\",\n",
      "      \"description\": \"Name of the prospect\",\n",
      "      \"type\": \"string\"\n",
      "    },\n",
      "    \"action_items\": {\n",
      "      \"title\": \"Action Items\",\n",
      "      \"description\": \"List of action items\",\n",
      "      \"type\": \"array\",\n",
      "      \"items\": {\n",
      "        \"type\": \"string\"\n",
      "      }\n",
      "    }\n",
      "  },\n",
      "  \"required\": [\"summary\", \"products\", \"rep_name\", \"prospect_name\", \"action_items\"]\n",
      "}\n"
     ]
    }
   ],
   "source": [
    "print(output)"
   ]
  },
  {
   "cell_type": "markdown",
   "id": "8e6fe7f1-9d76-4ba5-84fb-9414cadce68b",
   "metadata": {},
   "source": [
    "Let's try again by just showing the JSON format we want, instead of specifying the schema"
   ]
  },
  {
   "cell_type": "code",
   "execution_count": null,
   "id": "c0c20b21-816d-4230-b962-54d6c46ec003",
   "metadata": {},
   "outputs": [],
   "source": [
    "import json\n",
    "\n",
    "prompt = ChatPromptTemplate(\n",
    "    message_templates=[\n",
    "        ChatMessage(\n",
    "            role=\"system\",\n",
    "            content=(\n",
    "                \"You are an expert assitant for summarizing and extracting insights from sales call transcripts.\\n\"\n",
    "                \"Generate a valid JSON in the following format:\\n\"\n",
    "                \"{json_example}\"\n",
    "            ),\n",
    "        ),\n",
    "        ChatMessage(\n",
    "            role=\"user\",\n",
    "            content=(\n",
    "                \"Here is the transcript: \\n\"\n",
    "                \"------\\n\"\n",
    "                \"{transcript}\\n\"\n",
    "                \"------\"\n",
    "            ),\n",
    "        ),\n",
    "    ]\n",
    ")\n",
    "\n",
    "dict_example = {\n",
    "    \"summary\": \"High-level summary of the call transcript. Should not exceed 3 sentences.\",\n",
    "    \"products\": [\"product 1\", \"product 2\"],\n",
    "    \"rep_name\": \"Name of the sales rep\",\n",
    "    \"prospect_name\": \"Name of the prospect\",\n",
    "    \"action_items\": [\"action item 1\", \"action item 2\"],\n",
    "}\n",
    "\n",
    "json_example = json.dumps(dict_example)"
   ]
  },
  {
   "cell_type": "code",
   "execution_count": null,
   "id": "8a31ff7b-5877-4e19-abf9-a9d0cb857c68",
   "metadata": {},
   "outputs": [],
   "source": [
    "messages = prompt.format_messages(\n",
    "    json_example=json_example, transcript=transcript\n",
    ")"
   ]
  },
  {
   "cell_type": "code",
   "execution_count": null,
   "id": "67899ba5-0ce6-4b28-9aa1-f228b1309fd4",
   "metadata": {},
   "outputs": [],
   "source": [
    "output = llm.chat(\n",
    "    messages, response_format={\"type\": \"json_object\"}\n",
    ").message.content"
   ]
  },
  {
   "cell_type": "markdown",
   "id": "5a4da5c6-19d1-43ab-9eac-fa87cdb182d3",
   "metadata": {},
   "source": [
    "Now we are able to get the extracted structured data as we expected."
   ]
  },
  {
   "cell_type": "code",
   "execution_count": null,
   "id": "4217e431-c267-4d13-ab8a-b9c6cb4365b2",
   "metadata": {},
   "outputs": [
    {
     "name": "stdout",
     "output_type": "stream",
     "text": [
      "{\n",
      "  \"summary\": \"Sarah from XYZ Company called John to discuss the new product, the XYZ Widget, which is designed to streamline workflow and improve productivity. They discussed case studies and scheduling a demo for John and his team. The next steps include Sarah sending over information and following up to schedule the demo.\",\n",
      "  \"products\": [\"XYZ Widget\"],\n",
      "  \"rep_name\": \"Sarah\",\n",
      "  \"prospect_name\": \"John\",\n",
      "  \"action_items\": [\"Review case studies\", \"Schedule demo\"]\n",
      "}\n"
     ]
    }
   ],
   "source": [
    "print(output)"
   ]
  },
  {
   "cell_type": "markdown",
   "id": "80956b6e-3f3e-41a9-af34-b3cb4753f615",
   "metadata": {},
   "source": [
    "### Quick Takeaways"
   ]
  },
  {
   "cell_type": "markdown",
   "id": "0c97a2d1-a318-4764-97f9-385ddf2a28d6",
   "metadata": {},
   "source": [
    "* Function calling remains easier to use for structured data extraction (especially if you have already specified your schema as e.g. a pydantic model)\n",
    "* While JSON mode enforces the format of the output, it does not help with validation against a specified schema. Directly passing in a schema may not generate expected JSON and may require additional careful formatting and prompting."
   ]
  }
 ],
 "metadata": {
  "kernelspec": {
   "display_name": "Python 3 (ipykernel)",
   "language": "python",
   "name": "python3"
  },
  "language_info": {
   "codemirror_mode": {
    "name": "ipython",
    "version": 3
   },
   "file_extension": ".py",
   "mimetype": "text/x-python",
   "name": "python",
   "nbconvert_exporter": "python",
   "pygments_lexer": "ipython3"
  }
 },
 "nbformat": 4,
 "nbformat_minor": 5
}
