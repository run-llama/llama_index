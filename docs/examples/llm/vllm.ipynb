{
 "cells": [
  {
   "cell_type": "markdown",
   "id": "a577777f-a994-493b-bf39-4d19f4fdc5f8",
   "metadata": {},
   "source": [
    "# vLLM  \n",
    "\n",
    "There's two modes of using vLLM local and remote. Let's start form the former one, which requeries CUDA environment available locally. \n",
    "\n",
    "### Install vLLM\n",
    "\n",
    "`pip install vllm` <br>\n",
    "or if you want to compile you can [compile from source](https://docs.vllm.ai/en/latest/getting_started/installation.html)"
   ]
  },
  {
   "cell_type": "markdown",
   "id": "00d46316-8399-4731-8e97-5d8c8c436d99",
   "metadata": {},
   "source": [
    "### Orca-7b Completion Example\n"
   ]
  },
  {
   "cell_type": "code",
   "execution_count": null,
   "id": "46e24cea",
   "metadata": {},
   "outputs": [],
   "source": [
    "%pip install llama-index-llms-vllm"
   ]
  },
  {
   "cell_type": "code",
   "execution_count": null,
   "id": "3f92b41e-cec4-4769-af4d-3c9591d3d3a2",
   "metadata": {},
   "outputs": [],
   "source": [
    "import os\n",
    "\n",
    "os.environ[\"HF_HOME\"] = \"model/\""
   ]
  },
  {
   "cell_type": "code",
   "execution_count": null,
   "id": "b19a8ba2",
   "metadata": {},
   "outputs": [],
   "source": [
    "from llama_index.llms.vllm import Vllm, VllmServer"
   ]
  },
  {
   "cell_type": "code",
   "execution_count": null,
   "id": "ebf60fa2-10bc-4bbe-8b9d-f1d94fac9a4b",
   "metadata": {},
   "outputs": [],
   "source": [
    "llm = Vllm(\n",
    "    model=\"microsoft/Orca-2-7b\",\n",
    "    tensor_parallel_size=4,\n",
    "    max_new_tokens=100,\n",
    "    vllm_kwargs={\"swap_space\": 1, \"gpu_memory_utilization\": 0.5},\n",
    ")"
   ]
  },
  {
   "cell_type": "code",
   "execution_count": null,
   "id": "8ba42670-75b5-4080-8257-7cbb39085728",
   "metadata": {},
   "outputs": [],
   "source": [
    "llm.complete(\"[INST]You are a helpful assistant[/INST] What is a black hole ?\")"
   ]
  },
  {
   "cell_type": "markdown",
   "id": "f67b22d6-37c0-4b42-b9c0-d259ee41fced",
   "metadata": {},
   "source": [
    "### LLama-2-7b Completion Example\n"
   ]
  },
  {
   "cell_type": "code",
   "execution_count": null,
   "id": "cc529fdc-9801-4ae1-9a1f-7242b0224645",
   "metadata": {},
   "outputs": [],
   "source": [
    "llm = Vllm(\n",
    "    model=\"codellama/CodeLlama-7b-hf\",\n",
    "    dtype=\"float16\",\n",
    "    tensor_parallel_size=4,\n",
    "    temperature=0,\n",
    "    max_new_tokens=100,\n",
    "    vllm_kwargs={\n",
    "        \"swap_space\": 1,\n",
    "        \"gpu_memory_utilization\": 0.5,\n",
    "        \"max_model_len\": 4096,\n",
    "    },\n",
    ")"
   ]
  },
  {
   "cell_type": "code",
   "execution_count": null,
   "id": "558a8f57-427f-4fd2-a264-5a268e5667fd",
   "metadata": {},
   "outputs": [],
   "source": [
    "llm.complete(\"import socket\\n\\ndef ping_exponential_backoff(host: str):\")"
   ]
  },
  {
   "cell_type": "markdown",
   "id": "5f3b7693-a0b2-46a0-ade8-1abb36691a49",
   "metadata": {},
   "source": [
    "### Mistral chat 7b Completion Example\n"
   ]
  },
  {
   "cell_type": "code",
   "execution_count": null,
   "id": "6ce09b14-b208-48e3-b779-b1f2605e901a",
   "metadata": {},
   "outputs": [
    {
     "name": "stdout",
     "output_type": "stream",
     "text": [
      "Vllm mock initialized\n"
     ]
    }
   ],
   "source": [
    "llm = Vllm(\n",
    "    model=\"mistralai/Mistral-7B-Instruct-v0.1\",\n",
    "    dtype=\"float16\",\n",
    "    tensor_parallel_size=4,\n",
    "    temperature=0,\n",
    "    max_new_tokens=100,\n",
    "    vllm_kwargs={\n",
    "        \"swap_space\": 1,\n",
    "        \"gpu_memory_utilization\": 0.5,\n",
    "        \"max_model_len\": 4096,\n",
    "    },\n",
    ")"
   ]
  },
  {
   "cell_type": "code",
   "execution_count": null,
   "id": "9f08d009-594c-4f21-a705-078493b74fa4",
   "metadata": {},
   "outputs": [],
   "source": [
    "llm.complete(\" What is a black hole ?\")"
   ]
  },
  {
   "cell_type": "markdown",
   "id": "9d02f871-56a1-4118-949a-2322177b58e5",
   "metadata": {},
   "source": [
    "# Calling vLLM via HTTP\n",
    "\n",
    "In this mode there is no need to install `vllm` model nor have CUDA available locally. To setup the vLLM API you can follow the guide present [here](https://docs.vllm.ai/en/latest/serving/distributed_serving.html). \n",
    "Note: `llama-index-llms-vllm` module is a client for `vllm.entrypoints.api_server` which is only [a demo](https://github.com/vllm-project/vllm/blob/abfc4f3387c436d46d6701e9ba916de8f9ed9329/vllm/entrypoints/api_server.py#L2). <br>\n",
    "If vLLM server is launched with `vllm.entrypoints.openai.api_server` as [OpenAI Compatible Server](https://docs.vllm.ai/en/latest/getting_started/quickstart.html#openai-compatible-server)  or via [Docker](https://docs.vllm.ai/en/latest/serving/deploying_with_docker.html) you need `OpenAILike` class from `llama-index-llms-openai-like` [module](localai.ipynb#llamaindex-interaction)"
   ]
  },
  {
   "cell_type": "markdown",
   "id": "d867ee6a-2a1b-4152-8616-1d2b507d9fab",
   "metadata": {},
   "source": [
    "### Completion Response "
   ]
  },
  {
   "cell_type": "code",
   "execution_count": null,
   "id": "6d25d595-e911-43f5-9538-865140f42234",
   "metadata": {},
   "outputs": [],
   "source": [
    "from llama_index.core.llms import ChatMessage"
   ]
  },
  {
   "cell_type": "code",
   "execution_count": null,
   "id": "4afbd046-bec9-497a-838e-b06bdbfa63db",
   "metadata": {},
   "outputs": [],
   "source": [
    "llm = VllmServer(\n",
    "    api_url=\"http://localhost:8000/generate\", max_new_tokens=100, temperature=0\n",
    ")"
   ]
  },
  {
   "cell_type": "code",
   "execution_count": null,
   "id": "e065bcc7-f806-4bde-9dbf-4fe7f71d24b0",
   "metadata": {},
   "outputs": [],
   "source": [
    "llm.complete(\"what is a black hole ?\")"
   ]
  },
  {
   "cell_type": "code",
   "execution_count": null,
   "id": "babda560-cc6a-427b-99bb-0ee451022752",
   "metadata": {},
   "outputs": [],
   "source": [
    "message = [ChatMessage(content=\"hello\", role=\"user\")]\n",
    "llm.chat(message)"
   ]
  },
  {
   "cell_type": "markdown",
   "id": "6236b3e7-090e-45e0-807c-c3f8fab365d0",
   "metadata": {},
   "source": [
    "### Streaming Response"
   ]
  },
  {
   "cell_type": "code",
   "execution_count": null,
   "id": "849ebcb5-7ff3-4686-b3f4-51ea73ec732d",
   "metadata": {},
   "outputs": [],
   "source": [
    "list(llm.stream_complete(\"what is a black hole\"))[-1]"
   ]
  },
  {
   "cell_type": "code",
   "execution_count": null,
   "id": "4513f794-d0cc-451b-bc79-538d76a8e058",
   "metadata": {},
   "outputs": [],
   "source": [
    "message = [ChatMessage(content=\"what is a black hole\", role=\"user\")]\n",
    "[x for x in llm.stream_chat(message)][-1]"
   ]
  },
  {
   "cell_type": "markdown",
   "id": "71b8e03f-fcf5-4650-b701-585ca68f4bb8",
   "metadata": {},
   "source": [
    "### Async Response"
   ]
  },
  {
   "cell_type": "code",
   "execution_count": null,
   "id": "200af3f1-f82e-45dd-86b7-cd189b113048",
   "metadata": {},
   "outputs": [],
   "source": [
    "import asyncio\n",
    "\n",
    "await llm.acomplete(\"What is a black hole\")"
   ]
  },
  {
   "cell_type": "code",
   "execution_count": null,
   "id": "7489cf16-28d0-465b-b684-07a72d4576d9",
   "metadata": {},
   "outputs": [],
   "source": [
    "await llm.achat(message)"
   ]
  },
  {
   "cell_type": "code",
   "execution_count": null,
   "id": "5577120f-0dc0-494c-bfe9-008b145717c9",
   "metadata": {},
   "outputs": [],
   "source": [
    "[x async for x in await llm.astream_complete(\"what is a black hole\")][-1]"
   ]
  },
  {
   "cell_type": "code",
   "execution_count": null,
   "id": "78003ef4-ebb2-4d0a-b959-c4dee3714d30",
   "metadata": {},
   "outputs": [],
   "source": [
    "[x async for x in await llm.astream_chat(message)][-1]"
   ]
  }
 ],
 "metadata": {
  "kernelspec": {
   "display_name": "Python 3",
   "language": "python",
   "name": "python3"
  },
  "language_info": {
   "codemirror_mode": {
    "name": "ipython",
    "version": 3
   },
   "file_extension": ".py",
   "mimetype": "text/x-python",
   "name": "python",
   "nbconvert_exporter": "python",
   "pygments_lexer": "ipython3"
  }
 },
 "nbformat": 4,
 "nbformat_minor": 5
}
