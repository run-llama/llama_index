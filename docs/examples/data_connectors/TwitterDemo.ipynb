{
 "cells": [
  {
   "attachments": {},
   "cell_type": "markdown",
   "id": "53fab4d2",
   "metadata": {},
   "source": [
    "<a href=\"https://colab.research.google.com/github/run-llama/llama_index/blob/main/docs/docs/examples/data_connectors/TwitterDemo.ipynb\" target=\"_parent\"><img src=\"https://colab.research.google.com/assets/colab-badge.svg\" alt=\"Open In Colab\"/></a>"
   ]
  },
  {
   "attachments": {},
   "cell_type": "markdown",
   "id": "09e10de8",
   "metadata": {},
   "source": [
    "# Twitter Reader"
   ]
  },
  {
   "cell_type": "code",
   "execution_count": null,
   "id": "bb6b5c5a",
   "metadata": {},
   "outputs": [],
   "source": [
    "%pip install llama-index-readers-twitter"
   ]
  },
  {
   "cell_type": "code",
   "execution_count": null,
   "id": "367a6eae",
   "metadata": {},
   "outputs": [],
   "source": [
    "import logging\n",
    "import sys\n",
    "\n",
    "logging.basicConfig(stream=sys.stdout, level=logging.INFO)\n",
    "logging.getLogger().addHandler(logging.StreamHandler(stream=sys.stdout))"
   ]
  },
  {
   "attachments": {},
   "cell_type": "markdown",
   "id": "e4fbb649",
   "metadata": {},
   "source": [
    "If you're opening this Notebook on colab, you will probably need to install LlamaIndex 🦙."
   ]
  },
  {
   "cell_type": "code",
   "execution_count": null,
   "id": "3ee8a99b",
   "metadata": {},
   "outputs": [],
   "source": [
    "!pip install llama-index"
   ]
  },
  {
   "cell_type": "code",
   "execution_count": null,
   "id": "21d03e9b-8a47-45b2-ab27-295b7397ecad",
   "metadata": {},
   "outputs": [],
   "source": [
    "from llama_index.core import VectorStoreIndex\n",
    "from llama_index.readers.twitter import TwitterTweetReader\n",
    "from IPython.display import Markdown, display\n",
    "import os"
   ]
  },
  {
   "cell_type": "code",
   "execution_count": null,
   "id": "ef5d2334-9661-4648-a823-a335ea277826",
   "metadata": {},
   "outputs": [],
   "source": [
    "# create an app in https://developer.twitter.com/en/apps\n",
    "BEARER_TOKEN = \"<bearer_token>\""
   ]
  },
  {
   "cell_type": "code",
   "execution_count": null,
   "id": "1d6a1153-1383-4aaf-b39d-72c1fc9cc428",
   "metadata": {},
   "outputs": [],
   "source": [
    "# create reader, specify twitter handles\n",
    "reader = TwitterTweetReader(BEARER_TOKEN)\n",
    "documents = reader.load_data([\"@twitter_handle1\"])"
   ]
  },
  {
   "cell_type": "code",
   "execution_count": null,
   "id": "ca319024-88e7-424f-b1d8-4daa06c6bc6a",
   "metadata": {},
   "outputs": [],
   "source": [
    "index = VectorStoreIndex.from_documents(documents)"
   ]
  },
  {
   "cell_type": "code",
   "execution_count": null,
   "id": "78680a17-9088-419e-97cf-ac3d5783a709",
   "metadata": {},
   "outputs": [],
   "source": [
    "# set Logging to DEBUG for more detailed outputs\n",
    "query_engine = index.as_query_engine()\n",
    "response = query_engine.query(\"<query_text>\")"
   ]
  },
  {
   "cell_type": "code",
   "execution_count": null,
   "id": "2f0f92a7-cdd9-478f-9765-0a122d6e8508",
   "metadata": {},
   "outputs": [],
   "source": [
    "display(Markdown(f\"<b>{response}</b>\"))"
   ]
  }
 ],
 "metadata": {
  "kernelspec": {
   "display_name": "Python 3 (ipykernel)",
   "language": "python",
   "name": "python3"
  },
  "language_info": {
   "codemirror_mode": {
    "name": "ipython",
    "version": 3
   },
   "file_extension": ".py",
   "mimetype": "text/x-python",
   "name": "python",
   "nbconvert_exporter": "python",
   "pygments_lexer": "ipython3"
  }
 },
 "nbformat": 4,
 "nbformat_minor": 5
}
