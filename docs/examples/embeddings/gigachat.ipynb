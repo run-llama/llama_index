{
 "cells": [
  {
   "cell_type": "markdown",
   "metadata": {},
   "source": [
    "# GigaChat"
   ]
  },
  {
   "cell_type": "code",
   "execution_count": null,
   "metadata": {},
   "outputs": [],
   "source": [
    "%pip install llama-index-embeddings-gigachat"
   ]
  },
  {
   "cell_type": "code",
   "execution_count": null,
   "metadata": {},
   "outputs": [],
   "source": [
    "!pip install llama-index"
   ]
  },
  {
   "cell_type": "code",
   "execution_count": null,
   "metadata": {},
   "outputs": [],
   "source": [
    "from llama_index.embeddings.gigachat import GigaChatEmbedding\n",
    "\n",
    "gigachat_embedding = GigaChatEmbedding(\n",
    "    auth_data=\"your-auth-data\",\n",
    "    scope=\"your-scope\",  # Set scope 'GIGACHAT_API_PERS' for personal use or 'GIGACHAT_API_CORP' for corporate use.\n",
    ")\n",
    "\n",
    "queries_embedding = gigachat_embedding._get_query_embeddings(\n",
    "    [\"This is a passage!\", \"This is another passage\"]\n",
    ")\n",
    "print(queries_embedding)\n",
    "\n",
    "text_embedding = gigachat_embedding._get_text_embedding(\"Where is blue?\")\n",
    "print(text_embedding)"
   ]
  }
 ],
 "metadata": {
  "colab": {
   "provenance": []
  },
  "kernelspec": {
   "display_name": "Python 3",
   "name": "python3"
  },
  "language_info": {
   "name": "python"
  }
 },
 "nbformat": 4,
 "nbformat_minor": 0
}
