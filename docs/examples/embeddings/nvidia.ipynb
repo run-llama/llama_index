{
 "cells": [
  {
   "cell_type": "markdown",
   "metadata": {},
   "source": [
    "# NVIDIA NIMs\n",
    "\n",
    "The `llama-index-embeddings-nvidia` package contains LlamaIndex integrations building applications with models on \n",
    "NVIDIA NIM inference microservice. NIM supports models across domains like chat, embedding, and re-ranking models \n",
    "from the community as well as NVIDIA. These models are optimized by NVIDIA to deliver the best performance on NVIDIA \n",
    "accelerated infrastructure and deployed as a NIM, an easy-to-use, prebuilt containers that deploy anywhere using a single \n",
    "command on NVIDIA accelerated infrastructure.\n",
    "\n",
    "NVIDIA hosted deployments of NIMs are available to test on the [NVIDIA API catalog](https://build.nvidia.com/). After testing, \n",
    "NIMs can be exported from NVIDIA’s API catalog using the NVIDIA AI Enterprise license and run on-premises or in the cloud, \n",
    "giving enterprises ownership and full control of their IP and AI application.\n",
    "\n",
    "NIMs are packaged as container images on a per model basis and are distributed as NGC container images through the NVIDIA NGC Catalog. \n",
    "At their core, NIMs provide easy, consistent, and familiar APIs for running inference on an AI model. "
   ]
  },
  {
   "cell_type": "markdown",
   "metadata": {},
   "source": [
    "## Installation"
   ]
  },
  {
   "cell_type": "code",
   "execution_count": null,
   "metadata": {},
   "outputs": [],
   "source": [
    "%pip install --upgrade --quiet llama-index-embeddings-nvidia"
   ]
  },
  {
   "cell_type": "markdown",
   "metadata": {},
   "source": [
    "Note: you may need to restart the kernel to use updated packages."
   ]
  },
  {
   "cell_type": "markdown",
   "metadata": {},
   "source": [
    "## Setup\n",
    "\n",
    "**To get started:**\n",
    "\n",
    "1. Create a free account with [NVIDIA](https://build.nvidia.com/), which hosts NVIDIA AI Foundation models.\n",
    "\n",
    "2. Select the `Retrieval` tab, then select your model of choice.\n",
    "\n",
    "3. Under `Input` select the `Python` tab, and click `Get API Key`. Then click `Generate Key`.\n",
    "\n",
    "4. Copy and save the generated key as `NVIDIA_API_KEY`. From there, you should have access to the endpoints."
   ]
  },
  {
   "cell_type": "code",
   "execution_count": null,
   "metadata": {},
   "outputs": [],
   "source": [
    "import getpass\n",
    "import os\n",
    "\n",
    "# del os.environ['NVIDIA_API_KEY']  ## delete key and reset\n",
    "if os.environ.get(\"NVIDIA_API_KEY\", \"\").startswith(\"nvapi-\"):\n",
    "    print(\"Valid NVIDIA_API_KEY already in environment. Delete to reset\")\n",
    "else:\n",
    "    nvapi_key = getpass.getpass(\"NVAPI Key (starts with nvapi-): \")\n",
    "    assert nvapi_key.startswith(\n",
    "        \"nvapi-\"\n",
    "    ), f\"{nvapi_key[:5]}... is not a valid key\"\n",
    "    os.environ[\"NVIDIA_API_KEY\"] = nvapi_key"
   ]
  },
  {
   "cell_type": "markdown",
   "metadata": {},
   "source": [
    "## Working with NVIDIA API Catalog\n",
    "\n",
    "When initializing an embedding model you can select a model by passing it, e.g. `NV-Embed-QA` below, or use the default by not passing any arguments."
   ]
  },
  {
   "cell_type": "code",
   "execution_count": null,
   "metadata": {},
   "outputs": [],
   "source": [
    "from llama_index.embeddings.nvidia import NVIDIAEmbedding\n",
    "\n",
    "embedder = NVIDIAEmbedding(model=\"NV-Embed-QA\")"
   ]
  },
  {
   "cell_type": "markdown",
   "metadata": {},
   "source": [
    "This model is a fine-tuned E5-large model which supports the expected [`Embeddings`](https://docs.llamaindex.ai/en/stable/api_reference/embeddings/) methods including:\n",
    "\n",
    "- `get_query_embedding`: Generate query embedding for a query sample.\n",
    "\n",
    "- `get_text_embedding_batch`: Generate text embeddings for a list of documents which you would like to search over.\n",
    "\n",
    "- And asynchronous versions of the above."
   ]
  },
  {
   "cell_type": "markdown",
   "metadata": {},
   "source": [
    "## Working with NVIDIA NIMs\n",
    "\n",
    "In addition to connecting to hosted [NVIDIA NIMs](https://ai.nvidia.com), this connector can be used to connect to local microservice instances. This helps you take your applications local when necessary.\n",
    "\n",
    "For instructions on how to setup local microservice instances, see https://developer.nvidia.com/blog/nvidia-nim-offers-optimized-inference-microservices-for-deploying-ai-models-at-scale/"
   ]
  },
  {
   "cell_type": "code",
   "execution_count": null,
   "metadata": {},
   "outputs": [
    {
     "name": "stderr",
     "output_type": "stream",
     "text": [
      "/home/raspawar/Desktop/llama_index/llama-index-integrations/embeddings/llama-index-embeddings-nvidia/llama_index/embeddings/nvidia/base.py:161: UserWarning: Default model is set as: NV-Embed-QA. \n",
      "Set model using model parameter. \n",
      "To get available models use available_models property.\n",
      "  warnings.warn(\n"
     ]
    },
    {
     "data": {
      "text/plain": [
       "[Model(id='NV-Embed-QA', base_model=None)]"
      ]
     },
     "execution_count": null,
     "metadata": {},
     "output_type": "execute_result"
    }
   ],
   "source": [
    "from llama_index.embeddings.nvidia import NVIDIAEmbedding\n",
    "\n",
    "# connect to an embedding NIM running at localhost:8080\n",
    "embedder = NVIDIAEmbedding(base_url=\"http://localhost:8080/v1\")\n",
    "embedder.available_models"
   ]
  },
  {
   "cell_type": "markdown",
   "metadata": {},
   "source": [
    "### **Similarity**\n",
    "\n",
    "The following is a quick test of the similarity for these data points:\n",
    "\n",
    "**Queries:**\n",
    "\n",
    "- What's the weather like in Komchatka?\n",
    "\n",
    "- What kinds of food is Italy known for?\n",
    "\n",
    "- What's my name? I bet you don't remember...\n",
    "\n",
    "- What's the point of life anyways?\n",
    "\n",
    "- The point of life is to have fun :D\n",
    "\n",
    "**Texts:**\n",
    "\n",
    "- Komchatka's weather is cold, with long, severe winters.\n",
    "\n",
    "- Italy is famous for pasta, pizza, gelato, and espresso.\n",
    "\n",
    "- I can't recall personal names, only provide information.\n",
    "\n",
    "- Life's purpose varies, often seen as personal fulfillment.\n",
    "\n",
    "- Enjoying life's moments is indeed a wonderful approach."
   ]
  },
  {
   "cell_type": "markdown",
   "metadata": {},
   "source": [
    "### Embedding queries"
   ]
  },
  {
   "cell_type": "code",
   "execution_count": null,
   "metadata": {},
   "outputs": [],
   "source": [
    "print(\"\\nSequential Embedding: \")\n",
    "q_embeddings = [\n",
    "    embedder.get_query_embedding(\"What's the weather like in Komchatka?\"),\n",
    "    embedder.get_query_embedding(\"What kinds of food is Italy known for?\"),\n",
    "    embedder.get_query_embedding(\n",
    "        \"What's my name? I bet you don't remember...\"\n",
    "    ),\n",
    "    embedder.get_query_embedding(\"What's the point of life anyways?\"),\n",
    "    embedder.get_query_embedding(\"The point of life is to have fun :D\"),\n",
    "]\n",
    "print(\"Shape:\", (len(q_embeddings), len(q_embeddings[0])))"
   ]
  },
  {
   "cell_type": "markdown",
   "metadata": {},
   "source": [
    "### Document Embedding"
   ]
  },
  {
   "cell_type": "code",
   "execution_count": null,
   "metadata": {},
   "outputs": [],
   "source": [
    "print(\"\\nBatch Document Embedding: \")\n",
    "d_embeddings = embedder.get_text_embedding_batch(\n",
    "    [\n",
    "        \"Komchatka's weather is cold, with long, severe winters.\",\n",
    "        \"Italy is famous for pasta, pizza, gelato, and espresso.\",\n",
    "        \"I can't recall personal names, only provide information.\",\n",
    "        \"Life's purpose varies, often seen as personal fulfillment.\",\n",
    "        \"Enjoying life's moments is indeed a wonderful approach.\",\n",
    "    ]\n",
    ")\n",
    "print(\"Shape:\", (len(d_embeddings), len(d_embeddings[0])))"
   ]
  },
  {
   "cell_type": "markdown",
   "metadata": {},
   "source": [
    "Now that we've generated our embeddings, we can do a simple similarity check on the results to see which documents would have triggered as reasonable answers in a retrieval task:"
   ]
  },
  {
   "cell_type": "code",
   "execution_count": null,
   "metadata": {},
   "outputs": [],
   "source": [
    "%pip install --upgrade --quiet matplotlib scikit-learn"
   ]
  },
  {
   "cell_type": "code",
   "execution_count": null,
   "metadata": {},
   "outputs": [],
   "source": [
    "import matplotlib.pyplot as plt\n",
    "import numpy as np\n",
    "from sklearn.metrics.pairwise import cosine_similarity\n",
    "\n",
    "# Compute the similarity matrix between q_embeddings and d_embeddings\n",
    "cross_similarity_matrix = cosine_similarity(\n",
    "    np.array(q_embeddings),\n",
    "    np.array(d_embeddings),\n",
    ")\n",
    "\n",
    "# Plotting the cross-similarity matrix\n",
    "plt.figure(figsize=(8, 6))\n",
    "plt.imshow(cross_similarity_matrix, cmap=\"Greens\", interpolation=\"nearest\")\n",
    "plt.colorbar()\n",
    "plt.title(\"Cross-Similarity Matrix\")\n",
    "plt.xlabel(\"Query Embeddings\")\n",
    "plt.ylabel(\"Document Embeddings\")\n",
    "plt.grid(True)\n",
    "plt.show()"
   ]
  },
  {
   "cell_type": "markdown",
   "metadata": {},
   "source": [
    "As a reminder, the queries and documents sent to our system were:\n",
    "\n",
    "**Queries:**\n",
    "\n",
    "- What's the weather like in Komchatka?\n",
    "\n",
    "- What kinds of food is Italy known for?\n",
    "\n",
    "- What's my name? I bet you don't remember...\n",
    "\n",
    "- What's the point of life anyways?\n",
    "\n",
    "- The point of life is to have fun :D\n",
    "\n",
    "**Texts:**\n",
    "\n",
    "- Komchatka's weather is cold, with long, severe winters.\n",
    "\n",
    "- Italy is famous for pasta, pizza, gelato, and espresso.\n",
    "\n",
    "- I can't recall personal names, only provide information.\n",
    "\n",
    "- Life's purpose varies, often seen as personal fulfillment.\n",
    "\n",
    "- Enjoying life's moments is indeed a wonderful approach."
   ]
  },
  {
   "cell_type": "markdown",
   "metadata": {},
   "source": [
    "## Truncation\n",
    "\n",
    "Embedding models typically have a fixed context window that determines the maximum number of input tokens that can be embedded. This limit could be a hard limit, equal to the model's maximum input token length, or an effective limit, beyond which the accuracy of the embedding decreases.\n",
    "\n",
    "Since models operate on tokens and applications usually work with text, it can be challenging for an application to ensure that its input stays within the model's token limits. By default, an exception is thrown if the input is too large.\n",
    "\n",
    "To assist with this, NVIDIA NIMs provide a `truncate` parameter that truncates the input on the server side if it's too large.\n",
    "\n",
    "The `truncate` parameter has three options:\n",
    " - \"NONE\": The default option. An exception is thrown if the input is too large.\n",
    " - \"START\": The server truncates the input from the start (left), discarding tokens as necessary.\n",
    " - \"END\": The server truncates the input from the end (right), discarding tokens as necessary."
   ]
  },
  {
   "cell_type": "code",
   "execution_count": null,
   "metadata": {},
   "outputs": [],
   "source": [
    "long_text = \"AI is amazing, amazing is \" * 100"
   ]
  },
  {
   "cell_type": "code",
   "execution_count": null,
   "metadata": {},
   "outputs": [],
   "source": [
    "strict_embedder = NVIDIAEmbedding()\n",
    "try:\n",
    "    strict_embedder.get_query_embedding(long_text)\n",
    "except Exception as e:\n",
    "    print(\"Error:\", e)"
   ]
  },
  {
   "cell_type": "code",
   "execution_count": null,
   "metadata": {},
   "outputs": [],
   "source": [
    "truncating_embedder = NVIDIAEmbedding(truncate=\"END\")\n",
    "truncating_embedder.get_query_embedding(long_text)[:5]"
   ]
  }
 ],
 "metadata": {
  "kernelspec": {
   "display_name": "llama-index-embeddings-nvidia-LEYbhevy-py3.10",
   "language": "python",
   "name": "python3"
  },
  "language_info": {
   "codemirror_mode": {
    "name": "ipython",
    "version": 3
   },
   "file_extension": ".py",
   "mimetype": "text/x-python",
   "name": "python",
   "nbconvert_exporter": "python",
   "pygments_lexer": "ipython3"
  }
 },
 "nbformat": 4,
 "nbformat_minor": 2
}
