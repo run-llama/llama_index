{
 "cells": [
  {
   "cell_type": "markdown",
   "id": "7d05ee2e5015619a",
   "metadata": {},
   "source": [
    "# Llamafile Embeddings"
   ]
  },
  {
   "cell_type": "markdown",
   "id": "7ec795e92b745944",
   "metadata": {},
   "source": [
    "\n",
    "One of the simplest ways to run an LLM locally is using a [llamafile](https://github.com/Mozilla-Ocho/llamafile). llamafiles bundle model weights and a [specially-compiled](https://github.com/Mozilla-Ocho/llamafile?tab=readme-ov-file#technical-details) version of [`llama.cpp`](https://github.com/ggerganov/llama.cpp) into a single file that can run on most computers any additional dependencies. They also come with an embedded inference server that provides an [API](https://github.com/Mozilla-Ocho/llamafile/blob/main/llama.cpp/server/README.md#api-endpoints) for interacting with your model. \n",
    "\n",
    "## Setup\n",
    "\n",
    "1) Download a llamafile from [HuggingFace](https://huggingface.co/models?other=llamafile)\n",
    "2) Make the file executable\n",
    "3) Run the file\n",
    "\n",
    "Here's a simple bash script that shows all 3 setup steps:\n",
    "\n",
    "```bash\n",
    "# Download a llamafile from HuggingFace\n",
    "wget https://huggingface.co/jartine/TinyLlama-1.1B-Chat-v1.0-GGUF/resolve/main/TinyLlama-1.1B-Chat-v1.0.Q5_K_M.llamafile\n",
    "\n",
    "# Make the file executable. On Windows, instead just rename the file to end in \".exe\".\n",
    "chmod +x TinyLlama-1.1B-Chat-v1.0.Q5_K_M.llamafile\n",
    "\n",
    "# Start the model server. Listens at http://localhost:8080 by default.\n",
    "./TinyLlama-1.1B-Chat-v1.0.Q5_K_M.llamafile --server --nobrowser --embedding\n",
    "```\n",
    "\n",
    "Your model's inference server listens at localhost:8080 by default."
   ]
  },
  {
   "cell_type": "code",
   "execution_count": null,
   "id": "429b804c",
   "metadata": {},
   "outputs": [],
   "source": [
    "%pip install llama-index-embeddings-llamafile"
   ]
  },
  {
   "cell_type": "code",
   "execution_count": null,
   "id": "bd65f26028357e05",
   "metadata": {},
   "outputs": [],
   "source": [
    "!pip install llama-index"
   ]
  },
  {
   "cell_type": "code",
   "execution_count": null,
   "id": "a45593c62b5a6518",
   "metadata": {},
   "outputs": [],
   "source": [
    "from llama_index.embeddings.llamafile import LlamafileEmbedding\n",
    "\n",
    "embedding = LlamafileEmbedding(\n",
    "    base_url=\"http://localhost:8080\",\n",
    ")\n",
    "\n",
    "pass_embedding = embedding.get_text_embedding_batch(\n",
    "    [\"This is a passage!\", \"This is another passage\"], show_progress=True\n",
    ")\n",
    "print(len(pass_embedding), len(pass_embedding[0]))\n",
    "\n",
    "query_embedding = embedding.get_query_embedding(\"Where is blue?\")\n",
    "print(len(query_embedding))\n",
    "print(query_embedding[:10])"
   ]
  }
 ],
 "metadata": {
  "kernelspec": {
   "display_name": "Python 3 (ipykernel)",
   "language": "python",
   "name": "python3"
  },
  "language_info": {
   "codemirror_mode": {
    "name": "ipython",
    "version": 3
   },
   "file_extension": ".py",
   "mimetype": "text/x-python",
   "name": "python",
   "nbconvert_exporter": "python",
   "pygments_lexer": "ipython3"
  }
 },
 "nbformat": 4,
 "nbformat_minor": 5
}
