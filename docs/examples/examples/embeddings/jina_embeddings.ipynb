{
 "cells": [
  {
   "cell_type": "markdown",
   "id": "47a1d1fa-7ab6-42f0-ba08-aee1a81ead9e",
   "metadata": {},
   "source": [
    "# Jina 8K Context Window Embeddings\n",
    "\n",
    "Here we show you how to use `jina-embeddings-v2` which support an 8k context length and is on-par with `text-embedding-ada-002`"
   ]
  },
  {
   "cell_type": "markdown",
   "id": "f0bcb5e7-84aa-4ebb-bcd1-1c7a27904483",
   "metadata": {},
   "source": [
    "<a href=\"https://colab.research.google.com/github/run-llama/llama_index/blob/main/docs/docs/examples/embeddings/jina_embeddings.ipynb\" target=\"_parent\"><img src=\"https://colab.research.google.com/assets/colab-badge.svg\" alt=\"Open In Colab\"/></a>"
   ]
  },
  {
   "cell_type": "code",
   "execution_count": null,
   "id": "8f2f1725",
   "metadata": {},
   "outputs": [],
   "source": [
    "%pip install llama-index-embeddings-huggingface\n",
    "%pip install llama-index-embeddings-huggingface-api\n",
    "%pip install llama-index-embeddings-openai"
   ]
  },
  {
   "cell_type": "code",
   "execution_count": null,
   "id": "92386174-c9d5-4150-b8d6-d2f721803468",
   "metadata": {},
   "outputs": [],
   "source": [
    "import nest_asyncio\n",
    "\n",
    "nest_asyncio.apply()"
   ]
  },
  {
   "cell_type": "markdown",
   "id": "561fcbfa-2145-4508-98f2-f789c8a6fd7d",
   "metadata": {},
   "source": [
    "## Setup Embedding Model"
   ]
  },
  {
   "cell_type": "code",
   "execution_count": null,
   "id": "73989e91-21a3-4fb4-8569-690d947ac1a7",
   "metadata": {},
   "outputs": [],
   "source": [
    "from llama_index.embeddings.huggingface import (\n",
    "    HuggingFaceEmbedding,\n",
    ")\n",
    "from llama_index.embeddings.huggingface_api import (\n",
    "    HuggingFaceInferenceAPIEmbedding,\n",
    ")\n",
    "from llama_index.embeddings.openai import OpenAIEmbedding\n",
    "from llama_index.core import Settings"
   ]
  },
  {
   "cell_type": "code",
   "execution_count": null,
   "id": "757ab977-8174-4b6f-a93f-6be750133472",
   "metadata": {},
   "outputs": [],
   "source": [
    "# base model\n",
    "# model_name = \"jinaai/jina-embeddings-v2-base-en\"\n",
    "# small model\n",
    "model_name = \"jinaai/jina-embeddings-v2-small-en\""
   ]
  },
  {
   "cell_type": "code",
   "execution_count": null,
   "id": "bbfa7a05-4410-4c30-aae7-29cd58c7e262",
   "metadata": {},
   "outputs": [],
   "source": [
    "# download model locally\n",
    "# note: you need enough RAM+compute to run this\n",
    "embed_model = HuggingFaceEmbedding(\n",
    "    model_name=model_name, trust_remote_code=True\n",
    ")\n",
    "\n",
    "\n",
    "# use inference API on Hugging Face (though you might run into rate limit issues)\n",
    "# embed_model = HuggingFaceInferenceAPIEmbedding(\n",
    "#     model_name=\"jinaai/jina-embeddings-v2-base-en\",\n",
    "# )"
   ]
  },
  {
   "cell_type": "code",
   "execution_count": null,
   "id": "5f8f17f6-129a-4369-b8d9-2c37a5497ece",
   "metadata": {},
   "outputs": [],
   "source": [
    "# we set chunk size to 1024 for now, you can obviuosly set it to much bigger\n",
    "Settings.embed_model = embed_model\n",
    "Settings.chunk_size = 1024"
   ]
  },
  {
   "cell_type": "markdown",
   "id": "13248878-99c6-4037-b35d-19f306b6c23b",
   "metadata": {},
   "source": [
    "### Setup OpenAI ada embeddings as comparison"
   ]
  },
  {
   "cell_type": "code",
   "execution_count": null,
   "id": "979e31cd-5ba5-461f-a70b-8ab4fb773512",
   "metadata": {},
   "outputs": [],
   "source": [
    "embed_model_base = OpenAIEmbedding()"
   ]
  },
  {
   "cell_type": "markdown",
   "id": "3420d475-03b0-4f65-b4f4-769e013bfc7c",
   "metadata": {},
   "source": [
    "## Setup Index to test this out\n",
    "\n",
    "We'll use our standard Paul Graham example."
   ]
  },
  {
   "cell_type": "code",
   "execution_count": null,
   "id": "331a5751-3485-41ee-a64a-d62f24ccbf90",
   "metadata": {},
   "outputs": [],
   "source": [
    "from llama_index.core import VectorStoreIndex, SimpleDirectoryReader"
   ]
  },
  {
   "cell_type": "code",
   "execution_count": null,
   "id": "c06f91f4-0ed5-49a0-9e93-e81fb0243c09",
   "metadata": {},
   "outputs": [],
   "source": [
    "reader = SimpleDirectoryReader(\"../data/paul_graham\")\n",
    "docs = reader.load_data()"
   ]
  },
  {
   "cell_type": "code",
   "execution_count": null,
   "id": "7cf3c860-02e1-4723-8014-39b84afac837",
   "metadata": {},
   "outputs": [],
   "source": [
    "index_jina = VectorStoreIndex.from_documents(docs, embed_model=embed_model)"
   ]
  },
  {
   "cell_type": "code",
   "execution_count": null,
   "id": "a58e3c6e-ec19-43b5-80f6-39d54441a74a",
   "metadata": {},
   "outputs": [],
   "source": [
    "index_base = VectorStoreIndex.from_documents(\n",
    "    docs, embed_model=embed_model_base\n",
    ")"
   ]
  },
  {
   "cell_type": "markdown",
   "id": "d1eb4504-8adb-4e99-b861-8a6f2314c6da",
   "metadata": {},
   "source": [
    "## View Results\n",
    "\n",
    "Look at retrieved results with Jina-8k vs. Replicate"
   ]
  },
  {
   "cell_type": "code",
   "execution_count": null,
   "id": "a70ed87f-6e9e-47b5-b89b-d261069f21ba",
   "metadata": {},
   "outputs": [],
   "source": [
    "from llama_index.core.response.notebook_utils import display_source_node\n",
    "\n",
    "retriever_jina = index_jina.as_retriever(similarity_top_k=1)\n",
    "retriever_base = index_base.as_retriever(similarity_top_k=1)"
   ]
  },
  {
   "cell_type": "code",
   "execution_count": null,
   "id": "b588bd50-eb10-42ce-baf4-cd2d0d989519",
   "metadata": {},
   "outputs": [],
   "source": [
    "retrieved_nodes = retriever_jina.retrieve(\n",
    "    \"What did the author do in art school?\"\n",
    ")"
   ]
  },
  {
   "cell_type": "code",
   "execution_count": null,
   "id": "4025f19b-69dd-492c-a991-b3abb6d365d2",
   "metadata": {},
   "outputs": [
    {
     "data": {
      "text/markdown": [
       "**Node ID:** 921cc179-312f-4ee2-a760-3cccd27470d9<br>**Similarity:** 0.7612087686435924<br>**Text:** That's not always why artists have a signature style, but it's usually why buyers pay a lot for such work. [6]\n",
       "\n",
       "There were plenty of earnest students too: kids who \"could draw\" in high school, and now had come to what was supposed to be the best art school in the country, to learn to draw even better. They tended to be confused and demoralized by what they found at RISD, but they kept going, because painting was what they did. I was not one of the kids who could draw in high school, but at RISD I was definitely closer to their tribe than the tribe of signature style seekers.\n",
       "\n",
       "I learned a lot in the color class I took at RISD, but otherwise I was basically teaching myself to paint, and I could do that for free. So in 1993 I dropped out. I hung around Providence for a bit, and then my college friend Nancy Parmet did me a big favor. A rent-controlled apartment in a building her mother owned in New York was becoming vacant. Did I want it? It wasn't much more than my current place, and New York was supposed to be where the artists were. So yes, I wanted it! [7]\n",
       "\n",
       "Asterix comics begin by zooming in on a tiny corner of Roman Gaul that turns out not to be controlled by the Romans. You can do something similar on a map of New York City: if you zoom in on the Upper East Side, there's a tiny corner that's not rich, or at least wasn't in 1993. It's called Yorkville, and that was my new home. Now I was a New York artist — in the strictly technical sense of making paintings and living in New York.\n",
       "\n",
       "I was nervous about money, because I could sense that Interleaf was on the way down. Freelance Lisp hacking work was very rare, and I didn't want to have to program in another language, which in those days would have meant C++ if I was lucky. So with my unerring nose for financial opportunity, I decided to write another book on Lisp. This would be a popular book, the sort of book that could be used as a textbook. I imagined myself living frugally off the royalties and spending all my...<br>"
      ],
      "text/plain": [
       "<IPython.core.display.Markdown object>"
      ]
     },
     "metadata": {},
     "output_type": "display_data"
    }
   ],
   "source": [
    "for n in retrieved_nodes:\n",
    "    display_source_node(n, source_length=2000)"
   ]
  },
  {
   "cell_type": "code",
   "execution_count": null,
   "id": "cf18f05c-8751-4425-8a78-e71c31f6cfbf",
   "metadata": {},
   "outputs": [],
   "source": [
    "retrieved_nodes = retriever_base.retrieve(\"What did the author do in school?\")"
   ]
  },
  {
   "cell_type": "code",
   "execution_count": null,
   "id": "fdd76b6a-eefd-47c8-98e1-9f60154d30a8",
   "metadata": {},
   "outputs": [
    {
     "data": {
      "text/markdown": [
       "**Node ID:** 0abf44f2-94bd-421f-9ebd-5b50f4de37f0<br>**Similarity:** 0.8352482505756655<br>**Text:** What I Worked On\n",
       "\n",
       "February 2021\n",
       "\n",
       "Before college the two main things I worked on, outside of school, were writing and programming. I didn't write essays. I wrote what beginning writers were supposed to write then, and probably still are: short stories. My stories were awful. They had hardly any plot, just characters with strong feelings, which I imagined made them deep.\n",
       "\n",
       "The first programs I tried writing were on the IBM 1401 that our school district used for what was then called \"data processing.\" This was in 9th grade, so I was 13 or 14. The school district's 1401 happened to be in the basement of our junior high school, and my friend Rich Draves and I got permission to use it. It was like a mini Bond villain's lair down there, with all these alien-looking machines — CPU, disk drives, printer, card reader — sitting up on a raised floor under bright fluorescent lights.\n",
       "\n",
       "The language we used was an early version of Fortran. You had to type programs on punch cards, then stack them in the card reader and press a button to load the program into memory and run it. The result would ordinarily be to print something on the spectacularly loud printer.\n",
       "\n",
       "I was puzzled by the 1401. I couldn't figure out what to do with it. And in retrospect there's not much I could have done with it. The only form of input to programs was data stored on punched cards, and I didn't have any data stored on punched cards. The only other option was to do things that didn't rely on any input, like calculate approximations of pi, but I didn't know enough math to do anything interesting of that type. So I'm not surprised I can't remember any programs I wrote, because they can't have done much. My clearest memory is of the moment I learned it was possible for programs not to terminate, when one of mine didn't. On a machine without time-sharing, this was a social as well as a technical error, as the data center manager's expression made clear.\n",
       "\n",
       "With microcomputers, everything changed. Now you could h...<br>"
      ],
      "text/plain": [
       "<IPython.core.display.Markdown object>"
      ]
     },
     "metadata": {},
     "output_type": "display_data"
    }
   ],
   "source": [
    "for n in retrieved_nodes:\n",
    "    display_source_node(n, source_length=2000)"
   ]
  }
 ],
 "metadata": {
  "kernelspec": {
   "display_name": "llama_index_v2",
   "language": "python",
   "name": "llama_index_v2"
  },
  "language_info": {
   "codemirror_mode": {
    "name": "ipython",
    "version": 3
   },
   "file_extension": ".py",
   "mimetype": "text/x-python",
   "name": "python",
   "nbconvert_exporter": "python",
   "pygments_lexer": "ipython3"
  }
 },
 "nbformat": 4,
 "nbformat_minor": 5
}
