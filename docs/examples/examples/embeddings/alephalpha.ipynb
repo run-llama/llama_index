{
 "cells": [
  {
   "attachments": {},
   "cell_type": "markdown",
   "metadata": {},
   "source": [
    "<a href=\"https://colab.research.google.com/github/run-llama/llama_index/blob/main/docs/docs/examples/embeddings/alephalpha.ipynb\" target=\"_parent\"><img src=\"https://colab.research.google.com/assets/colab-badge.svg\" alt=\"Open In Colab\"/></a>"
   ]
  },
  {
   "attachments": {},
   "cell_type": "markdown",
   "metadata": {},
   "source": [
    "# Aleph Alpha Embeddings"
   ]
  },
  {
   "cell_type": "markdown",
   "metadata": {},
   "source": [
    "If you're opening this Notebook on colab, you will probably need to install LlamaIndex 🦙."
   ]
  },
  {
   "cell_type": "code",
   "execution_count": null,
   "metadata": {},
   "outputs": [],
   "source": [
    "%pip install llama-index-embeddings-alephalpha"
   ]
  },
  {
   "cell_type": "code",
   "execution_count": null,
   "metadata": {},
   "outputs": [],
   "source": [
    "!pip install llama-index"
   ]
  },
  {
   "cell_type": "code",
   "execution_count": null,
   "metadata": {},
   "outputs": [],
   "source": [
    "# Initialise with your AA token\n",
    "import os\n",
    "\n",
    "os.environ[\"AA_TOKEN\"] = \"your_token_here\""
   ]
  },
  {
   "attachments": {},
   "cell_type": "markdown",
   "metadata": {},
   "source": [
    "#### With `luminous-base` embeddings.\n",
    "\n",
    "- representation=\"Document\": Use this for texts (documents) you want to store in your vector database\n",
    "- representation=\"Query\": Use this for search queries to find the most relevant documents in your vector database\n",
    "- representation=\"Symmetric\": Use this for clustering, classification, anomaly detection or visualisation tasks."
   ]
  },
  {
   "cell_type": "code",
   "execution_count": null,
   "metadata": {},
   "outputs": [
    {
     "name": "stdout",
     "output_type": "stream",
     "text": [
      "\n",
      "\n",
      "representation_enum: SemanticRepresentation.Query\n",
      "\n",
      "\n",
      "5120\n",
      "[0.14257812, 2.59375, 0.33203125, -0.33789062, -0.94140625]\n"
     ]
    }
   ],
   "source": [
    "from llama_index.embeddings.alephalpha import AlephAlphaEmbedding\n",
    "\n",
    "# To customize your token, do this\n",
    "# otherwise it will lookup AA_TOKEN from your env variable\n",
    "# embed_model = AlephAlpha(token=\"<aa_token>\")\n",
    "\n",
    "# with representation='query'\n",
    "embed_model = AlephAlphaEmbedding(\n",
    "    model=\"luminous-base\",\n",
    "    representation=\"Query\",\n",
    ")\n",
    "\n",
    "embeddings = embed_model.get_text_embedding(\"Hello Aleph Alpha!\")\n",
    "\n",
    "print(len(embeddings))\n",
    "print(embeddings[:5])"
   ]
  },
  {
   "cell_type": "code",
   "execution_count": null,
   "metadata": {},
   "outputs": [
    {
     "name": "stdout",
     "output_type": "stream",
     "text": [
      "\n",
      "\n",
      "representation_enum: SemanticRepresentation.Document\n",
      "\n",
      "\n",
      "5120\n",
      "[0.14257812, 2.59375, 0.33203125, -0.33789062, -0.94140625]\n"
     ]
    }
   ],
   "source": [
    "# with representation='Document'\n",
    "embed_model = AlephAlphaEmbedding(\n",
    "    model=\"luminous-base\",\n",
    "    representation=\"Document\",\n",
    ")\n",
    "\n",
    "embeddings = embed_model.get_text_embedding(\"Hello Aleph Alpha!\")\n",
    "\n",
    "print(len(embeddings))\n",
    "print(embeddings[:5])"
   ]
  }
 ],
 "metadata": {
  "kernelspec": {
   "display_name": "Python 3 (ipykernel)",
   "language": "python",
   "name": "python3"
  },
  "language_info": {
   "codemirror_mode": {
    "name": "ipython",
    "version": 3
   },
   "file_extension": ".py",
   "mimetype": "text/x-python",
   "name": "python",
   "nbconvert_exporter": "python",
   "pygments_lexer": "ipython3"
  },
  "vscode": {
   "interpreter": {
    "hash": "64bcadabe4cd61f3d117ba0da9d14bf2f8e35582ff79e821f2e71056f2723d1e"
   }
  }
 },
 "nbformat": 4,
 "nbformat_minor": 4
}
