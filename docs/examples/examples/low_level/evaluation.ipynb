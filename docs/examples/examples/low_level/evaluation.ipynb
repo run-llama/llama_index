{
 "cells": [
  {
   "attachments": {},
   "cell_type": "markdown",
   "id": "762e5484",
   "metadata": {},
   "source": [
    "<a href=\"https://colab.research.google.com/github/run-llama/llama_index/blob/main/docs/docs/examples/low_level/evaluation.ipynb\" target=\"_parent\"><img src=\"https://colab.research.google.com/assets/colab-badge.svg\" alt=\"Open In Colab\"/></a>\n"
   ]
  },
  {
   "cell_type": "markdown",
   "id": "fa530a77-b0a7-46f1-bb17-0cfa31650c60",
   "metadata": {},
   "source": [
    "# Building Evaluation from Scratch\n",
    "\n",
    "We show how you can build evaluation modules from scratch. This includes both evaluation of the final generated response (where the output is plain text), as well as the evaluation of retrievers (where the output is a ranked list of items).\n",
    "\n",
    "We have in-house modules in our [Evaluation](https://gpt-index.readthedocs.io/en/latest/core_modules/supporting_modules/evaluation/root.html) section."
   ]
  },
  {
   "cell_type": "markdown",
   "id": "69705b2b-38f4-471e-bccf-f3bac26f1582",
   "metadata": {},
   "source": [
    "## Setup\n",
    "\n",
    "We load some data and define a very simple RAG query engine that we'll evaluate (uses top-k retrieval)."
   ]
  },
  {
   "cell_type": "code",
   "execution_count": null,
   "id": "2aeaaad5",
   "metadata": {},
   "outputs": [],
   "source": [
    "%pip install llama-index-readers-file pymupdf\n",
    "%pip install llama-index-llms-openai"
   ]
  },
  {
   "cell_type": "code",
   "execution_count": null,
   "id": "9b6a360d-ea79-444e-9f0f-cfcca9fb9642",
   "metadata": {},
   "outputs": [
    {
     "name": "stdout",
     "output_type": "stream",
     "text": [
      "mkdir: data: File exists\n",
      "--2023-09-19 00:05:14--  https://arxiv.org/pdf/2307.09288.pdf\n",
      "Resolving arxiv.org (arxiv.org)... 128.84.21.199\n",
      "Connecting to arxiv.org (arxiv.org)|128.84.21.199|:443... connected.\n",
      "HTTP request sent, awaiting response... 200 OK\n",
      "Length: 13661300 (13M) [application/pdf]\n",
      "Saving to: ‘data/llama2.pdf’\n",
      "\n",
      "data/llama2.pdf     100%[===================>]  13.03M  1.56MB/s    in 9.3s    \n",
      "\n",
      "2023-09-19 00:05:25 (1.40 MB/s) - ‘data/llama2.pdf’ saved [13661300/13661300]\n"
     ]
    }
   ],
   "source": [
    "!mkdir data\n",
    "!wget --user-agent \"Mozilla\" \"https://arxiv.org/pdf/2307.09288.pdf\" -O \"data/llama2.pdf\""
   ]
  },
  {
   "cell_type": "code",
   "execution_count": null,
   "id": "d4320016-3e22-485d-b6f7-ce017904310b",
   "metadata": {},
   "outputs": [],
   "source": [
    "from pathlib import Path\n",
    "from llama_index.readers.file import PyMuPDFReader"
   ]
  },
  {
   "cell_type": "code",
   "execution_count": null,
   "id": "cea78011-75a1-46af-8509-22073db5dcee",
   "metadata": {},
   "outputs": [],
   "source": [
    "loader = PyMuPDFReader()\n",
    "documents = loader.load(file_path=\"./data/llama2.pdf\")"
   ]
  },
  {
   "cell_type": "code",
   "execution_count": null,
   "id": "f9883cde-bf3e-40a7-8a2e-59f39daeadc8",
   "metadata": {},
   "outputs": [],
   "source": [
    "from llama_index.core import VectorStoreIndex\n",
    "from llama_index.core.node_parser import SentenceSplitter\n",
    "from llama_index.llms.openai import OpenAI"
   ]
  },
  {
   "cell_type": "code",
   "execution_count": null,
   "id": "4de6d37e-dc23-43a2-9d47-605d5978c8ab",
   "metadata": {},
   "outputs": [],
   "source": [
    "llm = OpenAI(model=\"gpt-4\")\n",
    "node_parser = SentenceSplitter(chunk_size=1024)"
   ]
  },
  {
   "cell_type": "code",
   "execution_count": null,
   "id": "e4868a75-0a1c-486c-81b1-bea989e62591",
   "metadata": {},
   "outputs": [],
   "source": [
    "nodes = node_parser.get_nodes_from_documents(documents)"
   ]
  },
  {
   "cell_type": "code",
   "execution_count": null,
   "id": "046bc86f-4577-4d2c-a596-960df347be2c",
   "metadata": {},
   "outputs": [],
   "source": [
    "index = VectorStoreIndex(nodes)"
   ]
  },
  {
   "cell_type": "code",
   "execution_count": null,
   "id": "109fb2f3-ee93-4292-8c1c-da4d0584673f",
   "metadata": {},
   "outputs": [],
   "source": [
    "query_engine = index.as_query_engine(llm=llm)"
   ]
  },
  {
   "cell_type": "markdown",
   "id": "8b60e745-aae4-4ab2-be7d-563a883d27a3",
   "metadata": {},
   "source": [
    "## Dataset Generation\n",
    "\n",
    "We first go through an exercise of generating a synthetic evaluation dataset. We do this by synthetically generating a set of questions from existing context. We then run each question with existing context through a powerful LLM (e.g. GPT-4) to generate a \"ground-truth\" response."
   ]
  },
  {
   "cell_type": "markdown",
   "id": "09b4f0bf-8f7d-4693-b055-d050020b1291",
   "metadata": {},
   "source": [
    "### Define Functions\n",
    "\n",
    "We define the functions that we will use for dataset generation:"
   ]
  },
  {
   "cell_type": "code",
   "execution_count": null,
   "id": "9a305907-14d1-4f5c-a15c-145ae7dcb3e9",
   "metadata": {},
   "outputs": [],
   "source": [
    "from llama_index.core.schema import BaseNode\n",
    "from llama_index.llms.openai import OpenAI\n",
    "from llama_index.core.llms import ChatMessage, MessageRole\n",
    "from llama_index.core import ChatPromptTemplate, PromptTemplate\n",
    "from typing import Tuple, List\n",
    "import re\n",
    "\n",
    "llm = OpenAI(model=\"gpt-4\")"
   ]
  },
  {
   "cell_type": "markdown",
   "id": "70019ed9-bed5-434e-b6d3-545726ac7397",
   "metadata": {},
   "source": [
    "We define `generate_answers_for_questions` to generate answers from questions given context."
   ]
  },
  {
   "cell_type": "code",
   "execution_count": null,
   "id": "8ca84683-5d4c-4b1f-ae4d-cd6aea51dc0a",
   "metadata": {},
   "outputs": [],
   "source": [
    "QA_PROMPT = PromptTemplate(\n",
    "    \"Context information is below.\\n\"\n",
    "    \"---------------------\\n\"\n",
    "    \"{context_str}\\n\"\n",
    "    \"---------------------\\n\"\n",
    "    \"Given the context information and not prior knowledge, \"\n",
    "    \"answer the query.\\n\"\n",
    "    \"Query: {query_str}\\n\"\n",
    "    \"Answer: \"\n",
    ")\n",
    "\n",
    "\n",
    "def generate_answers_for_questions(\n",
    "    questions: List[str], context: str, llm: OpenAI\n",
    ") -> str:\n",
    "    \"\"\"Generate answers for questions given context.\"\"\"\n",
    "    answers = []\n",
    "    for question in questions:\n",
    "        fmt_qa_prompt = QA_PROMPT.format(\n",
    "            context_str=context, query_str=question\n",
    "        )\n",
    "        response_obj = llm.complete(fmt_qa_prompt)\n",
    "        answers.append(str(response_obj))\n",
    "    return answers"
   ]
  },
  {
   "cell_type": "markdown",
   "id": "99c0e168-e2d4-4e63-ae77-5413499b0c7d",
   "metadata": {},
   "source": [
    "We define `generate_qa_pairs` to generate qa pairs over an entire list of Nodes."
   ]
  },
  {
   "cell_type": "code",
   "execution_count": null,
   "id": "f1b4e96d-d08d-4c69-9b35-0dbb1f0a61b7",
   "metadata": {},
   "outputs": [],
   "source": [
    "QUESTION_GEN_USER_TMPL = (\n",
    "    \"Context information is below.\\n\"\n",
    "    \"---------------------\\n\"\n",
    "    \"{context_str}\\n\"\n",
    "    \"---------------------\\n\"\n",
    "    \"Given the context information and not prior knowledge, \"\n",
    "    \"generate the relevant questions. \"\n",
    ")\n",
    "\n",
    "QUESTION_GEN_SYS_TMPL = \"\"\"\\\n",
    "You are a Teacher/ Professor. Your task is to setup \\\n",
    "{num_questions_per_chunk} questions for an upcoming \\\n",
    "quiz/examination. The questions should be diverse in nature \\\n",
    "across the document. Restrict the questions to the \\\n",
    "context information provided.\\\n",
    "\"\"\"\n",
    "\n",
    "question_gen_template = ChatPromptTemplate(\n",
    "    message_templates=[\n",
    "        ChatMessage(role=MessageRole.SYSTEM, content=QUESTION_GEN_SYS_TMPL),\n",
    "        ChatMessage(role=MessageRole.USER, content=QUESTION_GEN_USER_TMPL),\n",
    "    ]\n",
    ")\n",
    "\n",
    "\n",
    "def generate_qa_pairs(\n",
    "    nodes: List[BaseNode], llm: OpenAI, num_questions_per_chunk: int = 10\n",
    ") -> List[Tuple[str, str]]:\n",
    "    \"\"\"Generate questions.\"\"\"\n",
    "    qa_pairs = []\n",
    "    for idx, node in enumerate(nodes):\n",
    "        print(f\"Node {idx}/{len(nodes)}\")\n",
    "        context_str = node.get_content(metadata_mode=\"all\")\n",
    "        fmt_messages = question_gen_template.format_messages(\n",
    "            num_questions_per_chunk=10,\n",
    "            context_str=context_str,\n",
    "        )\n",
    "        chat_response = llm.chat(fmt_messages)\n",
    "        raw_output = chat_response.message.content\n",
    "        result_list = str(raw_output).strip().split(\"\\n\")\n",
    "        cleaned_questions = [\n",
    "            re.sub(r\"^\\d+[\\).\\s]\", \"\", question).strip()\n",
    "            for question in result_list\n",
    "        ]\n",
    "        answers = generate_answers_for_questions(\n",
    "            cleaned_questions, context_str, llm\n",
    "        )\n",
    "        cur_qa_pairs = list(zip(cleaned_questions, answers))\n",
    "        qa_pairs.extend(cur_qa_pairs)\n",
    "    return qa_pairs"
   ]
  },
  {
   "cell_type": "code",
   "execution_count": null,
   "id": "ebc86bed-c5f9-4bc4-939f-49bca7599fa2",
   "metadata": {},
   "outputs": [
    {
     "data": {
      "text/plain": [
       "[('What is the main focus of the work described in the document?',\n",
       "  'The main focus of the work described in the document is the development and release of Llama 2, a collection of pretrained and fine-tuned large language models (LLMs) ranging in scale from 7 billion to 70 billion parameters. The fine-tuned LLMs, called Llama 2-Chat, are optimized for dialogue use cases. The document also provides a detailed description of the approach to fine-tuning and safety improvements of Llama 2-Chat.'),\n",
       " ('What is the range of parameters for the large language models (LLMs) developed in this work?',\n",
       "  'The range of parameters for the large language models (LLMs) developed in this work is from 7 billion to 70 billion.'),\n",
       " ('What is the specific name given to the fine-tuned LLMs optimized for dialogue use cases?',\n",
       "  'The specific name given to the fine-tuned LLMs optimized for dialogue use cases is Llama 2-Chat.'),\n",
       " ('How do the models developed in this work compare to open-source chat models based on the benchmarks tested?',\n",
       "  'The models developed in this work, specifically the fine-tuned LLMs called Llama 2-Chat, outperform open-source chat models on most benchmarks tested.'),\n",
       " ('What are the two key areas of human evaluation mentioned in the document for the developed models?',\n",
       "  'The two key areas of human evaluation mentioned in the document for the developed models are helpfulness and safety.'),\n",
       " ('What is the purpose of providing a detailed description of the approach to fine-tuning and safety improvements of Llama 2-Chat?',\n",
       "  'The purpose of providing a detailed description of the approach to fine-tuning and safety improvements of Llama 2-Chat is to enable the community to build on their work and contribute to the responsible development of Large Language Models (LLMs).'),\n",
       " ('What is the intended benefit for the community from this work?',\n",
       "  'The intended benefit for the community from this work is to enable them to build on the work and contribute to the responsible development of large language models (LLMs). The team provides a detailed description of their approach to fine-tuning and safety improvements of Llama 2-Chat for this purpose.'),\n",
       " ('Who are the corresponding authors of this work and how can they be contacted?',\n",
       "  'The corresponding authors of this work are Thomas Scialom and Hugo Touvron. They can be contacted via email at tscialom@meta.com and htouvron@meta.com respectively.'),\n",
       " ('What is the source of the document and how many pages does it contain?',\n",
       "  'The source of the document is \"1\" and it contains 77 pages.'),\n",
       " ('Where can the contributions of all the authors be found in the document?',\n",
       "  'The contributions of all the authors can be found in Section A.1 of the document.')]"
      ]
     },
     "execution_count": null,
     "metadata": {},
     "output_type": "execute_result"
    }
   ],
   "source": [
    "qa_pairs"
   ]
  },
  {
   "cell_type": "markdown",
   "id": "be54f0b3-ba1b-40ca-bad3-b3e7f52ff832",
   "metadata": {},
   "source": [
    "### Getting Pairs over Dataset\n",
    "\n",
    "**NOTE**: This can take a long time. For the sake of speed try inputting a subset of the nodes."
   ]
  },
  {
   "cell_type": "code",
   "execution_count": null,
   "id": "7fc2bd4c-059f-4c6a-b151-e591eb5d16aa",
   "metadata": {},
   "outputs": [],
   "source": [
    "qa_pairs = generate_qa_pairs(\n",
    "    # nodes[:1],\n",
    "    nodes,\n",
    "    llm,\n",
    "    num_questions_per_chunk=10,\n",
    ")"
   ]
  },
  {
   "cell_type": "markdown",
   "id": "71ca7789-1675-4df3-8935-4e2d4e49389c",
   "metadata": {},
   "source": [
    "#### [Optional] Define save/load"
   ]
  },
  {
   "cell_type": "code",
   "execution_count": null,
   "id": "68faa352-a281-440a-aee3-e74e214d2742",
   "metadata": {},
   "outputs": [],
   "source": [
    "# save\n",
    "import pickle\n",
    "\n",
    "pickle.dump(qa_pairs, open(\"eval_dataset.pkl\", \"wb\"))"
   ]
  },
  {
   "cell_type": "code",
   "execution_count": null,
   "id": "6e99e1b6-cf45-4e2e-bbd1-5ee3b6b1e0c9",
   "metadata": {},
   "outputs": [],
   "source": [
    "# save\n",
    "import pickle\n",
    "\n",
    "qa_pairs = pickle.load(open(\"eval_dataset.pkl\", \"rb\"))"
   ]
  },
  {
   "cell_type": "markdown",
   "id": "3ee53e5f-005b-4795-b847-9b6440785527",
   "metadata": {},
   "source": [
    "## Evaluating Generation\n",
    "\n",
    "In this section we walk through a few methods for evaluating the generated results. At a high-level we use an \"evaluation LLM\" to measure the quality of the generated results. We do this in both the **with labels** setting and **without labels** setting. \n",
    "\n",
    "We go through the following evaluation algorithms:\n",
    "- **Correctness**: Compares the generated answer against the ground-truth answer.\n",
    "- **Faithfulness**: Evaluates whether a response is faithful to the contexts (label-free)."
   ]
  },
  {
   "cell_type": "markdown",
   "id": "fe4a7ac0-32f2-4a86-b1a7-f726334ec749",
   "metadata": {},
   "source": [
    "### Building a Correctness Evaluator\n",
    "\n",
    "The correctness evaluator compares the generated answer to the reference ground-truth answer, given the query. We output a score between 1 and 5, where 1 is the worst and 5 is the best.\n",
    "\n",
    "We do this through a system and user prompt with a chat interface."
   ]
  },
  {
   "cell_type": "code",
   "execution_count": null,
   "id": "f28e2cff-459b-412f-9282-1976e5c60db3",
   "metadata": {},
   "outputs": [],
   "source": [
    "from llama_index.core.llms import ChatMessage, MessageRole\n",
    "from llama_index.core import ChatPromptTemplate, PromptTemplate\n",
    "from typing import Dict"
   ]
  },
  {
   "cell_type": "code",
   "execution_count": null,
   "id": "25d4f4e7-4512-4d46-b90a-6e3a075da7fa",
   "metadata": {},
   "outputs": [],
   "source": [
    "CORRECTNESS_SYS_TMPL = \"\"\"\n",
    "You are an expert evaluation system for a question answering chatbot.\n",
    "\n",
    "You are given the following information:\n",
    "- a user query, \n",
    "- a reference answer, and\n",
    "- a generated answer.\n",
    "\n",
    "Your job is to judge the relevance and correctness of the generated answer.\n",
    "Output a single score that represents a holistic evaluation.\n",
    "You must return your response in a line with only the score.\n",
    "Do not return answers in any other format.\n",
    "On a separate line provide your reasoning for the score as well.\n",
    "\n",
    "Follow these guidelines for scoring:\n",
    "- Your score has to be between 1 and 5, where 1 is the worst and 5 is the best.\n",
    "- If the generated answer is not relevant to the user query, \\\n",
    "you should give a score of 1.\n",
    "- If the generated answer is relevant but contains mistakes, \\\n",
    "you should give a score between 2 and 3.\n",
    "- If the generated answer is relevant and fully correct, \\\n",
    "you should give a score between 4 and 5.\n",
    "\"\"\"\n",
    "\n",
    "CORRECTNESS_USER_TMPL = \"\"\"\n",
    "## User Query\n",
    "{query}\n",
    "\n",
    "## Reference Answer\n",
    "{reference_answer}\n",
    "\n",
    "## Generated Answer\n",
    "{generated_answer}\n",
    "\"\"\""
   ]
  },
  {
   "cell_type": "code",
   "execution_count": null,
   "id": "b2fdf76f-3a36-4dbf-9699-4007453eeb61",
   "metadata": {},
   "outputs": [],
   "source": [
    "eval_chat_template = ChatPromptTemplate(\n",
    "    message_templates=[\n",
    "        ChatMessage(role=MessageRole.SYSTEM, content=CORRECTNESS_SYS_TMPL),\n",
    "        ChatMessage(role=MessageRole.USER, content=CORRECTNESS_USER_TMPL),\n",
    "    ]\n",
    ")"
   ]
  },
  {
   "cell_type": "markdown",
   "id": "e7c6f277-760a-404f-9d7f-0b89138bd0f4",
   "metadata": {},
   "source": [
    "Now that we've defined the prompts template, let's define an evaluation function that feeds the prompt to the LLM and parses the output into a dict of results."
   ]
  },
  {
   "cell_type": "code",
   "execution_count": null,
   "id": "a5cde5d8-2b33-45b3-b457-17bd73bd020c",
   "metadata": {},
   "outputs": [],
   "source": [
    "from llama_index.llms.openai import OpenAI\n",
    "\n",
    "\n",
    "def run_correctness_eval(\n",
    "    query_str: str,\n",
    "    reference_answer: str,\n",
    "    generated_answer: str,\n",
    "    llm: OpenAI,\n",
    "    threshold: float = 4.0,\n",
    ") -> Dict:\n",
    "    \"\"\"Run correctness eval.\"\"\"\n",
    "    fmt_messages = eval_chat_template.format_messages(\n",
    "        llm=llm,\n",
    "        query=query_str,\n",
    "        reference_answer=reference_answer,\n",
    "        generated_answer=generated_answer,\n",
    "    )\n",
    "    chat_response = llm.chat(fmt_messages)\n",
    "    raw_output = chat_response.message.content\n",
    "\n",
    "    # Extract from response\n",
    "    score_str, reasoning_str = raw_output.split(\"\\n\", 1)\n",
    "    score = float(score_str)\n",
    "    reasoning = reasoning_str.lstrip(\"\\n\")\n",
    "\n",
    "    return {\"passing\": score >= threshold, \"score\": score, \"reason\": reasoning}"
   ]
  },
  {
   "cell_type": "markdown",
   "id": "e76f467d-85bf-403e-b2ba-eb76504a5483",
   "metadata": {},
   "source": [
    "Now let's try running this on some sample inputs with a chat model (GPT-4)."
   ]
  },
  {
   "cell_type": "code",
   "execution_count": null,
   "id": "ebc8e11c-920d-454d-8905-3b5018425a63",
   "metadata": {},
   "outputs": [],
   "source": [
    "llm = OpenAI(model=\"gpt-4\")"
   ]
  },
  {
   "cell_type": "code",
   "execution_count": null,
   "id": "5f85d69f-e223-4730-91e2-8d885ff1cc5a",
   "metadata": {},
   "outputs": [],
   "source": [
    "# query_str = \"What is the range of parameters for the large language models (LLMs) developed in this work?\"\n",
    "# reference_answer = \"The range of parameters for the large language models (LLMs) developed in this work is from 7 billion to 70 billion.\"\n",
    "\n",
    "query_str = (\n",
    "    \"What is the specific name given to the fine-tuned LLMs optimized for\"\n",
    "    \" dialogue use cases?\"\n",
    ")\n",
    "reference_answer = (\n",
    "    \"The specific name given to the fine-tuned LLMs optimized for dialogue use\"\n",
    "    \" cases is Llama 2-Chat.\"\n",
    ")"
   ]
  },
  {
   "cell_type": "code",
   "execution_count": null,
   "id": "2dc0197b-5cb6-4aef-a5b4-311c45d06b16",
   "metadata": {},
   "outputs": [],
   "source": [
    "generated_answer = str(query_engine.query(query_str))"
   ]
  },
  {
   "cell_type": "code",
   "execution_count": null,
   "id": "2d3721e6-b7b0-4e09-ac06-bacf8cde1ad1",
   "metadata": {},
   "outputs": [
    {
     "name": "stdout",
     "output_type": "stream",
     "text": [
      "The fine-tuned Large Language Models (LLMs) optimized for dialogue use cases are specifically called Llama 2-Chat.\n"
     ]
    }
   ],
   "source": [
    "print(str(generated_answer))"
   ]
  },
  {
   "cell_type": "code",
   "execution_count": null,
   "id": "cebe9ca4-9bce-4e57-bc5e-395cb119778d",
   "metadata": {},
   "outputs": [
    {
     "data": {
      "text/plain": [
       "{'passing': True,\n",
       " 'score': 5.0,\n",
       " 'reason': 'The generated answer is completely relevant to the user query and matches the reference answer in terms of information. It correctly identifies \"Llama 2-Chat\" as the specific name given to the fine-tuned LLMs optimized for dialogue use cases.'}"
      ]
     },
     "metadata": {},
     "output_type": "display_data"
    }
   ],
   "source": [
    "eval_results = run_correctness_eval(\n",
    "    query_str, reference_answer, generated_answer, llm=llm, threshold=4.0\n",
    ")\n",
    "display(eval_results)"
   ]
  },
  {
   "cell_type": "markdown",
   "id": "f2817a49-b90a-4ca8-a28e-2f1c9965660e",
   "metadata": {},
   "source": [
    "### Building a Faithfulness Evaluator\n",
    "\n",
    "The faithfulness evaluator evaluates whether the response is faithful to any of the retrieved contexts.\n",
    "\n",
    "This is a step up in complexity from the correctness evaluator. Since the set of contexts can be quite long, they might overflow the context window. We would need to figure out how to implement a form of **response synthesis** strategy to iterate over contexts in sequence.\n",
    "\n",
    "We have a corresponding tutorial showing you [how to build response synthesis from scratch](https://gpt-index.readthedocs.io/en/latest/examples/low_level/response_synthesis.html). We also have [out-of-the-box response synthesis modules](https://gpt-index.readthedocs.io/en/latest/core_modules/query_modules/response_synthesizers/root.html). In this guide we'll use the out of the box modules."
   ]
  },
  {
   "cell_type": "code",
   "execution_count": null,
   "id": "8c822cdc-d483-43cb-a34d-fc2d1ba7e62b",
   "metadata": {},
   "outputs": [],
   "source": [
    "EVAL_TEMPLATE = PromptTemplate(\n",
    "    \"Please tell if a given piece of information \"\n",
    "    \"is supported by the context.\\n\"\n",
    "    \"You need to answer with either YES or NO.\\n\"\n",
    "    \"Answer YES if any of the context supports the information, even \"\n",
    "    \"if most of the context is unrelated. \"\n",
    "    \"Some examples are provided below. \\n\\n\"\n",
    "    \"Information: Apple pie is generally double-crusted.\\n\"\n",
    "    \"Context: An apple pie is a fruit pie in which the principal filling \"\n",
    "    \"ingredient is apples. \\n\"\n",
    "    \"Apple pie is often served with whipped cream, ice cream \"\n",
    "    \"('apple pie à la mode'), custard or cheddar cheese.\\n\"\n",
    "    \"It is generally double-crusted, with pastry both above \"\n",
    "    \"and below the filling; the upper crust may be solid or \"\n",
    "    \"latticed (woven of crosswise strips).\\n\"\n",
    "    \"Answer: YES\\n\"\n",
    "    \"Information: Apple pies tastes bad.\\n\"\n",
    "    \"Context: An apple pie is a fruit pie in which the principal filling \"\n",
    "    \"ingredient is apples. \\n\"\n",
    "    \"Apple pie is often served with whipped cream, ice cream \"\n",
    "    \"('apple pie à la mode'), custard or cheddar cheese.\\n\"\n",
    "    \"It is generally double-crusted, with pastry both above \"\n",
    "    \"and below the filling; the upper crust may be solid or \"\n",
    "    \"latticed (woven of crosswise strips).\\n\"\n",
    "    \"Answer: NO\\n\"\n",
    "    \"Information: {query_str}\\n\"\n",
    "    \"Context: {context_str}\\n\"\n",
    "    \"Answer: \"\n",
    ")\n",
    "\n",
    "EVAL_REFINE_TEMPLATE = PromptTemplate(\n",
    "    \"We want to understand if the following information is present \"\n",
    "    \"in the context information: {query_str}\\n\"\n",
    "    \"We have provided an existing YES/NO answer: {existing_answer}\\n\"\n",
    "    \"We have the opportunity to refine the existing answer \"\n",
    "    \"(only if needed) with some more context below.\\n\"\n",
    "    \"------------\\n\"\n",
    "    \"{context_msg}\\n\"\n",
    "    \"------------\\n\"\n",
    "    \"If the existing answer was already YES, still answer YES. \"\n",
    "    \"If the information is present in the new context, answer YES. \"\n",
    "    \"Otherwise answer NO.\\n\"\n",
    ")"
   ]
  },
  {
   "cell_type": "markdown",
   "id": "ceca2f5d-a063-42f4-bf32-6017d2f84830",
   "metadata": {},
   "source": [
    "**NOTE**: In the current response synthesizer setup we don't separate out a system and user message for chat endpoints, so we just use our standard `llm.complete` for text completion.\n",
    "\n",
    "We now define our function below. Since we defined both a standard eval template for a given piece of context but also a refine template for subsequent contexts, we implement our \"create-and-refine\" response synthesis strategy to obtain the answer."
   ]
  },
  {
   "cell_type": "code",
   "execution_count": null,
   "id": "da089cb4-7bfb-4d44-b10e-2c9d52918815",
   "metadata": {},
   "outputs": [],
   "source": [
    "from llama_index.core.response_synthesizers import Refine\n",
    "from typing import List, Dict\n",
    "\n",
    "\n",
    "def run_faithfulness_eval(\n",
    "    generated_answer: str,\n",
    "    contexts: List[str],\n",
    "    llm: OpenAI,\n",
    ") -> Dict:\n",
    "    \"\"\"Run faithfulness eval.\"\"\"\n",
    "\n",
    "    refine = Refine(\n",
    "        llm=llm,\n",
    "        text_qa_template=EVAL_TEMPLATE,\n",
    "        refine_template=EVAL_REFINE_TEMPLATE,\n",
    "    )\n",
    "\n",
    "    response_obj = refine.get_response(generated_answer, contexts)\n",
    "    response_txt = str(response_obj)\n",
    "\n",
    "    if \"yes\" in response_txt.lower():\n",
    "        passing = True\n",
    "    else:\n",
    "        passing = False\n",
    "\n",
    "    return {\"passing\": passing, \"reason\": str(response_txt)}"
   ]
  },
  {
   "cell_type": "markdown",
   "id": "0570aea1-627a-44cd-8b87-251ea4037b88",
   "metadata": {},
   "source": [
    "Let's try it out on some data"
   ]
  },
  {
   "cell_type": "code",
   "execution_count": null,
   "id": "5f5d6f20-9977-4bfe-b77f-fc62ba86c452",
   "metadata": {},
   "outputs": [],
   "source": [
    "# use the same query_str, and reference_answer as above\n",
    "# query_str = \"What is the specific name given to the fine-tuned LLMs optimized for dialogue use cases?\"\n",
    "# reference_answer = \"The specific name given to the fine-tuned LLMs optimized for dialogue use cases is Llama 2-Chat.\"\n",
    "\n",
    "response = query_engine.query(query_str)\n",
    "generated_answer = str(response)"
   ]
  },
  {
   "cell_type": "code",
   "execution_count": null,
   "id": "8c01348f-f511-4866-8d6a-899b93bc848d",
   "metadata": {},
   "outputs": [
    {
     "data": {
      "text/plain": [
       "{'passing': True, 'reason': 'YES'}"
      ]
     },
     "metadata": {},
     "output_type": "display_data"
    }
   ],
   "source": [
    "context_list = [n.get_content() for n in response.source_nodes]\n",
    "eval_results = run_faithfulness_eval(\n",
    "    generated_answer,\n",
    "    contexts=context_list,\n",
    "    llm=llm,\n",
    ")\n",
    "display(eval_results)"
   ]
  },
  {
   "cell_type": "markdown",
   "id": "3951ef84-6a5f-4627-9a82-525d0f4bdbac",
   "metadata": {},
   "source": [
    "## Running Evaluation over our Eval Dataset\n",
    "\n",
    "Now let's tie the two above sections together and run our eval modules over our eval dataset!\n",
    "\n",
    "**NOTE**: For the sake of speed/cost we extract a very limited sample."
   ]
  },
  {
   "cell_type": "code",
   "execution_count": null,
   "id": "71f51d6c-968b-4393-a4be-963f6b4bb51d",
   "metadata": {},
   "outputs": [],
   "source": [
    "import random\n",
    "\n",
    "sample_size = 5\n",
    "qa_pairs_sample = random.sample(qa_pairs, sample_size)"
   ]
  },
  {
   "cell_type": "code",
   "execution_count": null,
   "id": "7b19661f-c2d1-4952-a145-051c965efb65",
   "metadata": {},
   "outputs": [],
   "source": [
    "import pandas as pd\n",
    "\n",
    "\n",
    "def run_evals(qa_pairs: List[Tuple[str, str]], llm: OpenAI, query_engine):\n",
    "    results_list = []\n",
    "    for question, reference_answer in qa_pairs:\n",
    "        response = query_engine.query(question)\n",
    "        generated_answer = str(response)\n",
    "        correctness_results = run_correctness_eval(\n",
    "            query_str,\n",
    "            reference_answer,\n",
    "            generated_answer,\n",
    "            llm=llm,\n",
    "            threshold=4.0,\n",
    "        )\n",
    "        faithfulness_results = run_faithfulness_eval(\n",
    "            generated_answer,\n",
    "            contexts=context_list,\n",
    "            llm=llm,\n",
    "        )\n",
    "        cur_result_dict = {\n",
    "            \"correctness\": correctness_results[\"passing\"],\n",
    "            \"faithfulness\": faithfulness_results[\"passing\"],\n",
    "        }\n",
    "        results_list.append(cur_result_dict)\n",
    "    return pd.DataFrame(results_list)"
   ]
  },
  {
   "cell_type": "code",
   "execution_count": null,
   "id": "68db7677-c6db-409a-a9e2-bc38a9395da3",
   "metadata": {},
   "outputs": [],
   "source": [
    "evals_df = run_evals(qa_pairs_sample, llm, query_engine)"
   ]
  },
  {
   "cell_type": "code",
   "execution_count": null,
   "id": "8af97796-1472-4246-ab9a-ecd6640326b3",
   "metadata": {},
   "outputs": [
    {
     "data": {
      "text/plain": [
       "0.4"
      ]
     },
     "execution_count": null,
     "metadata": {},
     "output_type": "execute_result"
    }
   ],
   "source": [
    "evals_df[\"correctness\"].mean()"
   ]
  },
  {
   "cell_type": "code",
   "execution_count": null,
   "id": "558b19c8-e234-42d0-bfd1-290124ce6e0f",
   "metadata": {},
   "outputs": [
    {
     "data": {
      "text/plain": [
       "0.6"
      ]
     },
     "execution_count": null,
     "metadata": {},
     "output_type": "execute_result"
    }
   ],
   "source": [
    "evals_df[\"faithfulness\"].mean()"
   ]
  }
 ],
 "metadata": {
  "kernelspec": {
   "display_name": "llama_index_v2",
   "language": "python",
   "name": "llama_index_v2"
  },
  "language_info": {
   "codemirror_mode": {
    "name": "ipython",
    "version": 3
   },
   "file_extension": ".py",
   "mimetype": "text/x-python",
   "name": "python",
   "nbconvert_exporter": "python",
   "pygments_lexer": "ipython3"
  }
 },
 "nbformat": 4,
 "nbformat_minor": 5
}
