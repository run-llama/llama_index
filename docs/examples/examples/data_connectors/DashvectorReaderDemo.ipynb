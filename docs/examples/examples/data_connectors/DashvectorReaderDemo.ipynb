{
 "cells": [
  {
   "attachments": {},
   "cell_type": "markdown",
   "id": "64da5469",
   "metadata": {},
   "source": [
    "<a href=\"https://colab.research.google.com/github/run-llama/llama_index/blob/main/docs/docs/examples/data_connectors/DashvectorReaderDemo.ipynb\" target=\"_parent\"><img src=\"https://colab.research.google.com/assets/colab-badge.svg\" alt=\"Open In Colab\"/></a>"
   ]
  },
  {
   "cell_type": "markdown",
   "id": "f3ca56f0-6ef1-426f-bac5-fd7c374d0f51",
   "metadata": {},
   "source": [
    "# DashVector Reader"
   ]
  },
  {
   "attachments": {},
   "cell_type": "markdown",
   "id": "94aa4392",
   "metadata": {},
   "source": [
    "If you're opening this Notebook on colab, you will probably need to install LlamaIndex 🦙."
   ]
  },
  {
   "cell_type": "code",
   "execution_count": null,
   "id": "9a811f0d",
   "metadata": {},
   "outputs": [],
   "source": [
    "%pip install llama-index-readers-dashvector"
   ]
  },
  {
   "cell_type": "code",
   "execution_count": null,
   "id": "bcd5d97a",
   "metadata": {},
   "outputs": [],
   "source": [
    "!pip install llama-index"
   ]
  },
  {
   "cell_type": "code",
   "execution_count": null,
   "id": "b2bd3c59",
   "metadata": {},
   "outputs": [],
   "source": [
    "import logging\n",
    "import sys\n",
    "import os\n",
    "\n",
    "logging.basicConfig(stream=sys.stdout, level=logging.INFO)\n",
    "logging.getLogger().addHandler(logging.StreamHandler(stream=sys.stdout))"
   ]
  },
  {
   "cell_type": "code",
   "execution_count": null,
   "id": "e2f49003-b952-4b9b-b935-2941f9303773",
   "metadata": {},
   "outputs": [],
   "source": [
    "api_key = os.environ[\"DASHVECTOR_API_KEY\"]"
   ]
  },
  {
   "cell_type": "code",
   "execution_count": null,
   "id": "262f990a-79c8-413a-9f3c-cd9a3c191307",
   "metadata": {},
   "outputs": [],
   "source": [
    "from llama_index.readers.dashvector import DashVectorReader\n",
    "\n",
    "reader = DashVectorReader(api_key=api_key)"
   ]
  },
  {
   "cell_type": "code",
   "execution_count": null,
   "id": "53b49187-8477-436c-9718-5d2f8cc6fad0",
   "metadata": {},
   "outputs": [],
   "source": [
    "import numpy as np\n",
    "\n",
    "# the query_vector is an embedding representation of your query_vector\n",
    "query_vector = [n1, n2, n3, ...]"
   ]
  },
  {
   "cell_type": "code",
   "execution_count": null,
   "id": "a88be1c4-603f-48b9-ac64-10a219af4951",
   "metadata": {},
   "outputs": [],
   "source": [
    "# NOTE: Required args are index_name, id_to_text_map, vector.\n",
    "# In addition, we can pass through the metadata filter that meet the SQL syntax.\n",
    "# See the Python client: https://pypi.org/project/dashvector/ for more details.\n",
    "documents = reader.load_data(\n",
    "    collection_name=\"quickstart\",\n",
    "    topk=3,\n",
    "    vector=query_vector,\n",
    "    filter=\"key = 'value'\",\n",
    "    output_fields=[\"key1\", \"key2\"],\n",
    ")"
   ]
  },
  {
   "cell_type": "markdown",
   "id": "a4baf59e-fc97-4a1e-947f-354a6438ffa6",
   "metadata": {},
   "source": [
    "### Create index "
   ]
  },
  {
   "cell_type": "code",
   "execution_count": null,
   "id": "109d083e-f3b4-420b-886b-087c8cf3f98b",
   "metadata": {},
   "outputs": [],
   "source": [
    "from llama_index.core import ListIndex\n",
    "from IPython.display import Markdown, display\n",
    "\n",
    "index = ListIndex.from_documents(documents)"
   ]
  },
  {
   "cell_type": "code",
   "execution_count": null,
   "id": "e15b9177-9e94-4e4e-9a2e-cd3a288a7faf",
   "metadata": {},
   "outputs": [],
   "source": [
    "# set Logging to DEBUG for more detailed outputs\n",
    "query_engine = index.as_query_engine()\n",
    "response = query_engine.query(\"<query_text>\")"
   ]
  },
  {
   "cell_type": "code",
   "execution_count": null,
   "id": "67b50613-a589-4acf-ba16-10571b415268",
   "metadata": {},
   "outputs": [],
   "source": [
    "display(Markdown(f\"<b>{response}</b>\"))"
   ]
  }
 ],
 "metadata": {
  "kernelspec": {
   "display_name": "Python 3 (ipykernel)",
   "language": "python",
   "name": "python3"
  },
  "language_info": {
   "codemirror_mode": {
    "name": "ipython",
    "version": 3
   },
   "file_extension": ".py",
   "mimetype": "text/x-python",
   "name": "python",
   "nbconvert_exporter": "python",
   "pygments_lexer": "ipython3"
  }
 },
 "nbformat": 4,
 "nbformat_minor": 5
}
