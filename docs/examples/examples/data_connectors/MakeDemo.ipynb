{
 "cells": [
  {
   "cell_type": "markdown",
   "id": "b890c854",
   "metadata": {},
   "source": [
    "<a href=\"https://colab.research.google.com/github/run-llama/llama_index/blob/main/docs/docs/examples/data_connectors/MakeDemo.ipynb\" target=\"_parent\"><img src=\"https://colab.research.google.com/assets/colab-badge.svg\" alt=\"Open In Colab\"/></a>"
   ]
  },
  {
   "attachments": {},
   "cell_type": "markdown",
   "id": "7fc13177-7d9d-4959-bbe9-fa26d60ea786",
   "metadata": {},
   "source": [
    "# Make Reader\n",
    "\n",
    "We show how LlamaIndex can fit with your Make.com workflow by sending the GPT Index response to a scenario webhook."
   ]
  },
  {
   "cell_type": "markdown",
   "id": "06a9c62f",
   "metadata": {},
   "source": [
    "If you're opening this Notebook on colab, you will probably need to install LlamaIndex 🦙."
   ]
  },
  {
   "cell_type": "code",
   "execution_count": null,
   "id": "5325ab6b",
   "metadata": {},
   "outputs": [],
   "source": [
    "%pip install llama-index-readers-make-com"
   ]
  },
  {
   "cell_type": "code",
   "execution_count": null,
   "id": "3212ef72",
   "metadata": {},
   "outputs": [],
   "source": [
    "!pip install llama-index"
   ]
  },
  {
   "cell_type": "code",
   "execution_count": null,
   "id": "d2289d27",
   "metadata": {},
   "outputs": [],
   "source": [
    "import logging\n",
    "import sys\n",
    "\n",
    "logging.basicConfig(stream=sys.stdout, level=logging.INFO)\n",
    "logging.getLogger().addHandler(logging.StreamHandler(stream=sys.stdout))"
   ]
  },
  {
   "cell_type": "code",
   "execution_count": null,
   "id": "f90c60a6-50b3-4b66-abf3-9723dac8a045",
   "metadata": {},
   "outputs": [],
   "source": [
    "from llama_index.core import VectorStoreIndex, SimpleDirectoryReader\n",
    "from llama_index.readers.make_com import MakeWrapper"
   ]
  },
  {
   "attachments": {},
   "cell_type": "markdown",
   "id": "4fbe9406",
   "metadata": {},
   "source": [
    "Download Data"
   ]
  },
  {
   "cell_type": "code",
   "execution_count": null,
   "id": "2751b35f",
   "metadata": {},
   "outputs": [],
   "source": [
    "!mkdir -p 'data/paul_graham/'\n",
    "!wget 'https://raw.githubusercontent.com/run-llama/llama_index/main/docs/docs/examples/data/paul_graham/paul_graham_essay.txt' -O 'data/paul_graham/paul_graham_essay.txt'"
   ]
  },
  {
   "cell_type": "code",
   "execution_count": null,
   "id": "dd8885c5-39e2-444b-9666-5032ab4cb50d",
   "metadata": {},
   "outputs": [],
   "source": [
    "documents = SimpleDirectoryReader(\"./data/paul_graham/\").load_data()\n",
    "index = VectorStoreIndex.from_documents(documents=documents)"
   ]
  },
  {
   "cell_type": "code",
   "execution_count": null,
   "id": "e5f7d888-01ed-40f7-9216-6c7340b229bf",
   "metadata": {},
   "outputs": [],
   "source": [
    "# set Logging to DEBUG for more detailed outputs\n",
    "# query index\n",
    "query_str = \"What did the author do growing up?\"\n",
    "query_engine = index.as_query_engine()\n",
    "response = query_engine.query(query_str)"
   ]
  },
  {
   "cell_type": "code",
   "execution_count": null,
   "id": "eaf06ad9-ba04-42fb-a7c8-daf7a5320b53",
   "metadata": {},
   "outputs": [],
   "source": [
    "# Send response to Make.com webhook\n",
    "wrapper = MakeWrapper()\n",
    "wrapper.pass_response_to_webhook(\"<webhook_url>\", response, query_str)"
   ]
  }
 ],
 "metadata": {
  "kernelspec": {
   "display_name": "Python 3 (ipykernel)",
   "language": "python",
   "name": "python3"
  },
  "language_info": {
   "codemirror_mode": {
    "name": "ipython",
    "version": 3
   },
   "file_extension": ".py",
   "mimetype": "text/x-python",
   "name": "python",
   "nbconvert_exporter": "python",
   "pygments_lexer": "ipython3"
  }
 },
 "nbformat": 4,
 "nbformat_minor": 5
}
