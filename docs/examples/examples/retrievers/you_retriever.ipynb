{
 "cells": [
  {
   "attachments": {},
   "cell_type": "markdown",
   "id": "d791bc8a",
   "metadata": {},
   "source": [
    "<a href=\"https://colab.research.google.com/github/run-llama/llama_index/blob/main/docs/docs/examples/retrievers/you_retriever.ipynb\" target=\"_parent\"><img src=\"https://colab.research.google.com/assets/colab-badge.svg\" alt=\"Open In Colab\"/></a>"
   ]
  },
  {
   "cell_type": "markdown",
   "id": "d9075b09-3916-49b0-b565-b0a0091b5872",
   "metadata": {},
   "source": [
    "# You.com Retriever\n",
    "\n",
    "This notebook walks you through how to setup a Retriever that can fetch from You.com"
   ]
  },
  {
   "cell_type": "code",
   "execution_count": null,
   "id": "b5ac8d10",
   "metadata": {},
   "outputs": [],
   "source": [
    "%pip install llama-index-retrievers-you"
   ]
  },
  {
   "cell_type": "code",
   "execution_count": null,
   "id": "1fb3b393-1171-4481-b75f-b7626ef7b0b2",
   "metadata": {},
   "outputs": [],
   "source": [
    "import os\n",
    "from llama_index.retrievers.you import YouRetriever"
   ]
  },
  {
   "cell_type": "markdown",
   "id": "bda2c5e0",
   "metadata": {},
   "source": [
    "### Retrieve from You.com's Search API"
   ]
  },
  {
   "cell_type": "code",
   "execution_count": null,
   "id": "a38b87b3-c94e-4311-8335-86c6b0f32463",
   "metadata": {},
   "outputs": [],
   "source": [
    "you_api_key = \"\" or os.environ[\"YDC_API_KEY\"]\n",
    "\n",
    "retriever = YouRetriever(endpoint=\"search\", api_key=you_api_key)  # default"
   ]
  },
  {
   "cell_type": "code",
   "execution_count": null,
   "id": "bbfc0fe3-7c64-4d5d-8190-f80e31d35b4c",
   "metadata": {},
   "outputs": [
    {
     "name": "stdout",
     "output_type": "stream",
     "text": [
      "The beaches and underwater world off the coast of Florida provide endless opportunities of play in the ocean. ... Glacier Bay is a living laboratory with ongoing research and study by scientists on a wide range of ocean-related issues. ... A picture of coastal life, Fire Island offers rich biological diversity and the beautiful landscapes that draw us all to the ocean.\n",
      "A military veteran, Jose Sarria also became a prominent advocate for Latinos, immigrants, and the LGBTQ community in San Francisco. ... Explore the history of the LGBTQ community on Governors Island and Henry Gurber's work in protecting gay rights.\n",
      "Explore the history of the LGBTQ community on Governors Island and Henry Gurber's work in protecting gay rights. ... Sylvia Rivera was an advocate for transgender rights and LGBTQ+ communities, and was an active participant of the Stonewall uprising.\n"
     ]
    }
   ],
   "source": [
    "retrieved_results = retriever.retrieve(\"national parks in the US\")\n",
    "print(retrieved_results[0].get_content())"
   ]
  },
  {
   "cell_type": "markdown",
   "id": "069c4adb",
   "metadata": {},
   "source": [
    "### Retrieve from You.com's News API"
   ]
  },
  {
   "cell_type": "code",
   "execution_count": null,
   "id": "47a7c7d3",
   "metadata": {},
   "outputs": [],
   "source": [
    "you_api_key = \"\" or os.environ[\"YDC_API_KEY\"]\n",
    "\n",
    "retriever = YouRetriever(endpoint=\"news\", api_key=you_api_key)"
   ]
  },
  {
   "cell_type": "code",
   "execution_count": null,
   "id": "f9eedea5",
   "metadata": {},
   "outputs": [
    {
     "name": "stdout",
     "output_type": "stream",
     "text": [
      "But seven months after the October announcement, the Fed's key interest rate — the federal funds rate — is still stuck at 5.25% to 5.5%, where it has been since July 2023. U.S. interest rates are built with the fed funds rate as the foundation.\n"
     ]
    }
   ],
   "source": [
    "retrieved_results = retriever.retrieve(\"Fed interest rates\")\n",
    "print(retrieved_results[0].get_content())"
   ]
  },
  {
   "cell_type": "markdown",
   "id": "6d4f7dc5-bfcd-4f04-8475-e2a6125d70bd",
   "metadata": {},
   "source": [
    "## Use in Query Engine"
   ]
  },
  {
   "cell_type": "code",
   "execution_count": null,
   "id": "a4c879f7-7554-4822-94df-cfe008a03a68",
   "metadata": {},
   "outputs": [],
   "source": [
    "from llama_index.core.query_engine import RetrieverQueryEngine\n",
    "\n",
    "retriever = YouRetriever()\n",
    "query_engine = RetrieverQueryEngine.from_args(retriever)"
   ]
  },
  {
   "cell_type": "code",
   "execution_count": null,
   "id": "471102ba-aed8-435d-9ddc-de51644aa886",
   "metadata": {},
   "outputs": [
    {
     "name": "stdout",
     "output_type": "stream",
     "text": [
      "There are 63 national parks in the United States, each established to preserve unique landscapes, wildlife, and historical sites for the enjoyment of present and future generations. These parks are managed by the National Park Service, which aims to conserve the scenery and natural and historic objects within the parks. National parks offer a wide range of activities such as hiking, camping, wildlife viewing, and learning about the natural world. Some of the most visited national parks include Great Smoky Mountains, Yellowstone, and Zion, while others like Gates of the Arctic see fewer visitors due to their remote locations. Each national park has its own distinct features and attractions, contributing to the diverse tapestry of protected lands across the country.\n"
     ]
    }
   ],
   "source": [
    "response = query_engine.query(\"Tell me about national parks in the US\")\n",
    "print(str(response))"
   ]
  }
 ],
 "metadata": {
  "kernelspec": {
   "display_name": "you-llamaindex",
   "language": "python",
   "name": "python3"
  },
  "language_info": {
   "codemirror_mode": {
    "name": "ipython",
    "version": 3
   },
   "file_extension": ".py",
   "mimetype": "text/x-python",
   "name": "python",
   "nbconvert_exporter": "python",
   "pygments_lexer": "ipython3"
  }
 },
 "nbformat": 4,
 "nbformat_minor": 5
}
