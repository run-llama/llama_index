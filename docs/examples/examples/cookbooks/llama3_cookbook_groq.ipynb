{
 "cells": [
  {
   "cell_type": "markdown",
   "id": "09211e76-286f-4b12-acd7-cfb082dc2d66",
   "metadata": {},
   "source": [
    "# Llama3 Cookbook with Groq\n",
    "\n",
    "<a href=\"https://colab.research.google.com/github/run-llama/llama_index/blob/main/docs/docs/examples/cookbooks/llama3_cookbook_groq.ipynb\" target=\"_parent\"><img src=\"https://colab.research.google.com/assets/colab-badge.svg\" alt=\"Open In Colab\"/></a>\n",
    "\n",
    "Meta developed and released the Meta [Llama 3](https://ai.meta.com/blog/meta-llama-3/) family of large language models (LLMs), a collection of pretrained and instruction tuned generative text models in 8 and 70B sizes. The Llama 3 instruction tuned models are optimized for dialogue use cases and outperform many of the available open source chat models on common industry benchmarks.\n",
    "\n",
    "In this notebook, we demonstrate how to use Llama3 with LlamaIndex for a comprehensive set of use cases. \n",
    "1. Basic completion / chat \n",
    "2. Basic RAG (Vector Search, Summarization)\n",
    "3. Advanced RAG (Routing)\n",
    "4. Text-to-SQL \n",
    "5. Structured Data Extraction\n",
    "6. Chat Engine + Memory\n",
    "7. Agents\n",
    "\n",
    "\n",
    "We use Llama3-8B and Llama3-70B through Groq."
   ]
  },
  {
   "cell_type": "markdown",
   "id": "de2901c0-e20d-48e5-9385-dbca2258c564",
   "metadata": {},
   "source": [
    "## Installation and Setup"
   ]
  },
  {
   "cell_type": "code",
   "execution_count": null,
   "id": "bcf643ac-b025-4812-aaed-f8f85d1ba505",
   "metadata": {},
   "outputs": [],
   "source": [
    "!pip install llama-index\n",
    "!pip install llama-index-llms-groq\n",
    "!pip install llama-index-embeddings-huggingface\n",
    "!pip install llama-parse"
   ]
  },
  {
   "cell_type": "code",
   "execution_count": null,
   "id": "641fa5c8-d63e-47f8-b5bc-ebf994f6e314",
   "metadata": {},
   "outputs": [],
   "source": [
    "import nest_asyncio\n",
    "\n",
    "nest_asyncio.apply()"
   ]
  },
  {
   "cell_type": "markdown",
   "id": "1714ea83-6cd4-44bb-b53f-4499126c3809",
   "metadata": {},
   "source": [
    "### Setup LLM using Groq\n",
    "\n",
    "To use Groq, you need to make sure that `GROQ_API_KEY` is specified as an environment variable."
   ]
  },
  {
   "cell_type": "code",
   "execution_count": null,
   "id": "e4b004e1",
   "metadata": {},
   "outputs": [],
   "source": [
    "import os\n",
    "\n",
    "os.environ[\"GROQ_API_KEY\"] = \"<GROQ_API_KEY>\""
   ]
  },
  {
   "cell_type": "code",
   "execution_count": null,
   "id": "d5256970-eba4-499a-b438-8766a290a61a",
   "metadata": {},
   "outputs": [],
   "source": [
    "from llama_index.llms.groq import Groq\n",
    "\n",
    "llm = Groq(model=\"llama3-8b-8192\")\n",
    "llm_70b = Groq(model=\"llama3-70b-8192\")"
   ]
  },
  {
   "cell_type": "markdown",
   "id": "41c3f154-d345-465d-8eed-63b99adbd3ca",
   "metadata": {},
   "source": [
    "### Setup Embedding Model"
   ]
  },
  {
   "cell_type": "code",
   "execution_count": null,
   "id": "0cda736d-e414-44e3-8c15-6be49f5f0282",
   "metadata": {},
   "outputs": [],
   "source": [
    "from llama_index.embeddings.huggingface import HuggingFaceEmbedding\n",
    "\n",
    "embed_model = HuggingFaceEmbedding(model_name=\"BAAI/bge-small-en-v1.5\")"
   ]
  },
  {
   "cell_type": "markdown",
   "id": "3625cf29-7c56-475a-8efd-fbe8ffce194d",
   "metadata": {},
   "source": [
    "### Define Global Settings Configuration\n",
    "\n",
    "In LlamaIndex, you can define global settings so you don't have to pass the LLM / embedding model objects everywhere."
   ]
  },
  {
   "cell_type": "code",
   "execution_count": null,
   "id": "be3565d1-cc5b-4149-ad5a-7be8f7818e0c",
   "metadata": {},
   "outputs": [],
   "source": [
    "from llama_index.core import Settings\n",
    "\n",
    "Settings.llm = llm\n",
    "Settings.embed_model = embed_model"
   ]
  },
  {
   "cell_type": "markdown",
   "id": "42449b68-47f5-40cf-9207-191307b25e8e",
   "metadata": {},
   "source": [
    "### Download Data\n",
    "\n",
    "Here you'll download data that's used in section 2 and onwards.\n",
    "\n",
    "We'll download some articles on Kendrick, Drake, and their beef (as of May 2024)."
   ]
  },
  {
   "cell_type": "code",
   "execution_count": null,
   "id": "59b18640-cdfa-42c1-ab53-115983c1fdc4",
   "metadata": {},
   "outputs": [],
   "source": [
    "!mkdir data\n",
    "!wget \"https://www.dropbox.com/scl/fi/t1soxfjdp0v44an6sdymd/drake_kendrick_beef.pdf?rlkey=u9546ymb7fj8lk2v64r6p5r5k&st=wjzzrgil&dl=1\" -O data/drake_kendrick_beef.pdf\n",
    "!wget \"https://www.dropbox.com/scl/fi/nts3n64s6kymner2jppd6/drake.pdf?rlkey=hksirpqwzlzqoejn55zemk6ld&st=mohyfyh4&dl=1\" -O data/drake.pdf\n",
    "!wget \"https://www.dropbox.com/scl/fi/8ax2vnoebhmy44bes2n1d/kendrick.pdf?rlkey=fhxvn94t5amdqcv9vshifd3hj&st=dxdtytn6&dl=1\" -O data/kendrick.pdf"
   ]
  },
  {
   "cell_type": "markdown",
   "id": "9edee491-05f8-4fbb-9394-baa82f1e5087",
   "metadata": {},
   "source": [
    "### Load Data\n",
    "\n",
    "We load data using LlamaParse by default, but you can also choose to opt for our free pypdf reader (in SimpleDirectoryReader by default) if you don't have an account! \n",
    "\n",
    "1. LlamaParse: Signup for an account here: cloud.llamaindex.ai. You get 1k free pages a day, and paid plan is 7k free pages + 0.3c per additional page. LlamaParse is a good option if you want to parse complex documents, like PDFs with charts, tables, and more. \n",
    "\n",
    "2. Default PDF Parser (In `SimpleDirectoryReader`). If you don't want to signup for an account / use a PDF service, just use the default PyPDF reader bundled in our file loader. It's a good choice for getting started!"
   ]
  },
  {
   "cell_type": "code",
   "execution_count": null,
   "id": "b648635a-2672-407f-bae6-01660e5426d7",
   "metadata": {},
   "outputs": [
    {
     "name": "stdout",
     "output_type": "stream",
     "text": [
      "Started parsing the file under job_id 391f5fe8-aed3-46a3-af7d-18341b1b20d7\n",
      "Started parsing the file under job_id 08c335d5-417b-4249-b53d-a7a9b65293a8\n",
      "Started parsing the file under job_id e3a91a73-5db0-4df0-9590-c9393cb048cf\n"
     ]
    }
   ],
   "source": [
    "from llama_parse import LlamaParse\n",
    "\n",
    "docs_kendrick = LlamaParse(result_type=\"text\").load_data(\"./data/kendrick.pdf\")\n",
    "docs_drake = LlamaParse(result_type=\"text\").load_data(\"./data/drake.pdf\")\n",
    "docs_both = LlamaParse(result_type=\"text\").load_data(\n",
    "    \"./data/drake_kendrick_beef.pdf\"\n",
    ")\n",
    "\n",
    "\n",
    "# from llama_index.core import SimpleDirectoryReader\n",
    "\n",
    "# docs_kendrick = SimpleDirectoryReader(input_files=[\"data/kendrick.pdf\"]).load_data()\n",
    "# docs_drake = SimpleDirectoryReader(input_files=[\"data/drake.pdf\"]).load_data()\n",
    "# docs_both = SimpleDirectoryReader(input_files=[\"data/drake_kendrick_beef.pdf\"]).load_data()"
   ]
  },
  {
   "cell_type": "markdown",
   "id": "071a8f44-2765-4d57-b8da-15d3c718874d",
   "metadata": {},
   "source": [
    "## 1. Basic Completion and Chat"
   ]
  },
  {
   "cell_type": "markdown",
   "id": "c0b1ace8-32fb-46b2-a065-8817ddc0310b",
   "metadata": {},
   "source": [
    "### Call complete with a prompt"
   ]
  },
  {
   "cell_type": "code",
   "execution_count": null,
   "id": "a2db43f9-74af-453c-9f83-8db0379c3302",
   "metadata": {},
   "outputs": [
    {
     "name": "stdout",
     "output_type": "stream",
     "text": [
      "I'm just an AI, I don't have personal preferences or opinions, nor do I have the capacity to enjoy or dislike music. I can provide information and insights about different artists and their work, but I don't have personal feelings or biases.\n",
      "\n",
      "However, I can tell you that both Drake and Kendrick Lamar are highly acclaimed and influential artists in the music industry. They have both received widespread critical acclaim and have won numerous awards for their work.\n",
      "\n",
      "Drake is known for his introspective and emotive lyrics, as well as his ability to blend different genres such as hip-hop, R&B, and pop. He has been praised for his storytelling ability and his ability to connect with his audience.\n",
      "\n",
      "Kendrick Lamar, on the other hand, is known for his socially conscious lyrics and his ability to tackle complex issues such as racism, inequality, and social justice. He has been praised for his lyrical depth and his ability to blend different genres such as hip-hop, jazz, and funk.\n",
      "\n",
      "Ultimately, whether you prefer Drake or Kendrick Lamar depends on your personal taste in music and what you value in an artist.\n"
     ]
    }
   ],
   "source": [
    "response = llm.complete(\"do you like drake or kendrick better?\")\n",
    "\n",
    "print(response)"
   ]
  },
  {
   "cell_type": "code",
   "execution_count": null,
   "id": "89326153-e2d2-4136-8193-fb27d20670c3",
   "metadata": {},
   "outputs": [
    {
     "name": "stdout",
     "output_type": "stream",
     "text": [
      "Man, I'm a die-hard Drake fan, and I gotta say, I love the 6 God for many reasons. Now, I know some people might say Kendrick is the king of hip-hop, and I respect that, but for me, Drake's got something special. Here's why:\n",
      "\n",
      "1. **Relatability**: Drake's lyrics are like a diary entry. He's got this ability to tap into the emotions and struggles of everyday people. His songs are like a reflection of our own experiences, you know? He's not just rapping about gangsta life or material possessions; he's talking about the real stuff, like relationships, fame, and the struggles of growing up. That's what makes his music so relatable and authentic.\n",
      "\n",
      "2. **Vocal delivery**: Drake's got this smooth, melodic flow that's unmatched. His vocals are like butter – they just glide over the beat. He's got this effortless swag that makes his songs feel like a warm hug on a cold day. Kendrick's got a great flow too, but Drake's got this unique, laid-back vibe that's hard to replicate.\n",
      "\n",
      "3. **Storytelling**: Drake's a master storyteller. He's got this ability to paint vivid pictures with his words, taking you on a journey through his life experiences. His songs are like mini-movies, with characters, settings, and plot twists. Kendrick's got great storytelling skills too, but Drake's got this extra something that makes his stories feel more intimate and personal.\n",
      "\n",
      "4. **Production**: Drake's got an ear for beats that's unmatched. He's always pushing the boundaries of what a hip-hop beat can be. From the atmospheric soundscapes of \"Take Care\" to the trap-infused bangers of \"Scorpion,\" Drake's always experimenting and innovating. Kendrick's got great production too, but Drake's got this versatility that's hard to match.\n",
      "\n",
      "5. **Emotional depth**: Drake's music is like a therapy session. He's not afraid to get vulnerable and open up about his emotions. He's got this ability to tap into the human experience and share his own struggles and triumphs. Kendrick's got great emotional depth too, but Drake's got this extra layer of vulnerability that makes his music feel more honest and authentic.\n",
      "\n",
      "So, there you have it – that's why I'm a Drake fan through and through. He's got this unique blend of relatability, vocal delivery, storytelling, production, and emotional depth that sets him apart from the rest."
     ]
    }
   ],
   "source": [
    "stream_response = llm.stream_complete(\n",
    "    \"you're a drake fan. tell me why you like drake more than kendrick\"\n",
    ")\n",
    "\n",
    "for t in stream_response:\n",
    "    print(t.delta, end=\"\")"
   ]
  },
  {
   "cell_type": "markdown",
   "id": "a4558339-c8a1-4d26-a430-eb71768b5351",
   "metadata": {},
   "source": [
    "### Call chat with a list of messages"
   ]
  },
  {
   "cell_type": "code",
   "execution_count": null,
   "id": "5f393031-f743-4a28-a122-71817e3fbd1b",
   "metadata": {},
   "outputs": [],
   "source": [
    "from llama_index.core.llms import ChatMessage\n",
    "\n",
    "messages = [\n",
    "    ChatMessage(role=\"system\", content=\"You are Kendrick.\"),\n",
    "    ChatMessage(role=\"user\", content=\"Write a verse.\"),\n",
    "]\n",
    "response = llm.chat(messages)"
   ]
  },
  {
   "cell_type": "code",
   "execution_count": null,
   "id": "8e9551fc-0efc-4671-bc57-339121004c39",
   "metadata": {},
   "outputs": [
    {
     "name": "stdout",
     "output_type": "stream",
     "text": [
      "assistant: \"I'm the king of the game, no debate\n",
      "My rhymes so tight, they're like a weight\n",
      "I'm the voice of the streets, the people's champ\n",
      "My flow's on fire, leaving the haters in the slam\"\n"
     ]
    }
   ],
   "source": [
    "print(response)"
   ]
  },
  {
   "cell_type": "markdown",
   "id": "6a67a33d-fe7d-4381-983f-ca3a6945995d",
   "metadata": {},
   "source": [
    "## 2. Basic RAG (Vector Search, Summarization)"
   ]
  },
  {
   "cell_type": "markdown",
   "id": "c104a0c5-e43b-475b-9fa6-186906c1f327",
   "metadata": {},
   "source": [
    "### Basic RAG (Vector Search)"
   ]
  },
  {
   "cell_type": "code",
   "execution_count": null,
   "id": "216787b7-e40a-43fc-a4ca-c43cb798ce9e",
   "metadata": {},
   "outputs": [],
   "source": [
    "from llama_index.core import VectorStoreIndex\n",
    "\n",
    "index = VectorStoreIndex.from_documents(docs_both)\n",
    "query_engine = index.as_query_engine(similarity_top_k=3)"
   ]
  },
  {
   "cell_type": "code",
   "execution_count": null,
   "id": "a854e9d3-70f1-4927-a2f6-59e90c31f2f0",
   "metadata": {},
   "outputs": [],
   "source": [
    "response = query_engine.query(\"Tell me about family matters\")"
   ]
  },
  {
   "cell_type": "code",
   "execution_count": null,
   "id": "da796970-bc38-4cb4-9d32-ebd1b71d4bdc",
   "metadata": {},
   "outputs": [
    {
     "name": "stdout",
     "output_type": "stream",
     "text": [
      "The concept of \"Family Matters\" is a central theme in the ongoing beef between Drake and Kendrick Lamar. It refers to a seven-and-a-half-minute diss track released by Drake in response to Kendrick's diss track \"Family Matters.\" The track is a scathing attack on Kendrick, with Drake addressing various allegations and accusations made by Kendrick. The track is notable for its dark and sinister tone, with Drake delivering a series of personal attacks on Kendrick and his family. The track also features Drake addressing his own family, including his son Adonis and his parents, Dennis and Sandi Graham.\n"
     ]
    }
   ],
   "source": [
    "print(str(response))"
   ]
  },
  {
   "cell_type": "markdown",
   "id": "eff935b7-4f37-4758-8997-82fb0852e732",
   "metadata": {},
   "source": [
    "### Basic RAG (Summarization)"
   ]
  },
  {
   "cell_type": "code",
   "execution_count": null,
   "id": "dfe72300-7a38-453e-b1f2-bc1c00a01ff7",
   "metadata": {},
   "outputs": [],
   "source": [
    "from llama_index.core import SummaryIndex\n",
    "\n",
    "summary_index = SummaryIndex.from_documents(docs_both)\n",
    "summary_engine = summary_index.as_query_engine()"
   ]
  },
  {
   "cell_type": "code",
   "execution_count": null,
   "id": "178f1f12-51f7-4b45-9346-c16ed12b3b8d",
   "metadata": {},
   "outputs": [],
   "source": [
    "response = summary_engine.query(\n",
    "    \"Given your assessment of this article, who won the beef?\"\n",
    ")"
   ]
  },
  {
   "cell_type": "code",
   "execution_count": null,
   "id": "b8125382-d576-4b99-a0da-2fbb71a5b19b",
   "metadata": {},
   "outputs": [
    {
     "name": "stdout",
     "output_type": "stream",
     "text": [
      "It's difficult to declare a clear winner in this beef, as both Kendrick Lamar and Drake have delivered scathing diss tracks, and the beef has been marked by a series of intense exchanges.\n"
     ]
    }
   ],
   "source": [
    "print(str(response))"
   ]
  },
  {
   "cell_type": "markdown",
   "id": "68918eb6-f1e6-460c-b1d5-fb49c3fed4b8",
   "metadata": {},
   "source": [
    "## 3. Advanced RAG (Routing)"
   ]
  },
  {
   "cell_type": "markdown",
   "id": "94fd7097-0287-4522-8e43-3e088291fa8a",
   "metadata": {},
   "source": [
    "### Build a Router that can choose whether to do vector search or summarization"
   ]
  },
  {
   "cell_type": "code",
   "execution_count": null,
   "id": "3949dd41-e9a1-47f6-900f-4f987cad3f84",
   "metadata": {},
   "outputs": [],
   "source": [
    "from llama_index.core.tools import QueryEngineTool, ToolMetadata\n",
    "\n",
    "vector_tool = QueryEngineTool(\n",
    "    index.as_query_engine(),\n",
    "    metadata=ToolMetadata(\n",
    "        name=\"vector_search\",\n",
    "        description=\"Useful for searching for specific facts.\",\n",
    "    ),\n",
    ")\n",
    "\n",
    "summary_tool = QueryEngineTool(\n",
    "    index.as_query_engine(response_mode=\"tree_summarize\"),\n",
    "    metadata=ToolMetadata(\n",
    "        name=\"summary\",\n",
    "        description=\"Useful for summarizing an entire document.\",\n",
    "    ),\n",
    ")"
   ]
  },
  {
   "cell_type": "code",
   "execution_count": null,
   "id": "d063d07b-c03e-4b26-8556-e3c058d2fd52",
   "metadata": {},
   "outputs": [
    {
     "name": "stdout",
     "output_type": "stream",
     "text": [
      "\u001b[1;3;38;5;200mSelecting query engine 0: The question asks for specific facts about the song 'Meet the Grahams', so a search for specific facts is required..\n",
      "\u001b[0m"
     ]
    }
   ],
   "source": [
    "from llama_index.core.query_engine import RouterQueryEngine\n",
    "\n",
    "query_engine = RouterQueryEngine.from_defaults(\n",
    "    [vector_tool, summary_tool], select_multi=False, verbose=True, llm=llm_70b\n",
    ")\n",
    "\n",
    "response = query_engine.query(\n",
    "    \"Tell me about the song meet the grahams - why is it significant\"\n",
    ")"
   ]
  },
  {
   "cell_type": "code",
   "execution_count": null,
   "id": "396aad75-5a71-4bd9-a760-7f13fe223079",
   "metadata": {},
   "outputs": [
    {
     "name": "stdout",
     "output_type": "stream",
     "text": [
      "The \"Meet the Grahams\" artwork is significant because it's the full picture that Kendrick Lamar teased earlier on \"6.16 in LA.\" It shows a pair of Maybach gloves, a shirt, receipts, and prescription bottles, including one for Ozempic prescribed to Drake.\n"
     ]
    }
   ],
   "source": [
    "print(response)"
   ]
  },
  {
   "cell_type": "markdown",
   "id": "a795f0bc-e871-4580-8983-6fb27d421fc5",
   "metadata": {},
   "source": [
    "## 4. Text-to-SQL \n",
    "\n",
    "Here, we download and use a sample SQLite database with 11 tables, with various info about music, playlists, and customers. We will limit to a select few tables for this test."
   ]
  },
  {
   "cell_type": "code",
   "execution_count": null,
   "id": "a5096501-92c3-41af-a871-ade869d710fb",
   "metadata": {},
   "outputs": [
    {
     "name": "stdout",
     "output_type": "stream",
     "text": [
      "--2024-05-10 23:40:37--  https://www.sqlitetutorial.net/wp-content/uploads/2018/03/chinook.zip\n",
      "Resolving www.sqlitetutorial.net (www.sqlitetutorial.net)... 2606:4700:3037::6815:1e8d, 2606:4700:3037::ac43:acfa, 104.21.30.141, ...\n",
      "Connecting to www.sqlitetutorial.net (www.sqlitetutorial.net)|2606:4700:3037::6815:1e8d|:443... connected.\n",
      "HTTP request sent, awaiting response... 200 OK\n",
      "Length: 305596 (298K) [application/zip]\n",
      "Saving to: ‘./data/chinook.zip’\n",
      "\n",
      "./data/chinook.zip  100%[===================>] 298.43K  --.-KB/s    in 0.02s   \n",
      "\n",
      "2024-05-10 23:40:37 (13.9 MB/s) - ‘./data/chinook.zip’ saved [305596/305596]\n",
      "\n"
     ]
    },
    {
     "name": "stderr",
     "output_type": "stream",
     "text": [
      "huggingface/tokenizers: The current process just got forked, after parallelism has already been used. Disabling parallelism to avoid deadlocks...\n",
      "To disable this warning, you can either:\n",
      "\t- Avoid using `tokenizers` before the fork if possible\n",
      "\t- Explicitly set the environment variable TOKENIZERS_PARALLELISM=(true | false)\n"
     ]
    },
    {
     "name": "stdout",
     "output_type": "stream",
     "text": [
      "Archive:  ./data/chinook.zip\n",
      "  inflating: chinook.db              \n"
     ]
    },
    {
     "name": "stderr",
     "output_type": "stream",
     "text": [
      "huggingface/tokenizers: The current process just got forked, after parallelism has already been used. Disabling parallelism to avoid deadlocks...\n",
      "To disable this warning, you can either:\n",
      "\t- Avoid using `tokenizers` before the fork if possible\n",
      "\t- Explicitly set the environment variable TOKENIZERS_PARALLELISM=(true | false)\n"
     ]
    }
   ],
   "source": [
    "!wget \"https://www.sqlitetutorial.net/wp-content/uploads/2018/03/chinook.zip\" -O \"./data/chinook.zip\"\n",
    "!unzip \"./data/chinook.zip\""
   ]
  },
  {
   "cell_type": "code",
   "execution_count": null,
   "id": "d4db989e-c18d-4416-928e-7be4ead4d869",
   "metadata": {},
   "outputs": [],
   "source": [
    "from sqlalchemy import (\n",
    "    create_engine,\n",
    "    MetaData,\n",
    "    Table,\n",
    "    Column,\n",
    "    String,\n",
    "    Integer,\n",
    "    select,\n",
    "    column,\n",
    ")\n",
    "\n",
    "engine = create_engine(\"sqlite:///chinook.db\")"
   ]
  },
  {
   "cell_type": "code",
   "execution_count": null,
   "id": "bf6ed233-0ea3-4d4f-8c33-5b6d558b89b9",
   "metadata": {},
   "outputs": [],
   "source": [
    "from llama_index.core import SQLDatabase\n",
    "\n",
    "sql_database = SQLDatabase(engine)"
   ]
  },
  {
   "cell_type": "code",
   "execution_count": null,
   "id": "debae423-1004-40f6-9356-e1c3add4d965",
   "metadata": {},
   "outputs": [],
   "source": [
    "from llama_index.core.indices.struct_store import NLSQLTableQueryEngine\n",
    "\n",
    "query_engine = NLSQLTableQueryEngine(\n",
    "    sql_database=sql_database,\n",
    "    tables=[\"albums\", \"tracks\", \"artists\"],\n",
    "    llm=llm_70b,\n",
    ")"
   ]
  },
  {
   "cell_type": "code",
   "execution_count": null,
   "id": "a65ecd70-09c4-4872-b712-3a8235d03db2",
   "metadata": {},
   "outputs": [
    {
     "name": "stdout",
     "output_type": "stream",
     "text": [
      "Here are some albums: For Those About To Rock We Salute You, Balls to the Wall, Restless and Wild, Let There Be Rock, Big Ones, Jagged Little Pill, Facelift, Warner 25 Anos, Plays Metallica By Four Cellos, and Audioslave.\n"
     ]
    }
   ],
   "source": [
    "response = query_engine.query(\"What are some albums?\")\n",
    "\n",
    "print(response)"
   ]
  },
  {
   "cell_type": "code",
   "execution_count": null,
   "id": "c12b93ef-d6d1-4d15-9cb2-343070f72851",
   "metadata": {},
   "outputs": [
    {
     "name": "stdout",
     "output_type": "stream",
     "text": [
      "Here are 5 artists: AC/DC, Accept, Aerosmith, Alanis Morissette, and Alice In Chains.\n"
     ]
    }
   ],
   "source": [
    "response = query_engine.query(\"What are some artists? Limit it to 5.\")\n",
    "\n",
    "print(response)"
   ]
  },
  {
   "cell_type": "markdown",
   "id": "2c243d38-c6ac-445c-b9d4-53a9ae013b7b",
   "metadata": {},
   "source": [
    "This last query should be a more complex join"
   ]
  },
  {
   "cell_type": "code",
   "execution_count": null,
   "id": "553741c2-1050-445d-979a-ae2150ee3248",
   "metadata": {},
   "outputs": [
    {
     "name": "stdout",
     "output_type": "stream",
     "text": [
      "Here are three tracks from the legendary Australian rock band AC/DC: \"For Those About To Rock (We Salute You)\", \"Put The Finger On You\", and \"Let's Get It Up\".\n"
     ]
    }
   ],
   "source": [
    "response = query_engine.query(\n",
    "    \"What are some tracks from the artist AC/DC? Limit it to 3\"\n",
    ")\n",
    "\n",
    "print(response)"
   ]
  },
  {
   "cell_type": "code",
   "execution_count": null,
   "id": "300689d7-9e67-4404-9898-27404ee6d4b5",
   "metadata": {},
   "outputs": [
    {
     "name": "stdout",
     "output_type": "stream",
     "text": [
      "SELECT tracks.Name FROM tracks INNER JOIN albums ON tracks.AlbumId = albums.AlbumId INNER JOIN artists ON albums.ArtistId = artists.ArtistId WHERE artists.Name = 'AC/DC' LIMIT 3;\n"
     ]
    }
   ],
   "source": [
    "print(response.metadata[\"sql_query\"])"
   ]
  },
  {
   "cell_type": "markdown",
   "id": "1419fe67-aa6a-47db-88cd-9bb251c15615",
   "metadata": {},
   "source": [
    "## 5. Structured Data Extraction\n",
    "\n",
    "An important use case for function calling is extracting structured objects. LlamaIndex provides an intuitive interface for this through `structured_predict` - simply define the target Pydantic class (can be nested), and given a prompt, we extract out the desired object.\n",
    "\n",
    "**NOTE**: Since there's no native function calling support with Llama3, the structured extraction is performed by prompting the LLM + output parsing."
   ]
  },
  {
   "cell_type": "code",
   "execution_count": null,
   "id": "4432f35a-5f29-45e9-a928-32e6d77b158e",
   "metadata": {},
   "outputs": [],
   "source": [
    "from llama_index.llms.groq import Groq\n",
    "from llama_index.core.prompts import PromptTemplate\n",
    "from pydantic import BaseModel\n",
    "\n",
    "\n",
    "class Restaurant(BaseModel):\n",
    "    \"\"\"A restaurant with name, city, and cuisine.\"\"\"\n",
    "\n",
    "    name: str\n",
    "    city: str\n",
    "    cuisine: str\n",
    "\n",
    "\n",
    "llm = Groq(model=\"llama3-8b-8192\", pydantic_program_mode=\"llm\")\n",
    "prompt_tmpl = PromptTemplate(\n",
    "    \"Generate a restaurant in a given city {city_name}\"\n",
    ")"
   ]
  },
  {
   "cell_type": "code",
   "execution_count": null,
   "id": "2c451f52-a051-4ba2-a683-0c1fd258d986",
   "metadata": {},
   "outputs": [
    {
     "name": "stdout",
     "output_type": "stream",
     "text": [
      "name='Café Havana' city='Miami' cuisine='Cuban'\n"
     ]
    }
   ],
   "source": [
    "restaurant_obj = llm.structured_predict(\n",
    "    Restaurant, prompt_tmpl, city_name=\"Miami\"\n",
    ")\n",
    "print(restaurant_obj)"
   ]
  },
  {
   "cell_type": "markdown",
   "id": "839018a9-b65f-4824-83f7-2e4e52b55c5d",
   "metadata": {},
   "source": [
    "## 6. Adding Chat History to RAG (Chat Engine)\n",
    "\n",
    "In this section we create a stateful chatbot from a RAG pipeline, with our chat engine abstraction.\n",
    "\n",
    "Unlike a stateless query engine, the chat engine maintains conversation history (through a memory module like buffer memory). It performs retrieval given a condensed question, and feeds the condensed question + context + chat history into the final LLM prompt.\n",
    "\n",
    "Related resource: https://docs.llamaindex.ai/en/stable/examples/chat_engine/chat_engine_condense_plus_context/"
   ]
  },
  {
   "cell_type": "code",
   "execution_count": null,
   "id": "27e56315-9513-4b32-bf9a-ce97c3ab52df",
   "metadata": {},
   "outputs": [],
   "source": [
    "from llama_index.core.memory import ChatMemoryBuffer\n",
    "from llama_index.core.chat_engine import CondensePlusContextChatEngine\n",
    "\n",
    "memory = ChatMemoryBuffer.from_defaults(token_limit=3900)\n",
    "\n",
    "chat_engine = CondensePlusContextChatEngine.from_defaults(\n",
    "    index.as_retriever(),\n",
    "    memory=memory,\n",
    "    llm=llm,\n",
    "    context_prompt=(\n",
    "        \"You are a chatbot, able to have normal interactions, as well as talk\"\n",
    "        \" about the Kendrick and Drake beef.\"\n",
    "        \"Here are the relevant documents for the context:\\n\"\n",
    "        \"{context_str}\"\n",
    "        \"\\nInstruction: Use the previous chat history, or the context above, to interact and help the user.\"\n",
    "    ),\n",
    "    verbose=True,\n",
    ")"
   ]
  },
  {
   "cell_type": "code",
   "execution_count": null,
   "id": "b24524d2-fdce-4237-8ecc-67f139302303",
   "metadata": {},
   "outputs": [
    {
     "name": "stdout",
     "output_type": "stream",
     "text": [
      "Condensed question: Tell me about the songs Drake released in the beef.\n",
      "Context: https://www.gq.com/story/the-kendrick-lamar-drake-beef-explained                                        27/34\n",
      "---\n",
      "     5/10/24, 10:08 PM                                        The Kendrick Lamar/Drake Beef, Explained | GQ\n",
      "          May 5: Drake hits back with “The Heart Part 6”\n",
      "                     The HEART PART 6   DRAKE\n",
      "\n",
      "\n",
      "THE HEART PART 6 - DRAKETHE HEART PART 6 - DRAKE\n",
      "          The most productive weekend in the history of rap beef continues, with Drake saying\n",
      "          fuck all to the Sunday Truce and doing exactly what Joe Budden advised: to hit back at\n",
      "          Kendrick's onslaught with a record in the vein of his time-stamp series, straight bars over\n",
      "          a hard beat. Only, Kendrick already beat him to a time-stamp title last week with “6:16\n",
      "          in LA,” so Drake counters by co-opting one of Kendrick's recurring series: “The Heart.”\n",
      "          (The last official entry, “The Heart Part 5,” heralded Kendrick's Mr. Morale and The Big\n",
      "          Steppers album. Surely you remember the music video, where Kendrick applies deepfake\n",
      "          technology to take on the visages of everyone from Kanye and Nipsey Hussle to OJ.)\n",
      "          Drake even takes a page out of Kendrick's diss manual and applies some classic soul to\n",
      "          the proceedings, countering Kendrick's Teddy Pendergrass and Al Green samples (on\n",
      "          “Euphoria” and “6:16,” respectively) with an Aretha Franklin sample here.\n",
      "          Aretha sings “Let me see you proooove it,” setting the tone for Drake's angle here that\n",
      "          Kendrick's been hitting him with baseless accusations. “The Heart Part 6” is in full\n",
      "          reaction mode to everything that's transpired over the last three days, including direct\n",
      "         Maial\n",
      "          rebuttals to Kendrick's “Not Like Us;” it was clearly written in the last 24 hours. DrakeSign up for Manual, our new flagship newsletter\n",
      "                                   Useful advice on style, health, and more, four days a week.\n",
      "          sounds…a little over it all, while nevertheless still promising that shit is about to get\n",
      "          dark. (This is now his second track in a row where he plainly states he'd rather be on\n",
      "\n",
      "\n",
      "\n",
      "     https://www.gq.com/story/the-kendrick-lamar-drake-beef-explained                                                              28/34\n",
      "---\n",
      "5/10/24, 10:08 PM                                        The Kendrick Lamar/Drake Beef, Explained | GQ\n",
      "     vacation somewhere than holed up in cold Toronto writing disses.) Drake, buddy,\n",
      "     domestic abuse and pedophilia accusations are in the air—we've been pitch black for the\n",
      "     last few songs already.\n",
      "\n",
      "\n",
      "\n",
      "     You would think Drake would sound a little more celebratory than he does to start the\n",
      "     song, where he takes a victory lap for allegedly going full Sydney Bristow and triple-\n",
      "     crossing Kendrick into leaping on Fake Child Intel. “We plotted for a week and then we\n",
      "     fed you the information…we thought about giving a fake name or a destination/but you\n",
      "     so thirsty, you not concerned with investigation.” Who's lying or who was fooled? Only\n",
      "     the Pusha T Investigative Team can solve this.\n",
      "\n",
      "\n",
      "\n",
      "     Drake doesn't dwell there, though, instead moving on to Kendrick's family, doubling\n",
      "     down on the two angles that formed the basis of “Family Matters”: that Kendrick has\n",
      "     beaten his partner Whitney in the past, he's estranged from their family, and one of his\n",
      "     two kids is actually fathered by his friend and creative partner Dave Free. To drive this\n",
      "     last point home, “The Heart Part 6” artwork is an Instagram screenshot of Dave leaving\n",
      "     heart emojis under, presumably, a picture Whitney posted.\n",
      "\n",
      "\n",
      "\n",
      "     Continuing his through line of using Kendrick's confessional raps on Mr. Morale as\n",
      "     ammo, Drake refers back to “Mother I Sober,” the track where Kendrick unpacks his\n",
      "     mother's sexual abuse and how it informed an incident in his childhood where his\n",
      "     mother was worried he was being abused by a family member even though Kendrick says\n",
      "     he wasn't. Dr. Drake's read: He actually was molseted, and that's why he's so hell-bent\n",
      "     on calling OVO “certified pedophiles.”\n",
      "\n",
      "5/10/24, 10:08 PMThe Kendrick Lamar/Drake Beef, Explained | GQ\n",
      "          Christopher Polk/Getty Images                                                                 Email address\n",
      "         Maial                       Sign up for Manual, our new flagship newsletter\n",
      "                                     Useful advice on style, health,Cultureand more, four days a week.        SIGN ME UP\n",
      "\n",
      "\n",
      "\n",
      "                     The Kendrick Lamar/Drake Beef, ExplainedNO THANKS\n",
      "\n",
      "\n",
      "\n",
      "     https://www.gq.com/story/the-kendrick-lamar-drake-beef-explained                                                     1/34\n",
      "---\n",
      "5/10/24, 10:08 PM                                         The Kendrick Lamar/Drake Beef, Explained | GQ\n",
      "\n",
      "\n",
      "\n",
      "     Kendrick and Drake diss each other multiple times in one weekend, A.I. shenanigans, shots fired\n",
      "          at and from Future, Metro Boomin, Rick Ross, Weeknd, and more in a new chapter in rap\n",
      "                                                           geopolitics.\n",
      "\n",
      "\n",
      "\n",
      "                                                       By Frazier Tharpe\n",
      "                                                           May 5, 2024\n",
      "\n",
      "\n",
      "\n",
      "     There's the back-to-back effect, and then there's the unrestrained chaos of dropping long\n",
      "     diss tracks, densely loaded with viciously personal power punches, within an hour of each\n",
      "     other. On the first weekend in May, Drake commandeered everyone's Friday night to\n",
      "     turn up the heat in his beef with Kendrick Lamar with a three-part reply and\n",
      "     accompanying music video—only for Kendrick to hit right back with what may be one\n",
      "     of the most scathing diss tracks in rap history. This Cold War is firmly and decidedly\n",
      "     thawed all the way out—and the [Maybach] gloves are off.\n",
      "\n",
      "\n",
      "\n",
      "     To paraphrase prime Jigga-era Jay-Z, the summer just got hotter. Read on for a full\n",
      "     account of 2024's most constantly-evolving rap beef.\n",
      "\n",
      "\n",
      "\n",
      "     Read More\n",
      "\n",
      "\n",
      "\n",
      "     The Drake/Kendrick Lamar Beef Has a Winner. Where Do\n",
      "     We Go From Here?\n",
      "\n",
      "\n",
      "\n",
      "     The low blows thrown during this weekend’s volley of diss songs have\n",
      "     changed hip-hop’s rules of engagement forever—and may have shifted\n",
      "     both Drake and Kendrick’s legacies in the bargain.\n",
      "     By Lawrence Burney\n",
      "\n",
      "\n",
      "\n",
      "     March 29: Kendrick Lamar declares war, on an album that may be wholly\n",
      "     dedicated to dissing Drake.\n",
      "\n",
      "\n",
      "\n",
      "     Future and Metro Boomin’s decade-in-the-making new album We Don’t Trust You was\n",
      "     already one of the most feverishly anticipated rap releases in some time, and on the song\n",
      "    Maial\n",
      "     “Like That,” Kendrick delivers on that Christmas Eve energy with a guest verse that may\n",
      "                               Sign up for Manual, our new flagship newsletter\n",
      "     as well be a “Control” sequel. But whereas that name-naming 2013 landmark was\n",
      "                               Useful advice on style, health, and more, four days a week.\n",
      "     ultimately rooted in the spirit of competition, this time the gloves are off and the love is\n",
      "     done.\n",
      "\n",
      "\n",
      "\n",
      "https://www.gq.com/story/the-kendrick-lamar-drake-beef-explained                                         2/34\n",
      "---\n",
      "     5/10/24, 10:08 PM                                        The Kendrick Lamar/Drake Beef, Explained | GQ\n",
      "                     Future; Metro Boomin Kendrick Lamar                    Like That (Official Audio)\n",
      "\n",
      "\n",
      "Future, Metro Boomin, Kendrick Lamar - Like That (OFuture, Metro Boomin, Kendrick Lamar - Like That (Offifficial Audio)cial Audio)\n",
      "          Kendrick sets the tone early, declaring that he’s “choosing violence” and it’s time for an\n",
      "          opponent to “prove that he’s a problem.” And though no names are officially named, a\n",
      "          reference to Drake’s song “First Person Shooter” and the album it lives on, For All the\n",
      "          Dogs, means we have to consider this something more than a subliminal. On “FPS”\n",
      "          Drake brags about taking Michael Jackson’s mantle for having the most Billboard Hot\n",
      "          100 No. 1 songs, going as far as to hit the “Beat It” steps with a sequined glove in the\n",
      "          video. Here, Kendrick finally, formally casts himself as direct opposition, ending his verse\n",
      "          with a haymaker referencing MJ’s own longtime Cold War enemy: “Prince outlived Mike\n",
      "          Jack.” Sheesh.\n",
      "According to the article, Drake released a song called \"The Heart Part 6\" in response to Kendrick Lamar's diss track. This song is part of the ongoing beef between the two rappers.\n"
     ]
    }
   ],
   "source": [
    "response = chat_engine.chat(\n",
    "    \"Tell me about the songs Drake released in the beef.\"\n",
    ")\n",
    "print(str(response))"
   ]
  },
  {
   "cell_type": "code",
   "execution_count": null,
   "id": "f9a87a16-2864-4c48-95e7-a2103e119242",
   "metadata": {},
   "outputs": [
    {
     "name": "stdout",
     "output_type": "stream",
     "text": [
      "Condensed question: What did Kendrick Lamar release in response to Drake's \"The Heart Part 6\"?\n",
      "Context: https://www.gq.com/story/the-kendrick-lamar-drake-beef-explained                                        27/34\n",
      "---\n",
      "     5/10/24, 10:08 PM                                        The Kendrick Lamar/Drake Beef, Explained | GQ\n",
      "          May 5: Drake hits back with “The Heart Part 6”\n",
      "                     The HEART PART 6   DRAKE\n",
      "\n",
      "\n",
      "THE HEART PART 6 - DRAKETHE HEART PART 6 - DRAKE\n",
      "          The most productive weekend in the history of rap beef continues, with Drake saying\n",
      "          fuck all to the Sunday Truce and doing exactly what Joe Budden advised: to hit back at\n",
      "          Kendrick's onslaught with a record in the vein of his time-stamp series, straight bars over\n",
      "          a hard beat. Only, Kendrick already beat him to a time-stamp title last week with “6:16\n",
      "          in LA,” so Drake counters by co-opting one of Kendrick's recurring series: “The Heart.”\n",
      "          (The last official entry, “The Heart Part 5,” heralded Kendrick's Mr. Morale and The Big\n",
      "          Steppers album. Surely you remember the music video, where Kendrick applies deepfake\n",
      "          technology to take on the visages of everyone from Kanye and Nipsey Hussle to OJ.)\n",
      "          Drake even takes a page out of Kendrick's diss manual and applies some classic soul to\n",
      "          the proceedings, countering Kendrick's Teddy Pendergrass and Al Green samples (on\n",
      "          “Euphoria” and “6:16,” respectively) with an Aretha Franklin sample here.\n",
      "          Aretha sings “Let me see you proooove it,” setting the tone for Drake's angle here that\n",
      "          Kendrick's been hitting him with baseless accusations. “The Heart Part 6” is in full\n",
      "          reaction mode to everything that's transpired over the last three days, including direct\n",
      "         Maial\n",
      "          rebuttals to Kendrick's “Not Like Us;” it was clearly written in the last 24 hours. DrakeSign up for Manual, our new flagship newsletter\n",
      "                                   Useful advice on style, health, and more, four days a week.\n",
      "          sounds…a little over it all, while nevertheless still promising that shit is about to get\n",
      "          dark. (This is now his second track in a row where he plainly states he'd rather be on\n",
      "\n",
      "\n",
      "\n",
      "     https://www.gq.com/story/the-kendrick-lamar-drake-beef-explained                                                              28/34\n",
      "---\n",
      "5/10/24, 10:08 PM                                        The Kendrick Lamar/Drake Beef, Explained | GQ\n",
      "     vacation somewhere than holed up in cold Toronto writing disses.) Drake, buddy,\n",
      "     domestic abuse and pedophilia accusations are in the air—we've been pitch black for the\n",
      "     last few songs already.\n",
      "\n",
      "\n",
      "\n",
      "     You would think Drake would sound a little more celebratory than he does to start the\n",
      "     song, where he takes a victory lap for allegedly going full Sydney Bristow and triple-\n",
      "     crossing Kendrick into leaping on Fake Child Intel. “We plotted for a week and then we\n",
      "     fed you the information…we thought about giving a fake name or a destination/but you\n",
      "     so thirsty, you not concerned with investigation.” Who's lying or who was fooled? Only\n",
      "     the Pusha T Investigative Team can solve this.\n",
      "\n",
      "\n",
      "\n",
      "     Drake doesn't dwell there, though, instead moving on to Kendrick's family, doubling\n",
      "     down on the two angles that formed the basis of “Family Matters”: that Kendrick has\n",
      "     beaten his partner Whitney in the past, he's estranged from their family, and one of his\n",
      "     two kids is actually fathered by his friend and creative partner Dave Free. To drive this\n",
      "     last point home, “The Heart Part 6” artwork is an Instagram screenshot of Dave leaving\n",
      "     heart emojis under, presumably, a picture Whitney posted.\n",
      "\n",
      "\n",
      "\n",
      "     Continuing his through line of using Kendrick's confessional raps on Mr. Morale as\n",
      "     ammo, Drake refers back to “Mother I Sober,” the track where Kendrick unpacks his\n",
      "     mother's sexual abuse and how it informed an incident in his childhood where his\n",
      "     mother was worried he was being abused by a family member even though Kendrick says\n",
      "     he wasn't. Dr. Drake's read: He actually was molseted, and that's why he's so hell-bent\n",
      "     on calling OVO “certified pedophiles.”\n",
      "\n",
      "Cole would go on to respond to Kendrick with “7 Minute Drill,” a diss track more\n",
      "     notable for Cole admitting on it that he doesn't want to really go there with his onetime\n",
      "     friend than any especially vicious jabs. As the internet spent the weekend debating if J.\n",
      "     Cole's heart was really in it, by Sunday he would go onstage at his own Dreamville\n",
      "     Festival to confirm just that. He publicly retracted his diss, apologized to and bigged up\n",
      "     Lamar, and even vowed to stay out of it even if Kendrick should respond to “Drill.”\n",
      "\n",
      "\n",
      "\n",
      "     So why do Future and Metro Boomin suddenly have issues with Drake after doing\n",
      "     dozens of collaborations with him?\n",
      "\n",
      "\n",
      "\n",
      "     We’ve gone hundreds of words without returning to the duo who delivered this moment:\n",
      "     Future, the fourth face on that 2010s Rap Mount Rushmore, and Metro Boomin, the\n",
      "     superproducer he’s made some of his most potent music with. There’s a deeper layer to\n",
      "     Kendrick choosing a Future and Metro album as the stage to finally go at Drake: Metro\n",
      "     has seemingly had his own problems with the 6ix God. Late last year he posted and\n",
      "     subsequently deleted a tweet about his acclaimed album Heroes and Villains continuing to\n",
      "     lose awards to Drake (and frequent Metro collaborator 21 Savage’s) album Her Loss.\n",
      "    Maial\n",
      "     During a livestream not long after, Drake hilariously referenced “the non-believers, the\n",
      "                              Sign up for Manual, our new flagship newsletter\n",
      "                              Useful advice on style, health, and more, four days a week.\n",
      "     underachievers, the tweet-and-deleters,” adding “you guys make me sick to my stomach,\n",
      "\n",
      "\n",
      "\n",
      "https://www.gq.com/story/the-kendrick-lamar-drake-beef-explained                                        6/34\n",
      "---\n",
      "5/10/24, 10:08 PM                                        The Kendrick Lamar/Drake Beef, Explained | GQ\n",
      "     fam.” Despite trading a few more subliminal potshots across Twitter and IG, Metro\n",
      "     downplayed any beef, saying that the issue was “not deep at all.”\n",
      "     Still, when eagle-eyed fans took note of Metro unfollowing Drake on Instagram—the\n",
      "     definitive 21st century signpost of an un-amicable split—ahead of the album’s release, it\n",
      "     didn’t take a hip-hop scholar to assume that, as Kendrick would declare, “it’s up.” And\n",
      "     for those wondering how a producer-rapper beef would even reasonably play out, Metro\n",
      "     makes it clear by serving up a new creative peak on “Like That,” with an obscenely\n",
      "     screwface-inducing beat sampling 80s rap duo Rodney O and Joe Cooley's classic\n",
      "     “Everlasting Bass,” (which was famously earlier sampled on Three 6 Mafia’s “Who the\n",
      "     Crunkest”,) alongside Eazy-E's classic “Eazy Duz It” as well as a splash of “Ridin\n",
      "     Spinners.” In effect Kendrick and Metro are following playbooks beloved by the likes of\n",
      "     Jay-Z before them, or even Drake with “Back to Back,” in dissing your opponent on a\n",
      "     song that’s an undeniable banger whether people know the context or not.\n",
      "\n",
      "\n",
      "\n",
      "     But why would Future, who has approximately 30 (thirty) collaborations with Drake,\n",
      "     including the 2015 collab album What a Time to Be Alive and two fairly recent tracks on\n",
      "     Future’s last solo album, cede airtime on his new project to a noted Drake enemy? No\n",
      "     one knows for sure at press time, but it’s possible they have issues of their own. Despite\n",
      "     their prolific collaborations, their relationship has had its rough moments from day one.\n",
      "     Recall 2011, when an ascendant Future got an assist from Drake remixing the former’s\n",
      "     “Tony Montana,” only to publicly bemoan Drake refusing to do a video. And while they\n",
      "     toured together in 2016, who can forget that time in 2013 when Future was briefly,\n",
      "     allegedly booted off of Drake’s tour for less-than-flattering comments about his music in\n",
      "     an interview.\n",
      "According to the article, Kendrick Lamar released a song called \"6:16 in LA\" which was part of the beef.\n"
     ]
    }
   ],
   "source": [
    "response = chat_engine.chat(\"What about Kendrick?\")\n",
    "print(str(response))"
   ]
  },
  {
   "cell_type": "markdown",
   "id": "a7fa07ed-58f0-445e-bbd3-4ad8bac6598e",
   "metadata": {},
   "source": [
    "## 7. Agents\n",
    "\n",
    "Here we build agents with Llama 3. We perform RAG over simple functions as well as the documents above."
   ]
  },
  {
   "cell_type": "markdown",
   "id": "aa98d735-5d43-413f-aab3-fc3adeed81b1",
   "metadata": {},
   "source": [
    "### Agents And Tools"
   ]
  },
  {
   "cell_type": "code",
   "execution_count": null,
   "id": "fb73a01f-8a2e-4dd6-91f8-710c92b81c56",
   "metadata": {},
   "outputs": [],
   "source": [
    "import json\n",
    "from typing import Sequence, List\n",
    "\n",
    "from llama_index.core.llms import ChatMessage\n",
    "from llama_index.core.tools import BaseTool, FunctionTool\n",
    "from llama_index.core.agent import ReActAgent\n",
    "\n",
    "import nest_asyncio\n",
    "\n",
    "nest_asyncio.apply()"
   ]
  },
  {
   "cell_type": "markdown",
   "id": "efbee832-9786-4551-93f2-01ee90fa0f4d",
   "metadata": {},
   "source": [
    "### Define Tools"
   ]
  },
  {
   "cell_type": "code",
   "execution_count": null,
   "id": "b2058b36-8053-4dc8-9218-c286702ecf66",
   "metadata": {},
   "outputs": [],
   "source": [
    "def multiply(a: int, b: int) -> int:\n",
    "    \"\"\"Multiple two integers and returns the result integer\"\"\"\n",
    "    return a * b\n",
    "\n",
    "\n",
    "def add(a: int, b: int) -> int:\n",
    "    \"\"\"Add two integers and returns the result integer\"\"\"\n",
    "    return a + b\n",
    "\n",
    "\n",
    "def subtract(a: int, b: int) -> int:\n",
    "    \"\"\"Subtract two integers and returns the result integer\"\"\"\n",
    "    return a - b\n",
    "\n",
    "\n",
    "def divide(a: int, b: int) -> int:\n",
    "    \"\"\"Divides two integers and returns the result integer\"\"\"\n",
    "    return a / b\n",
    "\n",
    "\n",
    "multiply_tool = FunctionTool.from_defaults(fn=multiply)\n",
    "add_tool = FunctionTool.from_defaults(fn=add)\n",
    "subtract_tool = FunctionTool.from_defaults(fn=subtract)\n",
    "divide_tool = FunctionTool.from_defaults(fn=divide)"
   ]
  },
  {
   "cell_type": "markdown",
   "id": "22d7d4dc-e2ce-402c-9350-0e7010d0080c",
   "metadata": {},
   "source": [
    "### ReAct Agent"
   ]
  },
  {
   "cell_type": "code",
   "execution_count": null,
   "id": "72a48053-e30d-4884-bcac-80752047d940",
   "metadata": {},
   "outputs": [],
   "source": [
    "agent = ReActAgent.from_tools(\n",
    "    [multiply_tool, add_tool, subtract_tool, divide_tool],\n",
    "    llm=llm_70b,\n",
    "    verbose=True,\n",
    ")"
   ]
  },
  {
   "cell_type": "markdown",
   "id": "7ada828a-3b05-4fc1-90e8-986c5607ae61",
   "metadata": {},
   "source": [
    "### Querying"
   ]
  },
  {
   "cell_type": "code",
   "execution_count": null,
   "id": "9c0b1e56-d9f7-4615-a15a-c91fea1adb00",
   "metadata": {},
   "outputs": [
    {
     "name": "stdout",
     "output_type": "stream",
     "text": [
      "\u001b[1;3;38;5;200mThought: The current language of the user is: English. I need to use a tool to help me answer the question.\n",
      "Action: add\n",
      "Action Input: {'a': 121, 'b': 2}\n",
      "\u001b[0m\u001b[1;3;34mObservation: 123\n",
      "\u001b[0m\u001b[1;3;38;5;200mThought: Now I have the result of the addition, I need to multiply it by 5.\n",
      "Action: multiply\n",
      "Action Input: {'a': 123, 'b': 5}\n",
      "\u001b[0m\u001b[1;3;34mObservation: 615\n",
      "\u001b[0m\u001b[1;3;38;5;200mThought: I can answer without using any more tools. I'll use the user's language to answer\n",
      "Answer: 615\n",
      "\u001b[0m615\n"
     ]
    }
   ],
   "source": [
    "response = agent.chat(\"What is (121 + 2) * 5?\")\n",
    "print(str(response))"
   ]
  },
  {
   "cell_type": "markdown",
   "id": "67ce45f6-bdd4-42aa-8f74-43a50f14094e",
   "metadata": {},
   "source": [
    "### ReAct Agent With RAG QueryEngine Tools"
   ]
  },
  {
   "cell_type": "code",
   "execution_count": null,
   "id": "97fce5f1-eacf-4ecc-9e83-072e74d3a2a9",
   "metadata": {},
   "outputs": [],
   "source": [
    "from llama_index.core import (\n",
    "    SimpleDirectoryReader,\n",
    "    VectorStoreIndex,\n",
    "    StorageContext,\n",
    "    load_index_from_storage,\n",
    ")\n",
    "\n",
    "from llama_index.core.tools import QueryEngineTool, ToolMetadata"
   ]
  },
  {
   "cell_type": "markdown",
   "id": "23963d00-e3d2-4ce1-9ac3-aa486bf4b1a5",
   "metadata": {},
   "source": [
    "### Create ReAct Agent using RAG QueryEngine Tools"
   ]
  },
  {
   "cell_type": "code",
   "execution_count": null,
   "id": "0e241fe9-f390-4be5-b3c4-da4f56db01ef",
   "metadata": {},
   "outputs": [],
   "source": [
    "drake_tool = QueryEngineTool(\n",
    "    drake_index.as_query_engine(),\n",
    "    metadata=ToolMetadata(\n",
    "        name=\"drake_search\",\n",
    "        description=\"Useful for searching over Drake's life.\",\n",
    "    ),\n",
    ")\n",
    "\n",
    "kendrick_tool = QueryEngineTool(\n",
    "    kendrick_index.as_query_engine(),\n",
    "    metadata=ToolMetadata(\n",
    "        name=\"kendrick_search\",\n",
    "        description=\"Useful for searching over Kendrick's life.\",\n",
    "    ),\n",
    ")\n",
    "\n",
    "query_engine_tools = [drake_tool, kendrick_tool]"
   ]
  },
  {
   "cell_type": "code",
   "execution_count": null,
   "id": "b922feac-b221-4737-92c6-e63eeab4eab7",
   "metadata": {},
   "outputs": [],
   "source": [
    "agent = ReActAgent.from_tools(\n",
    "    query_engine_tools,  ## TODO: define query tools\n",
    "    llm=llm_70b,\n",
    "    verbose=True,\n",
    ")"
   ]
  },
  {
   "cell_type": "markdown",
   "id": "7e38edc8-47f8-4f1a-ad87-bc3a9e31a65e",
   "metadata": {},
   "source": [
    "### Querying"
   ]
  },
  {
   "cell_type": "code",
   "execution_count": null,
   "id": "035c2c8b-5a5e-4df0-a423-4c2d6054f457",
   "metadata": {},
   "outputs": [
    {
     "name": "stdout",
     "output_type": "stream",
     "text": [
      "\u001b[1;3;38;5;200mThought: The current language of the user is: English. I need to use a tool to help me answer the question.\n",
      "Action: kendrick_search\n",
      "Action Input: {'input': \"Kendrick Lamar's childhood\"}\n",
      "\u001b[0m\u001b[1;3;34mObservation: Kendrick Lamar was born on June 17, 1987, in Compton, California. He is the first child of Kenneth \"Kenny\" Duckworth, a former gang hustler, and Paula Oliver, a hairdresser. Both of his parents are African Americans from the South Side of Chicago. When they were teenagers, they relocated to Compton in 1984 due to his father's affiliation with the Gangster Disciples. Lamar was named after singer-songwriter Eddie Kendricks of the Temptations.\n",
      "\u001b[0m\u001b[1;3;38;5;200mThought: I need more information about Drake's childhood to compare their upbringings.\n",
      "Action: drake_search\n",
      "Action Input: {'input': \"Drake's childhood\"}\n",
      "\u001b[0m\u001b[1;3;34mObservation: Drake's parents divorced when he was five years old. After the divorce, he and his mother remained in Toronto; his father returned to Memphis, where he was incarcerated for a number of years on drug-related charges.\n",
      "\u001b[0m\u001b[1;3;38;5;200mThought: I have information about both Kendrick and Drake's childhoods. I can now compare their upbringings.\n",
      "Answer: Kendrick Lamar grew up in Compton, California, with his parents, who were both from the South Side of Chicago. He was exposed to gang culture from a young age due to his father's affiliation with the Gangster Disciples. On the other hand, Drake grew up in Toronto, Canada, with his mother after his parents' divorce when he was five years old. His father was incarcerated in Memphis for drug-related charges.\n",
      "\u001b[0mKendrick Lamar grew up in Compton, California, with his parents, who were both from the South Side of Chicago. He was exposed to gang culture from a young age due to his father's affiliation with the Gangster Disciples. On the other hand, Drake grew up in Toronto, Canada, with his mother after his parents' divorce when he was five years old. His father was incarcerated in Memphis for drug-related charges.\n"
     ]
    }
   ],
   "source": [
    "response = agent.chat(\"Tell me about how Kendrick and Drake grew up\")\n",
    "print(str(response))"
   ]
  }
 ],
 "metadata": {
  "kernelspec": {
   "display_name": "llama_index_v3",
   "language": "python",
   "name": "llama_index_v3"
  },
  "language_info": {
   "codemirror_mode": {
    "name": "ipython",
    "version": 3
   },
   "file_extension": ".py",
   "mimetype": "text/x-python",
   "name": "python",
   "nbconvert_exporter": "python",
   "pygments_lexer": "ipython3"
  }
 },
 "nbformat": 4,
 "nbformat_minor": 5
}
