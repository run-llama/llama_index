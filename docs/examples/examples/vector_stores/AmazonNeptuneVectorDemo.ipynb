{
 "cells": [
  {
   "cell_type": "markdown",
   "id": "80018bc3-f3fe-47ae-a579-f837fdf728a0",
   "metadata": {},
   "source": [
    "# Amazon Neptune - Neptune Analytics vector store"
   ]
  },
  {
   "attachments": {},
   "cell_type": "markdown",
   "id": "5ae79640",
   "metadata": {},
   "source": [
    "If you're opening this Notebook on colab, you will probably need to install LlamaIndex 🦙."
   ]
  },
  {
   "cell_type": "code",
   "execution_count": null,
   "id": "a256f772",
   "metadata": {},
   "outputs": [],
   "source": [
    "%pip install llama-index-vector-stores-neptune"
   ]
  },
  {
   "cell_type": "markdown",
   "id": "086f3065-3072-4588-82cb-2a852019451c",
   "metadata": {},
   "source": [
    "## Initiate Neptune Analytics vector wrapper"
   ]
  },
  {
   "cell_type": "code",
   "execution_count": null,
   "id": "910d6b13-576e-47b1-96dd-eacbfe10fa0b",
   "metadata": {},
   "outputs": [],
   "source": [
    "from llama_index.vector_stores.neptune import NeptuneAnalyticsVectorStore\n",
    "\n",
    "graph_identifier = \"\"\n",
    "embed_dim = 1536\n",
    "\n",
    "neptune_vector_store = NeptuneAnalyticsVectorStore(\n",
    "    graph_identifier=graph_identifier, embedding_dimension=1536\n",
    ")"
   ]
  },
  {
   "cell_type": "markdown",
   "id": "2c9c4515-982d-4f78-b099-f70eabfae60c",
   "metadata": {},
   "source": [
    "## Load documents, build the VectorStoreIndex"
   ]
  },
  {
   "cell_type": "code",
   "execution_count": null,
   "id": "348a4c97-bbf9-4eb1-8669-079c54588fbf",
   "metadata": {},
   "outputs": [],
   "source": [
    "from llama_index.core import VectorStoreIndex, SimpleDirectoryReader\n",
    "from IPython.display import Markdown, display"
   ]
  },
  {
   "attachments": {},
   "cell_type": "markdown",
   "id": "d9cd108b",
   "metadata": {},
   "source": [
    "Download Data"
   ]
  },
  {
   "cell_type": "code",
   "execution_count": null,
   "id": "71729c84",
   "metadata": {},
   "outputs": [],
   "source": [
    "!mkdir -p 'data/paul_graham/'\n",
    "!wget 'https://raw.githubusercontent.com/run-llama/llama_index/main/docs/examples/data/paul_graham/paul_graham_essay.txt' -O 'data/paul_graham/paul_graham_essay.txt'"
   ]
  },
  {
   "cell_type": "code",
   "execution_count": null,
   "id": "aecb970b-7d52-4b0b-8799-605187a01dd3",
   "metadata": {},
   "outputs": [],
   "source": [
    "# load documents\n",
    "documents = SimpleDirectoryReader(\"./data/paul_graham\").load_data()"
   ]
  },
  {
   "cell_type": "code",
   "execution_count": null,
   "id": "8f2ee4d4-addc-49cf-b7ae-0d6146e0f717",
   "metadata": {},
   "outputs": [],
   "source": [
    "from llama_index.core import StorageContext\n",
    "\n",
    "storage_context = StorageContext.from_defaults(\n",
    "    vector_store=neptune_vector_store\n",
    ")\n",
    "index = VectorStoreIndex.from_documents(\n",
    "    documents, storage_context=storage_context\n",
    ")"
   ]
  },
  {
   "cell_type": "code",
   "execution_count": null,
   "id": "59b91a75-0754-4ded-af05-adceda3557d8",
   "metadata": {},
   "outputs": [],
   "source": [
    "query_engine = index.as_query_engine()\n",
    "response = query_engine.query(\"What happened at interleaf?\")\n",
    "display(Markdown(f\"<b>{response}</b>\"))"
   ]
  }
 ],
 "metadata": {
  "kernelspec": {
   "display_name": "Python 3 (ipykernel)",
   "language": "python",
   "name": "python3"
  },
  "language_info": {
   "codemirror_mode": {
    "name": "ipython",
    "version": 3
   },
   "file_extension": ".py",
   "mimetype": "text/x-python",
   "name": "python",
   "nbconvert_exporter": "python",
   "pygments_lexer": "ipython3"
  }
 },
 "nbformat": 4,
 "nbformat_minor": 5
}
