{
 "cells": [
  {
   "attachments": {},
   "cell_type": "markdown",
   "id": "0cf577bb",
   "metadata": {},
   "source": [
    "<a href=\"https://colab.research.google.com/github/run-llama/llama_index/blob/main/docs/docs/examples/vector_stores/pinecone_auto_retriever.ipynb\" target=\"_parent\"><img src=\"https://colab.research.google.com/assets/colab-badge.svg\" alt=\"Open In Colab\"/></a>"
   ]
  },
  {
   "attachments": {},
   "cell_type": "markdown",
   "id": "307804a3-c02b-4a57-ac0d-172c30ddc851",
   "metadata": {},
   "source": [
    "# A Simple to Advanced Guide with Auto-Retrieval (with Pinecone + Arize Phoenix)\n",
    "\n",
    "In this notebook we showcase how to perform **auto-retrieval** against Pinecone, which lets you execute a broad range of semi-structured queries beyond what you can do with standard top-k semantic search.\n",
    "\n",
    "We show both how to setup basic auto-retrieval, as well as how to extend it (by customizing the prompt and through dynamic metadata retrieval)."
   ]
  },
  {
   "attachments": {},
   "cell_type": "markdown",
   "id": "e97ec52a",
   "metadata": {},
   "source": [
    "If you're opening this Notebook on colab, you will probably need to install LlamaIndex 🦙."
   ]
  },
  {
   "cell_type": "code",
   "execution_count": null,
   "id": "19206ae7",
   "metadata": {},
   "outputs": [],
   "source": [
    "%pip install llama-index-vector-stores-pinecone"
   ]
  },
  {
   "cell_type": "code",
   "execution_count": null,
   "id": "e08012b0",
   "metadata": {},
   "outputs": [],
   "source": [
    "# !pip install llama-index>=0.9.31 scikit-learn==1.2.2 arize-phoenix==2.4.1 pinecone-client>=3.0.0"
   ]
  },
  {
   "cell_type": "markdown",
   "id": "afdbefce-c48e-4802-bf53-796adf3d6b4b",
   "metadata": {},
   "source": [
    "## Part 1: Setup Auto-Retrieval\n",
    "\n",
    "To setup auto-retrieval, do the following:\n",
    "\n",
    "1. We'll do some setup, load data, build a Pinecone vector index.\n",
    "2. We'll define our autoretriever and run some sample queries.\n",
    "3. We'll use Phoenix to observe each trace and visualize the prompt inputs/outputs.\n",
    "4. We'll show you how to customize the auto-retrieval prompt."
   ]
  },
  {
   "attachments": {},
   "cell_type": "markdown",
   "id": "f7010b1d-d1bb-4f08-9309-a328bb4ea396",
   "metadata": {},
   "source": [
    "### 1.a Setup Pinecone/Phoenix, Load Data, and Build Vector Index\n",
    "\n",
    "In this section we setup pinecone and ingest some toy data on books/movies (with text data and metadata).\n",
    "\n",
    "We also setup Phoenix so that it captures downstream traces."
   ]
  },
  {
   "cell_type": "code",
   "execution_count": null,
   "id": "a70609af-1ccb-48de-8cb2-335eb783143f",
   "metadata": {},
   "outputs": [
    {
     "name": "stdout",
     "output_type": "stream",
     "text": [
      "🌍 To view the Phoenix app in your browser, visit http://127.0.0.1:6006/\n",
      "📺 To view the Phoenix app in a notebook, run `px.active_session().view()`\n",
      "📖 For more information on how to use Phoenix, check out https://docs.arize.com/phoenix\n"
     ]
    }
   ],
   "source": [
    "# setup Phoenix\n",
    "import phoenix as px\n",
    "import llama_index.core\n",
    "\n",
    "px.launch_app()\n",
    "llama_index.core.set_global_handler(\"arize_phoenix\")"
   ]
  },
  {
   "cell_type": "code",
   "execution_count": null,
   "id": "7062610f-8ad0-4ef9-a0e8-aaafc66ad71c",
   "metadata": {},
   "outputs": [],
   "source": [
    "import os\n",
    "\n",
    "os.environ[\n",
    "    \"PINECONE_API_KEY\"\n",
    "] = \"<Your Pinecone API key, from app.pinecone.io>\"\n",
    "# os.environ[\"OPENAI_API_KEY\"] = \"sk-...\""
   ]
  },
  {
   "cell_type": "code",
   "execution_count": null,
   "id": "4ad14111-0bbb-4c62-906d-6d6253e0cdee",
   "metadata": {},
   "outputs": [],
   "source": [
    "from pinecone import Pinecone\n",
    "from pinecone import ServerlessSpec\n",
    "\n",
    "api_key = os.environ[\"PINECONE_API_KEY\"]\n",
    "pc = Pinecone(api_key=api_key)"
   ]
  },
  {
   "cell_type": "code",
   "execution_count": null,
   "id": "aaa45ffc-456c-452a-978f-694ae8c426d1",
   "metadata": {},
   "outputs": [],
   "source": [
    "# delete if needed\n",
    "# pc.delete_index(\"quickstart-index\")"
   ]
  },
  {
   "cell_type": "code",
   "execution_count": null,
   "id": "c2c90087-bdd9-4ca4-b06b-2af883559f88",
   "metadata": {},
   "outputs": [],
   "source": [
    "# Dimensions are for text-embedding-ada-002\n",
    "try:\n",
    "    pc.create_index(\n",
    "        \"quickstart-index\",\n",
    "        dimension=1536,\n",
    "        metric=\"euclidean\",\n",
    "        spec=ServerlessSpec(cloud=\"aws\", region=\"us-west-2\"),\n",
    "    )\n",
    "except Exception as e:\n",
    "    # Most likely index already exists\n",
    "    print(e)\n",
    "    pass"
   ]
  },
  {
   "cell_type": "code",
   "execution_count": null,
   "id": "667f3cb3-ce18-48d5-b9aa-bfc1a1f0f0f6",
   "metadata": {},
   "outputs": [],
   "source": [
    "pinecone_index = pc.Index(\"quickstart-index\")"
   ]
  },
  {
   "attachments": {},
   "cell_type": "markdown",
   "id": "8ee4473a-094f-4d0a-a825-e1213db07240",
   "metadata": {},
   "source": [
    "#### Load documents, build the PineconeVectorStore and VectorStoreIndex"
   ]
  },
  {
   "cell_type": "code",
   "execution_count": null,
   "id": "0a2bcc07",
   "metadata": {},
   "outputs": [],
   "source": [
    "from llama_index.core import VectorStoreIndex, StorageContext\n",
    "from llama_index.vector_stores.pinecone import PineconeVectorStore"
   ]
  },
  {
   "cell_type": "code",
   "execution_count": null,
   "id": "9ae59590",
   "metadata": {},
   "outputs": [],
   "source": [
    "from llama_index.core.schema import TextNode\n",
    "\n",
    "nodes = [\n",
    "    TextNode(\n",
    "        text=\"The Shawshank Redemption\",\n",
    "        metadata={\n",
    "            \"author\": \"Stephen King\",\n",
    "            \"theme\": \"Friendship\",\n",
    "            \"year\": 1994,\n",
    "        },\n",
    "    ),\n",
    "    TextNode(\n",
    "        text=\"The Godfather\",\n",
    "        metadata={\n",
    "            \"director\": \"Francis Ford Coppola\",\n",
    "            \"theme\": \"Mafia\",\n",
    "            \"year\": 1972,\n",
    "        },\n",
    "    ),\n",
    "    TextNode(\n",
    "        text=\"Inception\",\n",
    "        metadata={\n",
    "            \"director\": \"Christopher Nolan\",\n",
    "            \"theme\": \"Fiction\",\n",
    "            \"year\": 2010,\n",
    "        },\n",
    "    ),\n",
    "    TextNode(\n",
    "        text=\"To Kill a Mockingbird\",\n",
    "        metadata={\n",
    "            \"author\": \"Harper Lee\",\n",
    "            \"theme\": \"Fiction\",\n",
    "            \"year\": 1960,\n",
    "        },\n",
    "    ),\n",
    "    TextNode(\n",
    "        text=\"1984\",\n",
    "        metadata={\n",
    "            \"author\": \"George Orwell\",\n",
    "            \"theme\": \"Totalitarianism\",\n",
    "            \"year\": 1949,\n",
    "        },\n",
    "    ),\n",
    "    TextNode(\n",
    "        text=\"The Great Gatsby\",\n",
    "        metadata={\n",
    "            \"author\": \"F. Scott Fitzgerald\",\n",
    "            \"theme\": \"The American Dream\",\n",
    "            \"year\": 1925,\n",
    "        },\n",
    "    ),\n",
    "    TextNode(\n",
    "        text=\"Harry Potter and the Sorcerer's Stone\",\n",
    "        metadata={\n",
    "            \"author\": \"J.K. Rowling\",\n",
    "            \"theme\": \"Fiction\",\n",
    "            \"year\": 1997,\n",
    "        },\n",
    "    ),\n",
    "]"
   ]
  },
  {
   "cell_type": "code",
   "execution_count": null,
   "id": "ee6eeecb-d54f-4a71-b5fe-0cda8a5c3e10",
   "metadata": {},
   "outputs": [],
   "source": [
    "vector_store = PineconeVectorStore(\n",
    "    pinecone_index=pinecone_index,\n",
    "    namespace=\"test\",\n",
    ")\n",
    "storage_context = StorageContext.from_defaults(vector_store=vector_store)"
   ]
  },
  {
   "cell_type": "code",
   "execution_count": null,
   "id": "cad08884",
   "metadata": {},
   "outputs": [
    {
     "data": {
      "application/vnd.jupyter.widget-view+json": {
       "model_id": "baa557a65efa45c484ee050ffde1ad0f",
       "version_major": 2,
       "version_minor": 0
      },
      "text/plain": [
       "Upserted vectors:   0%|          | 0/7 [00:00<?, ?it/s]"
      ]
     },
     "metadata": {},
     "output_type": "display_data"
    }
   ],
   "source": [
    "index = VectorStoreIndex(nodes, storage_context=storage_context)"
   ]
  },
  {
   "cell_type": "markdown",
   "id": "ee4e3c36-eed0-4cd1-953f-116f6e33b123",
   "metadata": {},
   "source": [
    "### 1.b Define Autoretriever, Run Some Sample Queries"
   ]
  },
  {
   "cell_type": "markdown",
   "id": "c388e1fd-e897-42b5-ba64-5e6dea874668",
   "metadata": {},
   "source": [
    "#### Setup the `VectorIndexAutoRetriever`\n",
    "\n",
    "One of the inputs is a `schema` describing what content the vector store collection contains. This is similar to a table schema describing a table in the SQL database. This schema information is then injected into the prompt, which is passed to the LLM to infer what the full query should be (including metadata filters)."
   ]
  },
  {
   "cell_type": "code",
   "execution_count": null,
   "id": "1a57e62f",
   "metadata": {},
   "outputs": [],
   "source": [
    "from llama_index.core.retrievers import VectorIndexAutoRetriever\n",
    "from llama_index.core.vector_stores import MetadataInfo, VectorStoreInfo\n",
    "\n",
    "\n",
    "vector_store_info = VectorStoreInfo(\n",
    "    content_info=\"famous books and movies\",\n",
    "    metadata_info=[\n",
    "        MetadataInfo(\n",
    "            name=\"director\",\n",
    "            type=\"str\",\n",
    "            description=(\"Name of the director\"),\n",
    "        ),\n",
    "        MetadataInfo(\n",
    "            name=\"theme\",\n",
    "            type=\"str\",\n",
    "            description=(\"Theme of the book/movie\"),\n",
    "        ),\n",
    "        MetadataInfo(\n",
    "            name=\"year\",\n",
    "            type=\"int\",\n",
    "            description=(\"Year of the book/movie\"),\n",
    "        ),\n",
    "    ],\n",
    ")\n",
    "retriever = VectorIndexAutoRetriever(\n",
    "    index,\n",
    "    vector_store_info=vector_store_info,\n",
    "    empty_query_top_k=10,\n",
    "    # this is a hack to allow for blank queries in pinecone\n",
    "    default_empty_query_vector=[0] * 1536,\n",
    "    verbose=True,\n",
    ")"
   ]
  },
  {
   "cell_type": "markdown",
   "id": "827d73c3-51fd-4191-84f9-14dcaf35a287",
   "metadata": {},
   "source": [
    "#### Let's run some queries\n",
    "\n",
    "Let's run some sample queries that make use of the structured information."
   ]
  },
  {
   "cell_type": "code",
   "execution_count": null,
   "id": "e8a0453a-fbc4-446c-879f-340040247f76",
   "metadata": {},
   "outputs": [
    {
     "name": "stdout",
     "output_type": "stream",
     "text": [
      "Using query str: \n",
      "Using filters: [('year', '>', 2000)]\n"
     ]
    }
   ],
   "source": [
    "nodes = retriever.retrieve(\n",
    "    \"Tell me about some books/movies after the year 2000\"\n",
    ")"
   ]
  },
  {
   "cell_type": "code",
   "execution_count": null,
   "id": "eaa3b724-e7a3-464a-962e-8c2c8e6e2e81",
   "metadata": {},
   "outputs": [
    {
     "name": "stdout",
     "output_type": "stream",
     "text": [
      "Inception\n",
      "{'director': 'Christopher Nolan', 'theme': 'Fiction', 'year': 2010}\n"
     ]
    }
   ],
   "source": [
    "for node in nodes:\n",
    "    print(node.text)\n",
    "    print(node.metadata)"
   ]
  },
  {
   "cell_type": "code",
   "execution_count": null,
   "id": "3a1a9287",
   "metadata": {},
   "outputs": [
    {
     "name": "stdout",
     "output_type": "stream",
     "text": [
      "Using query str: Fiction\n",
      "Using filters: [('theme', '==', 'Fiction')]\n"
     ]
    }
   ],
   "source": [
    "nodes = retriever.retrieve(\"Tell me about some books that are Fiction\")"
   ]
  },
  {
   "cell_type": "code",
   "execution_count": null,
   "id": "1222e259-3146-4c79-9491-fe8453f0cf40",
   "metadata": {},
   "outputs": [
    {
     "name": "stdout",
     "output_type": "stream",
     "text": [
      "Inception\n",
      "{'director': 'Christopher Nolan', 'theme': 'Fiction', 'year': 2010}\n",
      "To Kill a Mockingbird\n",
      "{'author': 'Harper Lee', 'theme': 'Fiction', 'year': 1960}\n"
     ]
    }
   ],
   "source": [
    "for node in nodes:\n",
    "    print(node.text)\n",
    "    print(node.metadata)"
   ]
  },
  {
   "cell_type": "markdown",
   "id": "1a1ec4bb-8b20-476f-a21c-6d895fbe7ef9",
   "metadata": {},
   "source": [
    "#### Pass in Additional Metadata Filters\n",
    "\n",
    "If you have additional metadata filters you want to pass in that aren't autoinferred, do the following."
   ]
  },
  {
   "cell_type": "code",
   "execution_count": null,
   "id": "0761b152-f91e-4233-b47e-f9564cb14eaf",
   "metadata": {},
   "outputs": [],
   "source": [
    "from llama_index.core.vector_stores import MetadataFilters\n",
    "\n",
    "filter_dicts = [{\"key\": \"year\", \"operator\": \"==\", \"value\": 1997}]\n",
    "filters = MetadataFilters.from_dicts(filter_dicts)\n",
    "retriever2 = VectorIndexAutoRetriever(\n",
    "    index,\n",
    "    vector_store_info=vector_store_info,\n",
    "    empty_query_top_k=10,\n",
    "    # this is a hack to allow for blank queries in pinecone\n",
    "    default_empty_query_vector=[0] * 1536,\n",
    "    extra_filters=filters,\n",
    ")"
   ]
  },
  {
   "cell_type": "code",
   "execution_count": null,
   "id": "34a35a85-97fa-45bb-87a5-aee5c1b134ef",
   "metadata": {},
   "outputs": [
    {
     "name": "stdout",
     "output_type": "stream",
     "text": [
      "Harry Potter and the Sorcerer's Stone\n",
      "{'author': 'J.K. Rowling', 'theme': 'Fiction', 'year': 1997}\n"
     ]
    }
   ],
   "source": [
    "nodes = retriever2.retrieve(\"Tell me about some books that are Fiction\")\n",
    "for node in nodes:\n",
    "    print(node.text)\n",
    "    print(node.metadata)"
   ]
  },
  {
   "cell_type": "markdown",
   "id": "414f3907-180c-4bf1-b414-a34bc552708e",
   "metadata": {},
   "source": [
    "#### Example of a failing Query\n",
    "\n",
    "Note that no results are retrieved! We'll fix this later on."
   ]
  },
  {
   "cell_type": "code",
   "execution_count": null,
   "id": "d0f772b3-b455-4afe-8312-8b16fd989fc0",
   "metadata": {},
   "outputs": [
    {
     "name": "stdout",
     "output_type": "stream",
     "text": [
      "Using query str: books\n",
      "Using filters: [('theme', '==', 'mafia')]\n"
     ]
    }
   ],
   "source": [
    "nodes = retriever.retrieve(\"Tell me about some books that are mafia-themed\")"
   ]
  },
  {
   "cell_type": "code",
   "execution_count": null,
   "id": "13877106-8f8a-43f9-a624-789a2c1be4a6",
   "metadata": {},
   "outputs": [],
   "source": [
    "for node in nodes:\n",
    "    print(node.text)\n",
    "    print(node.metadata)"
   ]
  },
  {
   "cell_type": "markdown",
   "id": "75f00668-0316-468b-a57c-2d999d319df8",
   "metadata": {},
   "source": [
    "### Visualize Traces\n",
    "\n",
    "Let's open up Phoenix to take a look at the traces! \n",
    "\n",
    "<img src=\"https://drive.google.com/uc?export=view&id=1PCEwIdv7GcInk3i6ebd2WWjTp9ducG5F\"/>\n",
    "\n",
    "Let's take a look at the auto-retrieval prompt. We see that the auto-retrieval prompt makes use of two few-shot examples."
   ]
  },
  {
   "cell_type": "markdown",
   "id": "9ab0eae8-6d55-4c6d-acbd-32879b8f7edc",
   "metadata": {},
   "source": [
    "## Part 2: Extending Auto-Retrieval (with Dynamic Metadata Retrieval)\n",
    "\n",
    "We now extend auto-retrieval by customizing the prompt. In the first part, we explicitly add some rules. \n",
    "\n",
    "In the second part we implement **dynamic metadata retrieval**, which will do a first-stage retrieval pass of fetching relevant metadata from the vector db, and insert that as few-shot examples to the auto-retrieval prompt. (Of course, the second stage retrieval pass retrieves the actual items from the vector db)."
   ]
  },
  {
   "cell_type": "markdown",
   "id": "ed8718ff-b3fa-4430-af69-0a0f31e38a09",
   "metadata": {},
   "source": [
    "### 2.a Improve the Auto-retrieval Prompt\n",
    "\n",
    "Our auto-retrieval prompt works, but it can be improved in various ways. Some examples include the fact that it includes 2 hardcoded few-shot examples (how can you include your own?), and also the fact that the auto-retrieval doesn't \"always\" infer the right metadata filters.\n",
    "\n",
    "For instance, all the `theme` fields are capitalized. How do we tell the LLM that, so it doesn't erroneously infer a \"theme\" that's in lower-case? \n",
    "\n",
    "Let's take a stab at modifying the prompt! "
   ]
  },
  {
   "cell_type": "code",
   "execution_count": null,
   "id": "fc818138-c1f4-401b-95bb-680db43f8508",
   "metadata": {},
   "outputs": [],
   "source": [
    "from llama_index.core.prompts import display_prompt_dict\n",
    "from llama_index.core import PromptTemplate"
   ]
  },
  {
   "cell_type": "code",
   "execution_count": null,
   "id": "87445682-4330-4eee-acff-c06b20781b2a",
   "metadata": {},
   "outputs": [],
   "source": [
    "prompts_dict = retriever.get_prompts()"
   ]
  },
  {
   "cell_type": "code",
   "execution_count": null,
   "id": "80ab823b-f6a1-4071-b57c-7357c62709c3",
   "metadata": {},
   "outputs": [],
   "source": [
    "display_prompt_dict(prompts_dict)"
   ]
  },
  {
   "cell_type": "code",
   "execution_count": null,
   "id": "27d97d40-b953-4b5e-83c1-9f06dc069bda",
   "metadata": {},
   "outputs": [
    {
     "data": {
      "text/plain": [
       "['schema_str', 'info_str', 'query_str']"
      ]
     },
     "execution_count": null,
     "metadata": {},
     "output_type": "execute_result"
    }
   ],
   "source": [
    "# look at required template variables.\n",
    "prompts_dict[\"prompt\"].template_vars"
   ]
  },
  {
   "cell_type": "markdown",
   "id": "0f4cadea-337a-498e-bb85-fac0efc95ad8",
   "metadata": {},
   "source": [
    "#### Customize the Prompt\n",
    "\n",
    "Let's customize the prompt a little bit. We do the following:\n",
    "- Take out the first few-shot example to save tokens\n",
    "- Add a message to always capitalize a letter if inferring \"theme\".\n",
    "\n",
    "Note that the prompt template expects `schema_str`, `info_str`, and `query_str` to be defined."
   ]
  },
  {
   "cell_type": "code",
   "execution_count": null,
   "id": "7a1bfd0c-7bba-4a78-b273-bde378a7b8e4",
   "metadata": {},
   "outputs": [],
   "source": [
    "# write prompt template, and modify it.\n",
    "\n",
    "prompt_tmpl_str = \"\"\"\\\n",
    "Your goal is to structure the user's query to match the request schema provided below.\n",
    "\n",
    "<< Structured Request Schema >>\n",
    "When responding use a markdown code snippet with a JSON object formatted in the following schema:\n",
    "\n",
    "{schema_str}\n",
    "\n",
    "The query string should contain only text that is expected to match the contents of documents. Any conditions in the filter should not be mentioned in the query as well.\n",
    "\n",
    "Make sure that filters only refer to attributes that exist in the data source.\n",
    "Make sure that filters take into account the descriptions of attributes.\n",
    "Make sure that filters are only used as needed. If there are no filters that should be applied return [] for the filter value.\n",
    "If the user's query explicitly mentions number of documents to retrieve, set top_k to that number, otherwise do not set top_k.\n",
    "Do NOT EVER infer a null value for a filter. This will break the downstream program. Instead, don't include the filter.\n",
    "\n",
    "<< Example 1. >>\n",
    "Data Source:\n",
    "```json\n",
    "{{\n",
    "    \"metadata_info\": [\n",
    "        {{\n",
    "            \"name\": \"author\",\n",
    "            \"type\": \"str\",\n",
    "            \"description\": \"Author name\"\n",
    "        }},\n",
    "        {{\n",
    "            \"name\": \"book_title\",\n",
    "            \"type\": \"str\",\n",
    "            \"description\": \"Book title\"\n",
    "        }},\n",
    "        {{\n",
    "            \"name\": \"year\",\n",
    "            \"type\": \"int\",\n",
    "            \"description\": \"Year Published\"\n",
    "        }},\n",
    "        {{\n",
    "            \"name\": \"pages\",\n",
    "            \"type\": \"int\",\n",
    "            \"description\": \"Number of pages\"\n",
    "        }},\n",
    "        {{\n",
    "            \"name\": \"summary\",\n",
    "            \"type\": \"str\",\n",
    "            \"description\": \"A short summary of the book\"\n",
    "        }}\n",
    "    ],\n",
    "    \"content_info\": \"Classic literature\"\n",
    "}}\n",
    "```\n",
    "\n",
    "User Query:\n",
    "What are some books by Jane Austen published after 1813 that explore the theme of marriage for social standing?\n",
    "\n",
    "Additional Instructions:\n",
    "None\n",
    "\n",
    "Structured Request:\n",
    "```json\n",
    "{{\"query\": \"Books related to theme of marriage for social standing\", \"filters\": [{{\"key\": \"year\", \"value\": \"1813\", \"operator\": \">\"}}, {{\"key\": \"author\", \"value\": \"Jane Austen\", \"operator\": \"==\"}}], \"top_k\": null}}\n",
    "\n",
    "```\n",
    "\n",
    "<< Example 2. >>\n",
    "Data Source:\n",
    "```json\n",
    "{info_str}\n",
    "```\n",
    "\n",
    "User Query:\n",
    "{query_str}\n",
    "\n",
    "Additional Instructions:\n",
    "{additional_instructions}\n",
    "\n",
    "Structured Request:\n",
    "\"\"\""
   ]
  },
  {
   "cell_type": "code",
   "execution_count": null,
   "id": "733257c5-5791-42d1-9745-a795a360a989",
   "metadata": {},
   "outputs": [],
   "source": [
    "prompt_tmpl = PromptTemplate(prompt_tmpl_str)"
   ]
  },
  {
   "cell_type": "markdown",
   "id": "a47da253-9220-4d12-acf7-964bf183fa8c",
   "metadata": {},
   "source": [
    "You'll notice we added an `additional_instructions` template variable. This allows us to insert vector collection-specific instructions. \n",
    "\n",
    "We'll use `partial_format` to add the instruction."
   ]
  },
  {
   "cell_type": "code",
   "execution_count": null,
   "id": "14b84e65-44d7-42a0-9fcb-fbd7a2319cbb",
   "metadata": {},
   "outputs": [],
   "source": [
    "add_instrs = \"\"\"\\\n",
    "If one of the filters is 'theme', please make sure that the first letter of the inferred value is capitalized. Only words that are capitalized are valid values for \"theme\". \\\n",
    "\"\"\"\n",
    "prompt_tmpl = prompt_tmpl.partial_format(additional_instructions=add_instrs)"
   ]
  },
  {
   "cell_type": "code",
   "execution_count": null,
   "id": "b4d5f60d-d515-480b-8551-1ed2bc4da67b",
   "metadata": {},
   "outputs": [],
   "source": [
    "retriever.update_prompts({\"prompt\": prompt_tmpl})"
   ]
  },
  {
   "cell_type": "markdown",
   "id": "28e14b7a-3b63-41f3-8e26-47eb185b63c9",
   "metadata": {},
   "source": [
    "#### Re-run some queries\n",
    "\n",
    "Now let's try rerunning some queries, and we'll see that the value is auto-inferred."
   ]
  },
  {
   "cell_type": "code",
   "execution_count": null,
   "id": "32c2f01e-0df2-4196-8875-8859283f3391",
   "metadata": {},
   "outputs": [],
   "source": [
    "nodes = retriever.retrieve(\n",
    "    \"Tell me about some books that are friendship-themed\"\n",
    ")"
   ]
  },
  {
   "cell_type": "code",
   "execution_count": null,
   "id": "600bfdfb-8690-4a14-9c78-672377bee292",
   "metadata": {},
   "outputs": [],
   "source": [
    "for node in nodes:\n",
    "    print(node.text)\n",
    "    print(node.metadata)"
   ]
  },
  {
   "cell_type": "markdown",
   "id": "a9ef0f9f-ba3f-420c-b22f-d9ef7b53c160",
   "metadata": {},
   "source": [
    "### 2.b Implement Dynamic Metadata Retrieval"
   ]
  },
  {
   "cell_type": "markdown",
   "id": "77e00cd2-58a7-4373-ad0e-14b1eb48b43f",
   "metadata": {},
   "source": [
    "An option besides hardcoding rules in the prompt is to retrieve **relevant few-shot examples of metadata**, to help the LLM better infer the correct metadata filters. \n",
    "\n",
    "This will better prevent the LLM from making mistakes when inferring \"where\" clauses, especially around aspects like spelling / correct formatting of the value.\n",
    "\n",
    "We can do this via vector retrieval. The existing vector db collection stores the raw text + metadata; we could query this collection directly, or separately only index the metadata and retrieve from that. In this section we choose to do the former but in practice you may want to do the latter."
   ]
  },
  {
   "cell_type": "code",
   "execution_count": null,
   "id": "bdb55b00-a606-44ec-9365-cd99b35cb828",
   "metadata": {},
   "outputs": [],
   "source": [
    "# define retriever that fetches the top 2 examples.\n",
    "metadata_retriever = index.as_retriever(similarity_top_k=2)"
   ]
  },
  {
   "cell_type": "markdown",
   "id": "e837047b-defb-4365-98d2-22f35de1a69a",
   "metadata": {},
   "source": [
    "We use the same `prompt_tmpl_str` defined in the previous section."
   ]
  },
  {
   "cell_type": "code",
   "execution_count": null,
   "id": "5d9cc3d5-1dc6-43dc-940e-188c8e53856b",
   "metadata": {},
   "outputs": [],
   "source": [
    "from typing import List, Any\n",
    "\n",
    "\n",
    "def format_additional_instrs(**kwargs: Any) -> str:\n",
    "    \"\"\"Format examples into a string.\"\"\"\n",
    "\n",
    "    nodes = metadata_retriever.retrieve(kwargs[\"query_str\"])\n",
    "    context_str = (\n",
    "        \"Here is the metadata of relevant entries from the database collection. \"\n",
    "        \"This should help you infer the right filters: \\n\"\n",
    "    )\n",
    "    for node in nodes:\n",
    "        context_str += str(node.node.metadata) + \"\\n\"\n",
    "    return context_str\n",
    "\n",
    "\n",
    "ext_prompt_tmpl = PromptTemplate(\n",
    "    prompt_tmpl_str,\n",
    "    function_mappings={\"additional_instructions\": format_additional_instrs},\n",
    ")"
   ]
  },
  {
   "cell_type": "code",
   "execution_count": null,
   "id": "1d153643-d8fd-4058-bac2-7d6eddb01468",
   "metadata": {},
   "outputs": [],
   "source": [
    "retriever.update_prompts({\"prompt\": ext_prompt_tmpl})"
   ]
  },
  {
   "cell_type": "markdown",
   "id": "ee5e81ef-583f-43bf-8fa3-beadce02b298",
   "metadata": {},
   "source": [
    "#### Re-run some queries\n",
    "\n",
    "Now let's try rerunning some queries, and we'll see that the value is auto-inferred."
   ]
  },
  {
   "cell_type": "code",
   "execution_count": null,
   "id": "52a104a3-1854-4193-aca8-d1287060d41a",
   "metadata": {},
   "outputs": [
    {
     "name": "stdout",
     "output_type": "stream",
     "text": [
      "Using query str: books\n",
      "Using filters: [('theme', '==', 'Mafia')]\n",
      "The Godfather\n",
      "{'director': 'Francis Ford Coppola', 'theme': 'Mafia', 'year': 1972}\n"
     ]
    }
   ],
   "source": [
    "nodes = retriever.retrieve(\"Tell me about some books that are mafia-themed\")\n",
    "for node in nodes:\n",
    "    print(node.text)\n",
    "    print(node.metadata)"
   ]
  },
  {
   "cell_type": "code",
   "execution_count": null,
   "id": "18ce4501-711c-4047-b9d6-c58a48d55a86",
   "metadata": {},
   "outputs": [
    {
     "name": "stdout",
     "output_type": "stream",
     "text": [
      "Using query str: Books authored by Harper Lee\n",
      "Using filters: [('author', '==', 'Harper Lee')]\n",
      "To Kill a Mockingbird\n",
      "{'author': 'Harper Lee', 'theme': 'Fiction', 'year': 1960}\n"
     ]
    }
   ],
   "source": [
    "nodes = retriever.retrieve(\"Tell me some books authored by HARPER LEE\")\n",
    "for node in nodes:\n",
    "    print(node.text)\n",
    "    print(node.metadata)"
   ]
  }
 ],
 "metadata": {
  "kernelspec": {
   "display_name": "llama_index_v2",
   "language": "python",
   "name": "llama_index_v2"
  },
  "language_info": {
   "codemirror_mode": {
    "name": "ipython",
    "version": 3
   },
   "file_extension": ".py",
   "mimetype": "text/x-python",
   "name": "python",
   "nbconvert_exporter": "python",
   "pygments_lexer": "ipython3"
  }
 },
 "nbformat": 4,
 "nbformat_minor": 5
}
