{
 "cells": [
  {
   "cell_type": "markdown",
   "id": "4b790780",
   "metadata": {},
   "source": [
    "# Azure Code Interpreter Tool Spec\n",
    "\n",
    "This example walks through configuring and using the Azure Code Interpreter tool spec (powered by Azure Dynamic Sessions)."
   ]
  },
  {
   "cell_type": "code",
   "execution_count": null,
   "id": "754725e6",
   "metadata": {},
   "outputs": [],
   "source": [
    "%pip install llama-index\n",
    "%pip install llama-index-llms-azure\n",
    "%pip install llama-index-tools-azure-code-interpreter"
   ]
  },
  {
   "cell_type": "code",
   "execution_count": null,
   "id": "34e66a0e-e41d-48e0-8a1f-b82b5ea18ad1",
   "metadata": {},
   "outputs": [],
   "source": [
    "# Setup Azure OpenAI Agent\n",
    "from llama_index.llms.azure_openai import AzureOpenAI\n",
    "\n",
    "api_key = \"your-azure-openai-api-key\"\n",
    "azure_endpoint = \"your-azure-openai-endpoint\"\n",
    "api_version = \"azure-api-version\""
   ]
  },
  {
   "cell_type": "code",
   "execution_count": null,
   "id": "eb11c1a6-1540-4538-8d1a-bb8b265fdb64",
   "metadata": {},
   "outputs": [],
   "source": [
    "# Import the AzureCodeInterpreterToolSpec from llama_index\n",
    "from llama_index.tools.azure_code_interpreter import (\n",
    "    AzureCodeInterpreterToolSpec,\n",
    ")\n",
    "\n",
    "# Import the ReActAgent\n",
    "from llama_index.core.agent import ReActAgent\n",
    "\n",
    "# Create the AzureCodeInterpreterToolSpec with the pool_management_endpoint set to your session management endpoint\n",
    "# It is optional to set the local_save_path, but it is recommended to set it to a path where the tool can automatically save any intermediate data generated from Python code's output.\n",
    "azure_code_interpreter_spec = AzureCodeInterpreterToolSpec(\n",
    "    pool_management_endpoint=\"your-pool-management-endpoint\",\n",
    "    local_save_path=\"local-file-path-to-save-intermediate-data\",\n",
    ")\n",
    "\n",
    "llm = AzureOpenAI(\n",
    "    model=\"gpt-35-turbo\",\n",
    "    deployment_name=\"gpt-35-deploy\",\n",
    "    api_key=api_key,\n",
    "    azure_endpoint=azure_endpoint,\n",
    "    api_version=api_version,\n",
    ")\n",
    "\n",
    "# Create the ReActAgent and inject the tools defined in the AzureDynamicSessionsToolSpec\n",
    "agent = ReActAgent.from_tools(\n",
    "    azure_code_interpreter_spec.to_tool_list(), llm=llm, verbose=True\n",
    ")"
   ]
  },
  {
   "cell_type": "code",
   "execution_count": null,
   "id": "212a0547",
   "metadata": {},
   "outputs": [
    {
     "name": "stdout",
     "output_type": "stream",
     "text": [
      "{'$id': '1', 'status': 'Success', 'stdout': '', 'stderr': '', 'result': 2, 'executionTimeInMilliseconds': 11}\n"
     ]
    }
   ],
   "source": [
    "# You can use the code interpreter directly without the LLM agent.\n",
    "print(azure_code_interpreter_spec.code_interpreter(\"1+1\"))"
   ]
  },
  {
   "cell_type": "code",
   "execution_count": null,
   "id": "5efb0e6f",
   "metadata": {},
   "outputs": [
    {
     "name": "stdout",
     "output_type": "stream",
     "text": [
      "\u001b[1;3;38;5;200mThought: To provide the current time in Seattle, I need to calculate it based on the current UTC time and adjust for Seattle's time zone, which is Pacific Daylight Time (PDT) during daylight saving time and Pacific Standard Time (PST) outside of daylight saving time. PDT is UTC-7, and PST is UTC-8. I can use the code interpreter tool to get the current UTC time and adjust it accordingly.\n",
      "Action: code_interpreter\n",
      "Action Input: {'python_code': \"from datetime import datetime, timedelta; import pytz; utc_now = datetime.now(pytz.utc); seattle_time = utc_now.astimezone(pytz.timezone('America/Los_Angeles')); seattle_time.strftime('%Y-%m-%d %H:%M:%S %Z%z')\"}\n",
      "\u001b[0m\u001b[1;3;34mObservation: {'$id': '1', 'status': 'Success', 'stdout': '', 'stderr': '', 'result': '2024-05-04 13:54:09 PDT-0700', 'executionTimeInMilliseconds': 120}\n",
      "\u001b[0m\u001b[1;3;38;5;200mThought: I can answer without using any more tools. I'll use the user's language to answer.\n",
      "Answer: The current time in Seattle is 2024-05-04 13:54:09 PDT.\n",
      "\u001b[0mThe current time in Seattle is 2024-05-04 13:54:09 PDT.\n"
     ]
    }
   ],
   "source": [
    "# Test the agent with simple answers that could leverage Python codes\n",
    "print(agent.chat(\"Tell me the current time in Seattle.\"))"
   ]
  },
  {
   "cell_type": "code",
   "execution_count": null,
   "id": "83345ac5",
   "metadata": {},
   "outputs": [
    {
     "name": "stdout",
     "output_type": "stream",
     "text": [
      "\u001b[1;3;38;5;200mThought: I need to use the list_files tool to get the metadata for the uploaded file, and then use python to read the file and find the highest temperature.\n",
      "Action: list_files\n",
      "Action Input: {}\n",
      "\u001b[0m\u001b[1;3;34mObservation: [RemoteFileMetadata(filename='TemperatureData.csv', size_in_bytes=514, file_full_path='/mnt/data/TemperatureData.csv')]\n",
      "\u001b[0m\u001b[1;3;38;5;200mThought: I have the metadata for the file. I need to use python to read the file and find the highest temperature.\n",
      "Action: code_interpreter\n",
      "Action Input: {'python_code': \"import csv\\n\\nwith open('/mnt/data/TemperatureData.csv', 'r') as f:\\n    reader = csv.reader(f)\\n    next(reader)\\n    highest_temp = float('-inf')\\n    for row in reader:\\n        temp = float(row[1])\\n        if temp > highest_temp:\\n            highest_temp = temp\\nprint(highest_temp)\"}\n",
      "\u001b[0m\u001b[1;3;34mObservation: {'$id': '1', 'status': 'Success', 'stdout': '12.4\\n', 'stderr': '', 'result': '', 'executionTimeInMilliseconds': 26}\n",
      "\u001b[0m\u001b[1;3;38;5;200mThought: I have the highest temperature. I can answer the question.\n",
      "Answer: The highest temperature in the file is 12.4 degrees.\n",
      "\u001b[0mThe highest temperature in the file is 12.4 degrees.\n"
     ]
    }
   ],
   "source": [
    "# Upload a sample temperature file of a day in Redmond Washington and ask a question about it\n",
    "res = azure_code_interpreter_spec.upload_file(\n",
    "    local_file_path=\"./TemperatureData.csv\"\n",
    ")\n",
    "if len(res) != 0:\n",
    "    print(\n",
    "        agent.chat(\"Find the highest temperature in the file that I uploaded.\")\n",
    "    )"
   ]
  },
  {
   "cell_type": "code",
   "execution_count": null,
   "id": "28b64d8f",
   "metadata": {},
   "outputs": [
    {
     "name": "stdout",
     "output_type": "stream",
     "text": [
      "\u001b[1;3;38;5;200mThought: To proceed, I need to list the files in the session pool to identify the uploaded file containing the temperature data.\n",
      "Action: list_files\n",
      "Action Input: {}\n",
      "\u001b[0m\u001b[1;3;34mObservation: [RemoteFileMetadata(filename='TemperatureData.csv', size_in_bytes=514, file_full_path='/mnt/data/TemperatureData.csv')]\n",
      "\u001b[0m\u001b[1;3;38;5;200mThought: The file containing the temperature data is identified as 'TemperatureData.csv'. I need to read this file to extract the temperature data for plotting the temperature curve.\n",
      "Action: code_interpreter\n",
      "Action Input: {'python_code': \"import pandas as pd\\n\\ndf = pd.read_csv('/mnt/data/TemperatureData.csv')\\nprint(df.head())\"}\n",
      "\u001b[0m\u001b[1;3;34mObservation: {'$id': '1', 'status': 'Success', 'stdout': '             Time  Temperature\\n0  4/11/2024 0:00          6.5\\n1  4/11/2024 1:00          5.2\\n2  4/11/2024 2:00          4.8\\n3  4/11/2024 3:00          5.1\\n4  4/11/2024 4:00          5.7\\n', 'stderr': '', 'result': '', 'executionTimeInMilliseconds': 2103}\n",
      "\u001b[0m\u001b[1;3;38;5;200mThought: The data has been successfully loaded and previewed, showing columns for Time and Temperature. I will now proceed to plot the temperature curve using this data.\n",
      "Action: code_interpreter\n",
      "Action Input: {'python_code': \"import pandas as pd\\nimport matplotlib.pyplot as plt\\n\\ndf = pd.read_csv('/mnt/data/TemperatureData.csv')\\n\\nplt.figure(figsize=(10, 6))\\nplt.plot(pd.to_datetime(df['Time']), df['Temperature'], marker='o', linestyle='-', color='b')\\nplt.title('Temperature Curve')\\nplt.xlabel('Time')\\nplt.ylabel('Temperature (°C)')\\nplt.xticks(rotation=45)\\nplt.tight_layout()\\nplt.savefig('/mnt/data/TemperatureCurve.png')\\nprint('/mnt/data/TemperatureCurve.png')\"}\n",
      "\u001b[0m\u001b[1;3;34mObservation: {'$id': '1', 'status': 'Success', 'stdout': '/mnt/data/TemperatureCurve.png\\n', 'stderr': '', 'result': {'type': 'image', 'format': 'png', 'saved_to_local_path': True}, 'executionTimeInMilliseconds': 3810}\n",
      "\u001b[0m\u001b[1;3;38;5;200mThought: I can answer without using any more tools. I'll use the user's language to answer.\n",
      "Answer: The temperature curve has been successfully created and saved. You can view and download the image from [here](sandbox:/mnt/data/TemperatureCurve.png).\n",
      "\u001b[0mThe temperature curve has been successfully created and saved. You can view and download the image from [here](sandbox:/mnt/data/TemperatureCurve.png).\n"
     ]
    }
   ],
   "source": [
    "# Ask the LLM to draw a diagram based on the uploaded file.\n",
    "# Because the local_save_path is set, the diagram data will be automatically saved to the local_save_path.\n",
    "print(\n",
    "    agent.chat(\n",
    "        \"Use the temperature data that I uploaded, create a temperature curve.\"\n",
    "    )\n",
    ")"
   ]
  },
  {
   "cell_type": "code",
   "execution_count": null,
   "id": "6d971e55",
   "metadata": {},
   "outputs": [
    {
     "name": "stdout",
     "output_type": "stream",
     "text": [
      "\u001b[1;3;38;5;200mThought: To proceed, I need to first list the files in the session pool to identify the uploaded temperature data file.\n",
      "Action: list_files\n",
      "Action Input: {}\n",
      "\u001b[0m\u001b[1;3;34mObservation: [RemoteFileMetadata(filename='TemperatureCurve.png', size_in_bytes=35512, file_full_path='/mnt/data/TemperatureCurve.png'), RemoteFileMetadata(filename='TemperatureData.csv', size_in_bytes=514, file_full_path='/mnt/data/TemperatureData.csv')]\n",
      "\u001b[0m\u001b[1;3;38;5;200mThought: The temperature data file is identified as 'TemperatureData.csv'. I need to read its contents, rearrange the temperature data in descending order, and then save the changes back to the original CSV file.\n",
      "Action: code_interpreter\n",
      "Action Input: {'python_code': \"import pandas as pd\\n\\ndf = pd.read_csv('/mnt/data/TemperatureData.csv')\\ndf_sorted = df.sort_values(by='Temperature', ascending=False)\\ndf_sorted.to_csv('/mnt/data/TemperatureData.csv', index=False)\\n'filename': 'TemperatureData.csv'\"}\n",
      "\u001b[0m\u001b[1;3;34mObservation: {'$id': '1', 'status': 'Failure', 'stdout': '', 'stderr': \"illegal target for annotation (3407605186.py, line 6)  Cell In[2363], line 6\\n    'filename': 'TemperatureData.csv'\\n    ^\\nSyntaxError: illegal target for annotation\\n\\n\", 'result': None, 'executionTimeInMilliseconds': 9}\n",
      "\u001b[0m\u001b[1;3;38;5;200mThought: There was a syntax error in the Python code due to an incorrect line. I need to correct the code and execute it again to sort the temperature data and save it back to the CSV file.\n",
      "Action: code_interpreter\n",
      "Action Input: {'python_code': \"import pandas as pd\\n\\ndf = pd.read_csv('/mnt/data/TemperatureData.csv')\\ndf_sorted = df.sort_values(by='Temperature', ascending=False)\\ndf_sorted.to_csv('/mnt/data/TemperatureData.csv', index=False)\"}\n",
      "\u001b[0m\u001b[1;3;34mObservation: {'$id': '1', 'status': 'Success', 'stdout': '', 'stderr': '', 'result': '', 'executionTimeInMilliseconds': 91}\n",
      "\u001b[0m\u001b[1;3;38;5;200mThought: I can answer without using any more tools. I'll use the user's language to answer.\n",
      "Answer: The temperature data has been successfully rearranged in descending order and saved back to the original CSV file, 'TemperatureData.csv'.\n",
      "\u001b[0mThe temperature data has been successfully rearranged in descending order and saved back to the original CSV file, 'TemperatureData.csv'.\n"
     ]
    }
   ],
   "source": [
    "# Ask the LLM to perform modifications on the sample temperature file\n",
    "print(\n",
    "    agent.chat(\n",
    "        \"Rearrange the temperature data in a descending order and save it back to the original csv file.\"\n",
    "    )\n",
    ")"
   ]
  },
  {
   "cell_type": "code",
   "execution_count": null,
   "id": "5a918f31",
   "metadata": {},
   "outputs": [],
   "source": [
    "# Download the modified file\n",
    "azure_code_interpreter_spec.download_file_to_local(\n",
    "    remote_file_path=\"TemperatureData.csv\",\n",
    "    local_file_path=\"/.../SortedTemperatureData.csv\",\n",
    ")"
   ]
  },
  {
   "cell_type": "code",
   "execution_count": null,
   "id": "60e7d94f",
   "metadata": {},
   "outputs": [
    {
     "name": "stdout",
     "output_type": "stream",
     "text": [
      "Time,Temperature\n",
      "4/11/2024 0:00,6.5\n",
      "4/11/2024 1:00,5.2\n",
      "4/11/2024 2:00,4.8\n",
      "4/11/2024 3:00,5.1\n",
      "4/11/2024 4:00,5.7\n",
      "4/11/2024 5:00,5.1\n",
      "4/11/2024 6:00,4.5\n",
      "4/11/2024 7:00,5.5\n",
      "4/11/2024 8:00,5.3\n"
     ]
    }
   ],
   "source": [
    "# For comparison, print the first 10 lines of the original file\n",
    "with open(\"/.../TemperatureData.csv\", \"r\") as f:\n",
    "    for i in range(10):\n",
    "        print(f.readline().strip())"
   ]
  },
  {
   "cell_type": "code",
   "execution_count": null,
   "id": "5a381145",
   "metadata": {},
   "outputs": [
    {
     "name": "stdout",
     "output_type": "stream",
     "text": [
      "Time,Temperature\n",
      "4/11/2024 20:00,12.4\n",
      "4/11/2024 19:00,12.3\n",
      "4/11/2024 17:00,12.3\n",
      "4/11/2024 18:00,12.1\n",
      "4/11/2024 16:00,11.7\n",
      "4/11/2024 15:00,11.3\n",
      "4/11/2024 21:00,10.9\n",
      "4/11/2024 22:00,10.0\n",
      "4/11/2024 23:00,9.4\n"
     ]
    }
   ],
   "source": [
    "# For comparison, print the first 10 lines of the sorted file downloaded from session pool\n",
    "with open(\"/.../SortedTemperatureData.csv\", \"r\") as f:\n",
    "    for i in range(10):\n",
    "        print(f.readline().strip())"
   ]
  }
 ],
 "metadata": {
  "kernelspec": {
   "display_name": "Python 3 (ipykernel)",
   "language": "python",
   "name": "python3"
  },
  "language_info": {
   "codemirror_mode": {
    "name": "ipython",
    "version": 3
   },
   "file_extension": ".py",
   "mimetype": "text/x-python",
   "name": "python",
   "nbconvert_exporter": "python",
   "pygments_lexer": "ipython3"
  }
 },
 "nbformat": 4,
 "nbformat_minor": 5
}
