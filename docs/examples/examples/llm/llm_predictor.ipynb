{
 "cells": [
  {
   "cell_type": "markdown",
   "id": "f8612a38",
   "metadata": {},
   "source": [
    "<a href=\"https://colab.research.google.com/github/run-llama/llama_index/blob/main/docs/docs/examples/llm/llm_predictor.ipynb\" target=\"_parent\"><img src=\"https://colab.research.google.com/assets/colab-badge.svg\" alt=\"Open In Colab\"/></a>"
   ]
  },
  {
   "cell_type": "markdown",
   "id": "ca9e1cd2-a0df-4d5c-b158-40a30ffc30e9",
   "metadata": {},
   "source": [
    "# LLM Predictor"
   ]
  },
  {
   "cell_type": "markdown",
   "id": "10692155",
   "metadata": {},
   "source": [
    "If you're opening this Notebook on colab, you will probably need to install LlamaIndex 🦙."
   ]
  },
  {
   "cell_type": "code",
   "execution_count": null,
   "id": "9b5dbf8f",
   "metadata": {},
   "outputs": [],
   "source": [
    "%pip install llama-index-llms-openai\n",
    "%pip install llama-index-llms-langchain"
   ]
  },
  {
   "cell_type": "code",
   "execution_count": null,
   "id": "5e707e3a",
   "metadata": {},
   "outputs": [],
   "source": [
    "!pip install llama-index"
   ]
  },
  {
   "cell_type": "markdown",
   "id": "92fae55a-6bf9-4d34-b831-6186afb83a62",
   "metadata": {},
   "source": [
    "## LangChain LLM"
   ]
  },
  {
   "cell_type": "code",
   "execution_count": null,
   "id": "0ec45369-c4f3-48af-861c-a2e1d231ad2f",
   "metadata": {},
   "outputs": [],
   "source": [
    "from langchain.chat_models import ChatAnyscale, ChatOpenAI\n",
    "from llama_index.llms.langchain import LangChainLLM\n",
    "from llama_index.core import PromptTemplate"
   ]
  },
  {
   "cell_type": "code",
   "execution_count": null,
   "id": "d9561f78-f918-4f8e-aa3c-c5c774dd9e01",
   "metadata": {},
   "outputs": [],
   "source": [
    "llm = LangChainLLM(ChatOpenAI())"
   ]
  },
  {
   "cell_type": "code",
   "execution_count": null,
   "id": "e52d30f9-2127-4975-9906-02c8a827ba74",
   "metadata": {},
   "outputs": [],
   "source": [
    "stream = await llm.astream(PromptTemplate(\"Hi, write a short story\"))"
   ]
  },
  {
   "cell_type": "code",
   "execution_count": null,
   "id": "db714473-e38f-4ed6-adba-4a1f82fd3067",
   "metadata": {},
   "outputs": [
    {
     "name": "stdout",
     "output_type": "stream",
     "text": [
      "Once upon a time, in a small village nestled in the heart of a lush forest, lived a young girl named Lily. Lily was known for her kind heart and gentle spirit. She had a special gift - the ability to communicate with animals.\n",
      "\n",
      "One sunny morning, as Lily was strolling through the forest, she stumbled upon a wounded bird. Its wing was broken, and it looked helpless. Lily's heart filled with empathy, and she carefully picked up the bird, cradling it in her hands.\n",
      "\n",
      "\"I will help you,\" she whispered, her voice filled with determination.\n",
      "\n",
      "Lily hurried back to her cottage, where she gently placed the bird in a cozy nest. She splinted its wing and tended to its wounds. The little bird chirped gratefully, as if it understood Lily's intentions.\n",
      "\n",
      "Days turned into weeks, and Lily diligently cared for the bird, naming it Oliver. Though the wing healed, Oliver was reluctant to leave. He had developed a strong bond with Lily and her peaceful existence.\n",
      "\n",
      "One evening, as Lily and Oliver were sitting by the window, a loud noise startled them. Curious, they ventured outside to investigate. To their surprise, the villagers were in a frenzy, pointing towards the sky.\n",
      "\n",
      "A massive storm cloud was approaching, darkening the once blue canvas. Panic ensued, and everyone rushed to seek shelter. But Lily knew that the animals of the forest were in grave danger. They had no homes to protect them.\n",
      "\n",
      "With Oliver perched on her shoulder, Lily gathered all the animals she could find - squirrels, rabbits, deer, and even a fox. Together, they formed a united front against the storm.\n",
      "\n",
      "Using her special gift, Lily communicated with the animals, guiding them to a safer place - her cottage. The animals huddled together, finding comfort in each other's presence.\n",
      "\n",
      "As the storm raged outside, Lily played soothing melodies on her flute, calming the frightened creatures. The storm grew stronger, but Lily's love and determination were unwavering.\n",
      "\n",
      "Finally, after what seemed like an eternity, the storm subsided. The sun emerged from behind the clouds, casting a warm glow over the forest. The animals, now safe and sound, returned to their natural habitats.\n",
      "\n",
      "Lily watched them disappear into the woods, her heart brimming with joy. She knew that she had made a difference, not only for Oliver but for all the creatures she had saved.\n",
      "\n",
      "From that day forward, Lily became the guardian of the forest, protecting its inhabitants and living in harmony with nature. Her story spread far and wide, inspiring others to cherish the beauty of the natural world and all its creatures.\n",
      "\n",
      "And so, the young girl with the gift of communication and a heart full of compassion continued to nurture the bond between humans and animals, reminding everyone of the magic that exists when kindness prevails."
     ]
    }
   ],
   "source": [
    "async for token in stream:\n",
    "    print(token, end=\"\")"
   ]
  },
  {
   "cell_type": "code",
   "execution_count": null,
   "id": "bd77171c-d62c-437a-87fb-0b66da61530e",
   "metadata": {},
   "outputs": [],
   "source": [
    "## Test with ChatAnyscale\n",
    "llm = LangChainLLM(ChatAnyscale())"
   ]
  },
  {
   "cell_type": "code",
   "execution_count": null,
   "id": "8add97dc-767d-4ce1-9906-1baf25f67e5b",
   "metadata": {},
   "outputs": [
    {
     "name": "stdout",
     "output_type": "stream",
     "text": [
      "Hello! As a helpful and respectful assistant, I'm here to provide accurate and safe information. To answer your question, the team with the most Super Bowl wins is the Pittsburgh Steelers, with six championships. However, it's important to note that the Super Bowl is just one aspect of a team's success and there are many other talented and successful NFL teams as well. Additionally, it's important to recognize that the NFL is a professional sports league and should be respected as such. It's not appropriate to use derogatory language or make harmful or offensive comments. Is there anything else I can help with?"
     ]
    }
   ],
   "source": [
    "stream = llm.stream(\n",
    "    PromptTemplate(\"Hi, Which NFL team have most Super Bowl wins\")\n",
    ")\n",
    "for token in stream:\n",
    "    print(token, end=\"\")"
   ]
  },
  {
   "cell_type": "markdown",
   "id": "57777376-08ef-4aeb-912c-3efdb1451c65",
   "metadata": {},
   "source": [
    "## OpenAI LLM"
   ]
  },
  {
   "cell_type": "code",
   "execution_count": null,
   "id": "80a21a67-f992-401e-a0d9-53d411a4e8ba",
   "metadata": {},
   "outputs": [],
   "source": [
    "from llama_index.llms.openai import OpenAI"
   ]
  },
  {
   "cell_type": "code",
   "execution_count": null,
   "id": "6cb1913e-febf-4c01-b2ad-634c007bd9aa",
   "metadata": {},
   "outputs": [],
   "source": [
    "llm = OpenAI()"
   ]
  },
  {
   "cell_type": "code",
   "execution_count": null,
   "id": "e74b61a8-dff0-49f6-9004-dfe265f3f053",
   "metadata": {},
   "outputs": [],
   "source": [
    "stream = await llm.astream(\"Hi, write a short story\")"
   ]
  },
  {
   "cell_type": "code",
   "execution_count": null,
   "id": "9204e248-8a43-422c-b083-52b119c52642",
   "metadata": {},
   "outputs": [
    {
     "name": "stdout",
     "output_type": "stream",
     "text": [
      "Once upon a time in a small village nestled in the heart of a lush forest, there lived a young girl named Lily. She was known for her kind heart and adventurous spirit. Lily spent most of her days exploring the woods, discovering hidden treasures and befriending the creatures that called the forest their home.\n",
      "\n",
      "One sunny morning, as Lily ventured deeper into the forest, she stumbled upon a peculiar sight. A tiny, injured bird lay on the ground, its wings trembling. Lily's heart filled with compassion, and she carefully picked up the bird, cradling it in her hands. She decided to take it home and nurse it back to health.\n",
      "\n",
      "Days turned into weeks, and the bird, whom Lily named Pip, grew stronger under her care. Pip's once dull feathers regained their vibrant colors, and his wings regained their strength. Lily knew it was time for Pip to return to the wild, where he truly belonged.\n",
      "\n",
      "With a heavy heart, Lily bid farewell to her feathered friend, watching as Pip soared into the sky, his wings carrying him higher and higher. As she stood there, a sense of emptiness washed over her. She missed Pip's cheerful chirping and the companionship they had shared.\n",
      "\n",
      "Determined to fill the void, Lily decided to embark on a new adventure. She set out to explore the forest in search of a new friend. Days turned into weeks, and Lily encountered various animals, but none seemed to be the perfect companion she longed for.\n",
      "\n",
      "One day, as she sat by a babbling brook, feeling disheartened, a rustling sound caught her attention. She turned around to find a small, fluffy creature with bright blue eyes staring back at her. It was a baby fox, lost and scared. Lily's heart melted, and she knew she had found her new friend.\n",
      "\n",
      "She named the fox Finn and took him under her wing, just as she had done with Pip. Together, they explored the forest, climbed trees, and played hide-and-seek. Finn brought joy and laughter back into Lily's life, and she cherished their bond.\n",
      "\n",
      "As the years passed, Lily and Finn grew older, but their friendship remained strong. They became inseparable, exploring the forest and facing its challenges together. Lily learned valuable lessons from the forest and its creatures, and she shared these stories with Finn, who listened intently.\n",
      "\n",
      "One day, as they sat beneath their favorite oak tree, Lily realized how much she had grown since she first found Pip. She had learned the importance of compassion, friendship, and the beauty of nature. The forest had become her sanctuary, and its creatures her family.\n",
      "\n",
      "Lily knew that her adventures would continue, and she would always find new friends along the way. With Finn by her side, she was ready to face any challenge that awaited her. And so, hand in paw, they set off into the forest, ready to create new memories and embark on countless adventures together."
     ]
    }
   ],
   "source": [
    "for token in stream:\n",
    "    print(token, end=\"\")"
   ]
  }
 ],
 "metadata": {
  "kernelspec": {
   "display_name": "Python 3 (ipykernel)",
   "language": "python",
   "name": "python3"
  },
  "language_info": {
   "codemirror_mode": {
    "name": "ipython",
    "version": 3
   },
   "file_extension": ".py",
   "mimetype": "text/x-python",
   "name": "python",
   "nbconvert_exporter": "python",
   "pygments_lexer": "ipython3"
  }
 },
 "nbformat": 4,
 "nbformat_minor": 5
}
