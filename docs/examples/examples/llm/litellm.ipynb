{
 "cells": [
  {
   "cell_type": "markdown",
   "id": "30311f71",
   "metadata": {},
   "source": [
    "<a href=\"https://colab.research.google.com/github/run-llama/llama_index/blob/main/docs/docs/examples/llm/litellm.ipynb\" target=\"_parent\"><img src=\"https://colab.research.google.com/assets/colab-badge.svg\" alt=\"Open In Colab\"/></a>"
   ]
  },
  {
   "attachments": {},
   "cell_type": "markdown",
   "id": "72ed6f61-28a7-4f90-8a45-e3f452f95dbd",
   "metadata": {},
   "source": [
    "# LiteLLM\n",
    "\n",
    "### LiteLLM supports 100+ LLM APIs (Anthropic, Replicate, Huggingface, TogetherAI, Cohere, etc.). [Complete List](https://docs.litellm.ai/docs/providers)"
   ]
  },
  {
   "attachments": {},
   "cell_type": "markdown",
   "id": "b81a3ef6-2ee5-460d-9aa4-f73708774014",
   "metadata": {},
   "source": [
    "#### Call `complete` with a prompt"
   ]
  },
  {
   "cell_type": "markdown",
   "id": "32be6c82",
   "metadata": {},
   "source": [
    "If you're opening this Notebook on colab, you will probably need to install LlamaIndex 🦙."
   ]
  },
  {
   "cell_type": "code",
   "execution_count": null,
   "id": "4ea06532",
   "metadata": {},
   "outputs": [],
   "source": [
    "%pip install llama-index-llms-litellm"
   ]
  },
  {
   "cell_type": "code",
   "execution_count": null,
   "id": "35b8bd4b",
   "metadata": {},
   "outputs": [],
   "source": [
    "!pip install llama-index"
   ]
  },
  {
   "cell_type": "code",
   "execution_count": null,
   "id": "910b50ad-c55e-487e-8808-5905dfaa78b4",
   "metadata": {},
   "outputs": [],
   "source": [
    "import os\n",
    "from llama_index.llms.litellm import LiteLLM\n",
    "from llama_index.core.llms import ChatMessage\n",
    "\n",
    "# set env variable\n",
    "os.environ[\"OPENAI_API_KEY\"] = \"your-api-key\"\n",
    "os.environ[\"COHERE_API_KEY\"] = \"your-api-key\"\n",
    "\n",
    "message = ChatMessage(role=\"user\", content=\"Hey! how's it going?\")\n",
    "\n",
    "# openai call\n",
    "llm = LiteLLM(\"gpt-3.5-turbo\")\n",
    "chat_response = llm.chat([message])\n",
    "\n",
    "# cohere call\n",
    "llm = LiteLLM(\"command-nightly\")\n",
    "chat_response = llm.chat([message])"
   ]
  },
  {
   "cell_type": "code",
   "execution_count": null,
   "id": "5fd3137b-05ce-40a5-bdb0-5ce048f5ca25",
   "metadata": {},
   "outputs": [],
   "source": [
    "from llama_index.core.llms import ChatMessage\n",
    "from llama_index.llms.litellm import LiteLLM\n",
    "\n",
    "messages = [\n",
    "    ChatMessage(\n",
    "        role=\"system\", content=\"You are a pirate with a colorful personality\"\n",
    "    ),\n",
    "    ChatMessage(role=\"user\", content=\"Tell me a story\"),\n",
    "]\n",
    "resp = LiteLLM(\"gpt-3.5-turbo\").chat(messages)"
   ]
  },
  {
   "cell_type": "code",
   "execution_count": null,
   "id": "0d38e262-c98d-4780-aef0-efc00c251da6",
   "metadata": {},
   "outputs": [
    {
     "name": "stdout",
     "output_type": "stream",
     "text": [
      "assistant:  Here is a fun pirate story for you:\n",
      "\n",
      "Yarrr matey! Me name be Captain Redbeard, the most fearsome pirate to sail the seven seas. I be the captain of the good ship Salty Dog, and we be lookin' fer treasure! \n",
      "\n",
      "I lost me leg in a battle with the evil Captain Bluebeard years ago. That scallywag got the better of me that time, but I'll have me revenge! Now I got me a peg leg that I can use to stomp the deck or kick me enemies right in the rear! \n",
      "\n",
      "Me first mate Scurvy Sam be my best friend. We go way back to when we were just lads dreamin' of a pirate's life. He may only have one good eye after losin' the other one to a seagull, but he can still spot treasure from a league away! \n",
      "\n",
      "Today we be sailin' for the fabled Treasure Island, in search of the loot buried long ago by the notorious Captain Flint. Flint was the most ruthless pirate ever to live, but he buried his treasure and no one ever found it. But I have a map, given to me by a dying sailor. I just know it'll lead us right to Flint's trove of rubies, diamonds and mountains of gold! \n",
      "\n",
      "It won't be easy. We may have to fight off Flint's ghost, or deal with tribes of cannibals, or outwit double-crossing thieves. But that's all part of a pirate's life! And when we finally get our hands on that treasure, we'll live like kings. We'll party all night and sleep all day in our fancy pirate cove. \n",
      "\n",
      "So hoist the mainsail me hearties, and let's set sail for adventure! Keep a weather eye on the horizon, mateys. Treasure awaits!\n"
     ]
    }
   ],
   "source": [
    "print(resp)"
   ]
  },
  {
   "attachments": {},
   "cell_type": "markdown",
   "id": "56a55ce6-08e3-4534-9bae-345686308b3e",
   "metadata": {},
   "source": [
    "## Streaming"
   ]
  },
  {
   "attachments": {},
   "cell_type": "markdown",
   "id": "57901d1c-d1d4-442e-bb91-cd8f054ae2fd",
   "metadata": {},
   "source": [
    "Using `stream_complete` endpoint "
   ]
  },
  {
   "cell_type": "code",
   "execution_count": null,
   "id": "cd9e2b22-7e62-4f50-a9af-84453aeda071",
   "metadata": {},
   "outputs": [],
   "source": [
    "from llama_index.llms.litellm import LiteLLM\n",
    "\n",
    "llm = LiteLLM(\"gpt-3.5-turbo\")\n",
    "resp = llm.stream_complete(\"Paul Graham is \")"
   ]
  },
  {
   "cell_type": "code",
   "execution_count": null,
   "id": "65d68dfc-a97e-4a69-935a-e675fb7b4ed0",
   "metadata": {},
   "outputs": [
    {
     "name": "stdout",
     "output_type": "stream",
     "text": [
      " Here are some key points about Paul Graham:\n",
      "\n",
      "- Paul Graham is an American computer scientist, venture capitalist, and essayist. He is known for co-founding Viaweb, one of the first web-based applications, which was acquired by Yahoo in 1998.\n",
      "\n",
      "- In 2005, Graham co-founded Y Combinator, a startup accelerator that provides seed funding and advice to startups. Y Combinator has backed over 2000 companies including Dropbox, Airbnb, Stripe, and Reddit. \n",
      "\n",
      "- Graham has written extensively about startups, programming, and technology. Some of his most popular essays include \"How to Start a Startup\", \"The Age of the Essay\", and \"Beating the Averages\" about his experiences with Viaweb.\n",
      "\n",
      "- As an essayist, Graham has a very analytical and insightful writing style. He is skilled at breaking down complex concepts and explaining ideas clearly. His essays cover a wide range of topics including startups, programming, economics, and philosophy.\n",
      "\n",
      "- In addition to his work with startups, Graham previously worked as a programmer at Yahoo and was also a professor of computer science at Harvard University. He studied mathematics at Cornell University and obtained a PhD in Computer Science from Harvard.\n",
      "\n",
      "- Graham has advocated for funding and supporting startup founders who may lack traditional credentials like college degrees. He has argued that intelligence, determination, and flexibility are more important than formal education for succeeding in startups.\n",
      "\n",
      "In summary, Paul Graham is a prominent figure in the tech industry known for his work with startups, programming, and influential writing and perspectives on technology. His ideas have had a major impact on the startup ecosystem."
     ]
    }
   ],
   "source": [
    "for r in resp:\n",
    "    print(r.delta, end=\"\")"
   ]
  },
  {
   "cell_type": "code",
   "execution_count": null,
   "id": "10b63238-8d01-48f7-b2ec-a56d23fec172",
   "metadata": {},
   "outputs": [],
   "source": [
    "from llama_index.llms.litellm import LiteLLM\n",
    "\n",
    "messages = [\n",
    "    ChatMessage(\n",
    "        role=\"system\", content=\"You are a pirate with a colorful personality\"\n",
    "    ),\n",
    "    ChatMessage(role=\"user\", content=\"Tell me a story\"),\n",
    "]\n",
    "\n",
    "llm = LiteLLM(\"gpt-3.5-turbo\")\n",
    "resp = llm.stream_chat(messages)"
   ]
  },
  {
   "cell_type": "code",
   "execution_count": null,
   "id": "d90ec6f2-8f49-4f96-9290-c7ed9bb8ba45",
   "metadata": {},
   "outputs": [
    {
     "name": "stdout",
     "output_type": "stream",
     "text": [
      " Here is a fun pirate story for you:\n",
      "\n",
      "Yarrr matey! Me name be Captain Redbeard, the most fearsome pirate to sail the seven seas. I be the captain of the good ship Salty Dog, and we be lookin' fer treasure! \n",
      "\n",
      "I lost me leg in a battle with the evil Captain Bluebeard years ago. That scallywag got the better of me that time, but I'll have me revenge! Now I got me a peg leg that I can use to kick me enemies right in the behind! Har har!\n",
      "\n",
      "Just last week me crew and I found a map leading to the lost treasure of the island of Rundoon. We set sail right away, braving storms and sea creatures the size of ships! When we got to the island, it were guarded by angry natives with spears and poison darts. Me crew fought 'em off while I snuck into the temple and grabbed the treasure chest.\n",
      "\n",
      "Now we be rich with dubloons and jewels! I plan to stash me loot on a remote island, then find a tavern and drink grog until I can't stand up straight. Being a pirate captain be a tough life, but someone's got to sail the high seas in search of adventure! Maybe one day I'll get enough treasure to retire and open up a little beach shack...but probably not, cause I love me pirate life too much! Har har har!"
     ]
    }
   ],
   "source": [
    "for r in resp:\n",
    "    print(r.delta, end=\"\")"
   ]
  },
  {
   "attachments": {},
   "cell_type": "markdown",
   "id": "5152a2b4-78e6-47a5-933d-f5186ec0f775",
   "metadata": {},
   "source": [
    "## Async"
   ]
  },
  {
   "cell_type": "code",
   "execution_count": null,
   "id": "7df04c0e-43ee-4176-9aad-94781d0ed36d",
   "metadata": {},
   "outputs": [],
   "source": [
    "from llama_index.llms.litellm import LiteLLM\n",
    "\n",
    "llm = LiteLLM(\"gpt-3.5-turbo\")\n",
    "resp = await llm.acomplete(\"Paul Graham is \")"
   ]
  },
  {
   "cell_type": "code",
   "execution_count": null,
   "id": "be09c52b-604a-4f05-8f93-36e6ea882ff5",
   "metadata": {},
   "outputs": [
    {
     "name": "stdout",
     "output_type": "stream",
     "text": [
      " Here are some key facts about Paul Graham:\n",
      "\n",
      "- Paul Graham is an American computer scientist, venture capitalist, and essayist. He is known for co-founding Viaweb, one of the first web-based application companies, which was acquired by Yahoo in 1998.\n",
      "\n",
      "- In 1995, Graham co-founded Viaweb with Robert Morris, Trevor Blackwell, and Jessica Livingston. The company helped popularize the business model of applying software as a service.\n",
      "\n",
      "- After selling Viaweb to Yahoo, Graham became a venture capitalist. He co-founded Y Combinator in 2005 with Jessica Livingston, Trevor Blackwell, and Robert Morris. Y Combinator is an influential startup accelerator that provides seed funding and advice to startups.\n",
      "\n",
      "- Graham has written several influential essays on startups, technology, and programming. Some of his most well-known essays include \"How to Start a Startup\", \"Do Things that Don't Scale\", and \"Beating the Averages\" about Lisp programming. \n",
      "\n",
      "- He pioneered the concept of using online essays to attract startup founders to apply to Y Combinator's program. His essays are often required reading in Silicon Valley.\n",
      "\n",
      "- Graham has a Bachelor's degree in philosophy from Cornell University and a PhD in computer science from Harvard University. His doctoral thesis focused on Lisp compilers.\n",
      "\n",
      "- He is considered an influential figure in the tech and startup worlds, known for his insights on startups, programming languages, and technology trends. His writings have shaped the strategies of many founders building startups.\n"
     ]
    }
   ],
   "source": [
    "print(resp)"
   ]
  }
 ],
 "metadata": {
  "kernelspec": {
   "display_name": "llama_index_v2",
   "language": "python",
   "name": "llama_index_v2"
  },
  "language_info": {
   "codemirror_mode": {
    "name": "ipython",
    "version": 3
   },
   "file_extension": ".py",
   "mimetype": "text/x-python",
   "name": "python",
   "nbconvert_exporter": "python",
   "pygments_lexer": "ipython3"
  }
 },
 "nbformat": 4,
 "nbformat_minor": 5
}
