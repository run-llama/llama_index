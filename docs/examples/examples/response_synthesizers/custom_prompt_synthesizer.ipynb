{
 "cells": [
  {
   "attachments": {},
   "cell_type": "markdown",
   "id": "9e365244",
   "metadata": {},
   "source": [
    "<a href=\"https://colab.research.google.com/github/run-llama/llama_index/blob/main/docs/docs/examples/response_synthesizers/custom_prompt_synthesizer.ipynb\" target=\"_parent\"><img src=\"https://colab.research.google.com/assets/colab-badge.svg\" alt=\"Open In Colab\"/></a>"
   ]
  },
  {
   "attachments": {},
   "cell_type": "markdown",
   "id": "540ff471-dcea-4b3e-9c0c-a3173f1c640e",
   "metadata": {},
   "source": [
    "# Pydantic Tree Summarize\n",
    "\n",
    "In this notebook, we demonstrate how to use tree summarize with structured outputs. Specifically, tree summarize is used to output pydantic objects."
   ]
  },
  {
   "attachments": {},
   "cell_type": "markdown",
   "id": "64c10647",
   "metadata": {},
   "source": [
    "If you're opening this Notebook on colab, you will probably need to install LlamaIndex 🦙."
   ]
  },
  {
   "cell_type": "code",
   "execution_count": null,
   "id": "d0e5e812",
   "metadata": {},
   "outputs": [],
   "source": [
    "!pip install llama-index"
   ]
  },
  {
   "cell_type": "code",
   "execution_count": null,
   "id": "46062732-13ef-4804-89fa-109e1df173b6",
   "metadata": {},
   "outputs": [],
   "source": [
    "import os\n",
    "import openai"
   ]
  },
  {
   "cell_type": "code",
   "execution_count": null,
   "id": "16ecc4a8-2521-4fd2-a650-c38649ea6309",
   "metadata": {},
   "outputs": [],
   "source": [
    "os.environ[\"OPENAI_API_KEY\"] = \"sk-...\"\n",
    "openai.api_key = os.environ[\"OPENAI_API_KEY\"]"
   ]
  },
  {
   "attachments": {},
   "cell_type": "markdown",
   "id": "922a94e4",
   "metadata": {},
   "source": [
    "## Download Data"
   ]
  },
  {
   "cell_type": "code",
   "execution_count": null,
   "id": "ff60b00c",
   "metadata": {},
   "outputs": [],
   "source": [
    "!mkdir -p 'data/paul_graham/'\n",
    "!wget 'https://raw.githubusercontent.com/run-llama/llama_index/main/docs/docs/examples/data/paul_graham/paul_graham_essay.txt' -O 'data/paul_graham/paul_graham_essay.txt'"
   ]
  },
  {
   "attachments": {},
   "cell_type": "markdown",
   "id": "158b08a8-32d3-4397-ad37-75870416226b",
   "metadata": {},
   "source": [
    "## Load Data"
   ]
  },
  {
   "cell_type": "code",
   "execution_count": null,
   "id": "bbbac556-bb22-47e2-b8bf-80818d241858",
   "metadata": {},
   "outputs": [],
   "source": [
    "from llama_index.core import SimpleDirectoryReader"
   ]
  },
  {
   "cell_type": "code",
   "execution_count": null,
   "id": "bc0d4087-1ee3-4c38-94c0-b34f87ea8aca",
   "metadata": {},
   "outputs": [],
   "source": [
    "reader = SimpleDirectoryReader(\n",
    "    input_files=[\"./data/paul_graham/paul_graham_essay.txt\"]\n",
    ")"
   ]
  },
  {
   "cell_type": "code",
   "execution_count": null,
   "id": "7934bb4a-4c0f-4833-842f-7fd47e16eeae",
   "metadata": {},
   "outputs": [],
   "source": [
    "docs = reader.load_data()"
   ]
  },
  {
   "cell_type": "code",
   "execution_count": null,
   "id": "bf6b6f5c-5852-41be-8ce8-d94c520e0e50",
   "metadata": {},
   "outputs": [],
   "source": [
    "text = docs[0].text"
   ]
  },
  {
   "attachments": {},
   "cell_type": "markdown",
   "id": "efed56ee-fcd3-439c-a1b2-53c643f15c8e",
   "metadata": {},
   "source": [
    "## Define Custom Prompt"
   ]
  },
  {
   "cell_type": "code",
   "execution_count": null,
   "id": "56702a3c-bf1c-41f9-beee-2483528a849d",
   "metadata": {},
   "outputs": [],
   "source": [
    "from llama_index.core import PromptTemplate"
   ]
  },
  {
   "cell_type": "code",
   "execution_count": null,
   "id": "0969a2ff-d678-4869-966f-2ff4d4abca36",
   "metadata": {},
   "outputs": [],
   "source": [
    "# NOTE: we add an extra tone_name variable here\n",
    "qa_prompt_tmpl = (\n",
    "    \"Context information is below.\\n\"\n",
    "    \"---------------------\\n\"\n",
    "    \"{context_str}\\n\"\n",
    "    \"---------------------\\n\"\n",
    "    \"Given the context information and not prior knowledge, \"\n",
    "    \"answer the query.\\n\"\n",
    "    \"Please also write the answer in the style of {tone_name}.\\n\"\n",
    "    \"Query: {query_str}\\n\"\n",
    "    \"Answer: \"\n",
    ")\n",
    "qa_prompt = PromptTemplate(qa_prompt_tmpl)\n",
    "\n",
    "refine_prompt_tmpl = (\n",
    "    \"The original query is as follows: {query_str}\\n\"\n",
    "    \"We have provided an existing answer: {existing_answer}\\n\"\n",
    "    \"We have the opportunity to refine the existing answer \"\n",
    "    \"(only if needed) with some more context below.\\n\"\n",
    "    \"------------\\n\"\n",
    "    \"{context_msg}\\n\"\n",
    "    \"------------\\n\"\n",
    "    \"Given the new context, refine the original answer to better \"\n",
    "    \"answer the query. \"\n",
    "    \"Please also write the answer in the style of {tone_name}.\\n\"\n",
    "    \"If the context isn't useful, return the original answer.\\n\"\n",
    "    \"Refined Answer: \"\n",
    ")\n",
    "refine_prompt = PromptTemplate(refine_prompt_tmpl)"
   ]
  },
  {
   "cell_type": "markdown",
   "id": "30fbca1a-6aee-407f-9b3a-56458657ea52",
   "metadata": {},
   "source": [
    "## Try out Response Synthesis with Custom Prompt\n",
    "\n",
    "We try out a few different response synthesis strategies with the custom prompt."
   ]
  },
  {
   "cell_type": "code",
   "execution_count": null,
   "id": "e65c577c-215e-40e9-8f3f-c23a09af7574",
   "metadata": {},
   "outputs": [],
   "source": [
    "from llama_index.core.response_synthesizers import TreeSummarize, Refine\n",
    "from llama_index.core.types import BaseModel\n",
    "from typing import List"
   ]
  },
  {
   "cell_type": "code",
   "execution_count": null,
   "id": "48290a76-7799-4c28-b6c2-7c559a0635cc",
   "metadata": {},
   "outputs": [],
   "source": [
    "summarizer = TreeSummarize(verbose=True, summary_template=qa_prompt)"
   ]
  },
  {
   "cell_type": "code",
   "execution_count": null,
   "id": "e85f9244-a32c-46df-a40d-6db6a33f99a1",
   "metadata": {},
   "outputs": [
    {
     "name": "stdout",
     "output_type": "stream",
     "text": [
      "5 text chunks after repacking\n",
      "1 text chunks after repacking\n"
     ]
    }
   ],
   "source": [
    "response = summarizer.get_response(\n",
    "    \"who is Paul Graham?\", [text], tone_name=\"a Shakespeare play\"\n",
    ")"
   ]
  },
  {
   "cell_type": "code",
   "execution_count": null,
   "id": "1db7fb13-76ee-40f6-a714-018523fba597",
   "metadata": {},
   "outputs": [
    {
     "name": "stdout",
     "output_type": "stream",
     "text": [
      "Paul Graham, a noble and esteemed gentleman, is a man of many talents and accomplishments. He hath traversed the realms of art, entrepreneurship, and writing, leaving a lasting impact on each. With his brush, he hath brought life to canvases, capturing the essence of what he saw. In the realm of technology, he hath revolutionized the way we do business, founding Viaweb and bringing the power of the web to entrepreneurs and artists alike. His wisdom and guidance hath shaped the future of technology and entrepreneurship through his co-founding of Y Combinator. But above all, Paul Graham is a visionary, a trailblazer, and a true Renaissance man, whose intellectual curiosity and quest for lasting creation hath inspired generations to come.\n"
     ]
    }
   ],
   "source": [
    "print(str(response))"
   ]
  },
  {
   "cell_type": "code",
   "execution_count": null,
   "id": "078a1784-0641-49c1-9792-640ba050d8d9",
   "metadata": {},
   "outputs": [],
   "source": [
    "summarizer = Refine(\n",
    "    verbose=True, text_qa_template=qa_prompt, refine_template=refine_prompt\n",
    ")"
   ]
  },
  {
   "cell_type": "code",
   "execution_count": null,
   "id": "f6adee0b-dc63-444c-a713-ded733b92238",
   "metadata": {},
   "outputs": [
    {
     "name": "stdout",
     "output_type": "stream",
     "text": [
      "> Refine context: made a living from a combination of modelling a...\n",
      "> Refine context: to have studied art, because the main goal of a...\n",
      "> Refine context: I had been intimately involved with building th...\n",
      "> Refine context: I didn't understand what he meant, but graduall...\n"
     ]
    }
   ],
   "source": [
    "response = summarizer.get_response(\n",
    "    \"who is Paul Graham?\", [text], tone_name=\"a haiku\"\n",
    ")"
   ]
  },
  {
   "cell_type": "code",
   "execution_count": null,
   "id": "52ea0b6b-28a1-4c4f-8f99-7aa1053f9760",
   "metadata": {},
   "outputs": [
    {
     "name": "stdout",
     "output_type": "stream",
     "text": [
      "Paul Graham, a web pioneer,\n",
      "Co-founded Y Combinator,\n",
      "But stepped down to ensure,\n",
      "Long-term success and more.\n"
     ]
    }
   ],
   "source": [
    "print(str(response))"
   ]
  },
  {
   "cell_type": "code",
   "execution_count": null,
   "id": "e27c81bb",
   "metadata": {},
   "outputs": [],
   "source": [
    "# try with pydantic model\n",
    "class Biography(BaseModel):\n",
    "    \"\"\"Data model for a biography.\"\"\"\n",
    "\n",
    "    name: str\n",
    "    best_known_for: List[str]\n",
    "    extra_info: str"
   ]
  },
  {
   "cell_type": "code",
   "execution_count": null,
   "id": "ccbcaae8-376a-47a7-8b1f-4fe64f397b5b",
   "metadata": {},
   "outputs": [],
   "source": [
    "summarizer = TreeSummarize(\n",
    "    verbose=True, summary_template=qa_prompt, output_cls=Biography\n",
    ")"
   ]
  },
  {
   "cell_type": "code",
   "execution_count": null,
   "id": "b5c5fdc5-26a3-4b4e-ac2e-c440315e4bce",
   "metadata": {},
   "outputs": [
    {
     "name": "stdout",
     "output_type": "stream",
     "text": [
      "5 text chunks after repacking\n",
      "1 text chunks after repacking\n"
     ]
    }
   ],
   "source": [
    "response = summarizer.get_response(\n",
    "    \"who is Paul Graham?\", [text], tone_name=\"a business memo\"\n",
    ")"
   ]
  },
  {
   "cell_type": "code",
   "execution_count": null,
   "id": "41e2c552-6313-40cf-89a4-3a00fe9914d8",
   "metadata": {},
   "outputs": [
    {
     "name": "stdout",
     "output_type": "stream",
     "text": [
      "name='Paul Graham' best_known_for=['Co-founder of Y Combinator', 'Writer', 'Investor'] extra_info=\"Paul Graham is a renowned entrepreneur, writer, and investor. He is best known as the co-founder of Y Combinator, a highly successful startup accelerator. Graham has played a significant role in shaping the startup ecosystem and has been instrumental in the success of numerous startups. He is also a prolific writer, known for his insightful essays on a wide range of topics, including technology, startups, and entrepreneurship. Graham's writings have been widely read and have had a profound impact on the tech community. In addition to his work with Y Combinator and his writing, Graham is also an active investor, providing seed funding and mentorship to early-stage startups. His contributions to the startup world have earned him a reputation as one of the most influential figures in the industry.\"\n"
     ]
    }
   ],
   "source": [
    "print(str(response))"
   ]
  }
 ],
 "metadata": {
  "kernelspec": {
   "display_name": "llama_index_v2",
   "language": "python",
   "name": "llama_index_v2"
  },
  "language_info": {
   "codemirror_mode": {
    "name": "ipython",
    "version": 3
   },
   "file_extension": ".py",
   "mimetype": "text/x-python",
   "name": "python",
   "nbconvert_exporter": "python",
   "pygments_lexer": "ipython3"
  }
 },
 "nbformat": 4,
 "nbformat_minor": 5
}
