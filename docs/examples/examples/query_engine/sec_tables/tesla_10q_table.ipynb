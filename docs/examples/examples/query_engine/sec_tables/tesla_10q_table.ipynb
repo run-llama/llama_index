{
 "cells": [
  {
   "attachments": {},
   "cell_type": "markdown",
   "id": "1d4b6e5a",
   "metadata": {},
   "source": [
    "<a href=\"https://colab.research.google.com/github/run-llama/llama_index/blob/main/docs/docs/examples/query_engine/sec_tables/tesla_10q_table.ipynb\" target=\"_parent\"><img src=\"https://colab.research.google.com/assets/colab-badge.svg\" alt=\"Open In Colab\"/></a>"
   ]
  },
  {
   "cell_type": "markdown",
   "id": "8ea05db5-944c-4bad-80a6-54841ccc0d42",
   "metadata": {},
   "source": [
    "# Joint Tabular/Semantic QA over Tesla 10K\n",
    "\n",
    "In this example, we show how to ask questions over 10K with understanding of both the unstructured text as well as embedded tables.\n",
    "\n",
    "We use Unstructured to parse out the tables, and use LlamaIndex recursive retrieval to index/retrieve tables if necessary given the user question."
   ]
  },
  {
   "attachments": {},
   "cell_type": "markdown",
   "id": "a0a4beef",
   "metadata": {},
   "source": [
    "If you're opening this Notebook on colab, you will probably need to install LlamaIndex 🦙."
   ]
  },
  {
   "cell_type": "code",
   "execution_count": null,
   "id": "8331fd97",
   "metadata": {},
   "outputs": [],
   "source": [
    "%pip install llama-index-readers-file\n",
    "%pip install llama-index-llms-openai"
   ]
  },
  {
   "cell_type": "code",
   "execution_count": null,
   "id": "5a57b894",
   "metadata": {},
   "outputs": [],
   "source": [
    "!pip install llama-index"
   ]
  },
  {
   "cell_type": "code",
   "execution_count": null,
   "id": "06cbe141-1780-47df-95e5-91ebde44f778",
   "metadata": {},
   "outputs": [],
   "source": [
    "%load_ext autoreload\n",
    "%autoreload 2"
   ]
  },
  {
   "cell_type": "code",
   "execution_count": null,
   "id": "8f6499c7-138b-4849-9163-5fa2e3f373c7",
   "metadata": {},
   "outputs": [],
   "source": [
    "from pydantic import BaseModel\n",
    "from unstructured.partition.html import partition_html\n",
    "import pandas as pd\n",
    "\n",
    "pd.set_option(\"display.max_rows\", None)\n",
    "pd.set_option(\"display.max_columns\", None)\n",
    "pd.set_option(\"display.width\", None)\n",
    "pd.set_option(\"display.max_colwidth\", None)"
   ]
  },
  {
   "cell_type": "markdown",
   "id": "1d3b4020-7e57-4392-ba29-52a14debd822",
   "metadata": {},
   "source": [
    "## Perform Data Extraction\n",
    "\n",
    "In these sections we use Unstructured to parse out the table and non-table elements."
   ]
  },
  {
   "cell_type": "markdown",
   "id": "2249e49b-fea3-424a-9d3a-955c968899a6",
   "metadata": {},
   "source": [
    "### Extract Elements\n",
    "\n",
    "We use Unstructured to extract table and non-table elements from the 10-K filing."
   ]
  },
  {
   "cell_type": "code",
   "execution_count": null,
   "id": "2f416d23-42ba-4ce7-8d10-28e309f591c2",
   "metadata": {},
   "outputs": [],
   "source": [
    "!wget \"https://www.dropbox.com/scl/fi/mlaymdy1ni1ovyeykhhuk/tesla_2021_10k.htm?rlkey=qf9k4zn0ejrbm716j0gg7r802&dl=1\" -O tesla_2021_10k.htm\n",
    "!wget \"https://www.dropbox.com/scl/fi/rkw0u959yb4w8vlzz76sa/tesla_2020_10k.htm?rlkey=tfkdshswpoupav5tqigwz1mp7&dl=1\" -O tesla_2020_10k.htm"
   ]
  },
  {
   "cell_type": "code",
   "execution_count": null,
   "id": "6e8cbbfd-38df-4499-9bb2-36efdeeed42a",
   "metadata": {},
   "outputs": [],
   "source": [
    "from llama_index.readers.file import FlatReader\n",
    "from pathlib import Path\n",
    "\n",
    "reader = FlatReader()\n",
    "docs_2021 = reader.load_data(Path(\"tesla_2021_10k.htm\"))\n",
    "docs_2020 = reader.load_data(Path(\"tesla_2020_10k.htm\"))"
   ]
  },
  {
   "cell_type": "code",
   "execution_count": null,
   "id": "4765017f-cd26-4d40-8154-3f8c1619d46f",
   "metadata": {},
   "outputs": [],
   "source": [
    "from llama_index.core.node_parser import UnstructuredElementNodeParser\n",
    "\n",
    "node_parser = UnstructuredElementNodeParser()"
   ]
  },
  {
   "cell_type": "code",
   "execution_count": null,
   "id": "5d8fec9f-ff94-468b-b930-c8b33773a720",
   "metadata": {},
   "outputs": [
    {
     "name": "stderr",
     "output_type": "stream",
     "text": [
      "100%|██████████████████████████████████████████████████████████████████| 105/105 [14:59<00:00,  8.56s/it]\n"
     ]
    }
   ],
   "source": [
    "import os\n",
    "import pickle\n",
    "\n",
    "if not os.path.exists(\"2021_nodes.pkl\"):\n",
    "    raw_nodes_2021 = node_parser.get_nodes_from_documents(docs_2021)\n",
    "    pickle.dump(raw_nodes_2021, open(\"2021_nodes.pkl\", \"wb\"))\n",
    "else:\n",
    "    raw_nodes_2021 = pickle.load(open(\"2021_nodes.pkl\", \"rb\"))"
   ]
  },
  {
   "cell_type": "code",
   "execution_count": null,
   "id": "0ea5181d-35e5-4f7d-9401-9eef95330ff2",
   "metadata": {},
   "outputs": [],
   "source": [
    "base_nodes_2021, node_mappings_2021 = node_parser.get_base_nodes_and_mappings(\n",
    "    raw_nodes_2021\n",
    ")"
   ]
  },
  {
   "cell_type": "code",
   "execution_count": null,
   "id": "4c9c7cfc-af1b-4857-9131-bea040840da5",
   "metadata": {},
   "outputs": [
    {
     "name": "stdout",
     "output_type": "stream",
     "text": [
      "\n",
      "--------\n",
      "col_schema: Column: Type\n",
      "Type: string\n",
      "Summary: Type of net income (loss) per share calculation (basic or diluted)\n",
      "\n",
      "Column: Amount\n",
      "Type: string\n",
      "Summary: Net income (loss) per share amount\n",
      "\n",
      "Column: Weighted Average Shares\n",
      "Type: string\n",
      "Summary: Number of shares used in calculating net income (loss) per share\n",
      "\n",
      "Summary of net income (loss) per share of common stock attributable to common stockholders\n",
      "--------\n",
      "\n",
      "\n",
      "--------\n",
      "Index ID: id_617_table\n",
      "--------\n",
      "\n",
      "\n",
      "--------\n",
      "                                                                                                                                                                                                                                             \n",
      "0                                                                                                                       Year Ended December 31,                                                                                              \n",
      "1                                                                                                                                          2021                      2020                      2019                                          \n",
      "2                                                    Revenues                                                                                                                                                                                \n",
      "3                                            Automotive sales                                                                                 $    44,125                    $    24,604                     $    19,358                     \n",
      "4                               Automotive regulatory credits                                                                                       1,465                          1,580                             594                     \n",
      "5                                          Automotive leasing                                                                                       1,642                          1,052                             869                     \n",
      "6                                   Total automotive revenues                                                                                      47,232                         27,236                          20,821                     \n",
      "7                               Energy generation and storage                                                                                       2,789                          1,994                           1,531                     \n",
      "8                                          Services and other                                                                                       3,802                          2,306                           2,226                     \n",
      "9                                              Total revenues                                                                                      53,823                         31,536                          24,578                     \n",
      "10                                           Cost of revenues                                                                                                                                                                                \n",
      "11                                           Automotive sales                                                                                      32,415                         19,696                          15,939                     \n",
      "12                                         Automotive leasing                                                                                         978                            563                             459                     \n",
      "13                          Total automotive cost of revenues                                                                                      33,393                         20,259                          16,398                     \n",
      "14                              Energy generation and storage                                                                                       2,918                          1,976                           1,341                     \n",
      "15                                         Services and other                                                                                       3,906                          2,671                           2,770                     \n",
      "16                                     Total cost of revenues                                                                                      40,217                         24,906                          20,509                     \n",
      "17                                               Gross profit                                                                                      13,606                          6,630                           4,069                     \n",
      "18                                         Operating expenses                                                                                                                                                                                \n",
      "19                                   Research and development                                                                                       2,593                          1,491                           1,343                     \n",
      "20                        Selling, general and administrative                                                                                       4,517                          3,145                           2,646                     \n",
      "21                                    Restructuring and other                                                                                           (   27    )                         —                              149               \n",
      "22                                   Total operating expenses                                                                                       7,083                          4,636                           4,138                     \n",
      "23                              Income (loss) from operations                                                                                       6,523                          1,994                               (    69       )       \n",
      "24                                            Interest income                                                                                          56                             30                              44                     \n",
      "25                                           Interest expense                                                                                           (  371    )                         (   748     )                       (  685    )  \n",
      "26                                Other income (expense), net                                                                                         135                              (  122        )                      45               \n",
      "27                          Income (loss) before income taxes                                                                                       6,343                          1,154                               (   665       )       \n",
      "28                                 Provision for income taxes                                                                                         699                            292                             110                     \n",
      "29                                          Net income (loss)                                                                                       5,644                            862                               (   775       )       \n",
      "30    Net income attributable to noncontrolling interests and  redeemable noncontrolling interests in subsidiaries                                         125                            141                               87               \n",
      "31      Net income (loss) attributable to common stockholders                                                                                 $     5,519                    $       721                     $         (   862       )       \n",
      "32                                                                                                                                                                                                                                           \n",
      "33                Net income (loss) per share of common stock                  attributable to common stockholders                                                                                                                           \n",
      "34                                                      Basic                                                                                 $      5.60                    $      0.74                     $         (  0.98       )       \n",
      "35                                                    Diluted                                                                                 $      4.90                    $      0.64                     $         (  0.98       )       \n",
      "36              Weighted average shares used in computing net              income (loss) per share of common stock                                                                                                                           \n",
      "37                                                      Basic                                                                                         986                            933                             887                     \n",
      "38                                                    Diluted                                                                                       1,129                          1,083                             887                     \n",
      "--------\n",
      "\n"
     ]
    }
   ],
   "source": [
    "example_index_node = [b for b in base_nodes_2021 if isinstance(b, IndexNode)][\n",
    "    20\n",
    "]\n",
    "\n",
    "# Index Node\n",
    "print(\n",
    "    f\"\\n--------\\n{example_index_node.get_content(metadata_mode='all')}\\n--------\\n\"\n",
    ")\n",
    "# Index Node ID\n",
    "print(f\"\\n--------\\nIndex ID: {example_index_node.index_id}\\n--------\\n\")\n",
    "# Referenceed Table\n",
    "print(\n",
    "    f\"\\n--------\\n{node_mappings_2021[example_index_node.index_id].get_content()}\\n--------\\n\"\n",
    ")"
   ]
  },
  {
   "cell_type": "markdown",
   "id": "57035fe2-0ce8-460f-8a6c-2f0bc37d71d3",
   "metadata": {},
   "source": [
    "## Setup Recursive Retriever\n",
    "\n",
    "Now that we've extracted tables and their summaries, we can setup a recursive retriever in LlamaIndex to query these tables."
   ]
  },
  {
   "cell_type": "markdown",
   "id": "d2393a9e-c1f2-452c-9683-61435c848fec",
   "metadata": {},
   "source": [
    "### Construct Retrievers"
   ]
  },
  {
   "cell_type": "code",
   "execution_count": null,
   "id": "abb2a4ff-0185-47b7-b68b-d2ba32242f06",
   "metadata": {},
   "outputs": [],
   "source": [
    "from llama_index.core.retrievers import RecursiveRetriever\n",
    "from llama_index.core.query_engine import RetrieverQueryEngine\n",
    "from llama_index.core import VectorStoreIndex"
   ]
  },
  {
   "cell_type": "code",
   "execution_count": null,
   "id": "b7571128-c61d-42f1-af33-0aade58ee56d",
   "metadata": {},
   "outputs": [],
   "source": [
    "# construct top-level vector index + query engine\n",
    "vector_index = VectorStoreIndex(base_nodes_2021)\n",
    "vector_retriever = vector_index.as_retriever(similarity_top_k=1)\n",
    "vector_query_engine = vector_index.as_query_engine(similarity_top_k=1)"
   ]
  },
  {
   "cell_type": "code",
   "execution_count": null,
   "id": "b3b94a3e-e7de-4815-9598-a39834d40b07",
   "metadata": {},
   "outputs": [],
   "source": [
    "from llama_index.core.retrievers import RecursiveRetriever\n",
    "\n",
    "recursive_retriever = RecursiveRetriever(\n",
    "    \"vector\",\n",
    "    retriever_dict={\"vector\": vector_retriever},\n",
    "    node_dict=node_mappings_2021,\n",
    "    verbose=True,\n",
    ")\n",
    "query_engine = RetrieverQueryEngine.from_args(recursive_retriever)"
   ]
  },
  {
   "cell_type": "markdown",
   "id": "23f15269-5903-458d-8a1c-55f68a3732cb",
   "metadata": {},
   "source": [
    "### Run some Queries"
   ]
  },
  {
   "cell_type": "code",
   "execution_count": null,
   "id": "a998a0d7-be3a-4c39-ac94-43ecd070455b",
   "metadata": {},
   "outputs": [
    {
     "name": "stdout",
     "output_type": "stream",
     "text": [
      "\u001b[1;3;34mRetrieving with query id None: What was the revenue in 2020?\n",
      "\u001b[0m\u001b[1;3;38;5;200mRetrieved node with id, entering: id_478_table\n",
      "\u001b[0m\u001b[1;3;34mRetrieving with query id id_478_table: What was the revenue in 2020?\n",
      "\u001b[0mThe revenue in 2020 was $31,536 million.\n"
     ]
    }
   ],
   "source": [
    "response = query_engine.query(\"What was the revenue in 2020?\")\n",
    "print(str(response))"
   ]
  },
  {
   "cell_type": "code",
   "execution_count": null,
   "id": "1c285f95-3bd3-4842-aed8-4bbc731575d4",
   "metadata": {},
   "outputs": [
    {
     "name": "stdout",
     "output_type": "stream",
     "text": [
      "The revenue in 2020 was a number.\n"
     ]
    }
   ],
   "source": [
    "# compare against the baseline retriever\n",
    "response = vector_query_engine.query(\"What was the revenue in 2020?\")\n",
    "print(str(response))"
   ]
  },
  {
   "cell_type": "code",
   "execution_count": null,
   "id": "043c183e-2beb-46b1-909a-90e25833f276",
   "metadata": {},
   "outputs": [
    {
     "name": "stdout",
     "output_type": "stream",
     "text": [
      "\u001b[1;3;34mRetrieving with query id None: What were the total cash flows in 2021?\n",
      "\u001b[0m\u001b[1;3;38;5;200mRetrieved node with id, entering: id_558_table\n",
      "\u001b[0m\u001b[1;3;34mRetrieving with query id id_558_table: What were the total cash flows in 2021?\n",
      "\u001b[0m"
     ]
    }
   ],
   "source": [
    "response = query_engine.query(\"What were the total cash flows in 2021?\")"
   ]
  },
  {
   "cell_type": "code",
   "execution_count": null,
   "id": "77fd0d9e-8862-41b9-85c3-5bb44fd38fb5",
   "metadata": {},
   "outputs": [
    {
     "name": "stdout",
     "output_type": "stream",
     "text": [
      "The total cash flows in 2021 were $11,497 million.\n"
     ]
    }
   ],
   "source": [
    "print(str(response))"
   ]
  },
  {
   "cell_type": "code",
   "execution_count": null,
   "id": "63a0472a-15d4-4bb7-b8ea-50a722c53b2a",
   "metadata": {},
   "outputs": [
    {
     "name": "stdout",
     "output_type": "stream",
     "text": [
      "The total cash flows in 2021 cannot be determined based on the given context information.\n"
     ]
    }
   ],
   "source": [
    "response = vector_query_engine.query(\"What were the total cash flows in 2021?\")\n",
    "print(str(response))"
   ]
  },
  {
   "cell_type": "code",
   "execution_count": null,
   "id": "d97b5541-31af-4607-9504-474981760227",
   "metadata": {},
   "outputs": [
    {
     "name": "stdout",
     "output_type": "stream",
     "text": [
      "\u001b[1;3;34mRetrieving with query id None: What are the risk factors for Tesla?\n",
      "\u001b[0m\u001b[1;3;38;5;200mRetrieving text node: Employees may leave Tesla or choose other employers over Tesla due to various factors, such as a very competitive labor market for talented individuals with automotive or technology experience, or any negative publicity related to us. In regions where we\n",
      "\n",
      "19\n",
      "\n",
      "have or will have operations, particularly significant engineering and manufacturing centers, there is strong competition for individuals with skillsets needed for our business, including specialized knowledge of electric vehicles, engineering and electrical and building construction expertise. Moreover, we may be impacted by perceptions relating to reductions in force that we have conducted in the past in order to optimize our organizational structure and reduce costs and the departure of certain senior personnel for various reasons. Likewise, as a result of our temporary suspension of various U.S. manufacturing operations in the first half of 2020, in April 2020, we temporarily furloughed certain hourly employees and reduced most salaried employees’ base salaries. We also compete with both mature and prosperous companies that have far greater financial resources than we do and start-ups and emerging companies that promise short-term growth opportunities.\n",
      "\n",
      "Finally, our compensation philosophy for all of our personnel reflects our startup origins, with an emphasis on equity-based awards and benefits in order to closely align their incentives with the long-term interests of our stockholders. We periodically seek and obtain approval from our stockholders for future increases to the number of awards available under our equity incentive and employee stock purchase plans. If we are unable to obtain the requisite stockholder approvals for such future increases, we may have to expend additional cash to compensate our employees and our ability to retain and hire qualified personnel may be harmed.\n",
      "\n",
      "We are highly dependent on the services of Elon Musk, Technoking of Tesla and our Chief Executive Officer.\n",
      "\n",
      "We are highly dependent on the services of Elon Musk, Technoking of Tesla and our Chief Executive Officer. Although Mr. Musk spends significant time with Tesla and is highly active in our management, he does not devote his full time and attention to Tesla. Mr. Musk also currently serves as Chief Executive Officer and Chief Technical Officer of Space Exploration Technologies Corp., a developer and manufacturer of space launch vehicles, and is involved in other emerging technology ventures.\n",
      "\n",
      "Our information technology systems or data, or those of our service providers or customers or users could be subject to cyber-attacks or other security incidents, which could result in data breaches, intellectual property theft, claims, litigation, regulatory investigations, significant liability, reputational damage and other adverse consequences.\n",
      "\n",
      "We continue to expand our information technology systems as our operations grow, such as product data management, procurement, inventory management, production planning and execution, sales, service and logistics, dealer management, financial, tax and regulatory compliance systems. This includes the implementation of new internally developed systems and the deployment of such systems in the U.S. and abroad. While, we maintain information technology measures designed to protect us against intellectual property theft, data breaches, sabotage and other external or internal cyber-attacks or misappropriation, our systems and those of our service providers are potentially vulnerable to malware, ransomware, viruses, denial-of-service attacks, phishing attacks, social engineering, computer hacking, unauthorized access, exploitation of bugs, defects and vulnerabilities, breakdowns, damage, interruptions, system malfunctions, power outages, terrorism, acts of vandalism, security breaches, security incidents, inadvertent or intentional actions by employees or other third parties, and other cyber-attacks.\n",
      "\n",
      "To the extent any security incident results in unauthorized access or damage to or acquisition, use, corruption, loss, destruction, alteration or dissemination of our data, including intellectual property and personal information, or our products or vehicles, or for it to be believed or reported that any of these occurred, it could disrupt our business, harm our reputation, compel us to comply with applicable data breach notification laws, subject us to time consuming, distracting and expensive litigation, regulatory investigation and oversight, mandatory corrective action, require us to verify the correctness of database contents, or otherwise subject us to liability under laws, regulations and contractual obligations, including those that protect the privacy and security of personal information. This could result in increased costs to us and result in significant legal and financial exposure and/or reputational harm.\n",
      "\n",
      "We also rely on service providers, and similar incidents relating to their information technology systems could also have a material adverse effect on our business. There have been and may continue to be significant supply chain attacks. Our service providers, including our workforce management software provider, have been subject to ransomware and other security incidents, and we cannot guarantee that our or our service providers’ systems have not been breached or that they do not contain exploitable defects, bugs, or vulnerabilities that could result in a security incident, or other disruption to, our or our service providers’ systems. Our ability to monitor our service providers’ security measures is limited, and, in any event, malicious third parties may be able to circumvent those security measures.\n",
      "\u001b[0mThe risk factors for Tesla include a highly competitive labor market for skilled individuals in the automotive and technology sectors, negative publicity, competition for individuals with specialized knowledge in electric vehicles and engineering, perceptions related to past reductions in force and departure of senior personnel, competition from companies with greater financial resources, dependence on the services of Elon Musk as CEO, potential cyber-attacks or security incidents leading to data breaches and reputational damage, and reliance on service providers who may be vulnerable to security incidents.\n"
     ]
    }
   ],
   "source": [
    "response = query_engine.query(\"What are the risk factors for Tesla?\")\n",
    "print(str(response))"
   ]
  },
  {
   "cell_type": "code",
   "execution_count": null,
   "id": "f0ab9657-edf9-4c4e-9cb0-b0e445cf7ea0",
   "metadata": {},
   "outputs": [
    {
     "name": "stdout",
     "output_type": "stream",
     "text": [
      "The risk factors for Tesla include strong competition for skilled individuals in the labor market, negative publicity, potential impacts from reductions in force and departure of senior personnel, competition from companies with greater financial resources, dependence on the services of Elon Musk, potential cyber-attacks or security incidents, and reliance on service providers who may be vulnerable to security breaches. These factors could disrupt Tesla's business, harm its reputation, result in legal and financial exposure, and impact its ability to retain and hire qualified personnel.\n"
     ]
    }
   ],
   "source": [
    "response = vector_query_engine.query(\"What are the risk factors for Tesla?\")\n",
    "print(str(response))"
   ]
  },
  {
   "cell_type": "markdown",
   "id": "17950946-1207-4366-bc3e-242894699916",
   "metadata": {},
   "source": [
    "## Try Table Comparisons\n",
    "\n",
    "In this setting we load in both the 2021 and 2020 10K filings, parse each into a hierarchy of tables/text objects, define a recursive retriever over each, and then compose both with a SubQuestionQueryEngine.\n",
    "\n",
    "This allows us to execute document comparisons against both."
   ]
  },
  {
   "cell_type": "markdown",
   "id": "29c27fea-4132-4433-bca3-ca6771d5ed19",
   "metadata": {},
   "source": [
    "### Define E2E Recursive Retriever Function"
   ]
  },
  {
   "cell_type": "code",
   "execution_count": null,
   "id": "e24516e9-9300-4788-b0ca-c477bd33000b",
   "metadata": {},
   "outputs": [],
   "source": [
    "import pickle\n",
    "import os\n",
    "\n",
    "\n",
    "def create_recursive_retriever_over_doc(docs, nodes_save_path=None):\n",
    "    \"\"\"Big function to go from document path -> recursive retriever.\"\"\"\n",
    "    node_parser = UnstructuredElementNodeParser()\n",
    "    if nodes_save_path is not None and os.path.exists(nodes_save_path):\n",
    "        raw_nodes = pickle.load(open(nodes_save_path, \"rb\"))\n",
    "    else:\n",
    "        raw_nodes = node_parser.get_nodes_from_documents(docs)\n",
    "        if nodes_save_path is not None:\n",
    "            pickle.dump(raw_nodes, open(nodes_save_path, \"wb\"))\n",
    "\n",
    "    base_nodes, node_mappings = node_parser.get_base_nodes_and_mappings(\n",
    "        raw_nodes\n",
    "    )\n",
    "\n",
    "    ### Construct Retrievers\n",
    "    # construct top-level vector index + query engine\n",
    "    vector_index = VectorStoreIndex(base_nodes)\n",
    "    vector_retriever = vector_index.as_retriever(similarity_top_k=2)\n",
    "    recursive_retriever = RecursiveRetriever(\n",
    "        \"vector\",\n",
    "        retriever_dict={\"vector\": vector_retriever},\n",
    "        node_dict=node_mappings,\n",
    "        verbose=True,\n",
    "    )\n",
    "    query_engine = RetrieverQueryEngine.from_args(recursive_retriever)\n",
    "    return query_engine, base_nodes"
   ]
  },
  {
   "cell_type": "markdown",
   "id": "a2f4386d-15ff-41b6-83d6-49e9bccd6f68",
   "metadata": {},
   "source": [
    "### Create Sub Question Query Engine"
   ]
  },
  {
   "cell_type": "code",
   "execution_count": null,
   "id": "4015bb7b-c36c-48b3-9471-ac6e56b2e075",
   "metadata": {},
   "outputs": [],
   "source": [
    "import nest_asyncio\n",
    "\n",
    "nest_asyncio.apply()"
   ]
  },
  {
   "cell_type": "code",
   "execution_count": null,
   "id": "55a54ce9-f9b5-49af-a73a-f2962ee6e9fb",
   "metadata": {},
   "outputs": [],
   "source": [
    "from llama_index.core.tools import QueryEngineTool, ToolMetadata\n",
    "from llama_index.core.query_engine import SubQuestionQueryEngine"
   ]
  },
  {
   "cell_type": "code",
   "execution_count": null,
   "id": "ccf51056-785d-4720-a7cf-acfe9140f6ae",
   "metadata": {},
   "outputs": [],
   "source": [
    "from llama_index.llms.openai import OpenAI\n",
    "\n",
    "llm = OpenAI(model=\"gpt-4\")"
   ]
  },
  {
   "cell_type": "code",
   "execution_count": null,
   "id": "268f5289-9edb-45cb-b4d2-8ea161ae20b1",
   "metadata": {},
   "outputs": [
    {
     "name": "stderr",
     "output_type": "stream",
     "text": [
      "100%|████████████████████████████████████████████████████████████████████| 89/89 [06:29<00:00,  4.38s/it]\n"
     ]
    }
   ],
   "source": [
    "query_engine_2021, nodes_2021 = create_recursive_retriever_over_doc(\n",
    "    docs_2021, nodes_save_path=\"2021_nodes.pkl\"\n",
    ")\n",
    "query_engine_2020, nodes_2020 = create_recursive_retriever_over_doc(\n",
    "    docs_2020, nodes_save_path=\"2020_nodes.pkl\"\n",
    ")"
   ]
  },
  {
   "cell_type": "code",
   "execution_count": null,
   "id": "763662e0-ad75-4abc-9cac-cefbb5a01b28",
   "metadata": {},
   "outputs": [],
   "source": [
    "# setup base query engine as tool\n",
    "query_engine_tools = [\n",
    "    QueryEngineTool(\n",
    "        query_engine=query_engine_2021,\n",
    "        metadata=ToolMetadata(\n",
    "            name=\"tesla_2021_10k\",\n",
    "            description=(\n",
    "                \"Provides information about Tesla financials for year 2021\"\n",
    "            ),\n",
    "        ),\n",
    "    ),\n",
    "    QueryEngineTool(\n",
    "        query_engine=query_engine_2020,\n",
    "        metadata=ToolMetadata(\n",
    "            name=\"tesla_2020_10k\",\n",
    "            description=(\n",
    "                \"Provides information about Tesla financials for year 2020\"\n",
    "            ),\n",
    "        ),\n",
    "    ),\n",
    "]\n",
    "\n",
    "sub_query_engine = SubQuestionQueryEngine.from_defaults(\n",
    "    query_engine_tools=query_engine_tools,\n",
    "    llm=llm,\n",
    "    use_async=True,\n",
    ")"
   ]
  },
  {
   "cell_type": "markdown",
   "id": "40407e7c-dfee-4163-945c-5af150902239",
   "metadata": {},
   "source": [
    "### Try out some Comparisons"
   ]
  },
  {
   "cell_type": "code",
   "execution_count": null,
   "id": "db317612-06b0-4393-84e1-4c0831d3a352",
   "metadata": {},
   "outputs": [],
   "source": [
    "response = sub_query_engine.query(\n",
    "    \"Can you compare and contrast the cash flow in 2021 with 2020?\"\n",
    ")"
   ]
  },
  {
   "cell_type": "code",
   "execution_count": null,
   "id": "850ef74a-d3b6-4b46-9c94-649998e513be",
   "metadata": {},
   "outputs": [
    {
     "name": "stdout",
     "output_type": "stream",
     "text": [
      "In 2021, Tesla's cash flow was $11,497 million, which was significantly higher than in 2020, when it was $5.94 billion. This indicates a substantial increase in cash flow from one year to the next.\n"
     ]
    }
   ],
   "source": [
    "print(str(response))"
   ]
  },
  {
   "cell_type": "code",
   "execution_count": null,
   "id": "604a7144-c0b0-43e8-b76b-b31decb0d99e",
   "metadata": {},
   "outputs": [],
   "source": [
    "response = sub_query_engine.query(\n",
    "    \"Can you compare and contrast the R&D expenditures in 2021 vs. 2020?\"\n",
    ")"
   ]
  },
  {
   "cell_type": "code",
   "execution_count": null,
   "id": "e92a5d14-3a67-4f28-8106-f0c0bb740444",
   "metadata": {},
   "outputs": [
    {
     "name": "stdout",
     "output_type": "stream",
     "text": [
      "In 2021, Tesla spent $2.593 billion on research and development (R&D), which was significantly higher than the $1.491 billion they spent in 2020. This indicates an increase in R&D expenditure from 2020 to 2021.\n"
     ]
    }
   ],
   "source": [
    "print(str(response))"
   ]
  },
  {
   "cell_type": "code",
   "execution_count": null,
   "id": "e25080e3-627e-4d77-9011-d5b81b4bd88c",
   "metadata": {},
   "outputs": [],
   "source": [
    "response = sub_query_engine.query(\n",
    "    \"Can you compare and contrast the risk factors in 2021 vs. 2020?\"\n",
    ")"
   ]
  },
  {
   "cell_type": "code",
   "execution_count": null,
   "id": "d91dcd93-a744-4ac3-811e-1a914bc04224",
   "metadata": {},
   "outputs": [
    {
     "name": "stdout",
     "output_type": "stream",
     "text": [
      "In 2021, Tesla faced risks such as competition for skilled labor, negative publicity, potential impacts from staff reductions and the departure of senior personnel, competition from financially stronger companies, dependence on Elon Musk, potential cyber-attacks or security incidents, competition in the energy generation and storage business, potential issues with components manufactured at their Gigafactories, risks associated with international operations, and the potential for product defects or delays in functionality.\n",
      "\n",
      "In contrast, the risks in 2020 were largely influenced by the global COVID-19 pandemic, which affected macroeconomic conditions, government regulations, and social behaviors. This led to temporary suspensions of operations at manufacturing facilities, temporary employee furloughs and compensation reductions, and challenges in new vehicle deliveries, used vehicle sales, and energy product deployments. Global trade conditions and consumer trends, such as port congestion and microchip supply shortages, also posed risks to Tesla's business.\n",
      "\n",
      "While both years presented unique challenges, the risks in 2021 were more related to competition, personnel, and manufacturing issues, whereas in 2020, the risks were largely driven by external factors such as the pandemic and global trade conditions.\n"
     ]
    }
   ],
   "source": [
    "print(str(response))"
   ]
  },
  {
   "cell_type": "markdown",
   "id": "33932f60-d9e3-4710-808b-0f0bb887ed7e",
   "metadata": {},
   "source": [
    "#### Try Comparing against Baseline"
   ]
  },
  {
   "cell_type": "code",
   "execution_count": null,
   "id": "da93ebd2-5816-4bc5-a938-39463b6fffae",
   "metadata": {},
   "outputs": [],
   "source": [
    "vector_index_2021 = VectorStoreIndex(nodes_2021)\n",
    "vector_query_engine_2021 = vector_index_2021.as_query_engine(\n",
    "    similarity_top_k=2\n",
    ")\n",
    "vector_index_2020 = VectorStoreIndex(nodes_2020)\n",
    "vector_query_engine_2020 = vector_index_2020.as_query_engine(\n",
    "    similarity_top_k=2\n",
    ")\n",
    "# setup base query engine as tool\n",
    "query_engine_tools = [\n",
    "    QueryEngineTool(\n",
    "        query_engine=vector_query_engine_2021,\n",
    "        metadata=ToolMetadata(\n",
    "            name=\"tesla_2021_10k\",\n",
    "            description=(\n",
    "                \"Provides information about Tesla financials for year 2021\"\n",
    "            ),\n",
    "        ),\n",
    "    ),\n",
    "    QueryEngineTool(\n",
    "        query_engine=vector_query_engine_2020,\n",
    "        metadata=ToolMetadata(\n",
    "            name=\"tesla_2020_10k\",\n",
    "            description=(\n",
    "                \"Provides information about Tesla financials for year 2020\"\n",
    "            ),\n",
    "        ),\n",
    "    ),\n",
    "]\n",
    "\n",
    "base_sub_query_engine = SubQuestionQueryEngine.from_defaults(\n",
    "    query_engine_tools=query_engine_tools,\n",
    "    llm=llm,\n",
    "    use_async=True,\n",
    ")"
   ]
  },
  {
   "cell_type": "code",
   "execution_count": null,
   "id": "6a6c7362-287a-4d62-859c-44af5c06aedd",
   "metadata": {},
   "outputs": [
    {
     "name": "stdout",
     "output_type": "stream",
     "text": [
      "Generated 2 sub questions.\n",
      "\u001b[1;3;38;2;237;90;200m[tesla_2021_10k] Q: What was the cash flow of Tesla in 2021?\n",
      "\u001b[0m\u001b[1;3;38;2;90;149;237m[tesla_2020_10k] Q: What was the cash flow of Tesla in 2020?\n",
      "\u001b[0m\u001b[1;3;38;2;90;149;237m[tesla_2020_10k] A: Tesla had a cash flow of $5.94 billion in 2020.\n",
      "\u001b[0m\u001b[1;3;38;2;237;90;200m[tesla_2021_10k] A: The cash flow of Tesla in 2021 cannot be determined based on the given context information.\n",
      "\u001b[0mI'm sorry, but the cash flow of Tesla in 2021 is not specified, so a comparison with the 2020 cash flow of $5.94 billion cannot be made.\n"
     ]
    }
   ],
   "source": [
    "response = base_sub_query_engine.query(\n",
    "    \"Can you compare and contrast the cash flow in 2021 with 2020?\"\n",
    ")\n",
    "print(str(response))"
   ]
  }
 ],
 "metadata": {
  "kernelspec": {
   "display_name": "llama_index_v2",
   "language": "python",
   "name": "llama_index_v2"
  },
  "language_info": {
   "codemirror_mode": {
    "name": "ipython",
    "version": 3
   },
   "file_extension": ".py",
   "mimetype": "text/x-python",
   "name": "python",
   "nbconvert_exporter": "python",
   "pygments_lexer": "ipython3"
  }
 },
 "nbformat": 4,
 "nbformat_minor": 5
}
