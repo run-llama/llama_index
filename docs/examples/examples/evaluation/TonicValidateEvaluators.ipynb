{
 "cells": [
  {
   "cell_type": "markdown",
   "id": "55c4401c-71f2-4cf2-a7c3-5cd490302e1b",
   "metadata": {},
   "source": [
    "<a target=\"_blank\" href=\"https://colab.research.google.com/github/run-llama/llama_index/blob/main/docs/docs/examples/evaluation/TonicValidateEvaluators.ipynb\">\n",
    "  <img src=\"https://colab.research.google.com/assets/colab-badge.svg\" alt=\"Open In Colab\"/>\n",
    "</a>"
   ]
  },
  {
   "cell_type": "markdown",
   "id": "c8971d2b-ceda-48c7-8ebb-5d2b5039c8f9",
   "metadata": {},
   "source": [
    "# Tonic Validate Evaluators\n",
    "\n",
    "This notebook has some basic usage examples of how to use [Tonic Validate](https://github.com/TonicAI/tonic_validate)'s RAGs metrics using LlamaIndex. To use these evaluators, you need to have `tonic_validate` installed, which you can install via `pip install tonic-validate`."
   ]
  },
  {
   "cell_type": "code",
   "execution_count": null,
   "id": "04f90e80",
   "metadata": {},
   "outputs": [],
   "source": [
    "%pip install llama-index-evaluation-tonic-validate"
   ]
  },
  {
   "cell_type": "code",
   "execution_count": null,
   "id": "4da81670-8004-4124-b8f0-2db7decb19b6",
   "metadata": {},
   "outputs": [],
   "source": [
    "import json\n",
    "\n",
    "import pandas as pd\n",
    "from llama_index.core import VectorStoreIndex, SimpleDirectoryReader\n",
    "from llama_index.evaluation.tonic_validate import (\n",
    "    AnswerConsistencyEvaluator,\n",
    "    AnswerSimilarityEvaluator,\n",
    "    AugmentationAccuracyEvaluator,\n",
    "    AugmentationPrecisionEvaluator,\n",
    "    RetrievalPrecisionEvaluator,\n",
    "    TonicValidateEvaluator,\n",
    ")"
   ]
  },
  {
   "cell_type": "markdown",
   "id": "2d1cb065-ae86-4054-8a1e-ed3e1a58aa1c",
   "metadata": {},
   "source": [
    "## One Question Usage Example"
   ]
  },
  {
   "cell_type": "markdown",
   "id": "b0033ce8-fc3d-4e15-8153-be529065a240",
   "metadata": {},
   "source": [
    "For this example, we have an example of a question with a reference correct answer that does not match the LLM response answer. There are two retrieved context chunks, of which one of them has the correct answer."
   ]
  },
  {
   "cell_type": "code",
   "execution_count": null,
   "id": "3f1a592e-5c31-4132-964e-5d89bc7e46da",
   "metadata": {},
   "outputs": [],
   "source": [
    "question = \"What makes Sam Altman a good founder?\"\n",
    "reference_answer = \"He is smart and has a great force of will.\"\n",
    "llm_answer = \"He is a good founder because he is smart.\"\n",
    "retrieved_context_list = [\n",
    "    \"Sam Altman is a good founder. He is very smart.\",\n",
    "    \"What makes Sam Altman such a good founder is his great force of will.\",\n",
    "]"
   ]
  },
  {
   "cell_type": "markdown",
   "id": "1bebb6f7-244d-4e54-bb7c-a92148e4a0e2",
   "metadata": {},
   "source": [
    "The answer similarity score is a score between 0 and 5 that scores how well the LLM answer matches the reference answer. In this case, they do not match perfectly, so the answer similarity score is not a perfect 5."
   ]
  },
  {
   "cell_type": "code",
   "execution_count": null,
   "id": "33e75285-1924-4947-936b-11ba87a54036",
   "metadata": {},
   "outputs": [
    {
     "data": {
      "text/plain": [
       "EvaluationResult(query='What makes Sam Altman a good founder?', contexts=['Sam Altman is a good founder. He is very smart.', 'What makes Sam Altman such a good founder is his great force of will.'], response='He is a good founder because he is smart.', passing=None, feedback=None, score=4.0, pairwise_source=None, invalid_result=False, invalid_reason=None)"
      ]
     },
     "execution_count": null,
     "metadata": {},
     "output_type": "execute_result"
    }
   ],
   "source": [
    "answer_similarity_evaluator = AnswerSimilarityEvaluator()\n",
    "score = await answer_similarity_evaluator.aevaluate(\n",
    "    question,\n",
    "    llm_answer,\n",
    "    retrieved_context_list,\n",
    "    reference_response=reference_answer,\n",
    ")\n",
    "score"
   ]
  },
  {
   "cell_type": "markdown",
   "id": "5dd80d97-bbd5-44ed-adf4-34cb5f5ddcd3",
   "metadata": {},
   "source": [
    "The answer consistency score is between 0.0 and 1.0, and measure whether the answer has information that does not appear in the retrieved context. In this case, the answer does appear in the retrieved context, so the score is 1. "
   ]
  },
  {
   "cell_type": "code",
   "execution_count": null,
   "id": "93a029a0-1799-427e-9a1d-1ff4503d9639",
   "metadata": {},
   "outputs": [
    {
     "data": {
      "text/plain": [
       "EvaluationResult(query='What makes Sam Altman a good founder?', contexts=['Sam Altman is a good founder. He is very smart.', 'What makes Sam Altman such a good founder is his great force of will.'], response='He is a good founder because he is smart.', passing=None, feedback=None, score=1.0, pairwise_source=None, invalid_result=False, invalid_reason=None)"
      ]
     },
     "execution_count": null,
     "metadata": {},
     "output_type": "execute_result"
    }
   ],
   "source": [
    "answer_consistency_evaluator = AnswerConsistencyEvaluator()\n",
    "\n",
    "score = await answer_consistency_evaluator.aevaluate(\n",
    "    question, llm_answer, retrieved_context_list\n",
    ")\n",
    "score"
   ]
  },
  {
   "cell_type": "markdown",
   "id": "be605a98-8a53-49b0-af98-f045e1de017a",
   "metadata": {},
   "source": [
    "Augmentation accuracy measeures the percentage of the retrieved context that is in the answer. In this case, one of the retrieved contexts is in the answer, so this score is 0.5."
   ]
  },
  {
   "cell_type": "code",
   "execution_count": null,
   "id": "88c84e9f-aaf6-438e-aa63-c0578e3394fc",
   "metadata": {},
   "outputs": [
    {
     "data": {
      "text/plain": [
       "EvaluationResult(query='What makes Sam Altman a good founder?', contexts=['Sam Altman is a good founder. He is very smart.', 'What makes Sam Altman such a good founder is his great force of will.'], response='He is a good founder because he is smart.', passing=None, feedback=None, score=0.5, pairwise_source=None, invalid_result=False, invalid_reason=None)"
      ]
     },
     "execution_count": null,
     "metadata": {},
     "output_type": "execute_result"
    }
   ],
   "source": [
    "augmentation_accuracy_evaluator = AugmentationAccuracyEvaluator()\n",
    "\n",
    "score = await augmentation_accuracy_evaluator.aevaluate(\n",
    "    question, llm_answer, retrieved_context_list\n",
    ")\n",
    "score"
   ]
  },
  {
   "cell_type": "markdown",
   "id": "8222c185-c076-420f-b5c1-242bb6ac6c54",
   "metadata": {},
   "source": [
    "Augmentation precision measures whether the relevant retrieved context makes it into the answer. Both of the retrieved contexts are relevant, but only one makes it into the answer. For that reason, this score is 0.5."
   ]
  },
  {
   "cell_type": "code",
   "execution_count": null,
   "id": "2724130f-43f8-45b7-a48a-3b3cccde26a0",
   "metadata": {},
   "outputs": [
    {
     "data": {
      "text/plain": [
       "EvaluationResult(query='What makes Sam Altman a good founder?', contexts=['Sam Altman is a good founder. He is very smart.', 'What makes Sam Altman such a good founder is his great force of will.'], response='He is a good founder because he is smart.', passing=None, feedback=None, score=0.5, pairwise_source=None, invalid_result=False, invalid_reason=None)"
      ]
     },
     "execution_count": null,
     "metadata": {},
     "output_type": "execute_result"
    }
   ],
   "source": [
    "augmentation_precision_evaluator = AugmentationPrecisionEvaluator()\n",
    "\n",
    "score = await augmentation_precision_evaluator.aevaluate(\n",
    "    question, llm_answer, retrieved_context_list\n",
    ")\n",
    "score"
   ]
  },
  {
   "cell_type": "markdown",
   "id": "9e021de2-0902-494d-9b97-7996533138ff",
   "metadata": {},
   "source": [
    "Retrieval precision measures the percentage of retrieved context is relevant to answer the question. In this case, both of the retrieved contexts are relevant to answer the question, so the score is 1.0."
   ]
  },
  {
   "cell_type": "code",
   "execution_count": null,
   "id": "7d6c7b50-4670-4c2a-a37e-c341e882c406",
   "metadata": {},
   "outputs": [
    {
     "data": {
      "text/plain": [
       "EvaluationResult(query='What makes Sam Altman a good founder?', contexts=['Sam Altman is a good founder. He is very smart.', 'What makes Sam Altman such a good founder is his great force of will.'], response='He is a good founder because he is smart.', passing=None, feedback=None, score=1.0, pairwise_source=None, invalid_result=False, invalid_reason=None)"
      ]
     },
     "execution_count": null,
     "metadata": {},
     "output_type": "execute_result"
    }
   ],
   "source": [
    "retrieval_precision_evaluator = RetrievalPrecisionEvaluator()\n",
    "\n",
    "score = await retrieval_precision_evaluator.aevaluate(\n",
    "    question, llm_answer, retrieved_context_list\n",
    ")\n",
    "score"
   ]
  },
  {
   "cell_type": "markdown",
   "id": "4faf4cd0-4e8f-4540-876a-bfdeefa7b241",
   "metadata": {},
   "source": [
    "The `TonicValidateEvaluator` can calculate all of Tonic Validate's metrics at once."
   ]
  },
  {
   "cell_type": "code",
   "execution_count": null,
   "id": "33bd6f82-0e70-4989-ade1-dab28c4cf12c",
   "metadata": {},
   "outputs": [],
   "source": [
    "tonic_validate_evaluator = TonicValidateEvaluator()\n",
    "\n",
    "scores = await tonic_validate_evaluator.aevaluate(\n",
    "    question,\n",
    "    llm_answer,\n",
    "    retrieved_context_list,\n",
    "    reference_response=reference_answer,\n",
    ")"
   ]
  },
  {
   "cell_type": "code",
   "execution_count": null,
   "id": "3da07443-8016-4787-b272-d0749e2ce945",
   "metadata": {},
   "outputs": [
    {
     "data": {
      "text/plain": [
       "{'answer_consistency': 1.0,\n",
       " 'answer_similarity': 4.0,\n",
       " 'augmentation_accuracy': 0.5,\n",
       " 'augmentation_precision': 0.5,\n",
       " 'retrieval_precision': 1.0}"
      ]
     },
     "execution_count": null,
     "metadata": {},
     "output_type": "execute_result"
    }
   ],
   "source": [
    "scores.score_dict"
   ]
  },
  {
   "cell_type": "markdown",
   "id": "b7d0476e-3468-434a-9fa8-860f952b85e8",
   "metadata": {},
   "source": [
    "You can also evaluate more than one query and response at once using `TonicValidateEvaluator`, and return a `tonic_validate` `Run` object that can be logged to the Tonic Validate UI (validate.tonic.ai).\n",
    "\n",
    "To do this, you put the questions, LLM answers, retrieved context lists, and reference answers into lists and cal `evaluate_run`."
   ]
  },
  {
   "cell_type": "code",
   "execution_count": null,
   "id": "4e2911ee-4fb4-48cb-bf16-ba3c8aa8cc1f",
   "metadata": {},
   "outputs": [
    {
     "data": {
      "text/plain": [
       "{'answer_consistency': 1.0,\n",
       " 'answer_similarity': 3.0,\n",
       " 'augmentation_accuracy': 0.5,\n",
       " 'augmentation_precision': 0.5,\n",
       " 'retrieval_precision': 1.0}"
      ]
     },
     "execution_count": null,
     "metadata": {},
     "output_type": "execute_result"
    }
   ],
   "source": [
    "tonic_validate_evaluator = TonicValidateEvaluator()\n",
    "\n",
    "scores = await tonic_validate_evaluator.aevaluate_run(\n",
    "    [question], [llm_answer], [retrieved_context_list], [reference_answer]\n",
    ")\n",
    "scores.run_data[0].scores"
   ]
  },
  {
   "cell_type": "markdown",
   "id": "965034c9-d9c4-42c8-9ef9-73ccbdb80a4d",
   "metadata": {},
   "source": [
    "## Labelled RAG Dataset Example\n",
    "\n",
    "Let's use the dataset `EvaluatingLlmSurveyPaperDataset` and evaluate the default LlamaIndex RAG system using Tonic Validate's answer similarity score. `EvaluatingLlmSurveyPaperDataset` is a `LabelledRagDataset`, so it contains reference correct answers for each question. The dataset contains 276 questions and reference answers about the paper *Evaluating Large Language Models: A Comprehensive Survey*.\n",
    "\n",
    "We'll use `TonicValidateEvaluator` with the answer similarity score metric to evaluate the responses from the default RAG system on this dataset."
   ]
  },
  {
   "cell_type": "code",
   "execution_count": null,
   "id": "b66c81cb-b6a4-45ac-b67c-e5fbc048c4e2",
   "metadata": {},
   "outputs": [
    {
     "name": "stdout",
     "output_type": "stream",
     "text": [
      "100%|█████████████████████████████████████████████| 1/1 [00:00<00:00,  2.09it/s]\n",
      "Successfully downloaded EvaluatingLlmSurveyPaperDataset to ./data\n"
     ]
    }
   ],
   "source": [
    "!llamaindex-cli download-llamadataset EvaluatingLlmSurveyPaperDataset --download-dir ./data\n",
    "from llama_index.core import SimpleDirectoryReader\n",
    "\n",
    "from llama_index.core.llama_dataset import LabelledRagDataset\n",
    "\n",
    "from llama_index.core import VectorStoreIndex\n",
    "\n",
    "\n",
    "rag_dataset = LabelledRagDataset.from_json(\"./data/rag_dataset.json\")\n",
    "\n",
    "documents = SimpleDirectoryReader(input_dir=\"./data/source_files\").load_data(\n",
    "    num_workers=4\n",
    ")  # parallel loading\n",
    "\n",
    "index = VectorStoreIndex.from_documents(documents=documents)\n",
    "\n",
    "query_engine = index.as_query_engine()\n",
    "\n",
    "predictions_dataset = rag_dataset.make_predictions_with(query_engine)\n",
    "\n",
    "questions, retrieved_context_lists, reference_answers, llm_answers = zip(\n",
    "    *[\n",
    "        (e.query, e.reference_contexts, e.reference_answer, p.response)\n",
    "        for e, p in zip(rag_dataset.examples, predictions_dataset.predictions)\n",
    "    ]\n",
    ")"
   ]
  },
  {
   "cell_type": "code",
   "execution_count": null,
   "id": "9be77d16-70db-4cc7-b7f8-5f93a024540b",
   "metadata": {},
   "outputs": [],
   "source": [
    "from tonic_validate.metrics import AnswerSimilarityMetric\n",
    "\n",
    "tonic_validate_evaluator = TonicValidateEvaluator(\n",
    "    metrics=[AnswerSimilarityMetric()], model_evaluator=\"gpt-4-1106-preview\"\n",
    ")\n",
    "\n",
    "scores = await tonic_validate_evaluator.aevaluate_run(\n",
    "    questions, retrieved_context_lists, reference_answers, llm_answers\n",
    ")"
   ]
  },
  {
   "cell_type": "markdown",
   "id": "d5077156-5e2b-40b9-97cb-bc25b7f5a734",
   "metadata": {},
   "source": [
    "The `overall_scores` gives the average score over the 276 questions in the dataset."
   ]
  },
  {
   "cell_type": "code",
   "execution_count": null,
   "id": "41436382-effb-40f4-8be9-5314e67cf6be",
   "metadata": {},
   "outputs": [
    {
     "data": {
      "text/plain": [
       "{'answer_similarity': 2.2644927536231885}"
      ]
     },
     "execution_count": null,
     "metadata": {},
     "output_type": "execute_result"
    }
   ],
   "source": [
    "scores.overall_scores"
   ]
  },
  {
   "cell_type": "markdown",
   "id": "aed68631-991b-4b92-ac4c-d6f2f0b7360e",
   "metadata": {},
   "source": [
    "Using `pandas` and `matplotlib`, we can plot a histogram of the similarity scores."
   ]
  },
  {
   "cell_type": "code",
   "execution_count": null,
   "id": "1dd48f50-61d6-452c-9a28-b58fbdbf7a89",
   "metadata": {},
   "outputs": [
    {
     "data": {
      "image/png": "[encoded data removed]",
      "text/plain": [
       "<Figure size 640x480 with 1 Axes>"
      ]
     },
     "metadata": {},
     "output_type": "display_data"
    }
   ],
   "source": [
    "import matplotlib.pyplot as plt\n",
    "import pandas as pd\n",
    "\n",
    "score_list = [x.scores[\"answer_similarity\"] for x in scores.run_data]\n",
    "value_counts = pd.Series(score_list).value_counts()\n",
    "\n",
    "fig, ax = plt.subplots()\n",
    "ax.bar(list(value_counts.index), list(value_counts))\n",
    "ax.set_title(\"Answer Similarity Score Value Counts\")\n",
    "plt.show()"
   ]
  },
  {
   "cell_type": "markdown",
   "id": "f42f83e7-bab1-41d5-b7f9-710e34f0a7ea",
   "metadata": {},
   "source": [
    "As 0 is the most common score, there is much room for improvement. This makes sense, as we are using the default parameters. We could imrpove these results by tuning the many possible RAG parameters to optimize this score."
   ]
  }
 ],
 "metadata": {
  "kernelspec": {
   "display_name": "Python (tvalmetrics_test_env)",
   "language": "python",
   "name": "tvalmetrics_test_env"
  },
  "language_info": {
   "codemirror_mode": {
    "name": "ipython",
    "version": 3
   },
   "file_extension": ".py",
   "mimetype": "text/x-python",
   "name": "python",
   "nbconvert_exporter": "python",
   "pygments_lexer": "ipython3"
  }
 },
 "nbformat": 4,
 "nbformat_minor": 5
}
