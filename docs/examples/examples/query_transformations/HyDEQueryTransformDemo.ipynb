{
 "cells": [
  {
   "cell_type": "markdown",
   "id": "033d7aed",
   "metadata": {},
   "source": [
    "<a href=\"https://colab.research.google.com/github/run-llama/llama_index/blob/main/docs/docs/examples/query_transformations/HyDEQueryTransformDemo.ipynb\" target=\"_parent\"><img src=\"https://colab.research.google.com/assets/colab-badge.svg\" alt=\"Open In Colab\"/></a>"
   ]
  },
  {
   "attachments": {},
   "cell_type": "markdown",
   "id": "f20bdf25",
   "metadata": {},
   "source": [
    "# HyDE Query Transform"
   ]
  },
  {
   "cell_type": "markdown",
   "id": "253d133b",
   "metadata": {},
   "source": [
    "If you're opening this Notebook on colab, you will probably need to install LlamaIndex 🦙."
   ]
  },
  {
   "cell_type": "code",
   "execution_count": null,
   "id": "43a24712",
   "metadata": {},
   "outputs": [],
   "source": [
    "!pip install llama-index"
   ]
  },
  {
   "cell_type": "markdown",
   "id": "1f01e0e2",
   "metadata": {},
   "source": [
    "### Download Data"
   ]
  },
  {
   "cell_type": "code",
   "execution_count": null,
   "id": "755aa2ee",
   "metadata": {},
   "outputs": [],
   "source": [
    "!mkdir -p 'data/paul_graham/'\n",
    "!wget 'https://raw.githubusercontent.com/run-llama/llama_index/main/docs/docs/examples/data/paul_graham/paul_graham_essay.txt' -O 'data/paul_graham/paul_graham_essay.txt'"
   ]
  },
  {
   "cell_type": "markdown",
   "id": "a1e7e17f",
   "metadata": {},
   "source": [
    "#### Load documents, build the VectorStoreIndex"
   ]
  },
  {
   "cell_type": "code",
   "execution_count": null,
   "id": "f7476659",
   "metadata": {},
   "outputs": [],
   "source": [
    "import logging\n",
    "import sys\n",
    "\n",
    "logging.basicConfig(stream=sys.stdout, level=logging.INFO)\n",
    "logging.getLogger().addHandler(logging.StreamHandler(stream=sys.stdout))\n",
    "\n",
    "from llama_index.core import VectorStoreIndex, SimpleDirectoryReader\n",
    "from llama_index.core.indices.query.query_transform import HyDEQueryTransform\n",
    "from llama_index.core.query_engine import TransformQueryEngine\n",
    "from IPython.display import Markdown, display"
   ]
  },
  {
   "cell_type": "code",
   "execution_count": null,
   "id": "16ff354a",
   "metadata": {},
   "outputs": [],
   "source": [
    "# load documents\n",
    "documents = SimpleDirectoryReader(\"./data/paul_graham/\").load_data()"
   ]
  },
  {
   "cell_type": "code",
   "execution_count": null,
   "id": "7d6a1b5e",
   "metadata": {},
   "outputs": [],
   "source": [
    "index = VectorStoreIndex.from_documents(documents)"
   ]
  },
  {
   "cell_type": "markdown",
   "id": "1cec25b6",
   "metadata": {},
   "source": [
    "## Example: HyDE improves specific temporal queries"
   ]
  },
  {
   "cell_type": "code",
   "execution_count": null,
   "id": "f3c39ddd",
   "metadata": {},
   "outputs": [],
   "source": [
    "query_str = \"what did paul graham do after going to RISD\""
   ]
  },
  {
   "cell_type": "markdown",
   "id": "8b022d86",
   "metadata": {},
   "source": [
    "#### First, we query *without* transformation: The same query string is used for embedding lookup and also summarization."
   ]
  },
  {
   "cell_type": "code",
   "execution_count": null,
   "id": "a5b93d35",
   "metadata": {},
   "outputs": [],
   "source": [
    "query_engine = index.as_query_engine()\n",
    "response = query_engine.query(query_str)\n",
    "display(Markdown(f\"<b>{response}</b>\"))"
   ]
  },
  {
   "cell_type": "markdown",
   "id": "d8b9a9db",
   "metadata": {},
   "source": [
    "> After going to RISD, Paul Graham continued to pursue his passion for painting and art. He took classes in the painting department at the Accademia di Belli Arti in Florence, and he also took the entrance exam for the school. He also continued to work on his book On Lisp, and he took on consulting work to make money. At the school, Paul Graham and the other students had an arrangement where the faculty wouldn't require the students to learn anything, and in return the students wouldn't require the faculty to teach anything. Paul Graham was one of the few students who actually painted the nude model that was provided, while the rest of the students spent their time chatting or occasionally trying to imitate things they'd seen in American art magazines. The model turned out to live just down the street from Paul Graham, and she made a living from a combination of modelling and making fakes for a local antique dealer."
   ]
  },
  {
   "cell_type": "markdown",
   "id": "1b117ead",
   "metadata": {},
   "source": [
    "#### Now, we use `HyDEQueryTransform` to generate a hypothetical document and use it for embedding lookup. "
   ]
  },
  {
   "cell_type": "code",
   "execution_count": null,
   "id": "8d43ee7a",
   "metadata": {},
   "outputs": [],
   "source": [
    "hyde = HyDEQueryTransform(include_original=True)\n",
    "hyde_query_engine = TransformQueryEngine(query_engine, hyde)\n",
    "response = hyde_query_engine.query(query_str)\n",
    "display(Markdown(f\"<b>{response}</b>\"))"
   ]
  },
  {
   "cell_type": "markdown",
   "id": "660c2286",
   "metadata": {},
   "source": [
    "> After going to RISD, Paul Graham worked as a consultant for Interleaf and then co-founded Viaweb with Robert Morris. They created a software that allowed users to build websites via the web and received $10,000 in seed funding from Idelle's husband Julian. They gave Julian 10% of the company in return for the initial legal work and business advice. Paul Graham had a negative net worth due to taxes he owed, so the seed funding was necessary for him to live on. They opened for business in January 1996 with 6 stores.\n",
    "\n",
    "> Paul Graham then left Yahoo after his options vested and went back to New York. He resumed his old life, but now he was rich. He tried to paint, but he didn't have much energy or ambition. He eventually moved back to Cambridge and started working on a web app for making web apps. He recruited Dan Giffin and two undergrads to help him, but he eventually realized he didn't want to run a company and decided to build a subset of the project as an open source project. He and Dan worked on a new dialect of Lisp, which he called Arc, in a house he bought in Cambridge. The subset he built as an open source project was the new Lisp, whose"
   ]
  },
  {
   "cell_type": "markdown",
   "id": "84f4ba19",
   "metadata": {},
   "source": [
    "#### In this example, `HyDE` improves output quality significantly, by hallucinating accurately what Paul Graham did after RISD (see below), and thus improving the embedding quality, and final output."
   ]
  },
  {
   "cell_type": "code",
   "execution_count": null,
   "id": "a733f80d",
   "metadata": {},
   "outputs": [],
   "source": [
    "query_bundle = hyde(query_str)\n",
    "hyde_doc = query_bundle.embedding_strs[0]"
   ]
  },
  {
   "cell_type": "code",
   "execution_count": null,
   "id": "30e11fc3",
   "metadata": {},
   "outputs": [],
   "source": [
    "hyde_doc"
   ]
  },
  {
   "cell_type": "markdown",
   "id": "d66a4296",
   "metadata": {},
   "source": [
    "> After graduating from the Rhode Island School of Design (RISD) in 1985, Paul Graham went on to pursue a career in computer programming. He worked as a software developer for several companies, including Viaweb, which he co-founded in 1995. Viaweb was eventually acquired by Yahoo in 1998, and Graham used the proceeds to become a venture capitalist. He founded Y Combinator in 2005, a startup accelerator that has helped launch over 2,000 companies, including Dropbox, Airbnb, and Reddit. Graham has also written several books on programming and startups, and he continues to be an active investor in the tech industry."
   ]
  },
  {
   "cell_type": "markdown",
   "id": "e5099208",
   "metadata": {},
   "source": [
    "## Failure case 1: HyDE may mislead when query can be mis-interpreted without context."
   ]
  },
  {
   "cell_type": "code",
   "execution_count": null,
   "id": "2e2c0f87",
   "metadata": {},
   "outputs": [],
   "source": [
    "query_str = \"What is Bel?\""
   ]
  },
  {
   "cell_type": "markdown",
   "id": "4bed7470",
   "metadata": {},
   "source": [
    "### Querying without transformation yields reasonable answer"
   ]
  },
  {
   "cell_type": "code",
   "execution_count": null,
   "id": "da43432f",
   "metadata": {},
   "outputs": [],
   "source": [
    "response = query_engine.query(query_str)\n",
    "display(Markdown(f\"<b>{response}</b>\"))"
   ]
  },
  {
   "cell_type": "markdown",
   "id": "1a7ad6e2",
   "metadata": {},
   "source": [
    "> Bel is a programming language that was written in Arc by Paul Graham over the course of four years (March 26, 2015 to October 12, 2019). It is based on John McCarthy's original Lisp, but with additional features added. It is a spec expressed as code, and is meant to be a formal model of computation, an alternative to the Turing machine."
   ]
  },
  {
   "cell_type": "markdown",
   "id": "9fa43d10",
   "metadata": {},
   "source": [
    "#### Querying with `HyDEQueryTransform` results in nonsense"
   ]
  },
  {
   "cell_type": "code",
   "execution_count": null,
   "id": "b2f7be02",
   "metadata": {},
   "outputs": [],
   "source": [
    "hyde = HyDEQueryTransform(include_original=True)\n",
    "hyde_query_engine = TransformQueryEngine(query_engine, hyde)\n",
    "response = hyde_query_engine.query(query_str)\n",
    "display(Markdown(f\"<b>{response}</b>\"))"
   ]
  },
  {
   "cell_type": "markdown",
   "id": "9d910f39",
   "metadata": {},
   "source": [
    "> Bel is the pseudonym of Paul Graham, the author of the context information who was in need of seed funding to live on and was part of a deal that became the model for Y Combinator's."
   ]
  },
  {
   "cell_type": "markdown",
   "id": "59d82d63",
   "metadata": {},
   "source": [
    "#### In this example, `HyDE` mis-interprets Bel without document context (see below), resulting in a completely unrelated embedding string and poor retrieval outcome."
   ]
  },
  {
   "cell_type": "code",
   "execution_count": null,
   "id": "3e771a56",
   "metadata": {},
   "outputs": [],
   "source": [
    "query_bundle = hyde(query_str)\n",
    "hyde_doc = query_bundle.embedding_strs[0]"
   ]
  },
  {
   "cell_type": "code",
   "execution_count": null,
   "id": "8f5ca4c7",
   "metadata": {},
   "outputs": [],
   "source": [
    "hyde_doc"
   ]
  },
  {
   "cell_type": "markdown",
   "id": "b879b64b",
   "metadata": {},
   "source": [
    "> Bel is an ancient Semitic god, originating from the Middle East. He is often associated with the sun and is sometimes referred to as the \"Lord of Heaven\". Bel is also known as the god of fertility, abundance, and prosperity. He is often depicted as a bull or a man with a bull\\'s head. In some cultures, Bel is seen as a creator god, responsible for the creation of the universe. He is also associated with the underworld and is sometimes seen as a god of death. Bel is also associated with justice and is often seen as a protector of the innocent. Bel is an important figure in many religions, including Judaism, Christianity, and Islam."
   ]
  },
  {
   "cell_type": "markdown",
   "id": "7b8df34d",
   "metadata": {},
   "source": [
    "## Failure case 2: HyDE may bias open-ended queries"
   ]
  },
  {
   "cell_type": "code",
   "execution_count": null,
   "id": "3942dc8d",
   "metadata": {},
   "outputs": [],
   "source": [
    "query_str = \"What would the author say about art vs. engineering?\""
   ]
  },
  {
   "cell_type": "markdown",
   "id": "decc9107",
   "metadata": {},
   "source": [
    "#### Querying without transformation yields a reasonable answer"
   ]
  },
  {
   "cell_type": "code",
   "execution_count": null,
   "id": "168fab08",
   "metadata": {},
   "outputs": [],
   "source": [
    "response = query_engine.query(query_str)\n",
    "display(Markdown(f\"<b>{response}</b>\"))"
   ]
  },
  {
   "cell_type": "markdown",
   "id": "c1e4939b",
   "metadata": {},
   "source": [
    "> The author would likely say that art and engineering are two different disciplines that require different skills and approaches. Art is more focused on expression and creativity, while engineering is more focused on problem-solving and technical knowledge. The author also suggests that art school does not always provide the same level of rigor as engineering school, and that painting students are often encouraged to develop a signature style rather than learn the fundamentals of painting. Furthermore, the author would likely point out that engineering can provide more financial stability than art, as evidenced by the author's own experience of needing seed funding to live on while launching a company."
   ]
  },
  {
   "cell_type": "markdown",
   "id": "d01a0ed4",
   "metadata": {},
   "source": [
    "#### Querying with `HyDEQueryTransform` results in a more biased output"
   ]
  },
  {
   "cell_type": "code",
   "execution_count": null,
   "id": "0229cf6f",
   "metadata": {},
   "outputs": [],
   "source": [
    "response = hyde_query_engine.query(query_str)\n",
    "display(Markdown(f\"<b>{response}</b>\"))"
   ]
  },
  {
   "cell_type": "markdown",
   "id": "16c8f053",
   "metadata": {},
   "source": [
    "> The author would likely say that art is a more lasting and independent form of work than engineering. They mention that software written today will be obsolete in a couple decades, and that systems work does not last. In contrast, they note that paintings can last hundreds of years and that it is possible to make a living as an artist. They also mention that as an artist, you can be truly independent and don't need to have a boss or research funding. Furthermore, they note that art can be a source of income for people who may not have access to traditional forms of employment, such as the model in the example who was able to make a living from modelling and making fakes for a local antique dealer."
   ]
  }
 ],
 "metadata": {
  "kernelspec": {
   "display_name": "Python 3 (ipykernel)",
   "language": "python",
   "name": "python3"
  },
  "language_info": {
   "codemirror_mode": {
    "name": "ipython",
    "version": 3
   },
   "file_extension": ".py",
   "mimetype": "text/x-python",
   "name": "python",
   "nbconvert_exporter": "python",
   "pygments_lexer": "ipython3"
  }
 },
 "nbformat": 4,
 "nbformat_minor": 5
}
