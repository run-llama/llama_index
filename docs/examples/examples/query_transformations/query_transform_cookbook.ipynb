{
 "cells": [
  {
   "cell_type": "markdown",
   "id": "331f5d8c-3041-4d69-a957-93a79b335562",
   "metadata": {},
   "source": [
    "# Query Transform Cookbook \n",
    "\n",
    "<a href=\"https://colab.research.google.com/github/run-llama/llama_index/blob/main/docs/docs/examples/query_transformations/query_transform_cookbook.ipynb\" target=\"_parent\"><img src=\"https://colab.research.google.com/assets/colab-badge.svg\" alt=\"Open In Colab\"/></a>\n",
    "\n",
    "A user query can be transformed and decomposed in many ways before being executed as part of a RAG query engine, agent, or any other pipeline.\n",
    "\n",
    "In this guide we show you different ways to transform, decompose queries, and find the set of relevant tools. Each technique might be applicable for different use cases!\n",
    "\n",
    "For naming purposes, we define the underlying pipeline as a \"tool\". Here are the different query transformations:\n",
    "\n",
    "1. **Routing**: Keep the query, but identify the relevant subset of tools that the query applies to. Output those tools as the relevant choices.\n",
    "2. **Query-Rewriting**: Keep the tools, but rewrite the query in a variety of different ways to execute against the same tools.\n",
    "3. **Sub-Questions**: Decompose queries into multiple sub-questions over different tools (identified by their metadata).\n",
    "4. **ReAct Agent Tool Picking**: Given the initial query, identify 1) the tool to pick, and 2) the query to execute on the tool.\n",
    "\n",
    "The goal of this guide is to show you how to use these query transforms as **modular** components. Of course, each of these components plug into a bigger system (e.g. the sub-question generator is a part of our `SubQuestionQueryEngine`) - and the guides for each of these are linked below.\n",
    "\n",
    "Take a look and let us know your thoughts! "
   ]
  },
  {
   "cell_type": "code",
   "execution_count": null,
   "id": "8c100403",
   "metadata": {},
   "outputs": [],
   "source": [
    "%pip install llama-index-question-gen-openai\n",
    "%pip install llama-index-llms-openai"
   ]
  },
  {
   "cell_type": "code",
   "execution_count": null,
   "id": "30451d5d-91a8-4148-bdf8-a4b4fd8ab0fc",
   "metadata": {},
   "outputs": [],
   "source": [
    "from IPython.display import Markdown, display\n",
    "\n",
    "\n",
    "# define prompt viewing function\n",
    "def display_prompt_dict(prompts_dict):\n",
    "    for k, p in prompts_dict.items():\n",
    "        text_md = f\"**Prompt Key**: {k}<br>\" f\"**Text:** <br>\"\n",
    "        display(Markdown(text_md))\n",
    "        print(p.get_template())\n",
    "        display(Markdown(\"<br><br>\"))"
   ]
  },
  {
   "cell_type": "markdown",
   "id": "c0023e21-1bd2-46cb-b829-c697d1132862",
   "metadata": {},
   "source": [
    "## Routing\n",
    "\n",
    "In this example, we show how a query can be used to select the set of relevant tool choices. \n",
    "\n",
    "We use our `selector` abstraction to pick the relevant tool(s) - it can be a single tool, or a multiple tool depending on the abstraction.\n",
    "\n",
    "We have four selectors: combination of (LLM or function calling) x (single selection or multi-selection)"
   ]
  },
  {
   "cell_type": "code",
   "execution_count": null,
   "id": "ec907783-a091-4ae8-b8a5-d81ae3ede92b",
   "metadata": {},
   "outputs": [],
   "source": [
    "from llama_index.core.selectors import LLMSingleSelector, LLMMultiSelector\n",
    "from llama_index.core.selectors import (\n",
    "    PydanticMultiSelector,\n",
    "    PydanticSingleSelector,\n",
    ")"
   ]
  },
  {
   "cell_type": "code",
   "execution_count": null,
   "id": "6f5000dc-17db-4a1b-8859-b6651a2a9465",
   "metadata": {},
   "outputs": [],
   "source": [
    "# pydantic selectors feed in pydantic objects to a function calling API\n",
    "# single selector (pydantic, function calling)\n",
    "# selector = PydanticSingleSelector.from_defaults()\n",
    "\n",
    "# multi selector (pydantic, function calling)\n",
    "# selector = PydanticMultiSelector.from_defaults()\n",
    "\n",
    "# LLM selectors use text completion endpoints\n",
    "# single selector (LLM)\n",
    "# selector = LLMSingleSelector.from_defaults()\n",
    "# multi selector (LLM)\n",
    "selector = LLMMultiSelector.from_defaults()"
   ]
  },
  {
   "cell_type": "code",
   "execution_count": null,
   "id": "21954a93-e2f2-460b-8073-f6a8a88ad1d2",
   "metadata": {},
   "outputs": [],
   "source": [
    "from llama_index.core.tools import ToolMetadata\n",
    "\n",
    "tool_choices = [\n",
    "    ToolMetadata(\n",
    "        name=\"covid_nyt\",\n",
    "        description=(\"This tool contains a NYT news article about COVID-19\"),\n",
    "    ),\n",
    "    ToolMetadata(\n",
    "        name=\"covid_wiki\",\n",
    "        description=(\"This tool contains the Wikipedia page about COVID-19\"),\n",
    "    ),\n",
    "    ToolMetadata(\n",
    "        name=\"covid_tesla\",\n",
    "        description=(\"This tool contains the Wikipedia page about apples\"),\n",
    "    ),\n",
    "]"
   ]
  },
  {
   "cell_type": "code",
   "execution_count": null,
   "id": "2a559269-5129-4474-aade-ee6039ff4066",
   "metadata": {},
   "outputs": [
    {
     "data": {
      "text/markdown": [
       "**Prompt Key**: prompt<br>**Text:** <br>"
      ],
      "text/plain": [
       "<IPython.core.display.Markdown object>"
      ]
     },
     "metadata": {},
     "output_type": "display_data"
    },
    {
     "name": "stdout",
     "output_type": "stream",
     "text": [
      "Some choices are given below. It is provided in a numbered list (1 to {num_choices}), where each item in the list corresponds to a summary.\n",
      "---------------------\n",
      "{context_list}\n",
      "---------------------\n",
      "Using only the choices above and not prior knowledge, return the top choices (no more than {max_outputs}, but only select what is needed) that are most relevant to the question: '{query_str}'\n",
      "\n",
      "\n",
      "The output should be ONLY JSON formatted as a JSON instance.\n",
      "\n",
      "Here is an example:\n",
      "[\n",
      "    {{\n",
      "        choice: 1,\n",
      "        reason: \"<insert reason for choice>\"\n",
      "    }},\n",
      "    ...\n",
      "]\n",
      "\n"
     ]
    },
    {
     "data": {
      "text/markdown": [
       "<br><br>"
      ],
      "text/plain": [
       "<IPython.core.display.Markdown object>"
      ]
     },
     "metadata": {},
     "output_type": "display_data"
    }
   ],
   "source": [
    "display_prompt_dict(selector.get_prompts())"
   ]
  },
  {
   "cell_type": "code",
   "execution_count": null,
   "id": "cec2fba5-8e5e-4125-9061-56ae9c707329",
   "metadata": {},
   "outputs": [],
   "source": [
    "selector_result = selector.select(\n",
    "    tool_choices, query=\"Tell me more about COVID-19\"\n",
    ")"
   ]
  },
  {
   "cell_type": "code",
   "execution_count": null,
   "id": "1cb4b53a-0861-4300-b593-ad63edb53e96",
   "metadata": {},
   "outputs": [
    {
     "data": {
      "text/plain": [
       "[SingleSelection(index=0, reason='This tool contains a NYT news article about COVID-19'),\n",
       " SingleSelection(index=1, reason='This tool contains the Wikipedia page about COVID-19')]"
      ]
     },
     "execution_count": null,
     "metadata": {},
     "output_type": "execute_result"
    }
   ],
   "source": [
    "selector_result.selections"
   ]
  },
  {
   "cell_type": "markdown",
   "id": "f7a8668c-7cd3-439d-965f-3ab9e1347f24",
   "metadata": {},
   "source": [
    "Learn more about our routing abstractions in our [dedicated Router page](https://docs.llamaindex.ai/en/stable/module_guides/querying/router/root.html)."
   ]
  },
  {
   "cell_type": "markdown",
   "id": "cc787575-e60c-4c06-8b39-b33230438e00",
   "metadata": {},
   "source": [
    "## Query Rewriting\n",
    "\n",
    "In this section, we show you how to rewrite queries into multiple queries. You can then execute all these queries against a retriever. \n",
    "\n",
    "This is a key step in advanced retrieval techniques. By doing query rewriting, you can generate multiple queries for [ensemble retrieval] and [fusion], leading to higher-quality retrieved results.\n",
    "\n",
    "Unlike the sub-question generator, this is just a prompt call, and exists independently of tools."
   ]
  },
  {
   "cell_type": "markdown",
   "id": "b38c5be2-fd99-4987-8412-2eda597da412",
   "metadata": {},
   "source": [
    "### Query Rewriting (Custom)\n",
    "\n",
    "Here we show you how to use a prompt to generate multiple queries, using our LLM and prompt abstractions."
   ]
  },
  {
   "cell_type": "code",
   "execution_count": null,
   "id": "d969dfcb-0a2b-4178-87ac-1d0444981f49",
   "metadata": {},
   "outputs": [],
   "source": [
    "from llama_index.core import PromptTemplate\n",
    "from llama_index.llms.openai import OpenAI\n",
    "\n",
    "query_gen_str = \"\"\"\\\n",
    "You are a helpful assistant that generates multiple search queries based on a \\\n",
    "single input query. Generate {num_queries} search queries, one on each line, \\\n",
    "related to the following input query:\n",
    "Query: {query}\n",
    "Queries:\n",
    "\"\"\"\n",
    "query_gen_prompt = PromptTemplate(query_gen_str)\n",
    "\n",
    "llm = OpenAI(model=\"gpt-3.5-turbo\")\n",
    "\n",
    "\n",
    "def generate_queries(query: str, llm, num_queries: int = 4):\n",
    "    response = llm.predict(\n",
    "        query_gen_prompt, num_queries=num_queries, query=query\n",
    "    )\n",
    "    # assume LLM proper put each query on a newline\n",
    "    queries = response.split(\"\\n\")\n",
    "    queries_str = \"\\n\".join(queries)\n",
    "    print(f\"Generated queries:\\n{queries_str}\")\n",
    "    return queries"
   ]
  },
  {
   "cell_type": "code",
   "execution_count": null,
   "id": "4a4f1ed7-cbd8-4177-9c29-a6ecb2e8a530",
   "metadata": {},
   "outputs": [
    {
     "name": "stdout",
     "output_type": "stream",
     "text": [
      "Generated queries:\n",
      "1. What were the major events or milestones in the history of Interleaf and Viaweb?\n",
      "2. Who were the founders and key figures involved in the development of Interleaf and Viaweb?\n",
      "3. What were the products or services offered by Interleaf and Viaweb?\n",
      "4. Are there any notable success stories or failures associated with Interleaf and Viaweb?\n"
     ]
    }
   ],
   "source": [
    "queries = generate_queries(\"What happened at Interleaf and Viaweb?\", llm)"
   ]
  },
  {
   "cell_type": "code",
   "execution_count": null,
   "id": "f416f6ba-efc8-4e30-84ea-e20466168758",
   "metadata": {},
   "outputs": [
    {
     "data": {
      "text/plain": [
       "['1. What were the major events or milestones in the history of Interleaf and Viaweb?',\n",
       " '2. Who were the founders and key figures involved in the development of Interleaf and Viaweb?',\n",
       " '3. What were the products or services offered by Interleaf and Viaweb?',\n",
       " '4. Are there any notable success stories or failures associated with Interleaf and Viaweb?']"
      ]
     },
     "execution_count": null,
     "metadata": {},
     "output_type": "execute_result"
    }
   ],
   "source": [
    "queries"
   ]
  },
  {
   "cell_type": "markdown",
   "id": "a8c6947d-8909-40f1-b7f5-565a1ab1c991",
   "metadata": {},
   "source": [
    "For more details about an e2e implementation with a retriever, check out our guides on our fusion retriever:\n",
    "- [Module Guide](https://docs.llamaindex.ai/en/stable/examples/retrievers/reciprocal_rerank_fusion.html)\n",
    "- [Build a Fusion Retriever from Scratch](https://docs.llamaindex.ai/en/latest/examples/low_level/fusion_retriever.html)"
   ]
  },
  {
   "cell_type": "markdown",
   "id": "535b3f78-1036-4878-b0fe-44f5330fdb1e",
   "metadata": {},
   "source": [
    "### Query Rewriting (using QueryTransform)\n",
    "\n",
    "In this section we show you how to do query transformations using our QueryTransform class."
   ]
  },
  {
   "cell_type": "code",
   "execution_count": null,
   "id": "3ac0639a-65ae-43cf-a68a-c9705cf7cb12",
   "metadata": {},
   "outputs": [],
   "source": [
    "from llama_index.core.indices.query.query_transform import HyDEQueryTransform\n",
    "from llama_index.llms.openai import OpenAI"
   ]
  },
  {
   "cell_type": "code",
   "execution_count": null,
   "id": "480d58fc-b5c6-41d0-b497-d147a2d1e471",
   "metadata": {},
   "outputs": [],
   "source": [
    "hyde = HyDEQueryTransform(include_original=True)\n",
    "llm = OpenAI(model=\"gpt-3.5-turbo\")\n",
    "\n",
    "query_bundle = hyde.run(\"What is Bel?\")"
   ]
  },
  {
   "cell_type": "markdown",
   "id": "8e85b339-3279-43e3-83d9-b3d16ce21016",
   "metadata": {},
   "source": [
    "This generates a query bundle that contains the original query, but also `custom_embedding_strs` representing the queries that should be embedded."
   ]
  },
  {
   "cell_type": "code",
   "execution_count": null,
   "id": "61994183-0b39-4d9a-ae74-b78f68b8dcfc",
   "metadata": {},
   "outputs": [
    {
     "data": {
      "text/plain": [
       "['Bel is a term that has multiple meanings and can be interpreted in various ways depending on the context. In ancient Mesopotamian mythology, Bel was a prominent deity and one of the chief gods of the Babylonian pantheon. He was often associated with the sky, storms, and fertility. Bel was considered to be the father of the gods and held great power and authority over the other deities.\\n\\nIn addition to its mythological significance, Bel is also a title that was used to address rulers and leaders in ancient Babylon. It was a term of respect and reverence, similar to the modern-day title of \"king\" or \"emperor.\" The title of Bel was bestowed upon those who held significant political and military power, and it symbolized their authority and dominion over their subjects.\\n\\nFurthermore, Bel is also a common given name in various cultures around the world. It can be found in different forms and variations, such as Belinda, Isabel, or Bella. As a personal name, Bel often carries connotations of beauty, grace, and strength.\\n\\nIn summary, Bel can refer to a powerful deity in ancient Mesopotamian mythology, a title of respect for rulers and leaders, or a personal name with positive attributes. The meaning of Bel can vary depending on the specific context in which it is used.',\n",
       " 'What is Bel?']"
      ]
     },
     "execution_count": null,
     "metadata": {},
     "output_type": "execute_result"
    }
   ],
   "source": [
    "new_query.custom_embedding_strs"
   ]
  },
  {
   "cell_type": "markdown",
   "id": "f4ee4457-e8dc-4527-b305-9b09fb89c1f7",
   "metadata": {},
   "source": [
    "## Sub-Questions\n",
    "\n",
    "Given a set of tools and a user query, decide both the 1) set of sub-questions to generate, and 2) the tools that each sub-question should run over.\n",
    "\n",
    "We run through an example using the `OpenAIQuestionGenerator`, which depends on function calling, and also the `LLMQuestionGenerator`, which depends on prompting."
   ]
  },
  {
   "cell_type": "code",
   "execution_count": null,
   "id": "423c9cc6-20eb-4ae3-bca0-c01e606f865a",
   "metadata": {},
   "outputs": [],
   "source": [
    "from llama_index.core.question_gen import LLMQuestionGenerator\n",
    "from llama_index.question_gen.openai import OpenAIQuestionGenerator\n",
    "from llama_index.llms.openai import OpenAI"
   ]
  },
  {
   "cell_type": "code",
   "execution_count": null,
   "id": "59f47121-fc91-45cd-a071-c3c6208726b7",
   "metadata": {},
   "outputs": [],
   "source": [
    "llm = OpenAI()\n",
    "question_gen = OpenAIQuestionGenerator.from_defaults(llm=llm)"
   ]
  },
  {
   "cell_type": "code",
   "execution_count": null,
   "id": "effdbaca-4087-4199-bc85-ceea00d6edf4",
   "metadata": {},
   "outputs": [
    {
     "data": {
      "text/markdown": [
       "**Prompt Key**: question_gen_prompt<br>**Text:** <br>"
      ],
      "text/plain": [
       "<IPython.core.display.Markdown object>"
      ]
     },
     "metadata": {},
     "output_type": "display_data"
    },
    {
     "name": "stdout",
     "output_type": "stream",
     "text": [
      "You are a world class state of the art agent.\n",
      "\n",
      "You have access to multiple tools, each representing a different data source or API.\n",
      "Each of the tools has a name and a description, formatted as a JSON dictionary.\n",
      "The keys of the dictionary are the names of the tools and the values are the descriptions.\n",
      "Your purpose is to help answer a complex user question by generating a list of sub questions that can be answered by the tools.\n",
      "\n",
      "These are the guidelines you consider when completing your task:\n",
      "* Be as specific as possible\n",
      "* The sub questions should be relevant to the user question\n",
      "* The sub questions should be answerable by the tools provided\n",
      "* You can generate multiple sub questions for each tool\n",
      "* Tools must be specified by their name, not their description\n",
      "* You don't need to use a tool if you don't think it's relevant\n",
      "\n",
      "Output the list of sub questions by calling the SubQuestionList function.\n",
      "\n",
      "## Tools\n",
      "```json\n",
      "{tools_str}\n",
      "```\n",
      "\n",
      "## User Question\n",
      "{query_str}\n",
      "\n"
     ]
    },
    {
     "data": {
      "text/markdown": [
       "<br><br>"
      ],
      "text/plain": [
       "<IPython.core.display.Markdown object>"
      ]
     },
     "metadata": {},
     "output_type": "display_data"
    }
   ],
   "source": [
    "display_prompt_dict(question_gen.get_prompts())"
   ]
  },
  {
   "cell_type": "code",
   "execution_count": null,
   "id": "586cf84d-276d-40f3-bb5e-2f5f774b84a1",
   "metadata": {},
   "outputs": [],
   "source": [
    "from llama_index.core.tools import ToolMetadata\n",
    "\n",
    "tool_choices = [\n",
    "    ToolMetadata(\n",
    "        name=\"uber_2021_10k\",\n",
    "        description=(\n",
    "            \"Provides information about Uber financials for year 2021\"\n",
    "        ),\n",
    "    ),\n",
    "    ToolMetadata(\n",
    "        name=\"lyft_2021_10k\",\n",
    "        description=(\n",
    "            \"Provides information about Lyft financials for year 2021\"\n",
    "        ),\n",
    "    ),\n",
    "]"
   ]
  },
  {
   "cell_type": "code",
   "execution_count": null,
   "id": "3bf94cf9-a869-420f-a6c2-3f2a0b11365e",
   "metadata": {},
   "outputs": [],
   "source": [
    "from llama_index.core import QueryBundle\n",
    "\n",
    "query_str = \"Compare and contrast Uber and Lyft\"\n",
    "choices = question_gen.generate(tool_choices, QueryBundle(query_str=query_str))"
   ]
  },
  {
   "cell_type": "markdown",
   "id": "11696baf-4767-4b16-bf41-ea4fe9a3722e",
   "metadata": {},
   "source": [
    "The outputs are `SubQuestion` Pydantic objects."
   ]
  },
  {
   "cell_type": "code",
   "execution_count": null,
   "id": "3cc4baa8-db8e-4357-b3fe-d9975f8c7fa1",
   "metadata": {},
   "outputs": [
    {
     "data": {
      "text/plain": [
       "[SubQuestion(sub_question='What are the financials of Uber for the year 2021?', tool_name='uber_2021_10k'),\n",
       " SubQuestion(sub_question='What are the financials of Lyft for the year 2021?', tool_name='lyft_2021_10k')]"
      ]
     },
     "execution_count": null,
     "metadata": {},
     "output_type": "execute_result"
    }
   ],
   "source": [
    "choices"
   ]
  },
  {
   "cell_type": "markdown",
   "id": "ff6638a9-92d6-4d99-b024-32c56787e621",
   "metadata": {},
   "source": [
    "For details on how to plug this into your RAG pipeline in a more packaged fashion, check out our [SubQuestionQueryEngine](https://docs.llamaindex.ai/en/latest/examples/query_engine/sub_question_query_engine.html)."
   ]
  },
  {
   "cell_type": "markdown",
   "id": "81c9cdc5-e224-4fe8-87c1-06e05d9b5aef",
   "metadata": {},
   "source": [
    "## Query Transformation with ReAct Prompt\n",
    "\n",
    "ReAct is a popular framework for agents, and here we show how the core ReAct prompt can be used to transform queries.\n",
    "\n",
    "We use the `ReActChatFormatter` to get the set of input messages for the LLM."
   ]
  },
  {
   "cell_type": "code",
   "execution_count": null,
   "id": "cea5bba4-121f-440c-9407-3416f05028fb",
   "metadata": {},
   "outputs": [],
   "source": [
    "from llama_index.core.agent import ReActChatFormatter\n",
    "from llama_index.core.agent.react.output_parser import ReActOutputParser\n",
    "from llama_index.core.tools import FunctionTool\n",
    "from llama_index.core.llms import ChatMessage"
   ]
  },
  {
   "cell_type": "code",
   "execution_count": null,
   "id": "ce0575c5-75aa-4f8d-bd15-2383769d7401",
   "metadata": {},
   "outputs": [],
   "source": [
    "def execute_sql(sql: str) -> str:\n",
    "    \"\"\"Given a SQL input string, execute it.\"\"\"\n",
    "    # NOTE: This is a mock function\n",
    "    return f\"Executed {sql}\"\n",
    "\n",
    "\n",
    "def add(a: int, b: int) -> int:\n",
    "    \"\"\"Add two numbers.\"\"\"\n",
    "    return a + b\n",
    "\n",
    "\n",
    "tool1 = FunctionTool.from_defaults(fn=execute_sql)\n",
    "tool2 = FunctionTool.from_defaults(fn=add)\n",
    "tools = [tool1, tool2]"
   ]
  },
  {
   "cell_type": "markdown",
   "id": "6d04fb7a-261f-4220-8b3f-821886c0a0c9",
   "metadata": {},
   "source": [
    "Here we get the input prompt messages to pass to the LLM. Take a look! "
   ]
  },
  {
   "cell_type": "code",
   "execution_count": null,
   "id": "3b5f2fa3-ad0f-4685-b9e8-704e77934775",
   "metadata": {},
   "outputs": [
    {
     "data": {
      "text/plain": [
       "[ChatMessage(role=<MessageRole.SYSTEM: 'system'>, content='\\nYou are designed to help with a variety of tasks, from answering questions     to providing summaries to other types of analyses.\\n\\n## Tools\\nYou have access to a wide variety of tools. You are responsible for using\\nthe tools in any sequence you deem appropriate to complete the task at hand.\\nThis may require breaking the task into subtasks and using different tools\\nto complete each subtask.\\n\\nYou have access to the following tools:\\n> Tool Name: execute_sql\\nTool Description: execute_sql(sql: str) -> str\\nGiven a SQL input string, execute it.\\nTool Args: {\\'title\\': \\'execute_sql\\', \\'type\\': \\'object\\', \\'properties\\': {\\'sql\\': {\\'title\\': \\'Sql\\', \\'type\\': \\'string\\'}}, \\'required\\': [\\'sql\\']}\\n\\n> Tool Name: add\\nTool Description: add(a: int, b: int) -> int\\nAdd two numbers.\\nTool Args: {\\'title\\': \\'add\\', \\'type\\': \\'object\\', \\'properties\\': {\\'a\\': {\\'title\\': \\'A\\', \\'type\\': \\'integer\\'}, \\'b\\': {\\'title\\': \\'B\\', \\'type\\': \\'integer\\'}}, \\'required\\': [\\'a\\', \\'b\\']}\\n\\n\\n## Output Format\\nTo answer the question, please use the following format.\\n\\n```\\nThought: I need to use a tool to help me answer the question.\\nAction: tool name (one of execute_sql, add) if using a tool.\\nAction Input: the input to the tool, in a JSON format representing the kwargs (e.g. {\"input\": \"hello world\", \"num_beams\": 5})\\n```\\n\\nPlease ALWAYS start with a Thought.\\n\\nPlease use a valid JSON format for the Action Input. Do NOT do this {\\'input\\': \\'hello world\\', \\'num_beams\\': 5}.\\n\\nIf this format is used, the user will respond in the following format:\\n\\n```\\nObservation: tool response\\n```\\n\\nYou should keep repeating the above format until you have enough information\\nto answer the question without using any more tools. At that point, you MUST respond\\nin the one of the following two formats:\\n\\n```\\nThought: I can answer without using any more tools.\\nAnswer: [your answer here]\\n```\\n\\n```\\nThought: I cannot answer the question with the provided tools.\\nAnswer: Sorry, I cannot answer your query.\\n```\\n\\n## Current Conversation\\nBelow is the current conversation consisting of interleaving human and assistant messages.\\n\\n', additional_kwargs={}),\n",
       " ChatMessage(role=<MessageRole.USER: 'user'>, content='Can you find the top three rows from the table named `revenue_years`', additional_kwargs={})]"
      ]
     },
     "execution_count": null,
     "metadata": {},
     "output_type": "execute_result"
    }
   ],
   "source": [
    "chat_formatter = ReActChatFormatter()\n",
    "output_parser = ReActOutputParser()\n",
    "input_msgs = chat_formatter.format(\n",
    "    tools,\n",
    "    [\n",
    "        ChatMessage(\n",
    "            content=\"Can you find the top three rows from the table named `revenue_years`\",\n",
    "            role=\"user\",\n",
    "        )\n",
    "    ],\n",
    ")\n",
    "input_msgs"
   ]
  },
  {
   "cell_type": "markdown",
   "id": "4f6ed9b3-aeb8-453b-825a-f711d907cb5a",
   "metadata": {},
   "source": [
    "Next we get the output from the model."
   ]
  },
  {
   "cell_type": "code",
   "execution_count": null,
   "id": "f4685858-92d6-4dd9-b23a-5394c97991a8",
   "metadata": {},
   "outputs": [],
   "source": [
    "llm = OpenAI(model=\"gpt-4-1106-preview\")"
   ]
  },
  {
   "cell_type": "code",
   "execution_count": null,
   "id": "0f2330aa-7ac7-418f-bb22-cdd1eb081626",
   "metadata": {},
   "outputs": [],
   "source": [
    "response = llm.chat(input_msgs)"
   ]
  },
  {
   "cell_type": "markdown",
   "id": "785cf896-1dff-49ba-97ba-a7ed6bae0c1d",
   "metadata": {},
   "source": [
    "Finally we use our ReActOutputParser to parse the content into a structured output, and analyze the action inputs."
   ]
  },
  {
   "cell_type": "code",
   "execution_count": null,
   "id": "1ab1439f-ac69-4e36-97d6-befb3bd6b40e",
   "metadata": {},
   "outputs": [],
   "source": [
    "reasoning_step = output_parser.parse(response.message.content)"
   ]
  },
  {
   "cell_type": "code",
   "execution_count": null,
   "id": "bf3ee527-5f34-41e7-8309-2bc4db785f1c",
   "metadata": {},
   "outputs": [
    {
     "data": {
      "text/plain": [
       "{'sql': 'SELECT * FROM revenue_years ORDER BY revenue DESC LIMIT 3'}"
      ]
     },
     "execution_count": null,
     "metadata": {},
     "output_type": "execute_result"
    }
   ],
   "source": [
    "reasoning_step.action_input"
   ]
  }
 ],
 "metadata": {
  "kernelspec": {
   "display_name": "llama_index_v2",
   "language": "python",
   "name": "llama_index_v2"
  },
  "language_info": {
   "codemirror_mode": {
    "name": "ipython",
    "version": 3
   },
   "file_extension": ".py",
   "mimetype": "text/x-python",
   "name": "python",
   "nbconvert_exporter": "python",
   "pygments_lexer": "ipython3"
  }
 },
 "nbformat": 4,
 "nbformat_minor": 5
}
