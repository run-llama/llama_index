{
 "cells": [
  {
   "cell_type": "markdown",
   "id": "af775680",
   "metadata": {},
   "source": [
    "<a href=\"https://colab.research.google.com/github/run-llama/llama_index/blob/main/docs/docs/examples/evaluation/QuestionGeneration.ipynb\" target=\"_parent\"><img src=\"https://colab.research.google.com/assets/colab-badge.svg\" alt=\"Open In Colab\"/></a>"
   ]
  },
  {
   "attachments": {},
   "cell_type": "markdown",
   "id": "f3f797ad",
   "metadata": {},
   "source": [
    "# QuestionGeneration\n",
    "\n",
    "This notebook walks through the process of generating a list of questions that could be asked about your data. This is useful for setting up an evaluation pipeline using the `FaithfulnessEvaluator` and `RelevancyEvaluator` evaluation tools."
   ]
  },
  {
   "cell_type": "markdown",
   "id": "6a2cfee1",
   "metadata": {},
   "source": [
    "If you're opening this Notebook on colab, you will probably need to install LlamaIndex 🦙."
   ]
  },
  {
   "cell_type": "code",
   "execution_count": null,
   "id": "d4360bd7",
   "metadata": {},
   "outputs": [],
   "source": [
    "%pip install llama-index-llms-openai"
   ]
  },
  {
   "cell_type": "code",
   "execution_count": null,
   "id": "848aa824",
   "metadata": {},
   "outputs": [],
   "source": [
    "!pip install llama-index"
   ]
  },
  {
   "cell_type": "code",
   "execution_count": null,
   "id": "9080b39e",
   "metadata": {},
   "outputs": [],
   "source": [
    "import logging\n",
    "import sys\n",
    "import pandas as pd\n",
    "\n",
    "logging.basicConfig(stream=sys.stdout, level=logging.INFO)\n",
    "logging.getLogger().addHandler(logging.StreamHandler(stream=sys.stdout))"
   ]
  },
  {
   "cell_type": "code",
   "execution_count": null,
   "id": "8d0b2364-4806-4656-81e7-3f6e4b910b5b",
   "metadata": {},
   "outputs": [],
   "source": [
    "from llama_index.core.evaluation import DatasetGenerator, RelevancyEvaluator\n",
    "from llama_index.core import SimpleDirectoryReader, VectorStoreIndex, Response\n",
    "from llama_index.llms.openai import OpenAI"
   ]
  },
  {
   "cell_type": "markdown",
   "id": "b5ace450",
   "metadata": {},
   "source": [
    "Download Data"
   ]
  },
  {
   "cell_type": "code",
   "execution_count": null,
   "id": "a22346f0",
   "metadata": {},
   "outputs": [],
   "source": [
    "!mkdir -p 'data/paul_graham/'\n",
    "!wget 'https://raw.githubusercontent.com/run-llama/llama_index/main/docs/docs/examples/data/paul_graham/paul_graham_essay.txt' -O 'data/paul_graham/paul_graham_essay.txt'"
   ]
  },
  {
   "cell_type": "markdown",
   "id": "c005fa3e",
   "metadata": {},
   "source": [
    "Load Data"
   ]
  },
  {
   "cell_type": "code",
   "execution_count": null,
   "id": "834f4c8c-8c10-4f8d-bf43-444aaa1234b1",
   "metadata": {},
   "outputs": [],
   "source": [
    "reader = SimpleDirectoryReader(\"./data/paul_graham/\")\n",
    "documents = reader.load_data()"
   ]
  },
  {
   "cell_type": "code",
   "execution_count": null,
   "id": "9cc71140-d614-4696-9ade-d5bdc251d398",
   "metadata": {},
   "outputs": [
    {
     "name": "stdout",
     "output_type": "stream",
     "text": [
      "WARNING:llama_index.indices.service_context:chunk_size_limit is deprecated, please specify chunk_size instead\n",
      "chunk_size_limit is deprecated, please specify chunk_size instead\n",
      "chunk_size_limit is deprecated, please specify chunk_size instead\n",
      "chunk_size_limit is deprecated, please specify chunk_size instead\n",
      "chunk_size_limit is deprecated, please specify chunk_size instead\n"
     ]
    }
   ],
   "source": [
    "data_generator = DatasetGenerator.from_documents(documents)"
   ]
  },
  {
   "cell_type": "code",
   "execution_count": null,
   "id": "f481b532-9be2-4ec3-b551-fd44060099bd",
   "metadata": {},
   "outputs": [],
   "source": [
    "eval_questions = data_generator.generate_questions_from_nodes()"
   ]
  },
  {
   "cell_type": "code",
   "execution_count": null,
   "id": "63720bd6-c060-4cc2-8a60-a39e935ee3e6",
   "metadata": {},
   "outputs": [
    {
     "data": {
      "text/plain": [
       "['What were the two main things the author worked on before college?',\n",
       " 'How did the author describe their early attempts at writing short stories?',\n",
       " 'What type of computer did the author first work on for programming?',\n",
       " 'What language did the author use for programming on the IBM 1401?',\n",
       " \"What was the author's experience with programming on the 1401?\",\n",
       " 'What type of computer did the author eventually get for themselves?',\n",
       " \"What was the author's initial plan for college?\",\n",
       " 'What made the author change their mind about studying philosophy?',\n",
       " \"What sparked the author's interest in AI?\",\n",
       " 'What did the author realize about AI during their first year of grad school?',\n",
       " 'What were the two art schools that the author applied to?',\n",
       " 'How did the author end up at RISD?',\n",
       " 'What was the purpose of the foundation classes at RISD?',\n",
       " 'How did the author manage to pass the entrance exam for the Accademia di Belli Arti?',\n",
       " 'What was the arrangement between the students and faculty at the Accademia?',\n",
       " \"What was the author's experience painting still lives in Florence?\",\n",
       " 'What did the author learn about visual perception while painting still lives?',\n",
       " 'Why did the author decide to leave the Accademia and return to the US?',\n",
       " 'What did the author learn about technology companies while working at Interleaf?',\n",
       " 'What lesson did the author learn about the low end and high end in the software industry?',\n",
       " \"What was the author's motivation for writing another book on Lisp?\",\n",
       " 'How did the author come up with the idea for starting a company to put art galleries online?',\n",
       " 'What was the initial reaction of art galleries to the idea of being online?',\n",
       " 'How did the author and his team come up with the concept of a web app?',\n",
       " 'What were the three main parts of the software developed by the author and his team?',\n",
       " 'How did the author and his team learn about retail and improve their software based on user feedback?',\n",
       " 'Why did the author initially believe that the absolute number of users was the most important factor for a startup?',\n",
       " \"What was the growth rate of the author's company and why was it significant?\",\n",
       " \"How did the author's decision to hire more people impact the financial stability of the company?\",\n",
       " \"What was the outcome of the company's acquisition by Yahoo in 1998?\",\n",
       " \"What was the author's initial reaction when Yahoo bought their startup?\",\n",
       " \"How did the author's lifestyle change after Yahoo bought their startup?\",\n",
       " 'Why did the author leave Yahoo and what did they plan to do?',\n",
       " \"What was the author's experience like when they returned to New York after becoming rich?\",\n",
       " 'What idea did the author have in the spring of 2000 and why did they decide to start a new company?',\n",
       " \"Why did the author decide to build a subset of the new company's vision as an open source project?\",\n",
       " \"How did the author's perception of publishing essays change with the advent of the internet?\",\n",
       " \"What is the author's perspective on working on things that are not prestigious?\",\n",
       " 'What other projects did the author work on besides writing essays?',\n",
       " 'What type of building did the author buy in Cambridge?',\n",
       " \"What was the concept behind the big party at the narrator's house in October 2003?\",\n",
       " \"How did Jessica Livingston's perception of startups change after meeting friends of the narrator?\",\n",
       " 'What were some of the ideas that the narrator shared with Jessica about fixing venture capital?',\n",
       " 'How did the idea of starting their own investment firm come about for the narrator and Jessica?',\n",
       " 'What was the Summer Founders Program and how did it attract applicants?',\n",
       " \"How did Y Combinator's batch model help solve the problem of isolation for startup founders?\",\n",
       " \"What advantages did YC's scale bring, both in terms of community and customer acquisition?\",\n",
       " 'Why did the narrator consider Hacker News to be a source of stress?',\n",
       " \"How did the narrator's role in YC differ from other types of work they had done?\",\n",
       " 'What advice did Robert Morris offer the narrator during his visit in 2010?',\n",
       " 'What was the advice given to the author by Rtm regarding their involvement with Y Combinator?',\n",
       " 'Why did the author decide to hand over Y Combinator to someone else?',\n",
       " \"What event in the author's personal life prompted them to reevaluate their priorities?\",\n",
       " 'How did the author spend most of 2014?',\n",
       " 'What project did the author work on from March 2015 to October 2019?',\n",
       " 'How did the author manage to write an interpreter for Lisp in itself?',\n",
       " \"What was the author's experience like living in England?\",\n",
       " \"When was the author's project, Bel, finally finished?\",\n",
       " 'What did the author do during the fall of 2019?',\n",
       " \"How would you describe the author's journey and decision-making process throughout the document?\",\n",
       " \"How did the author's experience with editing Lisp expressions differ from traditional app editing?\",\n",
       " 'Why did the author receive negative comments when claiming that Lisp was better than other languages?',\n",
       " 'What is the difference between putting something online and publishing it online?',\n",
       " 'How did the customs of venture capital practice and essay writing reflect outdated constraints?',\n",
       " 'Why did Y Combinator change its name to avoid a regional association?',\n",
       " \"What was the significance of the orange color chosen for Y Combinator's logo?\",\n",
       " 'Why did Y Combinator become a fund for a couple of years before returning to self-funding?',\n",
       " 'What is the purpose of Y Combinator in relation to the concept of \"deal flow\"?',\n",
       " 'How did the combination of running a forum and writing essays lead to a problem for the author?',\n",
       " \"What was the author's biggest regret about leaving Y Combinator?\"]"
      ]
     },
     "execution_count": null,
     "metadata": {},
     "output_type": "execute_result"
    }
   ],
   "source": [
    "eval_questions"
   ]
  },
  {
   "cell_type": "code",
   "execution_count": null,
   "id": "b9b98f89-d5b8-4d29-92f6-ad76d5060e9f",
   "metadata": {},
   "outputs": [],
   "source": [
    "# gpt-4\n",
    "gpt4 = OpenAI(temperature=0, model=\"gpt-4\")"
   ]
  },
  {
   "cell_type": "code",
   "execution_count": null,
   "id": "8eb3e616-64e5-4bf4-a67b-661e9b3657e7",
   "metadata": {},
   "outputs": [],
   "source": [
    "evaluator_gpt4 = RelevancyEvaluator(llm=gpt4)"
   ]
  },
  {
   "cell_type": "code",
   "execution_count": null,
   "id": "41f0e53f-77a6-40d5-94ae-3f81b01af75c",
   "metadata": {},
   "outputs": [],
   "source": [
    "# create vector index\n",
    "vector_index = VectorStoreIndex.from_documents(documents)"
   ]
  },
  {
   "cell_type": "code",
   "execution_count": null,
   "id": "af730b2e-6949-4865-b7af-bb2bc60a9173",
   "metadata": {},
   "outputs": [],
   "source": [
    "# define jupyter display function\n",
    "def display_eval_df(query: str, response: Response, eval_result: str) -> None:\n",
    "    eval_df = pd.DataFrame(\n",
    "        {\n",
    "            \"Query\": query,\n",
    "            \"Response\": str(response),\n",
    "            \"Source\": (\n",
    "                response.source_nodes[0].node.get_content()[:1000] + \"...\"\n",
    "            ),\n",
    "            \"Evaluation Result\": eval_result,\n",
    "        },\n",
    "        index=[0],\n",
    "    )\n",
    "    eval_df = eval_df.style.set_properties(\n",
    "        **{\n",
    "            \"inline-size\": \"600px\",\n",
    "            \"overflow-wrap\": \"break-word\",\n",
    "        },\n",
    "        subset=[\"Response\", \"Source\"],\n",
    "    )\n",
    "    display(eval_df)"
   ]
  },
  {
   "cell_type": "code",
   "execution_count": null,
   "id": "180a5d2e-9286-477b-9cd0-a5976d18d845",
   "metadata": {},
   "outputs": [],
   "source": [
    "query_engine = vector_index.as_query_engine()\n",
    "response_vector = query_engine.query(eval_questions[1])\n",
    "eval_result = evaluator_gpt4.evaluate_response(\n",
    "    query=eval_questions[1], response=response_vector\n",
    ")"
   ]
  },
  {
   "cell_type": "code",
   "execution_count": null,
   "id": "c764b8b3-69b1-4ac8-b88b-3f9e204b8bfb",
   "metadata": {},
   "outputs": [
    {
     "data": {
      "text/html": [
       "<style type=\"text/css\">\n",
       "#T_138fa_row0_col1, #T_138fa_row0_col2 {\n",
       "  inline-size: 600px;\n",
       "  overflow-wrap: break-word;\n",
       "}\n",
       "</style>\n",
       "<table id=\"T_138fa\">\n",
       "  <thead>\n",
       "    <tr>\n",
       "      <th class=\"blank level0\" >&nbsp;</th>\n",
       "      <th id=\"T_138fa_level0_col0\" class=\"col_heading level0 col0\" >Query</th>\n",
       "      <th id=\"T_138fa_level0_col1\" class=\"col_heading level0 col1\" >Response</th>\n",
       "      <th id=\"T_138fa_level0_col2\" class=\"col_heading level0 col2\" >Source</th>\n",
       "      <th id=\"T_138fa_level0_col3\" class=\"col_heading level0 col3\" >Evaluation Result</th>\n",
       "    </tr>\n",
       "  </thead>\n",
       "  <tbody>\n",
       "    <tr>\n",
       "      <th id=\"T_138fa_level0_row0\" class=\"row_heading level0 row0\" >0</th>\n",
       "      <td id=\"T_138fa_row0_col0\" class=\"data row0 col0\" >How did the author describe their early attempts at writing short stories?</td>\n",
       "      <td id=\"T_138fa_row0_col1\" class=\"data row0 col1\" >The author described their early attempts at writing short stories as awful. They mentioned that their stories had hardly any plot and were mostly about characters with strong feelings, which they thought made the stories deep.</td>\n",
       "      <td id=\"T_138fa_row0_col2\" class=\"data row0 col2\" >What I Worked On\n",
       "\n",
       "February 2021\n",
       "\n",
       "Before college the two main things I worked on, outside of school, were writing and programming. I didn't write essays. I wrote what beginning writers were supposed to write then, and probably still are: short stories. My stories were awful. They had hardly any plot, just characters with strong feelings, which I imagined made them deep.\n",
       "\n",
       "The first programs I tried writing were on the IBM 1401 that our school district used for what was then called \"data processing.\" This was in 9th grade, so I was 13 or 14. The school district's 1401 happened to be in the basement of our junior high school, and my friend Rich Draves and I got permission to use it. It was like a mini Bond villain's lair down there, with all these alien-looking machines — CPU, disk drives, printer, card reader — sitting up on a raised floor under bright fluorescent lights.\n",
       "\n",
       "The language we used was an early version of Fortran. You had to type programs on punch cards, then stack them in the...</td>\n",
       "      <td id=\"T_138fa_row0_col3\" class=\"data row0 col3\" >YES</td>\n",
       "    </tr>\n",
       "  </tbody>\n",
       "</table>\n"
      ],
      "text/plain": [
       "<pandas.io.formats.style.Styler at 0x7fcb78d7f130>"
      ]
     },
     "metadata": {},
     "output_type": "display_data"
    }
   ],
   "source": [
    "display_eval_df(eval_questions[1], response_vector, eval_result)"
   ]
  }
 ],
 "metadata": {
  "kernelspec": {
   "display_name": "Python 3 (ipykernel)",
   "language": "python",
   "name": "python3"
  },
  "language_info": {
   "codemirror_mode": {
    "name": "ipython",
    "version": 3
   },
   "file_extension": ".py",
   "mimetype": "text/x-python",
   "name": "python",
   "nbconvert_exporter": "python",
   "pygments_lexer": "ipython3"
  }
 },
 "nbformat": 4,
 "nbformat_minor": 5
}
