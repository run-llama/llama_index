{
 "cells": [
  {
   "cell_type": "markdown",
   "id": "de6537c4",
   "metadata": {},
   "source": [
    "# Pairwise Evaluator\n",
    "\n",
    "This notebook uses the `PairwiseEvaluator` module to see if an evaluation LLM would prefer one query engine over another.  "
   ]
  },
  {
   "cell_type": "code",
   "execution_count": null,
   "id": "2423d7e0",
   "metadata": {},
   "outputs": [],
   "source": [
    "%pip install llama-index-llms-openai"
   ]
  },
  {
   "cell_type": "code",
   "execution_count": null,
   "id": "4a8304f2",
   "metadata": {},
   "outputs": [],
   "source": [
    "# attach to the same event-loop\n",
    "import nest_asyncio\n",
    "\n",
    "nest_asyncio.apply()"
   ]
  },
  {
   "cell_type": "code",
   "execution_count": null,
   "id": "9080b39e",
   "metadata": {},
   "outputs": [],
   "source": [
    "# configuring logger to INFO level\n",
    "import logging\n",
    "import sys\n",
    "\n",
    "logging.basicConfig(stream=sys.stdout, level=logging.INFO)\n",
    "logging.getLogger().addHandler(logging.StreamHandler(stream=sys.stdout))"
   ]
  },
  {
   "cell_type": "code",
   "execution_count": null,
   "id": "8d0b2364-4806-4656-81e7-3f6e4b910b5b",
   "metadata": {},
   "outputs": [],
   "source": [
    "from llama_index.core import VectorStoreIndex, SimpleDirectoryReader, Response\n",
    "from llama_index.llms.openai import OpenAI\n",
    "from llama_index.core.evaluation import PairwiseComparisonEvaluator\n",
    "from llama_index.core.node_parser import SentenceSplitter\n",
    "import pandas as pd\n",
    "\n",
    "pd.set_option(\"display.max_colwidth\", 0)"
   ]
  },
  {
   "cell_type": "markdown",
   "id": "efe66f2a",
   "metadata": {},
   "source": [
    "Using GPT-4 here for evaluation"
   ]
  },
  {
   "cell_type": "code",
   "execution_count": null,
   "id": "b9b98f89-d5b8-4d29-92f6-ad76d5060e9f",
   "metadata": {},
   "outputs": [],
   "source": [
    "# gpt-4\n",
    "gpt4 = OpenAI(temperature=0, model=\"gpt-4\")\n",
    "\n",
    "evaluator_gpt4 = PairwiseComparisonEvaluator(llm=gpt4)"
   ]
  },
  {
   "cell_type": "code",
   "execution_count": null,
   "id": "1298bbb4-c99e-431e-93ef-eb32c0a2fc2a",
   "metadata": {},
   "outputs": [],
   "source": [
    "documents = SimpleDirectoryReader(\"./test_wiki_data/\").load_data()"
   ]
  },
  {
   "cell_type": "code",
   "execution_count": null,
   "id": "ea8ed77d-1065-4007-a822-798c8be29312",
   "metadata": {},
   "outputs": [],
   "source": [
    "# create vector index\n",
    "splitter_512 = SentenceSplitter(chunk_size=512)\n",
    "vector_index1 = VectorStoreIndex.from_documents(\n",
    "    documents, transformations=[splitter_512]\n",
    ")\n",
    "\n",
    "splitter_128 = SentenceSplitter(chunk_size=128)\n",
    "vector_index2 = VectorStoreIndex.from_documents(\n",
    "    documents, transformations=[splitter_128]\n",
    ")"
   ]
  },
  {
   "cell_type": "code",
   "execution_count": null,
   "id": "2342de44-1c02-431e-b39e-ece4fad1b431",
   "metadata": {},
   "outputs": [],
   "source": [
    "query_engine1 = vector_index1.as_query_engine(similarity_top_k=2)\n",
    "query_engine2 = vector_index2.as_query_engine(similarity_top_k=8)"
   ]
  },
  {
   "cell_type": "code",
   "execution_count": null,
   "id": "af730b2e-6949-4865-b7af-bb2bc60a9173",
   "metadata": {},
   "outputs": [],
   "source": [
    "# define jupyter display function\n",
    "def display_eval_df(query, response1, response2, eval_result) -> None:\n",
    "    eval_df = pd.DataFrame(\n",
    "        {\n",
    "            \"Query\": query,\n",
    "            \"Reference Response (Answer 1)\": response2,\n",
    "            \"Current Response (Answer 2)\": response1,\n",
    "            \"Score\": eval_result.score,\n",
    "            \"Reason\": eval_result.feedback,\n",
    "        },\n",
    "        index=[0],\n",
    "    )\n",
    "    eval_df = eval_df.style.set_properties(\n",
    "        **{\n",
    "            \"inline-size\": \"300px\",\n",
    "            \"overflow-wrap\": \"break-word\",\n",
    "        },\n",
    "        subset=[\n",
    "            \"Current Response (Answer 2)\",\n",
    "            \"Reference Response (Answer 1)\",\n",
    "        ],\n",
    "    )\n",
    "    display(eval_df)"
   ]
  },
  {
   "cell_type": "markdown",
   "id": "400f486d",
   "metadata": {},
   "source": [
    "To run evaluations you can call the `.evaluate_response()` function on the `Response` object return from the query to run the evaluations. Lets evaluate the outputs of the vector_index."
   ]
  },
  {
   "cell_type": "code",
   "execution_count": null,
   "id": "8e817a83-2eb5-499d-9a81-85433248e366",
   "metadata": {},
   "outputs": [],
   "source": [
    "# query_str = \"How did New York City get its name?\"\n",
    "query_str = \"What was the role of NYC during the American Revolution?\"\n",
    "# query_str = \"Tell me about the arts and culture of NYC\"\n",
    "response1 = str(query_engine1.query(query_str))\n",
    "response2 = str(query_engine2.query(query_str))"
   ]
  },
  {
   "cell_type": "markdown",
   "id": "536e05fb-33a6-4cd4-9221-7e1dee8c713b",
   "metadata": {},
   "source": [
    "By default, we enforce \"consistency\" in the pairwise comparison.\n",
    "\n",
    "We try feeding in the candidate, reference pair, and then swap the order of the two, and make sure that the results are still consistent (or return a TIE if not)."
   ]
  },
  {
   "cell_type": "code",
   "execution_count": null,
   "id": "5461ada5-0465-4031-b5b1-8eb710e6f736",
   "metadata": {},
   "outputs": [
    {
     "name": "stdout",
     "output_type": "stream",
     "text": [
      "INFO:openai:message='OpenAI API response' path=https://api.openai.com/v1/chat/completions processing_ms=5536 request_id=8a8f154ee676b2e86ea24b7046e9b80b response_code=200\n",
      "message='OpenAI API response' path=https://api.openai.com/v1/chat/completions processing_ms=5536 request_id=8a8f154ee676b2e86ea24b7046e9b80b response_code=200\n",
      "INFO:openai:message='OpenAI API response' path=https://api.openai.com/v1/chat/completions processing_ms=9766 request_id=dfee84227112b1311b4411492f4c8764 response_code=200\n",
      "message='OpenAI API response' path=https://api.openai.com/v1/chat/completions processing_ms=9766 request_id=dfee84227112b1311b4411492f4c8764 response_code=200\n"
     ]
    }
   ],
   "source": [
    "eval_result = await evaluator_gpt4.aevaluate(\n",
    "    query_str, response=response1, reference=response2\n",
    ")"
   ]
  },
  {
   "cell_type": "code",
   "execution_count": null,
   "id": "2a594adf-9f36-483a-8b5c-375ddab60882",
   "metadata": {},
   "outputs": [
    {
     "data": {
      "text/html": [
       "<style type=\"text/css\">\n",
       "#T_d6f9c_row0_col1, #T_d6f9c_row0_col2 {\n",
       "  inline-size: 300px;\n",
       "  overflow-wrap: break-word;\n",
       "}\n",
       "</style>\n",
       "<table id=\"T_d6f9c\">\n",
       "  <thead>\n",
       "    <tr>\n",
       "      <th class=\"blank level0\" >&nbsp;</th>\n",
       "      <th id=\"T_d6f9c_level0_col0\" class=\"col_heading level0 col0\" >Query</th>\n",
       "      <th id=\"T_d6f9c_level0_col1\" class=\"col_heading level0 col1\" >Reference Response (Answer 1)</th>\n",
       "      <th id=\"T_d6f9c_level0_col2\" class=\"col_heading level0 col2\" >Current Response (Answer 2)</th>\n",
       "      <th id=\"T_d6f9c_level0_col3\" class=\"col_heading level0 col3\" >Score</th>\n",
       "      <th id=\"T_d6f9c_level0_col4\" class=\"col_heading level0 col4\" >Reason</th>\n",
       "    </tr>\n",
       "  </thead>\n",
       "  <tbody>\n",
       "    <tr>\n",
       "      <th id=\"T_d6f9c_level0_row0\" class=\"row_heading level0 row0\" >0</th>\n",
       "      <td id=\"T_d6f9c_row0_col0\" class=\"data row0 col0\" >What was the role of NYC during the American Revolution?</td>\n",
       "      <td id=\"T_d6f9c_row0_col1\" class=\"data row0 col1\" >During the American Revolution, New York City served as a significant military and political base of operations for the British forces. After the Battle of Long Island in 1776, in which the Americans were defeated, the British made the city their center of operations in North America. The city was regained by the Dutch in 1673 but was renamed New York in 1674. It became the capital of the United States from 1785 to 1790. Additionally, New York City was a haven for Loyalist refugees and escaped slaves who joined the British lines for freedom. The British forces transported thousands of freedmen for resettlement in Nova Scotia and other locations, including England and the Caribbean.</td>\n",
       "      <td id=\"T_d6f9c_row0_col2\" class=\"data row0 col2\" >During the American Revolution, New York City served as the military and political base of operations for the British in North America. It was also a haven for Loyalist refugees and escaped slaves who joined the British lines in search of freedom. The city played a significant role in the war, with the Battle of Long Island being the largest battle of the American Revolutionary War fought within its modern-day borough of Brooklyn. After the war, when the British forces evacuated, they transported freedmen to Nova Scotia, England, and the Caribbean for resettlement.</td>\n",
       "      <td id=\"T_d6f9c_row0_col3\" class=\"data row0 col3\" >0.500000</td>\n",
       "      <td id=\"T_d6f9c_row0_col4\" class=\"data row0 col4\" >It is not clear which answer is better.</td>\n",
       "    </tr>\n",
       "  </tbody>\n",
       "</table>\n"
      ],
      "text/plain": [
       "<pandas.io.formats.style.Styler at 0x2bfe67010>"
      ]
     },
     "metadata": {},
     "output_type": "display_data"
    }
   ],
   "source": [
    "display_eval_df(query_str, response1, response2, eval_result)"
   ]
  },
  {
   "cell_type": "markdown",
   "id": "fd8f248e-3a3b-46dd-a44c-7c96824d4404",
   "metadata": {},
   "source": [
    "**NOTE**: By default, we enforce consensus by flipping the order of response/reference and making sure that the answers are opposites.\n",
    "\n",
    "We can disable this - which can lead to more inconsistencies!"
   ]
  },
  {
   "cell_type": "code",
   "execution_count": null,
   "id": "af504b27-ef60-414f-a794-9888186601e6",
   "metadata": {},
   "outputs": [],
   "source": [
    "evaluator_gpt4_nc = PairwiseComparisonEvaluator(\n",
    "    llm=gpt4, enforce_consensus=False\n",
    ")"
   ]
  },
  {
   "cell_type": "code",
   "execution_count": null,
   "id": "fe00c490-87dd-468f-bb81-60f45fd9ffd7",
   "metadata": {},
   "outputs": [
    {
     "name": "stdout",
     "output_type": "stream",
     "text": [
      "INFO:openai:message='OpenAI API response' path=https://api.openai.com/v1/chat/completions processing_ms=6714 request_id=472a1f0829846adc1b4347ba4b99c0dd response_code=200\n",
      "message='OpenAI API response' path=https://api.openai.com/v1/chat/completions processing_ms=6714 request_id=472a1f0829846adc1b4347ba4b99c0dd response_code=200\n"
     ]
    }
   ],
   "source": [
    "eval_result = await evaluator_gpt4_nc.aevaluate(\n",
    "    query_str, response=response1, reference=response2\n",
    ")"
   ]
  },
  {
   "cell_type": "code",
   "execution_count": null,
   "id": "62fc2e83-807c-474e-a6ed-7d255103fd98",
   "metadata": {},
   "outputs": [
    {
     "data": {
      "text/html": [
       "<style type=\"text/css\">\n",
       "#T_5201e_row0_col1, #T_5201e_row0_col2 {\n",
       "  inline-size: 300px;\n",
       "  overflow-wrap: break-word;\n",
       "}\n",
       "</style>\n",
       "<table id=\"T_5201e\">\n",
       "  <thead>\n",
       "    <tr>\n",
       "      <th class=\"blank level0\" >&nbsp;</th>\n",
       "      <th id=\"T_5201e_level0_col0\" class=\"col_heading level0 col0\" >Query</th>\n",
       "      <th id=\"T_5201e_level0_col1\" class=\"col_heading level0 col1\" >Reference Response (Answer 1)</th>\n",
       "      <th id=\"T_5201e_level0_col2\" class=\"col_heading level0 col2\" >Current Response (Answer 2)</th>\n",
       "      <th id=\"T_5201e_level0_col3\" class=\"col_heading level0 col3\" >Score</th>\n",
       "      <th id=\"T_5201e_level0_col4\" class=\"col_heading level0 col4\" >Reason</th>\n",
       "    </tr>\n",
       "  </thead>\n",
       "  <tbody>\n",
       "    <tr>\n",
       "      <th id=\"T_5201e_level0_row0\" class=\"row_heading level0 row0\" >0</th>\n",
       "      <td id=\"T_5201e_row0_col0\" class=\"data row0 col0\" >What was the role of NYC during the American Revolution?</td>\n",
       "      <td id=\"T_5201e_row0_col1\" class=\"data row0 col1\" >During the American Revolution, New York City served as a significant military and political base of operations for the British forces. After the Battle of Long Island in 1776, in which the Americans were defeated, the British made the city their center of operations in North America. The city was regained by the Dutch in 1673 but was renamed New York in 1674. It became the capital of the United States from 1785 to 1790. Additionally, New York City was a haven for Loyalist refugees and escaped slaves who joined the British lines for freedom. The British forces transported thousands of freedmen for resettlement in Nova Scotia and other locations, including England and the Caribbean.</td>\n",
       "      <td id=\"T_5201e_row0_col2\" class=\"data row0 col2\" >During the American Revolution, New York City served as the military and political base of operations for the British in North America. It was also a haven for Loyalist refugees and escaped slaves who joined the British lines in search of freedom. The city played a significant role in the war, with the Battle of Long Island being the largest battle of the American Revolutionary War fought within its modern-day borough of Brooklyn. After the war, when the British forces evacuated, they transported freedmen to Nova Scotia, England, and the Caribbean for resettlement.</td>\n",
       "      <td id=\"T_5201e_row0_col3\" class=\"data row0 col3\" >0.000000</td>\n",
       "      <td id=\"T_5201e_row0_col4\" class=\"data row0 col4\" >1\n",
       "Answer 1 is better because it provides more detailed information about the role of New York City during the American Revolution. It not only mentions the city's role as a British base and a haven for Loyalist refugees and escaped slaves, but also provides additional historical context such as the city being renamed and becoming the capital of the United States.</td>\n",
       "    </tr>\n",
       "  </tbody>\n",
       "</table>\n"
      ],
      "text/plain": [
       "<pandas.io.formats.style.Styler at 0x2b9a9bd30>"
      ]
     },
     "metadata": {},
     "output_type": "display_data"
    }
   ],
   "source": [
    "display_eval_df(query_str, response1, response2, eval_result)"
   ]
  },
  {
   "cell_type": "code",
   "execution_count": null,
   "id": "71e07b26-cf6d-48e7-b3f8-c2cd4f22b020",
   "metadata": {},
   "outputs": [
    {
     "name": "stdout",
     "output_type": "stream",
     "text": [
      "INFO:openai:message='OpenAI API response' path=https://api.openai.com/v1/chat/completions processing_ms=9252 request_id=b73bbe6b10d878ed8138785638232866 response_code=200\n",
      "message='OpenAI API response' path=https://api.openai.com/v1/chat/completions processing_ms=9252 request_id=b73bbe6b10d878ed8138785638232866 response_code=200\n"
     ]
    }
   ],
   "source": [
    "eval_result = await evaluator_gpt4_nc.aevaluate(\n",
    "    query_str, response=response2, reference=response1\n",
    ")"
   ]
  },
  {
   "cell_type": "code",
   "execution_count": null,
   "id": "dd78df60-9ec0-4e0b-9072-b829728f4725",
   "metadata": {},
   "outputs": [
    {
     "data": {
      "text/html": [
       "<style type=\"text/css\">\n",
       "#T_bcf98_row0_col1, #T_bcf98_row0_col2 {\n",
       "  inline-size: 300px;\n",
       "  overflow-wrap: break-word;\n",
       "}\n",
       "</style>\n",
       "<table id=\"T_bcf98\">\n",
       "  <thead>\n",
       "    <tr>\n",
       "      <th class=\"blank level0\" >&nbsp;</th>\n",
       "      <th id=\"T_bcf98_level0_col0\" class=\"col_heading level0 col0\" >Query</th>\n",
       "      <th id=\"T_bcf98_level0_col1\" class=\"col_heading level0 col1\" >Reference Response (Answer 1)</th>\n",
       "      <th id=\"T_bcf98_level0_col2\" class=\"col_heading level0 col2\" >Current Response (Answer 2)</th>\n",
       "      <th id=\"T_bcf98_level0_col3\" class=\"col_heading level0 col3\" >Score</th>\n",
       "      <th id=\"T_bcf98_level0_col4\" class=\"col_heading level0 col4\" >Reason</th>\n",
       "    </tr>\n",
       "  </thead>\n",
       "  <tbody>\n",
       "    <tr>\n",
       "      <th id=\"T_bcf98_level0_row0\" class=\"row_heading level0 row0\" >0</th>\n",
       "      <td id=\"T_bcf98_row0_col0\" class=\"data row0 col0\" >What was the role of NYC during the American Revolution?</td>\n",
       "      <td id=\"T_bcf98_row0_col1\" class=\"data row0 col1\" >During the American Revolution, New York City served as the military and political base of operations for the British in North America. It was also a haven for Loyalist refugees and escaped slaves who joined the British lines in search of freedom. The city played a significant role in the war, with the Battle of Long Island being the largest battle of the American Revolutionary War fought within its modern-day borough of Brooklyn. After the war, when the British forces evacuated, they transported freedmen to Nova Scotia, England, and the Caribbean for resettlement.</td>\n",
       "      <td id=\"T_bcf98_row0_col2\" class=\"data row0 col2\" >During the American Revolution, New York City served as a significant military and political base of operations for the British forces. After the Battle of Long Island in 1776, in which the Americans were defeated, the British made the city their center of operations in North America. The city was regained by the Dutch in 1673 but was renamed New York in 1674. It became the capital of the United States from 1785 to 1790. Additionally, New York City was a haven for Loyalist refugees and escaped slaves who joined the British lines for freedom. The British forces transported thousands of freedmen for resettlement in Nova Scotia and other locations, including England and the Caribbean.</td>\n",
       "      <td id=\"T_bcf98_row0_col3\" class=\"data row0 col3\" >0.000000</td>\n",
       "      <td id=\"T_bcf98_row0_col4\" class=\"data row0 col4\" >1\n",
       "Answer 1 is better because it directly addresses the user's query about the role of NYC during the American Revolution. It provides a more detailed and accurate account of the city's role, including its status as a British base, a haven for Loyalist refugees and escaped slaves, and the site of the Battle of Long Island. Answer 2 includes some irrelevant information about the city being regained by the Dutch and renamed, which occurred before the American Revolution, and its status as the capital of the United States, which happened after the Revolution.</td>\n",
       "    </tr>\n",
       "  </tbody>\n",
       "</table>\n"
      ],
      "text/plain": [
       "<pandas.io.formats.style.Styler at 0x2b9a98a00>"
      ]
     },
     "metadata": {},
     "output_type": "display_data"
    }
   ],
   "source": [
    "display_eval_df(query_str, response2, response1, eval_result)"
   ]
  },
  {
   "cell_type": "markdown",
   "id": "f3177d06-343d-4fa6-8517-80363680bbf6",
   "metadata": {},
   "source": [
    "## Running on some more Queries"
   ]
  },
  {
   "cell_type": "code",
   "execution_count": null,
   "id": "b5f4dd4b-f128-4b06-a534-3d3ba14a68ea",
   "metadata": {},
   "outputs": [],
   "source": [
    "query_str = \"Tell me about the arts and culture of NYC\"\n",
    "response1 = str(query_engine1.query(query_str))\n",
    "response2 = str(query_engine2.query(query_str))"
   ]
  },
  {
   "cell_type": "code",
   "execution_count": null,
   "id": "37ff6e74-a9c1-46d5-bc04-5a47e6890e4e",
   "metadata": {},
   "outputs": [
    {
     "name": "stdout",
     "output_type": "stream",
     "text": [
      "INFO:openai:message='OpenAI API response' path=https://api.openai.com/v1/chat/completions processing_ms=6053 request_id=749fdbde59bf8d1056a8be6e211d20d9 response_code=200\n",
      "message='OpenAI API response' path=https://api.openai.com/v1/chat/completions processing_ms=6053 request_id=749fdbde59bf8d1056a8be6e211d20d9 response_code=200\n",
      "INFO:openai:message='OpenAI API response' path=https://api.openai.com/v1/chat/completions processing_ms=7309 request_id=ba09bb38320b60cf09dbebb1df2c732b response_code=200\n",
      "message='OpenAI API response' path=https://api.openai.com/v1/chat/completions processing_ms=7309 request_id=ba09bb38320b60cf09dbebb1df2c732b response_code=200\n"
     ]
    }
   ],
   "source": [
    "eval_result = await evaluator_gpt4.aevaluate(\n",
    "    query_str, response=response1, reference=response2\n",
    ")"
   ]
  },
  {
   "cell_type": "code",
   "execution_count": null,
   "id": "9b68b5d9-8dda-4385-bc3f-a97d6271b0cf",
   "metadata": {},
   "outputs": [
    {
     "data": {
      "text/html": [
       "<style type=\"text/css\">\n",
       "#T_713d0_row0_col1, #T_713d0_row0_col2 {\n",
       "  inline-size: 300px;\n",
       "  overflow-wrap: break-word;\n",
       "}\n",
       "</style>\n",
       "<table id=\"T_713d0\">\n",
       "  <thead>\n",
       "    <tr>\n",
       "      <th class=\"blank level0\" >&nbsp;</th>\n",
       "      <th id=\"T_713d0_level0_col0\" class=\"col_heading level0 col0\" >Query</th>\n",
       "      <th id=\"T_713d0_level0_col1\" class=\"col_heading level0 col1\" >Reference Response (Answer 1)</th>\n",
       "      <th id=\"T_713d0_level0_col2\" class=\"col_heading level0 col2\" >Current Response (Answer 2)</th>\n",
       "      <th id=\"T_713d0_level0_col3\" class=\"col_heading level0 col3\" >Score</th>\n",
       "      <th id=\"T_713d0_level0_col4\" class=\"col_heading level0 col4\" >Reason</th>\n",
       "    </tr>\n",
       "  </thead>\n",
       "  <tbody>\n",
       "    <tr>\n",
       "      <th id=\"T_713d0_level0_row0\" class=\"row_heading level0 row0\" >0</th>\n",
       "      <td id=\"T_713d0_row0_col0\" class=\"data row0 col0\" >Tell me about the arts and culture of NYC</td>\n",
       "      <td id=\"T_713d0_row0_col1\" class=\"data row0 col1\" >New York City is known for its vibrant arts and culture scene. It is home to over 2,000 arts and cultural organizations, as well as more than 500 art galleries. The city has a rich history of cultural institutions, such as Carnegie Hall and the Metropolitan Museum of Art, which are internationally renowned. The Broadway musical, a popular stage form, originated in New York City in the 1880s. The city has also been a hub for Jewish American literature and has been the birthplace of various cultural movements, including the Harlem Renaissance, abstract expressionism, and hip-hop. New York City is considered the dance capital of the world and has a thriving theater scene. The city is also known for its museums, including the Guggenheim and the Metropolitan Museum of Art, which participate in the annual Museum Mile Festival. Additionally, New York City hosts some of the world's most lucrative art auctions. Lincoln Center for the Performing Arts is a major cultural hub, housing influential arts organizations such as the Metropolitan Opera and the New York Philharmonic. Overall, New York City is often regarded as the cultural capital of the world.</td>\n",
       "      <td id=\"T_713d0_row0_col2\" class=\"data row0 col2\" >New York City is known for its vibrant arts and culture scene. It is home to numerous influential arts organizations, including the Metropolitan Opera, New York City Opera, New York Philharmonic, and New York City Ballet. The city also has a thriving theater district, with Broadway shows selling billions of dollars worth of tickets each season. Additionally, there are over 2,000 arts and cultural organizations and more than 500 art galleries in the city. New York City has a rich history of cultural institutions, such as Carnegie Hall and the Metropolitan Museum of Art, which are internationally renowned. The city's arts and culture have been strongly influenced by its diverse immigrant population, and many plays and musicals are set in or inspired by New York City itself.</td>\n",
       "      <td id=\"T_713d0_row0_col3\" class=\"data row0 col3\" >0.000000</td>\n",
       "      <td id=\"T_713d0_row0_col4\" class=\"data row0 col4\" >1\n",
       "Answer 1 provides a more comprehensive and detailed response to the user's query about the arts and culture of NYC. It not only mentions the city's major cultural institutions and organizations, but also discusses the city's role in various cultural movements, its status as the dance capital of the world, its museums, and its art auctions. It also mentions the annual Museum Mile Festival, which Answer 2 does not.</td>\n",
       "    </tr>\n",
       "  </tbody>\n",
       "</table>\n"
      ],
      "text/plain": [
       "<pandas.io.formats.style.Styler at 0x2baf33850>"
      ]
     },
     "metadata": {},
     "output_type": "display_data"
    }
   ],
   "source": [
    "display_eval_df(query_str, response1, response2, eval_result)"
   ]
  }
 ],
 "metadata": {
  "kernelspec": {
   "display_name": "llama_index_v2",
   "language": "python",
   "name": "llama_index_v2"
  },
  "language_info": {
   "codemirror_mode": {
    "name": "ipython",
    "version": 3
   },
   "file_extension": ".py",
   "mimetype": "text/x-python",
   "name": "python",
   "nbconvert_exporter": "python",
   "pygments_lexer": "ipython3"
  }
 },
 "nbformat": 4,
 "nbformat_minor": 5
}
