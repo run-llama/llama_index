{
 "cells": [
  {
   "cell_type": "code",
   "execution_count": null,
   "metadata": {},
   "outputs": [],
   "source": [
    "# Initialize the Baseten LLM\n",
    "MODEL_ID = \"YOUR_MODEL_ID\"  # Replace with your model ID\n",
    "\n",
    "llm = Baseten(\n",
    "    model_id=MODEL_ID,\n",
    "    temperature=0.7,\n",
    "    max_tokens=256,\n",
    ")"
   ]
  }
 ],
 "metadata": {
  "kernelspec": {
   "display_name": "base",
   "language": "python",
   "name": "python3"
  },
  "language_info": {
   "codemirror_mode": {
    "name": "ipython",
    "version": 3
   },
   "file_extension": ".py",
   "mimetype": "text/x-python",
   "name": "python",
   "nbconvert_exporter": "python",
   "pygments_lexer": "ipython3"
  }
 },
 "nbformat": 4,
 "nbformat_minor": 2
}
